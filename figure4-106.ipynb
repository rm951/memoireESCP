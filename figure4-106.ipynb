{
 "cells": [
  {
   "attachments": {},
   "cell_type": "markdown",
   "metadata": {},
   "source": [
    "Let's download the data from INSEE."
   ]
  },
  {
   "cell_type": "code",
   "execution_count": 311,
   "metadata": {},
   "outputs": [],
   "source": [
    "import pandas as pd\n",
    "\n",
    "\n",
    "url = \"https://www.insee.fr/fr/statistiques/fichier/4648335/TF106.csv\"\n",
    "\n",
    "df = pd.read_csv(url, sep=\";\")"
   ]
  },
  {
   "cell_type": "code",
   "execution_count": 312,
   "metadata": {},
   "outputs": [],
   "source": [
    "df = df.drop(df[df['DECUC'] == 'TOT'].index)"
   ]
  },
  {
   "cell_type": "code",
   "execution_count": 313,
   "metadata": {},
   "outputs": [],
   "source": [
    "# filtering values with exactly 4 characters, corresponding to ECOICOP classes\n",
    "df = df.loc[df['NOMENCLATURE'].str.len() == 4]"
   ]
  },
  {
   "cell_type": "code",
   "execution_count": 314,
   "metadata": {},
   "outputs": [],
   "source": [
    "# renaming the \"NOMENCLATURE\" column to \"FCOICOP\"\n",
    "df = df.rename(columns={'NOMENCLATURE': 'FCOICOP'})"
   ]
  },
  {
   "cell_type": "code",
   "execution_count": 315,
   "metadata": {},
   "outputs": [],
   "source": [
    "# filtering out rows where the \"FCOIC\" value starts with \"13\"\n",
    "df = df.loc[~df['FCOICOP'].str.startswith('13')]"
   ]
  },
  {
   "cell_type": "code",
   "execution_count": 316,
   "metadata": {},
   "outputs": [],
   "source": [
    "# loading the second csv file with the \"FCOICOP\" column\n",
    "df2 = pd.read_csv('Nomenclature_classes_to_special_aggregates.csv')"
   ]
  },
  {
   "cell_type": "code",
   "execution_count": 317,
   "metadata": {},
   "outputs": [],
   "source": [
    "# merging the two dataframes on the \"FCOICOP\" column\n",
    "merged_df = pd.merge(df, df2, on='FCOICOP')"
   ]
  },
  {
   "cell_type": "code",
   "execution_count": 318,
   "metadata": {},
   "outputs": [],
   "source": [
    "# calculating the sum of \"CONSO\" for each unique value in \"DECUC\" column\n",
    "sum_by_decuc = merged_df.groupby('DECUC')['CONSO'].sum()"
   ]
  },
  {
   "cell_type": "code",
   "execution_count": 319,
   "metadata": {},
   "outputs": [],
   "source": [
    "# adding a new column \"PROP\" with the percentage of each row relative to the sum for each unique value in \"DECUC\" column\n",
    "merged_df['PROP'] = merged_df['CONSO'] / merged_df['DECUC'].map(sum_by_decuc)"
   ]
  },
  {
   "cell_type": "code",
   "execution_count": 320,
   "metadata": {},
   "outputs": [
    {
     "name": "stderr",
     "output_type": "stream",
     "text": [
      "C:\\Users\\maxen\\AppData\\Local\\Temp\\ipykernel_19124\\2297195716.py:49: UserWarning: Matplotlib is currently using agg, which is a non-GUI backend, so cannot show the figure.\n",
      "  plt.show()\n",
      "C:\\Users\\maxen\\AppData\\Local\\Temp\\ipykernel_19124\\2297195716.py:53: UserWarning: Matplotlib is currently using agg, which is a non-GUI backend, so cannot show the figure.\n",
      "  plt.show()\n"
     ]
    }
   ],
   "source": [
    "%matplotlib agg\n",
    "import matplotlib.pyplot as plt\n",
    "\n",
    "# group the merged dataframe by \"AGGREGATE\" and \"DECUC\" and sum the values in the \"PROP\" column for each group\n",
    "grouped_df = merged_df.groupby(['AGGREGATE', 'DECUC'])['PROP'].sum().reset_index()\n",
    "\n",
    "\n",
    "# create a new column \"DECUC_SORTED\" with values sorted in a specific order\n",
    "decuc_order = ['1', '2', '3', '4', '5', '6', '7', '8', '9', '10']\n",
    "grouped_df['DECUC_SORTED'] = pd.Categorical(grouped_df['DECUC'], categories=decuc_order, ordered=True)\n",
    "\n",
    "# pivot the dataframe to create a table where each row represents a DECUC, and each column represents an AGGREGATE with the values in the \"PROP\" column\n",
    "pivoted_df = grouped_df.pivot(index='DECUC_SORTED', columns='AGGREGATE', values='PROP').fillna(0)\n",
    "\n",
    "\n",
    "# calculate the cumulative sum of the values in the pivoted dataframe\n",
    "cumulative_df = pivoted_df.cumsum(axis=1)\n",
    "\n",
    "\n",
    "\n",
    "# create a stacked bar chart with a bar for each DECUC and bars of colors with sizes proportional to PROP for each AGGREGATE\n",
    "fig, ax = plt.subplots(figsize=(9,15))\n",
    "\n",
    "for i, (colname, color) in enumerate(zip(pivoted_df.columns, ['blue', 'green', 'red', 'purple'])):\n",
    "    ax.bar(pivoted_df.index, pivoted_df[colname], bottom=cumulative_df.iloc[:, i-1] if i>0 else None, width=0.9, color=color, alpha=0.8, label=colname)\n",
    "    for j, val in enumerate(pivoted_df[colname]):\n",
    "        if val > 0:\n",
    "            ax.text(j, cumulative_df.iloc[j, i-1] if i>0 else 0, f\"{round(val*100)}%\", ha='center', va='bottom', color='white', fontweight='bold', fontsize=20)\n",
    "\n",
    "# change the legend labels using a dictionary\n",
    "legend_labels = {'FOOD': 'Food', 'IGD': 'Industrial goods', 'SERV': 'Services', 'NRG': 'Energy'}\n",
    "handles, labels = ax.get_legend_handles_labels()\n",
    "new_labels = [legend_labels[label] if label in legend_labels else label for label in labels]\n",
    "ax.legend(handles, new_labels, title=\"Components\", fontsize='large')\n",
    "\n",
    "\n",
    "ax.set_xlabel(\"Deciles\")\n",
    "ax.set_ylabel(\"Proportion of consumption by component\")\n",
    "\n",
    "ax.tick_params(axis='both', labelsize='large')\n",
    "ax.set_xlabel(\"Deciles\", fontsize='large')\n",
    "ax.set_ylabel(\"Proportion of consumption by component\", fontsize='large')\n",
    "\n",
    "# add a \"D\" prefix to the tick labels of the x-axis\n",
    "ticks = ['D' + tick for tick in pivoted_df.index]\n",
    "plt.xticks(range(len(ticks)), ticks)\n",
    "\n",
    "plt.title(\"Proportion of annual household expenditures in France by deciles in 2017\", fontsize=20)\n",
    "plt.show()\n",
    "\n",
    "plt.rcParams['font.family'] = 'cmr10'\n",
    "plt.savefig('saved_figs/figure4.png', dpi=500, bbox_inches='tight')\n",
    "plt.show()"
   ]
  }
 ],
 "metadata": {
  "kernelspec": {
   "display_name": "Python 3",
   "language": "python",
   "name": "python3"
  },
  "language_info": {
   "codemirror_mode": {
    "name": "ipython",
    "version": 3
   },
   "file_extension": ".py",
   "mimetype": "text/x-python",
   "name": "python",
   "nbconvert_exporter": "python",
   "pygments_lexer": "ipython3",
   "version": "3.11.3"
  },
  "orig_nbformat": 4
 },
 "nbformat": 4,
 "nbformat_minor": 2
}
