{
 "cells": [
  {
   "cell_type": "code",
   "execution_count": 12,
   "metadata": {},
   "outputs": [],
   "source": [
    "import pandas as pd\n",
    "\n",
    "df = pd.read_csv(\"https://ec.europa.eu/eurostat/databrowser-backend/api/extraction/1.0/LIVE/true/sdmx/csv/HBS_STR_T223?i\")\n"
   ]
  },
  {
   "cell_type": "code",
   "execution_count": 13,
   "metadata": {},
   "outputs": [
    {
     "data": {
      "text/plain": [
       "array(['AT', 'BE', 'BG', 'CY', 'CZ', 'DE', 'DK', 'EA', 'EA12', 'EA13',\n",
       "       'EA17', 'EA18', 'EE', 'EEA28', 'EEA30_2007', 'EFTA', 'EL', 'ES',\n",
       "       'EU15', 'EU25', 'EU27_2007', 'EU27_2020', 'FI', 'FR', 'HR', 'HU',\n",
       "       'IE', 'IT', 'LT', 'LU', 'LV', 'ME', 'MK', 'MT', 'NL', 'NO', 'PL',\n",
       "       'PT', 'RO', 'RS', 'SE', 'SI', 'SK', 'TR', 'UK', 'XK'], dtype=object)"
      ]
     },
     "execution_count": 13,
     "metadata": {},
     "output_type": "execute_result"
    }
   ],
   "source": [
    "df['geo'].unique()"
   ]
  },
  {
   "cell_type": "code",
   "execution_count": 14,
   "metadata": {},
   "outputs": [
    {
     "data": {
      "text/plain": [
       "array(['CP01', 'CP011', 'CP0111', 'CP0112', 'CP0113', 'CP0114', 'CP0115',\n",
       "       'CP0116', 'CP0117', 'CP0118', 'CP0119', 'CP012', 'CP0121',\n",
       "       'CP0122', 'CP02', 'CP021', 'CP0211', 'CP0212', 'CP0213', 'CP022',\n",
       "       'CP023', 'CP03', 'CP031', 'CP0311', 'CP0312', 'CP0313', 'CP0314',\n",
       "       'CP032', 'CP0321', 'CP0322', 'CP04', 'CP041', 'CP0411', 'CP0412',\n",
       "       'CP042', 'CP0421', 'CP0422', 'CP043', 'CP0431', 'CP0432', 'CP044',\n",
       "       'CP0441', 'CP0442', 'CP0443', 'CP0444', 'CP045', 'CP0451',\n",
       "       'CP0452', 'CP0453', 'CP0454', 'CP0455', 'CP05', 'CP051', 'CP0511',\n",
       "       'CP0512', 'CP0513', 'CP052', 'CP053', 'CP0531', 'CP0532', 'CP0533',\n",
       "       'CP054', 'CP055', 'CP0551', 'CP0552', 'CP056', 'CP0561', 'CP0562',\n",
       "       'CP06', 'CP061', 'CP0611', 'CP0612', 'CP0613', 'CP062', 'CP0621',\n",
       "       'CP0622', 'CP0623', 'CP063', 'CP07', 'CP071', 'CP0711', 'CP0712',\n",
       "       'CP0713', 'CP072', 'CP0721', 'CP0722', 'CP0723', 'CP0724', 'CP073',\n",
       "       'CP0731', 'CP0732', 'CP0733', 'CP0734', 'CP0735', 'CP0736', 'CP08',\n",
       "       'CP081', 'CP082', 'CP083', 'CP09', 'CP091', 'CP0911', 'CP0912',\n",
       "       'CP0913', 'CP0914', 'CP0915', 'CP092', 'CP0921', 'CP0922',\n",
       "       'CP0923', 'CP093', 'CP0931', 'CP0932', 'CP0933', 'CP0934',\n",
       "       'CP0935', 'CP094', 'CP0941', 'CP0942', 'CP0943', 'CP095', 'CP0951',\n",
       "       'CP0952', 'CP0953', 'CP0954', 'CP096', 'CP10', 'CP101', 'CP102',\n",
       "       'CP103', 'CP104', 'CP105', 'CP11', 'CP111', 'CP1111', 'CP1112',\n",
       "       'CP112', 'CP12', 'CP121', 'CP1211', 'CP1212', 'CP1213', 'CP122',\n",
       "       'CP123', 'CP1231', 'CP1232', 'CP124', 'CP125', 'CP126', 'CP127'],\n",
       "      dtype=object)"
      ]
     },
     "execution_count": 14,
     "metadata": {},
     "output_type": "execute_result"
    }
   ],
   "source": [
    "df['coicop'].unique()"
   ]
  },
  {
   "cell_type": "code",
   "execution_count": 16,
   "metadata": {},
   "outputs": [],
   "source": [
    "# Keep only the rows where TIME_PERIOD is equal to 2015\n",
    "df = df[df['TIME_PERIOD'] == 2015]\n"
   ]
  }
 ],
 "metadata": {
  "kernelspec": {
   "display_name": "Python 3",
   "language": "python",
   "name": "python3"
  },
  "language_info": {
   "codemirror_mode": {
    "name": "ipython",
    "version": 3
   },
   "file_extension": ".py",
   "mimetype": "text/x-python",
   "name": "python",
   "nbconvert_exporter": "python",
   "pygments_lexer": "ipython3",
   "version": "3.10.7"
  },
  "orig_nbformat": 4
 },
 "nbformat": 4,
 "nbformat_minor": 2
}
