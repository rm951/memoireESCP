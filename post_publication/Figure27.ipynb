{
 "cells": [
  {
   "attachments": {},
   "cell_type": "markdown",
   "metadata": {},
   "source": [
    "These data come from a survey conducted by INSEE, Budget des Familles, which are protected by the Statistical Secrecy Committee. To reproduce the analysis, one must request access to this data."
   ]
  },
  {
   "cell_type": "code",
   "execution_count": 1,
   "metadata": {},
   "outputs": [],
   "source": [
    "import pandas as pd"
   ]
  },
  {
   "cell_type": "code",
   "execution_count": 2,
   "metadata": {},
   "outputs": [],
   "source": [
    "df = pd.read_csv('BDF/Csv/C05.csv', sep=\";\", index_col=\"IDENT_MEN\")"
   ]
  },
  {
   "attachments": {},
   "cell_type": "markdown",
   "metadata": {},
   "source": [
    "We need to remove the columns starting with 13 (taxes) and 14 (subsidies) which are not consumption. And also the columns total CTOT and pondmen (weight household) which are not useful."
   ]
  },
  {
   "cell_type": "code",
   "execution_count": 3,
   "metadata": {},
   "outputs": [],
   "source": [
    "columns_to_delete = df.columns[df.columns.str.startswith('C13') | df.columns.str.startswith('C14')]\n",
    "df = df.drop(columns=columns_to_delete)\n",
    "df = df.drop(columns=[\"CTOT\", \"pondmen\"])"
   ]
  },
  {
   "cell_type": "code",
   "execution_count": 4,
   "metadata": {},
   "outputs": [],
   "source": [
    "df_prop = df.divide(df.sum(axis=1), axis=0)\n"
   ]
  },
  {
   "cell_type": "code",
   "execution_count": 5,
   "metadata": {},
   "outputs": [],
   "source": [
    "df_prop.rename(columns=lambda x: x.replace('C', ''), inplace=True)\n"
   ]
  },
  {
   "attachments": {},
   "cell_type": "markdown",
   "metadata": {},
   "source": [
    "We know have the proportion of each consumption area per household."
   ]
  },
  {
   "cell_type": "code",
   "execution_count": 6,
   "metadata": {},
   "outputs": [],
   "source": [
    "import eurostat"
   ]
  },
  {
   "cell_type": "code",
   "execution_count": 7,
   "metadata": {},
   "outputs": [],
   "source": [
    "df_inflation_raw = eurostat.get_data_df(code=\"PRC_HICP_MANR\", filter_pars={\n",
    "                                    'geo': 'FR', 'startPeriod': \"2021-03\"})\n",
    "df_inflation_raw = df_inflation_raw.rename(columns={'geo\\TIME_PERIOD': 'geo'})"
   ]
  },
  {
   "cell_type": "code",
   "execution_count": 8,
   "metadata": {},
   "outputs": [],
   "source": [
    "df_correspondances = pd.read_csv(\"correspondances.csv\", dtype=\"str\", sep=\";\")"
   ]
  },
  {
   "cell_type": "code",
   "execution_count": 9,
   "metadata": {},
   "outputs": [],
   "source": [
    "df_correspondances.set_index('colonnes de df_prop', inplace=True)"
   ]
  },
  {
   "cell_type": "code",
   "execution_count": 10,
   "metadata": {},
   "outputs": [],
   "source": [
    "df_inflation = df_inflation_raw[df_inflation_raw['coicop'].str.startswith('CP')]"
   ]
  },
  {
   "cell_type": "code",
   "execution_count": 11,
   "metadata": {},
   "outputs": [
    {
     "name": "stderr",
     "output_type": "stream",
     "text": [
      "C:\\Users\\mdaversa\\AppData\\Local\\Temp\\ipykernel_9776\\2914206753.py:1: SettingWithCopyWarning: \n",
      "A value is trying to be set on a copy of a slice from a DataFrame.\n",
      "Try using .loc[row_indexer,col_indexer] = value instead\n",
      "\n",
      "See the caveats in the documentation: https://pandas.pydata.org/pandas-docs/stable/user_guide/indexing.html#returning-a-view-versus-a-copy\n",
      "  df_inflation['coicop'] = df_inflation['coicop'].str.replace('CP', '')\n"
     ]
    }
   ],
   "source": [
    "df_inflation['coicop'] = df_inflation['coicop'].str.replace('CP', '')\n"
   ]
  },
  {
   "cell_type": "code",
   "execution_count": 12,
   "metadata": {},
   "outputs": [],
   "source": [
    "df_inflation = df_inflation.loc[:, [\"coicop\", \"2023-04\"]]\n"
   ]
  },
  {
   "cell_type": "code",
   "execution_count": 13,
   "metadata": {},
   "outputs": [],
   "source": [
    "df_inflation = df_inflation.set_index('coicop')"
   ]
  },
  {
   "cell_type": "code",
   "execution_count": 14,
   "metadata": {},
   "outputs": [],
   "source": [
    "def cell_func(cell_value, col_name):\n",
    "    # Votre logique ici, vous pouvez utiliser 'col_name' et 'cell_value'\n",
    "    coicop = df_correspondances.loc[col_name]['colonnes de df_inflation correspondante']\n",
    "    return df_inflation.loc[coicop][\"2023-04\"]*cell_value\n",
    "\n",
    "def col_func(col):\n",
    "    column_name = col.name\n",
    "    return col.apply(cell_func, args=(column_name,))\n",
    "\n",
    "\n",
    "test = df_prop.apply(col_func)"
   ]
  },
  {
   "cell_type": "code",
   "execution_count": 15,
   "metadata": {},
   "outputs": [],
   "source": [
    "df_inflation_by_household = pd.DataFrame(test.sum(axis=1))"
   ]
  },
  {
   "cell_type": "code",
   "execution_count": 16,
   "metadata": {},
   "outputs": [],
   "source": [
    "df_inflation_by_household = df_inflation_by_household.rename(columns={0: \"inflation\"})"
   ]
  },
  {
   "attachments": {},
   "cell_type": "markdown",
   "metadata": {},
   "source": [
    "# Household"
   ]
  },
  {
   "cell_type": "code",
   "execution_count": 17,
   "metadata": {},
   "outputs": [
    {
     "name": "stderr",
     "output_type": "stream",
     "text": [
      "C:\\Users\\mdaversa\\AppData\\Local\\Temp\\ipykernel_9776\\1221685487.py:1: DtypeWarning: Columns (21,22,23,48,49,421) have mixed types. Specify dtype option on import or set low_memory=False.\n",
      "  df_menage = pd.read_csv(\"BDF/Csv/MENAGE.csv\", sep=\";\", encoding='latin1')\n"
     ]
    }
   ],
   "source": [
    "df_menage = pd.read_csv(\"BDF/Csv/MENAGE.csv\", sep=\";\", encoding='latin1')"
   ]
  },
  {
   "cell_type": "code",
   "execution_count": 18,
   "metadata": {},
   "outputs": [],
   "source": [
    "df_menage = df_menage.set_index(\"IDENT_MEN\")"
   ]
  },
  {
   "cell_type": "code",
   "execution_count": 19,
   "metadata": {},
   "outputs": [
    {
     "name": "stderr",
     "output_type": "stream",
     "text": [
      "C:\\Users\\mdaversa\\AppData\\Local\\Temp\\ipykernel_9776\\2296896769.py:1: PerformanceWarning: DataFrame is highly fragmented.  This is usually the result of calling `frame.insert` many times, which has poor performance.  Consider joining all columns at once using pd.concat(axis=1) instead. To get a de-fragmented frame, use `newframe = frame.copy()`\n",
      "  df_menage = df_menage.merge(df_inflation_by_household, on =\"IDENT_MEN\")\n"
     ]
    }
   ],
   "source": [
    "df_menage = df_menage.merge(df_inflation_by_household, on =\"IDENT_MEN\")"
   ]
  },
  {
   "cell_type": "code",
   "execution_count": 20,
   "metadata": {},
   "outputs": [
    {
     "data": {
      "text/html": [
       "<div>\n",
       "<style scoped>\n",
       "    .dataframe tbody tr th:only-of-type {\n",
       "        vertical-align: middle;\n",
       "    }\n",
       "\n",
       "    .dataframe tbody tr th {\n",
       "        vertical-align: top;\n",
       "    }\n",
       "\n",
       "    .dataframe thead th {\n",
       "        text-align: right;\n",
       "    }\n",
       "</style>\n",
       "<table border=\"1\" class=\"dataframe\">\n",
       "  <thead>\n",
       "    <tr style=\"text-align: right;\">\n",
       "      <th></th>\n",
       "      <th>BS</th>\n",
       "      <th>CATLOGAYP</th>\n",
       "      <th>CATLOGAYNP</th>\n",
       "      <th>NPERS</th>\n",
       "      <th>NCOUPLES</th>\n",
       "      <th>NENFANTS</th>\n",
       "      <th>NACTIFS</th>\n",
       "      <th>NENFACT</th>\n",
       "      <th>TYPMEN5</th>\n",
       "      <th>TYPMEN15</th>\n",
       "      <th>...</th>\n",
       "      <th>NIVIE</th>\n",
       "      <th>QNIVIE1</th>\n",
       "      <th>DNIVIE1</th>\n",
       "      <th>QNIVIE2</th>\n",
       "      <th>DNIVIE2</th>\n",
       "      <th>TUU</th>\n",
       "      <th>CATAEU</th>\n",
       "      <th>TAU</th>\n",
       "      <th>dom</th>\n",
       "      <th>inflation</th>\n",
       "    </tr>\n",
       "  </thead>\n",
       "  <tbody>\n",
       "    <tr>\n",
       "      <th>count</th>\n",
       "      <td>16978.000000</td>\n",
       "      <td>0.0</td>\n",
       "      <td>0.0</td>\n",
       "      <td>16978.000000</td>\n",
       "      <td>16978.000000</td>\n",
       "      <td>16978.000000</td>\n",
       "      <td>16978.000000</td>\n",
       "      <td>16978.000000</td>\n",
       "      <td>16978.000000</td>\n",
       "      <td>16978.000000</td>\n",
       "      <td>...</td>\n",
       "      <td>16978.000000</td>\n",
       "      <td>16978.000000</td>\n",
       "      <td>16978.000000</td>\n",
       "      <td>16978.000000</td>\n",
       "      <td>16978.000000</td>\n",
       "      <td>16978.00000</td>\n",
       "      <td>16975.000000</td>\n",
       "      <td>16975.000000</td>\n",
       "      <td>16978.000000</td>\n",
       "      <td>16978.000000</td>\n",
       "    </tr>\n",
       "    <tr>\n",
       "      <th>mean</th>\n",
       "      <td>0.008010</td>\n",
       "      <td>NaN</td>\n",
       "      <td>NaN</td>\n",
       "      <td>2.526799</td>\n",
       "      <td>0.539698</td>\n",
       "      <td>0.928849</td>\n",
       "      <td>1.050300</td>\n",
       "      <td>0.105195</td>\n",
       "      <td>2.655613</td>\n",
       "      <td>28.095948</td>\n",
       "      <td>...</td>\n",
       "      <td>20259.519555</td>\n",
       "      <td>2.728943</td>\n",
       "      <td>4.915067</td>\n",
       "      <td>2.894098</td>\n",
       "      <td>5.271763</td>\n",
       "      <td>4.29285</td>\n",
       "      <td>143.515700</td>\n",
       "      <td>6.356053</td>\n",
       "      <td>0.872188</td>\n",
       "      <td>6.547546</td>\n",
       "    </tr>\n",
       "    <tr>\n",
       "      <th>std</th>\n",
       "      <td>0.089144</td>\n",
       "      <td>NaN</td>\n",
       "      <td>NaN</td>\n",
       "      <td>1.498705</td>\n",
       "      <td>0.503960</td>\n",
       "      <td>1.269950</td>\n",
       "      <td>0.892167</td>\n",
       "      <td>0.362276</td>\n",
       "      <td>1.271557</td>\n",
       "      <td>13.283495</td>\n",
       "      <td>...</td>\n",
       "      <td>13494.234006</td>\n",
       "      <td>1.480242</td>\n",
       "      <td>3.055316</td>\n",
       "      <td>1.435290</td>\n",
       "      <td>2.931871</td>\n",
       "      <td>2.77065</td>\n",
       "      <td>75.946362</td>\n",
       "      <td>3.244776</td>\n",
       "      <td>1.575992</td>\n",
       "      <td>2.214463</td>\n",
       "    </tr>\n",
       "    <tr>\n",
       "      <th>min</th>\n",
       "      <td>0.000000</td>\n",
       "      <td>NaN</td>\n",
       "      <td>NaN</td>\n",
       "      <td>1.000000</td>\n",
       "      <td>0.000000</td>\n",
       "      <td>0.000000</td>\n",
       "      <td>0.000000</td>\n",
       "      <td>0.000000</td>\n",
       "      <td>1.000000</td>\n",
       "      <td>10.000000</td>\n",
       "      <td>...</td>\n",
       "      <td>-28571.000000</td>\n",
       "      <td>1.000000</td>\n",
       "      <td>1.000000</td>\n",
       "      <td>1.000000</td>\n",
       "      <td>1.000000</td>\n",
       "      <td>0.00000</td>\n",
       "      <td>111.000000</td>\n",
       "      <td>0.000000</td>\n",
       "      <td>0.000000</td>\n",
       "      <td>-6.342854</td>\n",
       "    </tr>\n",
       "    <tr>\n",
       "      <th>25%</th>\n",
       "      <td>0.000000</td>\n",
       "      <td>NaN</td>\n",
       "      <td>NaN</td>\n",
       "      <td>1.000000</td>\n",
       "      <td>0.000000</td>\n",
       "      <td>0.000000</td>\n",
       "      <td>0.000000</td>\n",
       "      <td>0.000000</td>\n",
       "      <td>1.000000</td>\n",
       "      <td>11.000000</td>\n",
       "      <td>...</td>\n",
       "      <td>12057.750000</td>\n",
       "      <td>1.000000</td>\n",
       "      <td>2.000000</td>\n",
       "      <td>2.000000</td>\n",
       "      <td>3.000000</td>\n",
       "      <td>2.00000</td>\n",
       "      <td>111.000000</td>\n",
       "      <td>5.000000</td>\n",
       "      <td>0.000000</td>\n",
       "      <td>5.152089</td>\n",
       "    </tr>\n",
       "    <tr>\n",
       "      <th>50%</th>\n",
       "      <td>0.000000</td>\n",
       "      <td>NaN</td>\n",
       "      <td>NaN</td>\n",
       "      <td>2.000000</td>\n",
       "      <td>1.000000</td>\n",
       "      <td>0.000000</td>\n",
       "      <td>1.000000</td>\n",
       "      <td>0.000000</td>\n",
       "      <td>3.000000</td>\n",
       "      <td>32.000000</td>\n",
       "      <td>...</td>\n",
       "      <td>18248.500000</td>\n",
       "      <td>3.000000</td>\n",
       "      <td>5.000000</td>\n",
       "      <td>3.000000</td>\n",
       "      <td>5.000000</td>\n",
       "      <td>5.00000</td>\n",
       "      <td>111.000000</td>\n",
       "      <td>7.000000</td>\n",
       "      <td>0.000000</td>\n",
       "      <td>6.458141</td>\n",
       "    </tr>\n",
       "    <tr>\n",
       "      <th>75%</th>\n",
       "      <td>0.000000</td>\n",
       "      <td>NaN</td>\n",
       "      <td>NaN</td>\n",
       "      <td>3.000000</td>\n",
       "      <td>1.000000</td>\n",
       "      <td>2.000000</td>\n",
       "      <td>2.000000</td>\n",
       "      <td>0.000000</td>\n",
       "      <td>4.000000</td>\n",
       "      <td>42.000000</td>\n",
       "      <td>...</td>\n",
       "      <td>25722.750000</td>\n",
       "      <td>4.000000</td>\n",
       "      <td>8.000000</td>\n",
       "      <td>4.000000</td>\n",
       "      <td>8.000000</td>\n",
       "      <td>7.00000</td>\n",
       "      <td>112.000000</td>\n",
       "      <td>9.000000</td>\n",
       "      <td>1.000000</td>\n",
       "      <td>7.817196</td>\n",
       "    </tr>\n",
       "    <tr>\n",
       "      <th>max</th>\n",
       "      <td>1.000000</td>\n",
       "      <td>NaN</td>\n",
       "      <td>NaN</td>\n",
       "      <td>14.000000</td>\n",
       "      <td>4.000000</td>\n",
       "      <td>10.000000</td>\n",
       "      <td>9.000000</td>\n",
       "      <td>5.000000</td>\n",
       "      <td>5.000000</td>\n",
       "      <td>53.000000</td>\n",
       "      <td>...</td>\n",
       "      <td>285815.000000</td>\n",
       "      <td>5.000000</td>\n",
       "      <td>10.000000</td>\n",
       "      <td>5.000000</td>\n",
       "      <td>10.000000</td>\n",
       "      <td>8.00000</td>\n",
       "      <td>400.000000</td>\n",
       "      <td>10.000000</td>\n",
       "      <td>5.000000</td>\n",
       "      <td>20.306288</td>\n",
       "    </tr>\n",
       "  </tbody>\n",
       "</table>\n",
       "<p>8 rows × 585 columns</p>\n",
       "</div>"
      ],
      "text/plain": [
       "                 BS  CATLOGAYP  CATLOGAYNP         NPERS      NCOUPLES  \\\n",
       "count  16978.000000        0.0         0.0  16978.000000  16978.000000   \n",
       "mean       0.008010        NaN         NaN      2.526799      0.539698   \n",
       "std        0.089144        NaN         NaN      1.498705      0.503960   \n",
       "min        0.000000        NaN         NaN      1.000000      0.000000   \n",
       "25%        0.000000        NaN         NaN      1.000000      0.000000   \n",
       "50%        0.000000        NaN         NaN      2.000000      1.000000   \n",
       "75%        0.000000        NaN         NaN      3.000000      1.000000   \n",
       "max        1.000000        NaN         NaN     14.000000      4.000000   \n",
       "\n",
       "           NENFANTS       NACTIFS       NENFACT       TYPMEN5      TYPMEN15  \\\n",
       "count  16978.000000  16978.000000  16978.000000  16978.000000  16978.000000   \n",
       "mean       0.928849      1.050300      0.105195      2.655613     28.095948   \n",
       "std        1.269950      0.892167      0.362276      1.271557     13.283495   \n",
       "min        0.000000      0.000000      0.000000      1.000000     10.000000   \n",
       "25%        0.000000      0.000000      0.000000      1.000000     11.000000   \n",
       "50%        0.000000      1.000000      0.000000      3.000000     32.000000   \n",
       "75%        2.000000      2.000000      0.000000      4.000000     42.000000   \n",
       "max       10.000000      9.000000      5.000000      5.000000     53.000000   \n",
       "\n",
       "       ...          NIVIE       QNIVIE1       DNIVIE1       QNIVIE2  \\\n",
       "count  ...   16978.000000  16978.000000  16978.000000  16978.000000   \n",
       "mean   ...   20259.519555      2.728943      4.915067      2.894098   \n",
       "std    ...   13494.234006      1.480242      3.055316      1.435290   \n",
       "min    ...  -28571.000000      1.000000      1.000000      1.000000   \n",
       "25%    ...   12057.750000      1.000000      2.000000      2.000000   \n",
       "50%    ...   18248.500000      3.000000      5.000000      3.000000   \n",
       "75%    ...   25722.750000      4.000000      8.000000      4.000000   \n",
       "max    ...  285815.000000      5.000000     10.000000      5.000000   \n",
       "\n",
       "            DNIVIE2          TUU        CATAEU           TAU           dom  \\\n",
       "count  16978.000000  16978.00000  16975.000000  16975.000000  16978.000000   \n",
       "mean       5.271763      4.29285    143.515700      6.356053      0.872188   \n",
       "std        2.931871      2.77065     75.946362      3.244776      1.575992   \n",
       "min        1.000000      0.00000    111.000000      0.000000      0.000000   \n",
       "25%        3.000000      2.00000    111.000000      5.000000      0.000000   \n",
       "50%        5.000000      5.00000    111.000000      7.000000      0.000000   \n",
       "75%        8.000000      7.00000    112.000000      9.000000      1.000000   \n",
       "max       10.000000      8.00000    400.000000     10.000000      5.000000   \n",
       "\n",
       "          inflation  \n",
       "count  16978.000000  \n",
       "mean       6.547546  \n",
       "std        2.214463  \n",
       "min       -6.342854  \n",
       "25%        5.152089  \n",
       "50%        6.458141  \n",
       "75%        7.817196  \n",
       "max       20.306288  \n",
       "\n",
       "[8 rows x 585 columns]"
      ]
     },
     "execution_count": 20,
     "metadata": {},
     "output_type": "execute_result"
    }
   ],
   "source": [
    "df_menage.describe()"
   ]
  },
  {
   "cell_type": "code",
   "execution_count": 21,
   "metadata": {},
   "outputs": [],
   "source": [
    "df_menage_filtered = df_menage.loc[:,[\"AGEPR\", \"QNIVIE1\", \"SEXEPR\", \"TAU\", \"TYPMEN5\", \"inflation\"]]"
   ]
  },
  {
   "cell_type": "code",
   "execution_count": 22,
   "metadata": {},
   "outputs": [
    {
     "data": {
      "text/html": [
       "<div>\n",
       "<style scoped>\n",
       "    .dataframe tbody tr th:only-of-type {\n",
       "        vertical-align: middle;\n",
       "    }\n",
       "\n",
       "    .dataframe tbody tr th {\n",
       "        vertical-align: top;\n",
       "    }\n",
       "\n",
       "    .dataframe thead th {\n",
       "        text-align: right;\n",
       "    }\n",
       "</style>\n",
       "<table border=\"1\" class=\"dataframe\">\n",
       "  <thead>\n",
       "    <tr style=\"text-align: right;\">\n",
       "      <th></th>\n",
       "      <th>AGEPR</th>\n",
       "      <th>QNIVIE1</th>\n",
       "      <th>SEXEPR</th>\n",
       "      <th>TAU</th>\n",
       "      <th>TYPMEN5</th>\n",
       "      <th>inflation</th>\n",
       "    </tr>\n",
       "    <tr>\n",
       "      <th>IDENT_MEN</th>\n",
       "      <th></th>\n",
       "      <th></th>\n",
       "      <th></th>\n",
       "      <th></th>\n",
       "      <th></th>\n",
       "      <th></th>\n",
       "    </tr>\n",
       "  </thead>\n",
       "  <tbody>\n",
       "    <tr>\n",
       "      <th>1</th>\n",
       "      <td>73</td>\n",
       "      <td>4</td>\n",
       "      <td>1</td>\n",
       "      <td>4.0</td>\n",
       "      <td>3</td>\n",
       "      <td>7.106916</td>\n",
       "    </tr>\n",
       "    <tr>\n",
       "      <th>2</th>\n",
       "      <td>65</td>\n",
       "      <td>2</td>\n",
       "      <td>2</td>\n",
       "      <td>2.0</td>\n",
       "      <td>1</td>\n",
       "      <td>5.140171</td>\n",
       "    </tr>\n",
       "    <tr>\n",
       "      <th>3</th>\n",
       "      <td>40</td>\n",
       "      <td>1</td>\n",
       "      <td>1</td>\n",
       "      <td>7.0</td>\n",
       "      <td>4</td>\n",
       "      <td>7.845245</td>\n",
       "    </tr>\n",
       "    <tr>\n",
       "      <th>4</th>\n",
       "      <td>78</td>\n",
       "      <td>2</td>\n",
       "      <td>1</td>\n",
       "      <td>0.0</td>\n",
       "      <td>3</td>\n",
       "      <td>3.212936</td>\n",
       "    </tr>\n",
       "    <tr>\n",
       "      <th>5</th>\n",
       "      <td>56</td>\n",
       "      <td>3</td>\n",
       "      <td>1</td>\n",
       "      <td>8.0</td>\n",
       "      <td>4</td>\n",
       "      <td>6.094502</td>\n",
       "    </tr>\n",
       "  </tbody>\n",
       "</table>\n",
       "</div>"
      ],
      "text/plain": [
       "           AGEPR  QNIVIE1  SEXEPR  TAU  TYPMEN5  inflation\n",
       "IDENT_MEN                                                 \n",
       "1             73        4       1  4.0        3   7.106916\n",
       "2             65        2       2  2.0        1   5.140171\n",
       "3             40        1       1  7.0        4   7.845245\n",
       "4             78        2       1  0.0        3   3.212936\n",
       "5             56        3       1  8.0        4   6.094502"
      ]
     },
     "execution_count": 22,
     "metadata": {},
     "output_type": "execute_result"
    }
   ],
   "source": [
    "df_menage_filtered.head()\n"
   ]
  },
  {
   "cell_type": "code",
   "execution_count": 23,
   "metadata": {},
   "outputs": [],
   "source": [
    "X = df_menage_filtered[['AGEPR', 'QNIVIE1', 'TYPMEN5']]\n",
    "y = df_menage_filtered['inflation']\n"
   ]
  },
  {
   "cell_type": "code",
   "execution_count": 24,
   "metadata": {},
   "outputs": [],
   "source": [
    "df_menage_filtered = df_menage_filtered.dropna() "
   ]
  },
  {
   "cell_type": "code",
   "execution_count": 25,
   "metadata": {},
   "outputs": [],
   "source": [
    "import numpy as np\n",
    "df_menages_filtered = df_menage_filtered.replace([np.inf, -np.inf], np.nan)  # Remplace les infinies par des NaN"
   ]
  },
  {
   "cell_type": "code",
   "execution_count": 26,
   "metadata": {},
   "outputs": [],
   "source": [
    "import statsmodels.api as sm\n",
    "X = sm.add_constant(X)"
   ]
  },
  {
   "cell_type": "code",
   "execution_count": 27,
   "metadata": {},
   "outputs": [],
   "source": [
    "model = sm.OLS(y, X)"
   ]
  },
  {
   "cell_type": "code",
   "execution_count": 28,
   "metadata": {},
   "outputs": [],
   "source": [
    "results = model.fit()\n"
   ]
  },
  {
   "cell_type": "code",
   "execution_count": 29,
   "metadata": {},
   "outputs": [
    {
     "name": "stdout",
     "output_type": "stream",
     "text": [
      "                            OLS Regression Results                            \n",
      "==============================================================================\n",
      "Dep. Variable:              inflation   R-squared:                       0.023\n",
      "Model:                            OLS   Adj. R-squared:                  0.023\n",
      "Method:                 Least Squares   F-statistic:                     135.1\n",
      "Date:                Fri, 09 Jun 2023   Prob (F-statistic):           1.79e-86\n",
      "Time:                        13:55:50   Log-Likelihood:                -37388.\n",
      "No. Observations:               16978   AIC:                         7.478e+04\n",
      "Df Residuals:                   16974   BIC:                         7.481e+04\n",
      "Df Model:                           3                                         \n",
      "Covariance Type:            nonrobust                                         \n",
      "==============================================================================\n",
      "                 coef    std err          t      P>|t|      [0.025      0.975]\n",
      "------------------------------------------------------------------------------\n",
      "const          5.1808      0.076     68.540      0.000       5.033       5.329\n",
      "AGEPR          0.0183      0.001     17.499      0.000       0.016       0.020\n",
      "QNIVIE1       -0.0300      0.012     -2.607      0.009      -0.053      -0.007\n",
      "TYPMEN5        0.1842      0.014     13.547      0.000       0.158       0.211\n",
      "==============================================================================\n",
      "Omnibus:                     1247.402   Durbin-Watson:                   2.001\n",
      "Prob(Omnibus):                  0.000   Jarque-Bera (JB):             3348.005\n",
      "Skew:                           0.418   Prob(JB):                         0.00\n",
      "Kurtosis:                       5.009   Cond. No.                         250.\n",
      "==============================================================================\n",
      "\n",
      "Notes:\n",
      "[1] Standard Errors assume that the covariance matrix of the errors is correctly specified.\n"
     ]
    }
   ],
   "source": [
    "print(results.summary())\n"
   ]
  },
  {
   "cell_type": "code",
   "execution_count": 58,
   "metadata": {},
   "outputs": [
    {
     "name": "stderr",
     "output_type": "stream",
     "text": [
      "c:\\Users\\mdaversa\\AppData\\Local\\Programs\\Python\\Python311\\Lib\\site-packages\\sklearn\\preprocessing\\_encoders.py:868: FutureWarning: `sparse` was renamed to `sparse_output` in version 1.2 and will be removed in 1.4. `sparse_output` is ignored unless you leave `sparse` to its default value.\n",
      "  warnings.warn(\n",
      "c:\\Users\\mdaversa\\AppData\\Local\\Programs\\Python\\Python311\\Lib\\site-packages\\sklearn\\preprocessing\\_encoders.py:868: FutureWarning: `sparse` was renamed to `sparse_output` in version 1.2 and will be removed in 1.4. `sparse_output` is ignored unless you leave `sparse` to its default value.\n",
      "  warnings.warn(\n"
     ]
    }
   ],
   "source": [
    "import pandas as pd\n",
    "import numpy as np\n",
    "from sklearn.linear_model import LinearRegression\n",
    "from sklearn.preprocessing import OneHotEncoder\n",
    "\n",
    "# Charger les données dans un DataFrame (supposons que vous les avez déjà chargées)\n",
    "data = df_menages_filtered\n",
    "\n",
    "# Transformation de AGEPR en catégories\n",
    "age_bins = pd.qcut(data[\"AGEPR\"], q=5, labels=False)  # Découpe en quintiles\n",
    "data[\"AGEPR_category\"] = age_bins\n",
    "\n",
    "# Conversion de TYPMEN5 en variable catégorielle\n",
    "encoder = OneHotEncoder(sparse=False, drop=\"first\")\n",
    "typmen_encoded = encoder.fit_transform(data[[\"TYPMEN5\"]])\n",
    "typmen_categories = encoder.categories_[0][1:]  # Ignorer la première catégorie\n",
    "typmen_df = pd.DataFrame(typmen_encoded, columns=[f'typmen_{str(cat)}' for cat in typmen_categories], index=data.index)\n",
    "data = pd.concat([data, typmen_df], axis=1)\n",
    "\n",
    "# Conversion de TYPMEN5 en variable catégorielle\n",
    "encoder2 = OneHotEncoder(sparse=False, drop=\"first\")\n",
    "agepr_encoded = encoder2.fit_transform(data[[\"AGEPR_category\"]])\n",
    "agepr_categories = encoder.categories_[0][1:]  # Ignorer la première catégorie\n",
    "agepr_df = pd.DataFrame(agepr_encoded, columns=[f'agepr_{str(cat)}' for cat in agepr_categories], index=data.index)\n",
    "data = pd.concat([data, agepr_df], axis=1)\n"
   ]
  },
  {
   "cell_type": "code",
   "execution_count": 62,
   "metadata": {},
   "outputs": [],
   "source": [
    "age_bins = pd.cut(df_menage_filtered['AGEPR'], 5, labels=False)\n",
    "df_menage_filtered['AGEPR_category'] = age_bins\n",
    "X = df_menage_filtered['AGEPR_category']\n",
    "X = pd.get_dummies(X, drop_first=True)"
   ]
  },
  {
   "cell_type": "code",
   "execution_count": 63,
   "metadata": {},
   "outputs": [
    {
     "name": "stdout",
     "output_type": "stream",
     "text": [
      "                            OLS Regression Results                            \n",
      "==============================================================================\n",
      "Dep. Variable:              inflation   R-squared:                       0.013\n",
      "Model:                            OLS   Adj. R-squared:                  0.013\n",
      "Method:                 Least Squares   F-statistic:                     55.34\n",
      "Date:                Fri, 09 Jun 2023   Prob (F-statistic):           1.93e-46\n",
      "Time:                        14:24:48   Log-Likelihood:                -37471.\n",
      "No. Observations:               16975   AIC:                         7.495e+04\n",
      "Df Residuals:                   16970   BIC:                         7.499e+04\n",
      "Df Model:                           4                                         \n",
      "Covariance Type:            nonrobust                                         \n",
      "==============================================================================\n",
      "                 coef    std err          t      P>|t|      [0.025      0.975]\n",
      "------------------------------------------------------------------------------\n",
      "const          5.9734      0.048    125.202      0.000       5.880       6.067\n",
      "1              0.5111      0.056      9.120      0.000       0.401       0.621\n",
      "2              0.6781      0.056     12.163      0.000       0.569       0.787\n",
      "3              0.8774      0.062     14.040      0.000       0.755       1.000\n",
      "4              0.7373      0.113      6.499      0.000       0.515       0.960\n",
      "==============================================================================\n",
      "Omnibus:                     1274.113   Durbin-Watson:                   2.002\n",
      "Prob(Omnibus):                  0.000   Jarque-Bera (JB):             3372.654\n",
      "Skew:                           0.431   Prob(JB):                         0.00\n",
      "Kurtosis:                       5.006   Cond. No.                         8.49\n",
      "==============================================================================\n",
      "\n",
      "Notes:\n",
      "[1] Standard Errors assume that the covariance matrix of the errors is correctly specified.\n"
     ]
    }
   ],
   "source": [
    "y = data[\"inflation\"]\n",
    "X = sm.add_constant(X)\n",
    "model = sm.OLS(y, X)\n",
    "results = model.fit()\n",
    "print(results.summary())"
   ]
  },
  {
   "cell_type": "code",
   "execution_count": null,
   "metadata": {},
   "outputs": [],
   "source": [
    "\n",
    "# Préparation des données pour la régression linéaire\n",
    "X = data[[\"AGEPR_category\"] + list(typmen_df.columns)]\n",
    "y = data[\"inflation\"]\n",
    "\n",
    "# Ajustement du modèle de régression linéaire multiple\n",
    "model = LinearRegression()\n",
    "model.fit(X, y)\n",
    "\n",
    "# Afficher les coefficients de régression\n",
    "coefficients = pd.DataFrame({\"Variable\": [\"Intercept\"] + [\"AGEPR_category\"] + list(typmen_df.columns),\n",
    "                            \"Coefficient\": np.concatenate([[model.intercept_], model.coef_])})\n",
    "print(coefficients)\n"
   ]
  },
  {
   "cell_type": "code",
   "execution_count": 35,
   "metadata": {},
   "outputs": [
    {
     "name": "stdout",
     "output_type": "stream",
     "text": [
      "Tableau des coefficients :\n",
      "         Variable  Coefficient\n",
      "0       Intercept     5.778332\n",
      "1  AGEPR_category     0.212693\n",
      "2               2     0.300069\n",
      "3               3     0.452394\n",
      "4               4     0.627503\n",
      "5               5     0.492161\n",
      "Coefficient de détermination (R²) : 0.02343268325971759\n"
     ]
    }
   ],
   "source": [
    "from sklearn.metrics import r2_score\n",
    "\n",
    "# Calcul du coefficient de détermination (R²)\n",
    "y_pred = model.predict(X)\n",
    "r2 = r2_score(y, y_pred)\n",
    "\n",
    "# Création d'un tableau de coefficients\n",
    "coefficients = pd.DataFrame({\"Variable\": [\"Intercept\"] + [\"AGEPR_category\"] + list(typmen_df.columns),\n",
    "                            \"Coefficient\": np.concatenate([[model.intercept_], model.coef_])})\n",
    "\n",
    "# Affichage du tableau de coefficients\n",
    "print(\"Tableau des coefficients :\")\n",
    "print(coefficients)\n",
    "\n",
    "# Affichage du coefficient de détermination (R²)\n",
    "print(\"Coefficient de détermination (R²) :\", r2)"
   ]
  }
 ],
 "metadata": {
  "kernelspec": {
   "display_name": "Python 3",
   "language": "python",
   "name": "python3"
  },
  "language_info": {
   "codemirror_mode": {
    "name": "ipython",
    "version": 3
   },
   "file_extension": ".py",
   "mimetype": "text/x-python",
   "name": "python",
   "nbconvert_exporter": "python",
   "pygments_lexer": "ipython3",
   "version": "3.11.3"
  },
  "orig_nbformat": 4
 },
 "nbformat": 4,
 "nbformat_minor": 2
}
