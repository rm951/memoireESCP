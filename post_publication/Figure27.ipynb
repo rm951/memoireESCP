{
 "cells": [
  {
   "attachments": {},
   "cell_type": "markdown",
   "metadata": {},
   "source": [
    "These data come from a survey conducted by INSEE, Budget des Familles, which are protected by the Statistical Secrecy Committee. To reproduce the analysis, one must request access to this data."
   ]
  },
  {
   "cell_type": "code",
   "execution_count": 44,
   "metadata": {},
   "outputs": [],
   "source": [
    "import pandas as pd"
   ]
  },
  {
   "cell_type": "code",
   "execution_count": 45,
   "metadata": {},
   "outputs": [],
   "source": [
    "df = pd.read_csv('BDF/Csv/C05.csv', sep=\";\", index_col=\"IDENT_MEN\")"
   ]
  },
  {
   "attachments": {},
   "cell_type": "markdown",
   "metadata": {},
   "source": [
    "We need to remove the columns starting with 13 (taxes) and 14 (subsidies) which are not consumption. And also the columns total CTOT and pondmen (weight household) which are not useful."
   ]
  },
  {
   "cell_type": "code",
   "execution_count": 46,
   "metadata": {},
   "outputs": [],
   "source": [
    "columns_to_delete = df.columns[df.columns.str.startswith('C13') | df.columns.str.startswith('C14')]\n",
    "df = df.drop(columns=columns_to_delete)\n",
    "df = df.drop(columns=[\"CTOT\", \"pondmen\"])"
   ]
  },
  {
   "cell_type": "code",
   "execution_count": 47,
   "metadata": {},
   "outputs": [],
   "source": [
    "df_prop = df.divide(df.sum(axis=1), axis=0)\n"
   ]
  },
  {
   "cell_type": "code",
   "execution_count": 48,
   "metadata": {},
   "outputs": [],
   "source": [
    "df_prop.rename(columns=lambda x: x.replace('C', ''), inplace=True)\n"
   ]
  },
  {
   "attachments": {},
   "cell_type": "markdown",
   "metadata": {},
   "source": [
    "We know have the proportion of each consumption area per household."
   ]
  },
  {
   "cell_type": "code",
   "execution_count": 49,
   "metadata": {},
   "outputs": [],
   "source": [
    "import eurostat"
   ]
  },
  {
   "cell_type": "code",
   "execution_count": 50,
   "metadata": {},
   "outputs": [],
   "source": [
    "df_inflation_raw = eurostat.get_data_df(code=\"PRC_HICP_MANR\", filter_pars={\n",
    "                                    'geo': 'FR', 'startPeriod': \"2021-03\"})\n",
    "df_inflation_raw = df_inflation_raw.rename(columns={'geo\\TIME_PERIOD': 'geo'})"
   ]
  },
  {
   "cell_type": "code",
   "execution_count": 75,
   "metadata": {},
   "outputs": [],
   "source": [
    "df_correspondances = pd.read_csv(\"correspondances.csv\", dtype=\"str\", sep=\";\")"
   ]
  },
  {
   "cell_type": "code",
   "execution_count": 76,
   "metadata": {},
   "outputs": [],
   "source": [
    "df_correspondances.set_index('colonnes de df_prop', inplace=True)"
   ]
  },
  {
   "cell_type": "code",
   "execution_count": 54,
   "metadata": {},
   "outputs": [],
   "source": [
    "df_inflation = df_inflation_raw[df_inflation_raw['coicop'].str.startswith('CP')]"
   ]
  },
  {
   "cell_type": "code",
   "execution_count": 55,
   "metadata": {},
   "outputs": [
    {
     "name": "stderr",
     "output_type": "stream",
     "text": [
      "C:\\Users\\mdaversa\\AppData\\Local\\Temp\\ipykernel_16448\\2914206753.py:1: SettingWithCopyWarning: \n",
      "A value is trying to be set on a copy of a slice from a DataFrame.\n",
      "Try using .loc[row_indexer,col_indexer] = value instead\n",
      "\n",
      "See the caveats in the documentation: https://pandas.pydata.org/pandas-docs/stable/user_guide/indexing.html#returning-a-view-versus-a-copy\n",
      "  df_inflation['coicop'] = df_inflation['coicop'].str.replace('CP', '')\n"
     ]
    }
   ],
   "source": [
    "df_inflation['coicop'] = df_inflation['coicop'].str.replace('CP', '')\n"
   ]
  },
  {
   "cell_type": "code",
   "execution_count": 56,
   "metadata": {},
   "outputs": [],
   "source": [
    "df_inflation = df_inflation.loc[:, [\"coicop\", \"2023-04\"]]\n"
   ]
  },
  {
   "cell_type": "code",
   "execution_count": 57,
   "metadata": {},
   "outputs": [],
   "source": [
    "df_inflation = df_inflation.set_index('coicop')"
   ]
  },
  {
   "cell_type": "code",
   "execution_count": 77,
   "metadata": {},
   "outputs": [],
   "source": [
    "def cell_func(cell_value, col_name):\n",
    "    # Votre logique ici, vous pouvez utiliser 'col_name' et 'cell_value'\n",
    "    coicop = df_correspondances.loc[col_name]['colonnes de df_inflation correspondante']\n",
    "    return df_inflation.loc[coicop][\"2023-04\"]\n",
    "\n",
    "def col_func(col):\n",
    "    column_name = col.name\n",
    "    return col.apply(cell_func, args=(column_name,))\n",
    "\n",
    "\n",
    "test = df_prop.apply(col_func)"
   ]
  },
  {
   "cell_type": "code",
   "execution_count": null,
   "metadata": {},
   "outputs": [],
   "source": [
    "missing_columns = set(df_prop.columns) - set(df_inflation.columns)\n",
    "print(sorted(missing_columns))\n"
   ]
  },
  {
   "cell_type": "code",
   "execution_count": null,
   "metadata": {},
   "outputs": [],
   "source": [
    "missing_columns2 = set(df_inflation.columns) - set(df_prop.columns)\n",
    "print(sorted(missing_columns2))"
   ]
  },
  {
   "cell_type": "code",
   "execution_count": null,
   "metadata": {},
   "outputs": [],
   "source": [
    "df_prop_inflation = df_prop*df_inflation"
   ]
  }
 ],
 "metadata": {
  "kernelspec": {
   "display_name": "Python 3",
   "language": "python",
   "name": "python3"
  },
  "language_info": {
   "codemirror_mode": {
    "name": "ipython",
    "version": 3
   },
   "file_extension": ".py",
   "mimetype": "text/x-python",
   "name": "python",
   "nbconvert_exporter": "python",
   "pygments_lexer": "ipython3",
   "version": "3.11.3"
  },
  "orig_nbformat": 4
 },
 "nbformat": 4,
 "nbformat_minor": 2
}
