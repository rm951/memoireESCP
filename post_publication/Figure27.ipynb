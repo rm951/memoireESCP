{
 "cells": [
  {
   "attachments": {},
   "cell_type": "markdown",
   "metadata": {},
   "source": [
    "These data come from a survey conducted by INSEE, Budget des Familles, which are protected by the Statistical Secrecy Committee. To reproduce the analysis, one must request access to this data."
   ]
  },
  {
   "cell_type": "code",
   "execution_count": 9,
   "metadata": {},
   "outputs": [],
   "source": [
    "import pandas as pd"
   ]
  },
  {
   "cell_type": "code",
   "execution_count": 10,
   "metadata": {},
   "outputs": [],
   "source": [
    "df = pd.read_csv('BDF/Csv/C05.csv', sep=\";\", index_col=\"IDENT_MEN\")"
   ]
  },
  {
   "attachments": {},
   "cell_type": "markdown",
   "metadata": {},
   "source": [
    "We need to remove the columns starting with 13 (taxes) and 14 (subsidies) which are not consumption. And also the columns total CTOT and pondmen (weight household) which are not useful."
   ]
  },
  {
   "cell_type": "code",
   "execution_count": 11,
   "metadata": {},
   "outputs": [],
   "source": [
    "columns_to_delete = df.columns[df.columns.str.startswith('C13') | df.columns.str.startswith('C14')]\n",
    "df = df.drop(columns=columns_to_delete)\n",
    "df = df.drop(columns=[\"CTOT\", \"pondmen\"])"
   ]
  },
  {
   "cell_type": "code",
   "execution_count": 12,
   "metadata": {},
   "outputs": [],
   "source": [
    "df_prop = df.divide(df.sum(axis=1), axis=0)\n"
   ]
  },
  {
   "cell_type": "code",
   "execution_count": 13,
   "metadata": {},
   "outputs": [],
   "source": [
    "df_prop.rename(columns=lambda x: x.replace('C', ''), inplace=True)\n"
   ]
  },
  {
   "attachments": {},
   "cell_type": "markdown",
   "metadata": {},
   "source": [
    "We know have the proportion of each consumption area per household."
   ]
  },
  {
   "cell_type": "code",
   "execution_count": 14,
   "metadata": {},
   "outputs": [],
   "source": [
    "import eurostat"
   ]
  },
  {
   "cell_type": "code",
   "execution_count": 15,
   "metadata": {},
   "outputs": [],
   "source": [
    "df_inflation_raw = eurostat.get_data_df(code=\"PRC_HICP_MANR\", filter_pars={\n",
    "                                    'geo': 'FR', 'startPeriod': \"2021-03\"})\n",
    "df_inflation_raw = df_inflation_raw.rename(columns={'geo\\TIME_PERIOD': 'geo'})"
   ]
  },
  {
   "cell_type": "code",
   "execution_count": 16,
   "metadata": {},
   "outputs": [],
   "source": [
    "df_inflation = df_inflation_raw[df_inflation_raw['coicop'].str.startswith('CP') & (df_inflation_raw['coicop'].str.len() == 6)]"
   ]
  },
  {
   "cell_type": "code",
   "execution_count": 17,
   "metadata": {},
   "outputs": [
    {
     "name": "stderr",
     "output_type": "stream",
     "text": [
      "C:\\Users\\mdaversa\\AppData\\Local\\Temp\\ipykernel_13068\\2914206753.py:1: SettingWithCopyWarning: \n",
      "A value is trying to be set on a copy of a slice from a DataFrame.\n",
      "Try using .loc[row_indexer,col_indexer] = value instead\n",
      "\n",
      "See the caveats in the documentation: https://pandas.pydata.org/pandas-docs/stable/user_guide/indexing.html#returning-a-view-versus-a-copy\n",
      "  df_inflation['coicop'] = df_inflation['coicop'].str.replace('CP', '')\n"
     ]
    }
   ],
   "source": [
    "df_inflation['coicop'] = df_inflation['coicop'].str.replace('CP', '')\n"
   ]
  },
  {
   "cell_type": "code",
   "execution_count": 18,
   "metadata": {},
   "outputs": [],
   "source": [
    "df_inflation = df_inflation.loc[:, [\"coicop\", \"2023-04\"]]\n"
   ]
  },
  {
   "cell_type": "code",
   "execution_count": 19,
   "metadata": {},
   "outputs": [],
   "source": [
    "df_inflation = df_inflation.set_index('coicop').transpose()"
   ]
  },
  {
   "cell_type": "code",
   "execution_count": 20,
   "metadata": {},
   "outputs": [
    {
     "name": "stderr",
     "output_type": "stream",
     "text": [
      "C:\\Users\\mdaversa\\AppData\\Local\\Temp\\ipykernel_13068\\1369822145.py:5: PerformanceWarning: DataFrame is highly fragmented.  This is usually the result of calling `frame.insert` many times, which has poor performance.  Consider joining all columns at once using pd.concat(axis=1) instead. To get a de-fragmented frame, use `newframe = frame.copy()`\n",
      "  df_prop[new_col_name] = 0  # Initialiser la nouvelle colonne à 0\n",
      "C:\\Users\\mdaversa\\AppData\\Local\\Temp\\ipykernel_13068\\1369822145.py:5: PerformanceWarning: DataFrame is highly fragmented.  This is usually the result of calling `frame.insert` many times, which has poor performance.  Consider joining all columns at once using pd.concat(axis=1) instead. To get a de-fragmented frame, use `newframe = frame.copy()`\n",
      "  df_prop[new_col_name] = 0  # Initialiser la nouvelle colonne à 0\n",
      "C:\\Users\\mdaversa\\AppData\\Local\\Temp\\ipykernel_13068\\1369822145.py:5: PerformanceWarning: DataFrame is highly fragmented.  This is usually the result of calling `frame.insert` many times, which has poor performance.  Consider joining all columns at once using pd.concat(axis=1) instead. To get a de-fragmented frame, use `newframe = frame.copy()`\n",
      "  df_prop[new_col_name] = 0  # Initialiser la nouvelle colonne à 0\n",
      "C:\\Users\\mdaversa\\AppData\\Local\\Temp\\ipykernel_13068\\1369822145.py:5: PerformanceWarning: DataFrame is highly fragmented.  This is usually the result of calling `frame.insert` many times, which has poor performance.  Consider joining all columns at once using pd.concat(axis=1) instead. To get a de-fragmented frame, use `newframe = frame.copy()`\n",
      "  df_prop[new_col_name] = 0  # Initialiser la nouvelle colonne à 0\n",
      "C:\\Users\\mdaversa\\AppData\\Local\\Temp\\ipykernel_13068\\1369822145.py:5: PerformanceWarning: DataFrame is highly fragmented.  This is usually the result of calling `frame.insert` many times, which has poor performance.  Consider joining all columns at once using pd.concat(axis=1) instead. To get a de-fragmented frame, use `newframe = frame.copy()`\n",
      "  df_prop[new_col_name] = 0  # Initialiser la nouvelle colonne à 0\n",
      "C:\\Users\\mdaversa\\AppData\\Local\\Temp\\ipykernel_13068\\1369822145.py:5: PerformanceWarning: DataFrame is highly fragmented.  This is usually the result of calling `frame.insert` many times, which has poor performance.  Consider joining all columns at once using pd.concat(axis=1) instead. To get a de-fragmented frame, use `newframe = frame.copy()`\n",
      "  df_prop[new_col_name] = 0  # Initialiser la nouvelle colonne à 0\n",
      "C:\\Users\\mdaversa\\AppData\\Local\\Temp\\ipykernel_13068\\1369822145.py:5: PerformanceWarning: DataFrame is highly fragmented.  This is usually the result of calling `frame.insert` many times, which has poor performance.  Consider joining all columns at once using pd.concat(axis=1) instead. To get a de-fragmented frame, use `newframe = frame.copy()`\n",
      "  df_prop[new_col_name] = 0  # Initialiser la nouvelle colonne à 0\n",
      "C:\\Users\\mdaversa\\AppData\\Local\\Temp\\ipykernel_13068\\1369822145.py:5: PerformanceWarning: DataFrame is highly fragmented.  This is usually the result of calling `frame.insert` many times, which has poor performance.  Consider joining all columns at once using pd.concat(axis=1) instead. To get a de-fragmented frame, use `newframe = frame.copy()`\n",
      "  df_prop[new_col_name] = 0  # Initialiser la nouvelle colonne à 0\n",
      "C:\\Users\\mdaversa\\AppData\\Local\\Temp\\ipykernel_13068\\1369822145.py:5: PerformanceWarning: DataFrame is highly fragmented.  This is usually the result of calling `frame.insert` many times, which has poor performance.  Consider joining all columns at once using pd.concat(axis=1) instead. To get a de-fragmented frame, use `newframe = frame.copy()`\n",
      "  df_prop[new_col_name] = 0  # Initialiser la nouvelle colonne à 0\n",
      "C:\\Users\\mdaversa\\AppData\\Local\\Temp\\ipykernel_13068\\1369822145.py:5: PerformanceWarning: DataFrame is highly fragmented.  This is usually the result of calling `frame.insert` many times, which has poor performance.  Consider joining all columns at once using pd.concat(axis=1) instead. To get a de-fragmented frame, use `newframe = frame.copy()`\n",
      "  df_prop[new_col_name] = 0  # Initialiser la nouvelle colonne à 0\n",
      "C:\\Users\\mdaversa\\AppData\\Local\\Temp\\ipykernel_13068\\1369822145.py:5: PerformanceWarning: DataFrame is highly fragmented.  This is usually the result of calling `frame.insert` many times, which has poor performance.  Consider joining all columns at once using pd.concat(axis=1) instead. To get a de-fragmented frame, use `newframe = frame.copy()`\n",
      "  df_prop[new_col_name] = 0  # Initialiser la nouvelle colonne à 0\n",
      "C:\\Users\\mdaversa\\AppData\\Local\\Temp\\ipykernel_13068\\1369822145.py:5: PerformanceWarning: DataFrame is highly fragmented.  This is usually the result of calling `frame.insert` many times, which has poor performance.  Consider joining all columns at once using pd.concat(axis=1) instead. To get a de-fragmented frame, use `newframe = frame.copy()`\n",
      "  df_prop[new_col_name] = 0  # Initialiser la nouvelle colonne à 0\n",
      "C:\\Users\\mdaversa\\AppData\\Local\\Temp\\ipykernel_13068\\1369822145.py:5: PerformanceWarning: DataFrame is highly fragmented.  This is usually the result of calling `frame.insert` many times, which has poor performance.  Consider joining all columns at once using pd.concat(axis=1) instead. To get a de-fragmented frame, use `newframe = frame.copy()`\n",
      "  df_prop[new_col_name] = 0  # Initialiser la nouvelle colonne à 0\n",
      "C:\\Users\\mdaversa\\AppData\\Local\\Temp\\ipykernel_13068\\1369822145.py:5: PerformanceWarning: DataFrame is highly fragmented.  This is usually the result of calling `frame.insert` many times, which has poor performance.  Consider joining all columns at once using pd.concat(axis=1) instead. To get a de-fragmented frame, use `newframe = frame.copy()`\n",
      "  df_prop[new_col_name] = 0  # Initialiser la nouvelle colonne à 0\n",
      "C:\\Users\\mdaversa\\AppData\\Local\\Temp\\ipykernel_13068\\1369822145.py:5: PerformanceWarning: DataFrame is highly fragmented.  This is usually the result of calling `frame.insert` many times, which has poor performance.  Consider joining all columns at once using pd.concat(axis=1) instead. To get a de-fragmented frame, use `newframe = frame.copy()`\n",
      "  df_prop[new_col_name] = 0  # Initialiser la nouvelle colonne à 0\n",
      "C:\\Users\\mdaversa\\AppData\\Local\\Temp\\ipykernel_13068\\1369822145.py:5: PerformanceWarning: DataFrame is highly fragmented.  This is usually the result of calling `frame.insert` many times, which has poor performance.  Consider joining all columns at once using pd.concat(axis=1) instead. To get a de-fragmented frame, use `newframe = frame.copy()`\n",
      "  df_prop[new_col_name] = 0  # Initialiser la nouvelle colonne à 0\n",
      "C:\\Users\\mdaversa\\AppData\\Local\\Temp\\ipykernel_13068\\1369822145.py:5: PerformanceWarning: DataFrame is highly fragmented.  This is usually the result of calling `frame.insert` many times, which has poor performance.  Consider joining all columns at once using pd.concat(axis=1) instead. To get a de-fragmented frame, use `newframe = frame.copy()`\n",
      "  df_prop[new_col_name] = 0  # Initialiser la nouvelle colonne à 0\n",
      "C:\\Users\\mdaversa\\AppData\\Local\\Temp\\ipykernel_13068\\1369822145.py:5: PerformanceWarning: DataFrame is highly fragmented.  This is usually the result of calling `frame.insert` many times, which has poor performance.  Consider joining all columns at once using pd.concat(axis=1) instead. To get a de-fragmented frame, use `newframe = frame.copy()`\n",
      "  df_prop[new_col_name] = 0  # Initialiser la nouvelle colonne à 0\n",
      "C:\\Users\\mdaversa\\AppData\\Local\\Temp\\ipykernel_13068\\1369822145.py:5: PerformanceWarning: DataFrame is highly fragmented.  This is usually the result of calling `frame.insert` many times, which has poor performance.  Consider joining all columns at once using pd.concat(axis=1) instead. To get a de-fragmented frame, use `newframe = frame.copy()`\n",
      "  df_prop[new_col_name] = 0  # Initialiser la nouvelle colonne à 0\n",
      "C:\\Users\\mdaversa\\AppData\\Local\\Temp\\ipykernel_13068\\1369822145.py:5: PerformanceWarning: DataFrame is highly fragmented.  This is usually the result of calling `frame.insert` many times, which has poor performance.  Consider joining all columns at once using pd.concat(axis=1) instead. To get a de-fragmented frame, use `newframe = frame.copy()`\n",
      "  df_prop[new_col_name] = 0  # Initialiser la nouvelle colonne à 0\n",
      "C:\\Users\\mdaversa\\AppData\\Local\\Temp\\ipykernel_13068\\1369822145.py:5: PerformanceWarning: DataFrame is highly fragmented.  This is usually the result of calling `frame.insert` many times, which has poor performance.  Consider joining all columns at once using pd.concat(axis=1) instead. To get a de-fragmented frame, use `newframe = frame.copy()`\n",
      "  df_prop[new_col_name] = 0  # Initialiser la nouvelle colonne à 0\n",
      "C:\\Users\\mdaversa\\AppData\\Local\\Temp\\ipykernel_13068\\1369822145.py:5: PerformanceWarning: DataFrame is highly fragmented.  This is usually the result of calling `frame.insert` many times, which has poor performance.  Consider joining all columns at once using pd.concat(axis=1) instead. To get a de-fragmented frame, use `newframe = frame.copy()`\n",
      "  df_prop[new_col_name] = 0  # Initialiser la nouvelle colonne à 0\n",
      "C:\\Users\\mdaversa\\AppData\\Local\\Temp\\ipykernel_13068\\1369822145.py:5: PerformanceWarning: DataFrame is highly fragmented.  This is usually the result of calling `frame.insert` many times, which has poor performance.  Consider joining all columns at once using pd.concat(axis=1) instead. To get a de-fragmented frame, use `newframe = frame.copy()`\n",
      "  df_prop[new_col_name] = 0  # Initialiser la nouvelle colonne à 0\n",
      "C:\\Users\\mdaversa\\AppData\\Local\\Temp\\ipykernel_13068\\1369822145.py:5: PerformanceWarning: DataFrame is highly fragmented.  This is usually the result of calling `frame.insert` many times, which has poor performance.  Consider joining all columns at once using pd.concat(axis=1) instead. To get a de-fragmented frame, use `newframe = frame.copy()`\n",
      "  df_prop[new_col_name] = 0  # Initialiser la nouvelle colonne à 0\n",
      "C:\\Users\\mdaversa\\AppData\\Local\\Temp\\ipykernel_13068\\1369822145.py:5: PerformanceWarning: DataFrame is highly fragmented.  This is usually the result of calling `frame.insert` many times, which has poor performance.  Consider joining all columns at once using pd.concat(axis=1) instead. To get a de-fragmented frame, use `newframe = frame.copy()`\n",
      "  df_prop[new_col_name] = 0  # Initialiser la nouvelle colonne à 0\n",
      "C:\\Users\\mdaversa\\AppData\\Local\\Temp\\ipykernel_13068\\1369822145.py:5: PerformanceWarning: DataFrame is highly fragmented.  This is usually the result of calling `frame.insert` many times, which has poor performance.  Consider joining all columns at once using pd.concat(axis=1) instead. To get a de-fragmented frame, use `newframe = frame.copy()`\n",
      "  df_prop[new_col_name] = 0  # Initialiser la nouvelle colonne à 0\n",
      "C:\\Users\\mdaversa\\AppData\\Local\\Temp\\ipykernel_13068\\1369822145.py:5: PerformanceWarning: DataFrame is highly fragmented.  This is usually the result of calling `frame.insert` many times, which has poor performance.  Consider joining all columns at once using pd.concat(axis=1) instead. To get a de-fragmented frame, use `newframe = frame.copy()`\n",
      "  df_prop[new_col_name] = 0  # Initialiser la nouvelle colonne à 0\n",
      "C:\\Users\\mdaversa\\AppData\\Local\\Temp\\ipykernel_13068\\1369822145.py:5: PerformanceWarning: DataFrame is highly fragmented.  This is usually the result of calling `frame.insert` many times, which has poor performance.  Consider joining all columns at once using pd.concat(axis=1) instead. To get a de-fragmented frame, use `newframe = frame.copy()`\n",
      "  df_prop[new_col_name] = 0  # Initialiser la nouvelle colonne à 0\n",
      "C:\\Users\\mdaversa\\AppData\\Local\\Temp\\ipykernel_13068\\1369822145.py:5: PerformanceWarning: DataFrame is highly fragmented.  This is usually the result of calling `frame.insert` many times, which has poor performance.  Consider joining all columns at once using pd.concat(axis=1) instead. To get a de-fragmented frame, use `newframe = frame.copy()`\n",
      "  df_prop[new_col_name] = 0  # Initialiser la nouvelle colonne à 0\n",
      "C:\\Users\\mdaversa\\AppData\\Local\\Temp\\ipykernel_13068\\1369822145.py:5: PerformanceWarning: DataFrame is highly fragmented.  This is usually the result of calling `frame.insert` many times, which has poor performance.  Consider joining all columns at once using pd.concat(axis=1) instead. To get a de-fragmented frame, use `newframe = frame.copy()`\n",
      "  df_prop[new_col_name] = 0  # Initialiser la nouvelle colonne à 0\n",
      "C:\\Users\\mdaversa\\AppData\\Local\\Temp\\ipykernel_13068\\1369822145.py:5: PerformanceWarning: DataFrame is highly fragmented.  This is usually the result of calling `frame.insert` many times, which has poor performance.  Consider joining all columns at once using pd.concat(axis=1) instead. To get a de-fragmented frame, use `newframe = frame.copy()`\n",
      "  df_prop[new_col_name] = 0  # Initialiser la nouvelle colonne à 0\n",
      "C:\\Users\\mdaversa\\AppData\\Local\\Temp\\ipykernel_13068\\1369822145.py:5: PerformanceWarning: DataFrame is highly fragmented.  This is usually the result of calling `frame.insert` many times, which has poor performance.  Consider joining all columns at once using pd.concat(axis=1) instead. To get a de-fragmented frame, use `newframe = frame.copy()`\n",
      "  df_prop[new_col_name] = 0  # Initialiser la nouvelle colonne à 0\n",
      "C:\\Users\\mdaversa\\AppData\\Local\\Temp\\ipykernel_13068\\1369822145.py:5: PerformanceWarning: DataFrame is highly fragmented.  This is usually the result of calling `frame.insert` many times, which has poor performance.  Consider joining all columns at once using pd.concat(axis=1) instead. To get a de-fragmented frame, use `newframe = frame.copy()`\n",
      "  df_prop[new_col_name] = 0  # Initialiser la nouvelle colonne à 0\n",
      "C:\\Users\\mdaversa\\AppData\\Local\\Temp\\ipykernel_13068\\1369822145.py:5: PerformanceWarning: DataFrame is highly fragmented.  This is usually the result of calling `frame.insert` many times, which has poor performance.  Consider joining all columns at once using pd.concat(axis=1) instead. To get a de-fragmented frame, use `newframe = frame.copy()`\n",
      "  df_prop[new_col_name] = 0  # Initialiser la nouvelle colonne à 0\n",
      "C:\\Users\\mdaversa\\AppData\\Local\\Temp\\ipykernel_13068\\1369822145.py:5: PerformanceWarning: DataFrame is highly fragmented.  This is usually the result of calling `frame.insert` many times, which has poor performance.  Consider joining all columns at once using pd.concat(axis=1) instead. To get a de-fragmented frame, use `newframe = frame.copy()`\n",
      "  df_prop[new_col_name] = 0  # Initialiser la nouvelle colonne à 0\n",
      "C:\\Users\\mdaversa\\AppData\\Local\\Temp\\ipykernel_13068\\1369822145.py:5: PerformanceWarning: DataFrame is highly fragmented.  This is usually the result of calling `frame.insert` many times, which has poor performance.  Consider joining all columns at once using pd.concat(axis=1) instead. To get a de-fragmented frame, use `newframe = frame.copy()`\n",
      "  df_prop[new_col_name] = 0  # Initialiser la nouvelle colonne à 0\n",
      "C:\\Users\\mdaversa\\AppData\\Local\\Temp\\ipykernel_13068\\1369822145.py:5: PerformanceWarning: DataFrame is highly fragmented.  This is usually the result of calling `frame.insert` many times, which has poor performance.  Consider joining all columns at once using pd.concat(axis=1) instead. To get a de-fragmented frame, use `newframe = frame.copy()`\n",
      "  df_prop[new_col_name] = 0  # Initialiser la nouvelle colonne à 0\n",
      "C:\\Users\\mdaversa\\AppData\\Local\\Temp\\ipykernel_13068\\1369822145.py:5: PerformanceWarning: DataFrame is highly fragmented.  This is usually the result of calling `frame.insert` many times, which has poor performance.  Consider joining all columns at once using pd.concat(axis=1) instead. To get a de-fragmented frame, use `newframe = frame.copy()`\n",
      "  df_prop[new_col_name] = 0  # Initialiser la nouvelle colonne à 0\n",
      "C:\\Users\\mdaversa\\AppData\\Local\\Temp\\ipykernel_13068\\1369822145.py:5: PerformanceWarning: DataFrame is highly fragmented.  This is usually the result of calling `frame.insert` many times, which has poor performance.  Consider joining all columns at once using pd.concat(axis=1) instead. To get a de-fragmented frame, use `newframe = frame.copy()`\n",
      "  df_prop[new_col_name] = 0  # Initialiser la nouvelle colonne à 0\n",
      "C:\\Users\\mdaversa\\AppData\\Local\\Temp\\ipykernel_13068\\1369822145.py:5: PerformanceWarning: DataFrame is highly fragmented.  This is usually the result of calling `frame.insert` many times, which has poor performance.  Consider joining all columns at once using pd.concat(axis=1) instead. To get a de-fragmented frame, use `newframe = frame.copy()`\n",
      "  df_prop[new_col_name] = 0  # Initialiser la nouvelle colonne à 0\n",
      "C:\\Users\\mdaversa\\AppData\\Local\\Temp\\ipykernel_13068\\1369822145.py:5: PerformanceWarning: DataFrame is highly fragmented.  This is usually the result of calling `frame.insert` many times, which has poor performance.  Consider joining all columns at once using pd.concat(axis=1) instead. To get a de-fragmented frame, use `newframe = frame.copy()`\n",
      "  df_prop[new_col_name] = 0  # Initialiser la nouvelle colonne à 0\n",
      "C:\\Users\\mdaversa\\AppData\\Local\\Temp\\ipykernel_13068\\1369822145.py:5: PerformanceWarning: DataFrame is highly fragmented.  This is usually the result of calling `frame.insert` many times, which has poor performance.  Consider joining all columns at once using pd.concat(axis=1) instead. To get a de-fragmented frame, use `newframe = frame.copy()`\n",
      "  df_prop[new_col_name] = 0  # Initialiser la nouvelle colonne à 0\n",
      "C:\\Users\\mdaversa\\AppData\\Local\\Temp\\ipykernel_13068\\1369822145.py:5: PerformanceWarning: DataFrame is highly fragmented.  This is usually the result of calling `frame.insert` many times, which has poor performance.  Consider joining all columns at once using pd.concat(axis=1) instead. To get a de-fragmented frame, use `newframe = frame.copy()`\n",
      "  df_prop[new_col_name] = 0  # Initialiser la nouvelle colonne à 0\n",
      "C:\\Users\\mdaversa\\AppData\\Local\\Temp\\ipykernel_13068\\1369822145.py:5: PerformanceWarning: DataFrame is highly fragmented.  This is usually the result of calling `frame.insert` many times, which has poor performance.  Consider joining all columns at once using pd.concat(axis=1) instead. To get a de-fragmented frame, use `newframe = frame.copy()`\n",
      "  df_prop[new_col_name] = 0  # Initialiser la nouvelle colonne à 0\n",
      "C:\\Users\\mdaversa\\AppData\\Local\\Temp\\ipykernel_13068\\1369822145.py:5: PerformanceWarning: DataFrame is highly fragmented.  This is usually the result of calling `frame.insert` many times, which has poor performance.  Consider joining all columns at once using pd.concat(axis=1) instead. To get a de-fragmented frame, use `newframe = frame.copy()`\n",
      "  df_prop[new_col_name] = 0  # Initialiser la nouvelle colonne à 0\n",
      "C:\\Users\\mdaversa\\AppData\\Local\\Temp\\ipykernel_13068\\1369822145.py:5: PerformanceWarning: DataFrame is highly fragmented.  This is usually the result of calling `frame.insert` many times, which has poor performance.  Consider joining all columns at once using pd.concat(axis=1) instead. To get a de-fragmented frame, use `newframe = frame.copy()`\n",
      "  df_prop[new_col_name] = 0  # Initialiser la nouvelle colonne à 0\n",
      "C:\\Users\\mdaversa\\AppData\\Local\\Temp\\ipykernel_13068\\1369822145.py:5: PerformanceWarning: DataFrame is highly fragmented.  This is usually the result of calling `frame.insert` many times, which has poor performance.  Consider joining all columns at once using pd.concat(axis=1) instead. To get a de-fragmented frame, use `newframe = frame.copy()`\n",
      "  df_prop[new_col_name] = 0  # Initialiser la nouvelle colonne à 0\n",
      "C:\\Users\\mdaversa\\AppData\\Local\\Temp\\ipykernel_13068\\1369822145.py:5: PerformanceWarning: DataFrame is highly fragmented.  This is usually the result of calling `frame.insert` many times, which has poor performance.  Consider joining all columns at once using pd.concat(axis=1) instead. To get a de-fragmented frame, use `newframe = frame.copy()`\n",
      "  df_prop[new_col_name] = 0  # Initialiser la nouvelle colonne à 0\n",
      "C:\\Users\\mdaversa\\AppData\\Local\\Temp\\ipykernel_13068\\1369822145.py:5: PerformanceWarning: DataFrame is highly fragmented.  This is usually the result of calling `frame.insert` many times, which has poor performance.  Consider joining all columns at once using pd.concat(axis=1) instead. To get a de-fragmented frame, use `newframe = frame.copy()`\n",
      "  df_prop[new_col_name] = 0  # Initialiser la nouvelle colonne à 0\n",
      "C:\\Users\\mdaversa\\AppData\\Local\\Temp\\ipykernel_13068\\1369822145.py:5: PerformanceWarning: DataFrame is highly fragmented.  This is usually the result of calling `frame.insert` many times, which has poor performance.  Consider joining all columns at once using pd.concat(axis=1) instead. To get a de-fragmented frame, use `newframe = frame.copy()`\n",
      "  df_prop[new_col_name] = 0  # Initialiser la nouvelle colonne à 0\n",
      "C:\\Users\\mdaversa\\AppData\\Local\\Temp\\ipykernel_13068\\1369822145.py:5: PerformanceWarning: DataFrame is highly fragmented.  This is usually the result of calling `frame.insert` many times, which has poor performance.  Consider joining all columns at once using pd.concat(axis=1) instead. To get a de-fragmented frame, use `newframe = frame.copy()`\n",
      "  df_prop[new_col_name] = 0  # Initialiser la nouvelle colonne à 0\n",
      "C:\\Users\\mdaversa\\AppData\\Local\\Temp\\ipykernel_13068\\1369822145.py:5: PerformanceWarning: DataFrame is highly fragmented.  This is usually the result of calling `frame.insert` many times, which has poor performance.  Consider joining all columns at once using pd.concat(axis=1) instead. To get a de-fragmented frame, use `newframe = frame.copy()`\n",
      "  df_prop[new_col_name] = 0  # Initialiser la nouvelle colonne à 0\n",
      "C:\\Users\\mdaversa\\AppData\\Local\\Temp\\ipykernel_13068\\1369822145.py:5: PerformanceWarning: DataFrame is highly fragmented.  This is usually the result of calling `frame.insert` many times, which has poor performance.  Consider joining all columns at once using pd.concat(axis=1) instead. To get a de-fragmented frame, use `newframe = frame.copy()`\n",
      "  df_prop[new_col_name] = 0  # Initialiser la nouvelle colonne à 0\n",
      "C:\\Users\\mdaversa\\AppData\\Local\\Temp\\ipykernel_13068\\1369822145.py:5: PerformanceWarning: DataFrame is highly fragmented.  This is usually the result of calling `frame.insert` many times, which has poor performance.  Consider joining all columns at once using pd.concat(axis=1) instead. To get a de-fragmented frame, use `newframe = frame.copy()`\n",
      "  df_prop[new_col_name] = 0  # Initialiser la nouvelle colonne à 0\n",
      "C:\\Users\\mdaversa\\AppData\\Local\\Temp\\ipykernel_13068\\1369822145.py:5: PerformanceWarning: DataFrame is highly fragmented.  This is usually the result of calling `frame.insert` many times, which has poor performance.  Consider joining all columns at once using pd.concat(axis=1) instead. To get a de-fragmented frame, use `newframe = frame.copy()`\n",
      "  df_prop[new_col_name] = 0  # Initialiser la nouvelle colonne à 0\n",
      "C:\\Users\\mdaversa\\AppData\\Local\\Temp\\ipykernel_13068\\1369822145.py:5: PerformanceWarning: DataFrame is highly fragmented.  This is usually the result of calling `frame.insert` many times, which has poor performance.  Consider joining all columns at once using pd.concat(axis=1) instead. To get a de-fragmented frame, use `newframe = frame.copy()`\n",
      "  df_prop[new_col_name] = 0  # Initialiser la nouvelle colonne à 0\n",
      "C:\\Users\\mdaversa\\AppData\\Local\\Temp\\ipykernel_13068\\1369822145.py:5: PerformanceWarning: DataFrame is highly fragmented.  This is usually the result of calling `frame.insert` many times, which has poor performance.  Consider joining all columns at once using pd.concat(axis=1) instead. To get a de-fragmented frame, use `newframe = frame.copy()`\n",
      "  df_prop[new_col_name] = 0  # Initialiser la nouvelle colonne à 0\n",
      "C:\\Users\\mdaversa\\AppData\\Local\\Temp\\ipykernel_13068\\1369822145.py:5: PerformanceWarning: DataFrame is highly fragmented.  This is usually the result of calling `frame.insert` many times, which has poor performance.  Consider joining all columns at once using pd.concat(axis=1) instead. To get a de-fragmented frame, use `newframe = frame.copy()`\n",
      "  df_prop[new_col_name] = 0  # Initialiser la nouvelle colonne à 0\n",
      "C:\\Users\\mdaversa\\AppData\\Local\\Temp\\ipykernel_13068\\1369822145.py:5: PerformanceWarning: DataFrame is highly fragmented.  This is usually the result of calling `frame.insert` many times, which has poor performance.  Consider joining all columns at once using pd.concat(axis=1) instead. To get a de-fragmented frame, use `newframe = frame.copy()`\n",
      "  df_prop[new_col_name] = 0  # Initialiser la nouvelle colonne à 0\n",
      "C:\\Users\\mdaversa\\AppData\\Local\\Temp\\ipykernel_13068\\1369822145.py:5: PerformanceWarning: DataFrame is highly fragmented.  This is usually the result of calling `frame.insert` many times, which has poor performance.  Consider joining all columns at once using pd.concat(axis=1) instead. To get a de-fragmented frame, use `newframe = frame.copy()`\n",
      "  df_prop[new_col_name] = 0  # Initialiser la nouvelle colonne à 0\n",
      "C:\\Users\\mdaversa\\AppData\\Local\\Temp\\ipykernel_13068\\1369822145.py:5: PerformanceWarning: DataFrame is highly fragmented.  This is usually the result of calling `frame.insert` many times, which has poor performance.  Consider joining all columns at once using pd.concat(axis=1) instead. To get a de-fragmented frame, use `newframe = frame.copy()`\n",
      "  df_prop[new_col_name] = 0  # Initialiser la nouvelle colonne à 0\n",
      "C:\\Users\\mdaversa\\AppData\\Local\\Temp\\ipykernel_13068\\1369822145.py:5: PerformanceWarning: DataFrame is highly fragmented.  This is usually the result of calling `frame.insert` many times, which has poor performance.  Consider joining all columns at once using pd.concat(axis=1) instead. To get a de-fragmented frame, use `newframe = frame.copy()`\n",
      "  df_prop[new_col_name] = 0  # Initialiser la nouvelle colonne à 0\n",
      "C:\\Users\\mdaversa\\AppData\\Local\\Temp\\ipykernel_13068\\1369822145.py:5: PerformanceWarning: DataFrame is highly fragmented.  This is usually the result of calling `frame.insert` many times, which has poor performance.  Consider joining all columns at once using pd.concat(axis=1) instead. To get a de-fragmented frame, use `newframe = frame.copy()`\n",
      "  df_prop[new_col_name] = 0  # Initialiser la nouvelle colonne à 0\n",
      "C:\\Users\\mdaversa\\AppData\\Local\\Temp\\ipykernel_13068\\1369822145.py:5: PerformanceWarning: DataFrame is highly fragmented.  This is usually the result of calling `frame.insert` many times, which has poor performance.  Consider joining all columns at once using pd.concat(axis=1) instead. To get a de-fragmented frame, use `newframe = frame.copy()`\n",
      "  df_prop[new_col_name] = 0  # Initialiser la nouvelle colonne à 0\n",
      "C:\\Users\\mdaversa\\AppData\\Local\\Temp\\ipykernel_13068\\1369822145.py:5: PerformanceWarning: DataFrame is highly fragmented.  This is usually the result of calling `frame.insert` many times, which has poor performance.  Consider joining all columns at once using pd.concat(axis=1) instead. To get a de-fragmented frame, use `newframe = frame.copy()`\n",
      "  df_prop[new_col_name] = 0  # Initialiser la nouvelle colonne à 0\n",
      "C:\\Users\\mdaversa\\AppData\\Local\\Temp\\ipykernel_13068\\1369822145.py:5: PerformanceWarning: DataFrame is highly fragmented.  This is usually the result of calling `frame.insert` many times, which has poor performance.  Consider joining all columns at once using pd.concat(axis=1) instead. To get a de-fragmented frame, use `newframe = frame.copy()`\n",
      "  df_prop[new_col_name] = 0  # Initialiser la nouvelle colonne à 0\n",
      "C:\\Users\\mdaversa\\AppData\\Local\\Temp\\ipykernel_13068\\1369822145.py:5: PerformanceWarning: DataFrame is highly fragmented.  This is usually the result of calling `frame.insert` many times, which has poor performance.  Consider joining all columns at once using pd.concat(axis=1) instead. To get a de-fragmented frame, use `newframe = frame.copy()`\n",
      "  df_prop[new_col_name] = 0  # Initialiser la nouvelle colonne à 0\n",
      "C:\\Users\\mdaversa\\AppData\\Local\\Temp\\ipykernel_13068\\1369822145.py:5: PerformanceWarning: DataFrame is highly fragmented.  This is usually the result of calling `frame.insert` many times, which has poor performance.  Consider joining all columns at once using pd.concat(axis=1) instead. To get a de-fragmented frame, use `newframe = frame.copy()`\n",
      "  df_prop[new_col_name] = 0  # Initialiser la nouvelle colonne à 0\n",
      "C:\\Users\\mdaversa\\AppData\\Local\\Temp\\ipykernel_13068\\1369822145.py:5: PerformanceWarning: DataFrame is highly fragmented.  This is usually the result of calling `frame.insert` many times, which has poor performance.  Consider joining all columns at once using pd.concat(axis=1) instead. To get a de-fragmented frame, use `newframe = frame.copy()`\n",
      "  df_prop[new_col_name] = 0  # Initialiser la nouvelle colonne à 0\n",
      "C:\\Users\\mdaversa\\AppData\\Local\\Temp\\ipykernel_13068\\1369822145.py:5: PerformanceWarning: DataFrame is highly fragmented.  This is usually the result of calling `frame.insert` many times, which has poor performance.  Consider joining all columns at once using pd.concat(axis=1) instead. To get a de-fragmented frame, use `newframe = frame.copy()`\n",
      "  df_prop[new_col_name] = 0  # Initialiser la nouvelle colonne à 0\n",
      "C:\\Users\\mdaversa\\AppData\\Local\\Temp\\ipykernel_13068\\1369822145.py:5: PerformanceWarning: DataFrame is highly fragmented.  This is usually the result of calling `frame.insert` many times, which has poor performance.  Consider joining all columns at once using pd.concat(axis=1) instead. To get a de-fragmented frame, use `newframe = frame.copy()`\n",
      "  df_prop[new_col_name] = 0  # Initialiser la nouvelle colonne à 0\n",
      "C:\\Users\\mdaversa\\AppData\\Local\\Temp\\ipykernel_13068\\1369822145.py:5: PerformanceWarning: DataFrame is highly fragmented.  This is usually the result of calling `frame.insert` many times, which has poor performance.  Consider joining all columns at once using pd.concat(axis=1) instead. To get a de-fragmented frame, use `newframe = frame.copy()`\n",
      "  df_prop[new_col_name] = 0  # Initialiser la nouvelle colonne à 0\n",
      "C:\\Users\\mdaversa\\AppData\\Local\\Temp\\ipykernel_13068\\1369822145.py:5: PerformanceWarning: DataFrame is highly fragmented.  This is usually the result of calling `frame.insert` many times, which has poor performance.  Consider joining all columns at once using pd.concat(axis=1) instead. To get a de-fragmented frame, use `newframe = frame.copy()`\n",
      "  df_prop[new_col_name] = 0  # Initialiser la nouvelle colonne à 0\n",
      "C:\\Users\\mdaversa\\AppData\\Local\\Temp\\ipykernel_13068\\1369822145.py:5: PerformanceWarning: DataFrame is highly fragmented.  This is usually the result of calling `frame.insert` many times, which has poor performance.  Consider joining all columns at once using pd.concat(axis=1) instead. To get a de-fragmented frame, use `newframe = frame.copy()`\n",
      "  df_prop[new_col_name] = 0  # Initialiser la nouvelle colonne à 0\n",
      "C:\\Users\\mdaversa\\AppData\\Local\\Temp\\ipykernel_13068\\1369822145.py:5: PerformanceWarning: DataFrame is highly fragmented.  This is usually the result of calling `frame.insert` many times, which has poor performance.  Consider joining all columns at once using pd.concat(axis=1) instead. To get a de-fragmented frame, use `newframe = frame.copy()`\n",
      "  df_prop[new_col_name] = 0  # Initialiser la nouvelle colonne à 0\n",
      "C:\\Users\\mdaversa\\AppData\\Local\\Temp\\ipykernel_13068\\1369822145.py:5: PerformanceWarning: DataFrame is highly fragmented.  This is usually the result of calling `frame.insert` many times, which has poor performance.  Consider joining all columns at once using pd.concat(axis=1) instead. To get a de-fragmented frame, use `newframe = frame.copy()`\n",
      "  df_prop[new_col_name] = 0  # Initialiser la nouvelle colonne à 0\n",
      "C:\\Users\\mdaversa\\AppData\\Local\\Temp\\ipykernel_13068\\1369822145.py:5: PerformanceWarning: DataFrame is highly fragmented.  This is usually the result of calling `frame.insert` many times, which has poor performance.  Consider joining all columns at once using pd.concat(axis=1) instead. To get a de-fragmented frame, use `newframe = frame.copy()`\n",
      "  df_prop[new_col_name] = 0  # Initialiser la nouvelle colonne à 0\n",
      "C:\\Users\\mdaversa\\AppData\\Local\\Temp\\ipykernel_13068\\1369822145.py:5: PerformanceWarning: DataFrame is highly fragmented.  This is usually the result of calling `frame.insert` many times, which has poor performance.  Consider joining all columns at once using pd.concat(axis=1) instead. To get a de-fragmented frame, use `newframe = frame.copy()`\n",
      "  df_prop[new_col_name] = 0  # Initialiser la nouvelle colonne à 0\n",
      "C:\\Users\\mdaversa\\AppData\\Local\\Temp\\ipykernel_13068\\1369822145.py:5: PerformanceWarning: DataFrame is highly fragmented.  This is usually the result of calling `frame.insert` many times, which has poor performance.  Consider joining all columns at once using pd.concat(axis=1) instead. To get a de-fragmented frame, use `newframe = frame.copy()`\n",
      "  df_prop[new_col_name] = 0  # Initialiser la nouvelle colonne à 0\n",
      "C:\\Users\\mdaversa\\AppData\\Local\\Temp\\ipykernel_13068\\1369822145.py:5: PerformanceWarning: DataFrame is highly fragmented.  This is usually the result of calling `frame.insert` many times, which has poor performance.  Consider joining all columns at once using pd.concat(axis=1) instead. To get a de-fragmented frame, use `newframe = frame.copy()`\n",
      "  df_prop[new_col_name] = 0  # Initialiser la nouvelle colonne à 0\n",
      "C:\\Users\\mdaversa\\AppData\\Local\\Temp\\ipykernel_13068\\1369822145.py:5: PerformanceWarning: DataFrame is highly fragmented.  This is usually the result of calling `frame.insert` many times, which has poor performance.  Consider joining all columns at once using pd.concat(axis=1) instead. To get a de-fragmented frame, use `newframe = frame.copy()`\n",
      "  df_prop[new_col_name] = 0  # Initialiser la nouvelle colonne à 0\n",
      "C:\\Users\\mdaversa\\AppData\\Local\\Temp\\ipykernel_13068\\1369822145.py:5: PerformanceWarning: DataFrame is highly fragmented.  This is usually the result of calling `frame.insert` many times, which has poor performance.  Consider joining all columns at once using pd.concat(axis=1) instead. To get a de-fragmented frame, use `newframe = frame.copy()`\n",
      "  df_prop[new_col_name] = 0  # Initialiser la nouvelle colonne à 0\n",
      "C:\\Users\\mdaversa\\AppData\\Local\\Temp\\ipykernel_13068\\1369822145.py:5: PerformanceWarning: DataFrame is highly fragmented.  This is usually the result of calling `frame.insert` many times, which has poor performance.  Consider joining all columns at once using pd.concat(axis=1) instead. To get a de-fragmented frame, use `newframe = frame.copy()`\n",
      "  df_prop[new_col_name] = 0  # Initialiser la nouvelle colonne à 0\n",
      "C:\\Users\\mdaversa\\AppData\\Local\\Temp\\ipykernel_13068\\1369822145.py:5: PerformanceWarning: DataFrame is highly fragmented.  This is usually the result of calling `frame.insert` many times, which has poor performance.  Consider joining all columns at once using pd.concat(axis=1) instead. To get a de-fragmented frame, use `newframe = frame.copy()`\n",
      "  df_prop[new_col_name] = 0  # Initialiser la nouvelle colonne à 0\n",
      "C:\\Users\\mdaversa\\AppData\\Local\\Temp\\ipykernel_13068\\1369822145.py:5: PerformanceWarning: DataFrame is highly fragmented.  This is usually the result of calling `frame.insert` many times, which has poor performance.  Consider joining all columns at once using pd.concat(axis=1) instead. To get a de-fragmented frame, use `newframe = frame.copy()`\n",
      "  df_prop[new_col_name] = 0  # Initialiser la nouvelle colonne à 0\n",
      "C:\\Users\\mdaversa\\AppData\\Local\\Temp\\ipykernel_13068\\1369822145.py:5: PerformanceWarning: DataFrame is highly fragmented.  This is usually the result of calling `frame.insert` many times, which has poor performance.  Consider joining all columns at once using pd.concat(axis=1) instead. To get a de-fragmented frame, use `newframe = frame.copy()`\n",
      "  df_prop[new_col_name] = 0  # Initialiser la nouvelle colonne à 0\n",
      "C:\\Users\\mdaversa\\AppData\\Local\\Temp\\ipykernel_13068\\1369822145.py:5: PerformanceWarning: DataFrame is highly fragmented.  This is usually the result of calling `frame.insert` many times, which has poor performance.  Consider joining all columns at once using pd.concat(axis=1) instead. To get a de-fragmented frame, use `newframe = frame.copy()`\n",
      "  df_prop[new_col_name] = 0  # Initialiser la nouvelle colonne à 0\n",
      "C:\\Users\\mdaversa\\AppData\\Local\\Temp\\ipykernel_13068\\1369822145.py:5: PerformanceWarning: DataFrame is highly fragmented.  This is usually the result of calling `frame.insert` many times, which has poor performance.  Consider joining all columns at once using pd.concat(axis=1) instead. To get a de-fragmented frame, use `newframe = frame.copy()`\n",
      "  df_prop[new_col_name] = 0  # Initialiser la nouvelle colonne à 0\n",
      "C:\\Users\\mdaversa\\AppData\\Local\\Temp\\ipykernel_13068\\1369822145.py:5: PerformanceWarning: DataFrame is highly fragmented.  This is usually the result of calling `frame.insert` many times, which has poor performance.  Consider joining all columns at once using pd.concat(axis=1) instead. To get a de-fragmented frame, use `newframe = frame.copy()`\n",
      "  df_prop[new_col_name] = 0  # Initialiser la nouvelle colonne à 0\n",
      "C:\\Users\\mdaversa\\AppData\\Local\\Temp\\ipykernel_13068\\1369822145.py:5: PerformanceWarning: DataFrame is highly fragmented.  This is usually the result of calling `frame.insert` many times, which has poor performance.  Consider joining all columns at once using pd.concat(axis=1) instead. To get a de-fragmented frame, use `newframe = frame.copy()`\n",
      "  df_prop[new_col_name] = 0  # Initialiser la nouvelle colonne à 0\n",
      "C:\\Users\\mdaversa\\AppData\\Local\\Temp\\ipykernel_13068\\1369822145.py:5: PerformanceWarning: DataFrame is highly fragmented.  This is usually the result of calling `frame.insert` many times, which has poor performance.  Consider joining all columns at once using pd.concat(axis=1) instead. To get a de-fragmented frame, use `newframe = frame.copy()`\n",
      "  df_prop[new_col_name] = 0  # Initialiser la nouvelle colonne à 0\n",
      "C:\\Users\\mdaversa\\AppData\\Local\\Temp\\ipykernel_13068\\1369822145.py:5: PerformanceWarning: DataFrame is highly fragmented.  This is usually the result of calling `frame.insert` many times, which has poor performance.  Consider joining all columns at once using pd.concat(axis=1) instead. To get a de-fragmented frame, use `newframe = frame.copy()`\n",
      "  df_prop[new_col_name] = 0  # Initialiser la nouvelle colonne à 0\n",
      "C:\\Users\\mdaversa\\AppData\\Local\\Temp\\ipykernel_13068\\1369822145.py:5: PerformanceWarning: DataFrame is highly fragmented.  This is usually the result of calling `frame.insert` many times, which has poor performance.  Consider joining all columns at once using pd.concat(axis=1) instead. To get a de-fragmented frame, use `newframe = frame.copy()`\n",
      "  df_prop[new_col_name] = 0  # Initialiser la nouvelle colonne à 0\n",
      "C:\\Users\\mdaversa\\AppData\\Local\\Temp\\ipykernel_13068\\1369822145.py:5: PerformanceWarning: DataFrame is highly fragmented.  This is usually the result of calling `frame.insert` many times, which has poor performance.  Consider joining all columns at once using pd.concat(axis=1) instead. To get a de-fragmented frame, use `newframe = frame.copy()`\n",
      "  df_prop[new_col_name] = 0  # Initialiser la nouvelle colonne à 0\n",
      "C:\\Users\\mdaversa\\AppData\\Local\\Temp\\ipykernel_13068\\1369822145.py:5: PerformanceWarning: DataFrame is highly fragmented.  This is usually the result of calling `frame.insert` many times, which has poor performance.  Consider joining all columns at once using pd.concat(axis=1) instead. To get a de-fragmented frame, use `newframe = frame.copy()`\n",
      "  df_prop[new_col_name] = 0  # Initialiser la nouvelle colonne à 0\n",
      "C:\\Users\\mdaversa\\AppData\\Local\\Temp\\ipykernel_13068\\1369822145.py:5: PerformanceWarning: DataFrame is highly fragmented.  This is usually the result of calling `frame.insert` many times, which has poor performance.  Consider joining all columns at once using pd.concat(axis=1) instead. To get a de-fragmented frame, use `newframe = frame.copy()`\n",
      "  df_prop[new_col_name] = 0  # Initialiser la nouvelle colonne à 0\n",
      "C:\\Users\\mdaversa\\AppData\\Local\\Temp\\ipykernel_13068\\1369822145.py:5: PerformanceWarning: DataFrame is highly fragmented.  This is usually the result of calling `frame.insert` many times, which has poor performance.  Consider joining all columns at once using pd.concat(axis=1) instead. To get a de-fragmented frame, use `newframe = frame.copy()`\n",
      "  df_prop[new_col_name] = 0  # Initialiser la nouvelle colonne à 0\n",
      "C:\\Users\\mdaversa\\AppData\\Local\\Temp\\ipykernel_13068\\1369822145.py:5: PerformanceWarning: DataFrame is highly fragmented.  This is usually the result of calling `frame.insert` many times, which has poor performance.  Consider joining all columns at once using pd.concat(axis=1) instead. To get a de-fragmented frame, use `newframe = frame.copy()`\n",
      "  df_prop[new_col_name] = 0  # Initialiser la nouvelle colonne à 0\n",
      "C:\\Users\\mdaversa\\AppData\\Local\\Temp\\ipykernel_13068\\1369822145.py:5: PerformanceWarning: DataFrame is highly fragmented.  This is usually the result of calling `frame.insert` many times, which has poor performance.  Consider joining all columns at once using pd.concat(axis=1) instead. To get a de-fragmented frame, use `newframe = frame.copy()`\n",
      "  df_prop[new_col_name] = 0  # Initialiser la nouvelle colonne à 0\n",
      "C:\\Users\\mdaversa\\AppData\\Local\\Temp\\ipykernel_13068\\1369822145.py:5: PerformanceWarning: DataFrame is highly fragmented.  This is usually the result of calling `frame.insert` many times, which has poor performance.  Consider joining all columns at once using pd.concat(axis=1) instead. To get a de-fragmented frame, use `newframe = frame.copy()`\n",
      "  df_prop[new_col_name] = 0  # Initialiser la nouvelle colonne à 0\n",
      "C:\\Users\\mdaversa\\AppData\\Local\\Temp\\ipykernel_13068\\1369822145.py:5: PerformanceWarning: DataFrame is highly fragmented.  This is usually the result of calling `frame.insert` many times, which has poor performance.  Consider joining all columns at once using pd.concat(axis=1) instead. To get a de-fragmented frame, use `newframe = frame.copy()`\n",
      "  df_prop[new_col_name] = 0  # Initialiser la nouvelle colonne à 0\n",
      "C:\\Users\\mdaversa\\AppData\\Local\\Temp\\ipykernel_13068\\1369822145.py:5: PerformanceWarning: DataFrame is highly fragmented.  This is usually the result of calling `frame.insert` many times, which has poor performance.  Consider joining all columns at once using pd.concat(axis=1) instead. To get a de-fragmented frame, use `newframe = frame.copy()`\n",
      "  df_prop[new_col_name] = 0  # Initialiser la nouvelle colonne à 0\n",
      "C:\\Users\\mdaversa\\AppData\\Local\\Temp\\ipykernel_13068\\1369822145.py:5: PerformanceWarning: DataFrame is highly fragmented.  This is usually the result of calling `frame.insert` many times, which has poor performance.  Consider joining all columns at once using pd.concat(axis=1) instead. To get a de-fragmented frame, use `newframe = frame.copy()`\n",
      "  df_prop[new_col_name] = 0  # Initialiser la nouvelle colonne à 0\n",
      "C:\\Users\\mdaversa\\AppData\\Local\\Temp\\ipykernel_13068\\1369822145.py:5: PerformanceWarning: DataFrame is highly fragmented.  This is usually the result of calling `frame.insert` many times, which has poor performance.  Consider joining all columns at once using pd.concat(axis=1) instead. To get a de-fragmented frame, use `newframe = frame.copy()`\n",
      "  df_prop[new_col_name] = 0  # Initialiser la nouvelle colonne à 0\n",
      "C:\\Users\\mdaversa\\AppData\\Local\\Temp\\ipykernel_13068\\1369822145.py:5: PerformanceWarning: DataFrame is highly fragmented.  This is usually the result of calling `frame.insert` many times, which has poor performance.  Consider joining all columns at once using pd.concat(axis=1) instead. To get a de-fragmented frame, use `newframe = frame.copy()`\n",
      "  df_prop[new_col_name] = 0  # Initialiser la nouvelle colonne à 0\n",
      "C:\\Users\\mdaversa\\AppData\\Local\\Temp\\ipykernel_13068\\1369822145.py:5: PerformanceWarning: DataFrame is highly fragmented.  This is usually the result of calling `frame.insert` many times, which has poor performance.  Consider joining all columns at once using pd.concat(axis=1) instead. To get a de-fragmented frame, use `newframe = frame.copy()`\n",
      "  df_prop[new_col_name] = 0  # Initialiser la nouvelle colonne à 0\n",
      "C:\\Users\\mdaversa\\AppData\\Local\\Temp\\ipykernel_13068\\1369822145.py:5: PerformanceWarning: DataFrame is highly fragmented.  This is usually the result of calling `frame.insert` many times, which has poor performance.  Consider joining all columns at once using pd.concat(axis=1) instead. To get a de-fragmented frame, use `newframe = frame.copy()`\n",
      "  df_prop[new_col_name] = 0  # Initialiser la nouvelle colonne à 0\n",
      "C:\\Users\\mdaversa\\AppData\\Local\\Temp\\ipykernel_13068\\1369822145.py:5: PerformanceWarning: DataFrame is highly fragmented.  This is usually the result of calling `frame.insert` many times, which has poor performance.  Consider joining all columns at once using pd.concat(axis=1) instead. To get a de-fragmented frame, use `newframe = frame.copy()`\n",
      "  df_prop[new_col_name] = 0  # Initialiser la nouvelle colonne à 0\n",
      "C:\\Users\\mdaversa\\AppData\\Local\\Temp\\ipykernel_13068\\1369822145.py:5: PerformanceWarning: DataFrame is highly fragmented.  This is usually the result of calling `frame.insert` many times, which has poor performance.  Consider joining all columns at once using pd.concat(axis=1) instead. To get a de-fragmented frame, use `newframe = frame.copy()`\n",
      "  df_prop[new_col_name] = 0  # Initialiser la nouvelle colonne à 0\n",
      "C:\\Users\\mdaversa\\AppData\\Local\\Temp\\ipykernel_13068\\1369822145.py:5: PerformanceWarning: DataFrame is highly fragmented.  This is usually the result of calling `frame.insert` many times, which has poor performance.  Consider joining all columns at once using pd.concat(axis=1) instead. To get a de-fragmented frame, use `newframe = frame.copy()`\n",
      "  df_prop[new_col_name] = 0  # Initialiser la nouvelle colonne à 0\n",
      "C:\\Users\\mdaversa\\AppData\\Local\\Temp\\ipykernel_13068\\1369822145.py:5: PerformanceWarning: DataFrame is highly fragmented.  This is usually the result of calling `frame.insert` many times, which has poor performance.  Consider joining all columns at once using pd.concat(axis=1) instead. To get a de-fragmented frame, use `newframe = frame.copy()`\n",
      "  df_prop[new_col_name] = 0  # Initialiser la nouvelle colonne à 0\n",
      "C:\\Users\\mdaversa\\AppData\\Local\\Temp\\ipykernel_13068\\1369822145.py:5: PerformanceWarning: DataFrame is highly fragmented.  This is usually the result of calling `frame.insert` many times, which has poor performance.  Consider joining all columns at once using pd.concat(axis=1) instead. To get a de-fragmented frame, use `newframe = frame.copy()`\n",
      "  df_prop[new_col_name] = 0  # Initialiser la nouvelle colonne à 0\n",
      "C:\\Users\\mdaversa\\AppData\\Local\\Temp\\ipykernel_13068\\1369822145.py:5: PerformanceWarning: DataFrame is highly fragmented.  This is usually the result of calling `frame.insert` many times, which has poor performance.  Consider joining all columns at once using pd.concat(axis=1) instead. To get a de-fragmented frame, use `newframe = frame.copy()`\n",
      "  df_prop[new_col_name] = 0  # Initialiser la nouvelle colonne à 0\n",
      "C:\\Users\\mdaversa\\AppData\\Local\\Temp\\ipykernel_13068\\1369822145.py:5: PerformanceWarning: DataFrame is highly fragmented.  This is usually the result of calling `frame.insert` many times, which has poor performance.  Consider joining all columns at once using pd.concat(axis=1) instead. To get a de-fragmented frame, use `newframe = frame.copy()`\n",
      "  df_prop[new_col_name] = 0  # Initialiser la nouvelle colonne à 0\n",
      "C:\\Users\\mdaversa\\AppData\\Local\\Temp\\ipykernel_13068\\1369822145.py:5: PerformanceWarning: DataFrame is highly fragmented.  This is usually the result of calling `frame.insert` many times, which has poor performance.  Consider joining all columns at once using pd.concat(axis=1) instead. To get a de-fragmented frame, use `newframe = frame.copy()`\n",
      "  df_prop[new_col_name] = 0  # Initialiser la nouvelle colonne à 0\n",
      "C:\\Users\\mdaversa\\AppData\\Local\\Temp\\ipykernel_13068\\1369822145.py:5: PerformanceWarning: DataFrame is highly fragmented.  This is usually the result of calling `frame.insert` many times, which has poor performance.  Consider joining all columns at once using pd.concat(axis=1) instead. To get a de-fragmented frame, use `newframe = frame.copy()`\n",
      "  df_prop[new_col_name] = 0  # Initialiser la nouvelle colonne à 0\n",
      "C:\\Users\\mdaversa\\AppData\\Local\\Temp\\ipykernel_13068\\1369822145.py:5: PerformanceWarning: DataFrame is highly fragmented.  This is usually the result of calling `frame.insert` many times, which has poor performance.  Consider joining all columns at once using pd.concat(axis=1) instead. To get a de-fragmented frame, use `newframe = frame.copy()`\n",
      "  df_prop[new_col_name] = 0  # Initialiser la nouvelle colonne à 0\n",
      "C:\\Users\\mdaversa\\AppData\\Local\\Temp\\ipykernel_13068\\1369822145.py:5: PerformanceWarning: DataFrame is highly fragmented.  This is usually the result of calling `frame.insert` many times, which has poor performance.  Consider joining all columns at once using pd.concat(axis=1) instead. To get a de-fragmented frame, use `newframe = frame.copy()`\n",
      "  df_prop[new_col_name] = 0  # Initialiser la nouvelle colonne à 0\n",
      "C:\\Users\\mdaversa\\AppData\\Local\\Temp\\ipykernel_13068\\1369822145.py:5: PerformanceWarning: DataFrame is highly fragmented.  This is usually the result of calling `frame.insert` many times, which has poor performance.  Consider joining all columns at once using pd.concat(axis=1) instead. To get a de-fragmented frame, use `newframe = frame.copy()`\n",
      "  df_prop[new_col_name] = 0  # Initialiser la nouvelle colonne à 0\n",
      "C:\\Users\\mdaversa\\AppData\\Local\\Temp\\ipykernel_13068\\1369822145.py:5: PerformanceWarning: DataFrame is highly fragmented.  This is usually the result of calling `frame.insert` many times, which has poor performance.  Consider joining all columns at once using pd.concat(axis=1) instead. To get a de-fragmented frame, use `newframe = frame.copy()`\n",
      "  df_prop[new_col_name] = 0  # Initialiser la nouvelle colonne à 0\n",
      "C:\\Users\\mdaversa\\AppData\\Local\\Temp\\ipykernel_13068\\1369822145.py:5: PerformanceWarning: DataFrame is highly fragmented.  This is usually the result of calling `frame.insert` many times, which has poor performance.  Consider joining all columns at once using pd.concat(axis=1) instead. To get a de-fragmented frame, use `newframe = frame.copy()`\n",
      "  df_prop[new_col_name] = 0  # Initialiser la nouvelle colonne à 0\n"
     ]
    }
   ],
   "source": [
    "for col_name in df_prop.columns:\n",
    "    if str(col_name).isdigit() and len(str(col_name)) == 5:\n",
    "        new_col_name = str(col_name)[:4]\n",
    "        if new_col_name not in df_prop.columns:\n",
    "            df_prop[new_col_name] = 0  # Initialiser la nouvelle colonne à 0\n",
    "        df_prop[new_col_name] += df_prop[col_name]\n"
   ]
  },
  {
   "cell_type": "code",
   "execution_count": 21,
   "metadata": {},
   "outputs": [],
   "source": [
    "df_prop = df_prop.filter(regex=r'^\\d{4}$')"
   ]
  },
  {
   "cell_type": "code",
   "execution_count": 22,
   "metadata": {},
   "outputs": [
    {
     "name": "stdout",
     "output_type": "stream",
     "text": [
      "['0131', '0221', '0241', '0311', '0331', '0412', '0450', '0461', '0521', '0541', '0571', '0631', '0641', '0714', '0741', '0811', '0812', '0813', '0814', '0943', '0961', '0971', '1011', '1012', '1013', '1014', '1015', '1113', '1121', '1233', '1241', '1251', '1255', '1261', '1271', '1281', '1291']\n"
     ]
    }
   ],
   "source": [
    "missing_columns = set(df_prop.columns) - set(df_inflation.columns)\n",
    "print(sorted(missing_columns))\n"
   ]
  },
  {
   "cell_type": "code",
   "execution_count": 23,
   "metadata": {},
   "outputs": [
    {
     "name": "stdout",
     "output_type": "stream",
     "text": [
      "['0442', '0612', '0613', '0820', '0830', '0935', '1213']\n"
     ]
    }
   ],
   "source": [
    "missing_columns2 = set(df_inflation.columns) - set(df_prop.columns)\n",
    "print(sorted(missing_columns2))"
   ]
  },
  {
   "cell_type": "code",
   "execution_count": 24,
   "metadata": {},
   "outputs": [],
   "source": [
    "df_prop_inflation = df_prop*df_inflation"
   ]
  }
 ],
 "metadata": {
  "kernelspec": {
   "display_name": "Python 3",
   "language": "python",
   "name": "python3"
  },
  "language_info": {
   "codemirror_mode": {
    "name": "ipython",
    "version": 3
   },
   "file_extension": ".py",
   "mimetype": "text/x-python",
   "name": "python",
   "nbconvert_exporter": "python",
   "pygments_lexer": "ipython3",
   "version": "3.11.3"
  },
  "orig_nbformat": 4
 },
 "nbformat": 4,
 "nbformat_minor": 2
}
