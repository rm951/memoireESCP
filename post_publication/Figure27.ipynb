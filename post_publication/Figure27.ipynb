{
 "cells": [
  {
   "attachments": {},
   "cell_type": "markdown",
   "metadata": {},
   "source": [
    "These data come from a survey conducted by INSEE, Budget des Familles, which are protected by the Statistical Secrecy Committee. To reproduce the analysis, one must request access to this data."
   ]
  },
  {
   "cell_type": "code",
   "execution_count": 1,
   "metadata": {},
   "outputs": [],
   "source": [
    "import pandas as pd"
   ]
  },
  {
   "cell_type": "code",
   "execution_count": 2,
   "metadata": {},
   "outputs": [],
   "source": [
    "df = pd.read_csv('BDF/Csv/C05.csv', sep=\";\", index_col=\"IDENT_MEN\")"
   ]
  },
  {
   "attachments": {},
   "cell_type": "markdown",
   "metadata": {},
   "source": [
    "We need to remove the columns starting with 13 (taxes) and 14 (subsidies) which are not consumption. And also the columns total CTOT and pondmen (weight household) which are not useful."
   ]
  },
  {
   "cell_type": "code",
   "execution_count": 3,
   "metadata": {},
   "outputs": [],
   "source": [
    "columns_to_delete = df.columns[df.columns.str.startswith('C13') | df.columns.str.startswith('C14')]\n",
    "df = df.drop(columns=columns_to_delete)\n",
    "df = df.drop(columns=[\"CTOT\", \"pondmen\"])"
   ]
  },
  {
   "cell_type": "code",
   "execution_count": 4,
   "metadata": {},
   "outputs": [],
   "source": [
    "df_prop = df.divide(df.sum(axis=1), axis=0)\n"
   ]
  },
  {
   "cell_type": "code",
   "execution_count": 5,
   "metadata": {},
   "outputs": [],
   "source": [
    "df_prop.rename(columns=lambda x: x.replace('C', ''), inplace=True)\n"
   ]
  },
  {
   "attachments": {},
   "cell_type": "markdown",
   "metadata": {},
   "source": [
    "We know have the proportion of each consumption area per household."
   ]
  },
  {
   "cell_type": "code",
   "execution_count": 6,
   "metadata": {},
   "outputs": [],
   "source": [
    "import eurostat"
   ]
  },
  {
   "cell_type": "code",
   "execution_count": 7,
   "metadata": {},
   "outputs": [],
   "source": [
    "df_inflation = eurostat.get_data_df(code=\"PRC_HICP_MANR\", filter_pars={\n",
    "                                    'geo': 'FR', 'startPeriod': \"2021-03\"})\n",
    "df_inflation = df_inflation.rename(columns={'geo\\TIME_PERIOD': 'geo'})"
   ]
  },
  {
   "cell_type": "code",
   "execution_count": 8,
   "metadata": {},
   "outputs": [],
   "source": [
    "df_inflation = df_inflation[df_inflation['coicop'].str.startswith('CP') & (df_inflation['coicop'].str.len() == 7)]"
   ]
  },
  {
   "cell_type": "code",
   "execution_count": 9,
   "metadata": {},
   "outputs": [],
   "source": [
    "df_inflation['coicop'] = df_inflation['coicop'].str.replace('CP', '')\n"
   ]
  },
  {
   "cell_type": "code",
   "execution_count": 10,
   "metadata": {},
   "outputs": [],
   "source": [
    "df_inflation = df_inflation.loc[:, [\"coicop\", \"2023-04\"]]\n"
   ]
  },
  {
   "cell_type": "code",
   "execution_count": 11,
   "metadata": {},
   "outputs": [],
   "source": [
    "df_inflation = df_inflation.set_index('coicop').transpose()"
   ]
  },
  {
   "cell_type": "code",
   "execution_count": 18,
   "metadata": {},
   "outputs": [
    {
     "name": "stdout",
     "output_type": "stream",
     "text": [
      "['01130', '01155', '01165', '01166', '01167', '01168', '01169', '01177', '01178', '01179', '01195', '01224', '01311', '01312', '02211', '02212', '02213', '02411', '03111', '03221', '03311', '03312', '04111', '04121', '04311', '04411', '04431', '04500', '04511', '04531', '04541', '04551', '04552', '04611', '05110', '05114', '05115', '05116', '05131', '05211', '05212', '05316', '05317', '05331', '05411', '05412', '05413', '05414', '05513', '05523', '05711', '05712', '06111', '06112', '06113', '06221', '06233', '06311', '06411', '06412', '07121', '07131', '07141', '07231', '07351', '07361', '07411', '07412', '08111', '08121', '08131', '08141', '09151', '09231', '09424', '09431', '09531', '09611', '09711', '09712', '10111', '10121', '10131', '10141', '10151', '10152', '11121', '11131', '11132', '11211', '12122', '12331', '12411', '12511', '12521', '12531', '12551', '12611', '12711', '12712', '12811', '12911']\n"
     ]
    }
   ],
   "source": [
    "missing_columns = set(df_prop.columns) - set(df_inflation.columns)\n",
    "print(sorted(missing_columns))\n"
   ]
  },
  {
   "cell_type": "code",
   "execution_count": 19,
   "metadata": {},
   "outputs": [
    {
     "name": "stdout",
     "output_type": "stream",
     "text": [
      "['01116', '01117', '01118', '01128', '01135', '01136', '01199', '02123', '02124', '02132', '02133', '02134', '02201', '02202', '02203', '03132', '03142', '04322', '04323', '04324', '04325', '04449', '04549', '05119', '05122', '05123', '05201', '05202', '05203', '05209', '05322', '05323', '05324', '05329', '05401', '05402', '05403', '05623', '06121', '06129', '06131', '06132', '06212', '06239', '07212', '07213', '07222', '07223', '07224', '07243', '07312', '07322', '07332', '07342', '07362', '08101', '08109', '08201', '08202', '08301', '08302', '08303', '08304', '09119', '09132', '09134', '09149', '09213', '09322', '09323', '09332', '09342', '09412', '09425', '09429', '09512', '09513', '09514', '09522', '09549', '09602', '10102', '11201', '11202', '11203', '12112', '12113', '12131', '12132', '12312', '12313', '12329', '12401', '12402', '12403', '12532', '12621', '12701', '12702', '12703', '12704']\n"
     ]
    }
   ],
   "source": [
    "missing_columns2 = set(df_inflation.columns) - set(df_prop.columns)\n",
    "print(sorted(missing_columns2))"
   ]
  },
  {
   "cell_type": "code",
   "execution_count": 13,
   "metadata": {},
   "outputs": [
    {
     "data": {
      "text/plain": [
       "Index(['01111', '01112', '01113', '01114', '01115', '01121', '01122', '01123',\n",
       "       '01124', '01125',\n",
       "       ...\n",
       "       '12511', '12521', '12531', '12541', '12551', '12611', '12711', '12712',\n",
       "       '12811', '12911'],\n",
       "      dtype='object', length=231)"
      ]
     },
     "execution_count": 13,
     "metadata": {},
     "output_type": "execute_result"
    }
   ],
   "source": [
    "df_prop.columns"
   ]
  },
  {
   "cell_type": "code",
   "execution_count": 14,
   "metadata": {},
   "outputs": [
    {
     "data": {
      "text/plain": [
       "Index(['01111', '01112', '01113', '01114', '01115', '01116', '01117', '01118',\n",
       "       '01121', '01122',\n",
       "       ...\n",
       "       '12401', '12402', '12403', '12532', '12541', '12621', '12701', '12702',\n",
       "       '12703', '12704'],\n",
       "      dtype='object', name='coicop', length=230)"
      ]
     },
     "execution_count": 14,
     "metadata": {},
     "output_type": "execute_result"
    }
   ],
   "source": [
    "df_inflation.columns"
   ]
  },
  {
   "cell_type": "code",
   "execution_count": 15,
   "metadata": {},
   "outputs": [],
   "source": [
    "df_prop_inflation = df_prop*df_inflation"
   ]
  },
  {
   "cell_type": "code",
   "execution_count": 21,
   "metadata": {},
   "outputs": [
    {
     "name": "stderr",
     "output_type": "stream",
     "text": [
      "C:\\Users\\maxen\\AppData\\Local\\Temp\\ipykernel_13164\\1791459289.py:1: DtypeWarning: Columns (404) have mixed types. Specify dtype option on import or set low_memory=False.\n",
      "  df2 = pd.read_csv(\"monthly_values.csv\", sep=\";\")\n"
     ]
    }
   ],
   "source": [
    "df2 = pd.read_csv(\"monthly_values.csv\", sep=\";\")"
   ]
  }
 ],
 "metadata": {
  "kernelspec": {
   "display_name": "Python 3",
   "language": "python",
   "name": "python3"
  },
  "language_info": {
   "codemirror_mode": {
    "name": "ipython",
    "version": 3
   },
   "file_extension": ".py",
   "mimetype": "text/x-python",
   "name": "python",
   "nbconvert_exporter": "python",
   "pygments_lexer": "ipython3",
   "version": "3.10.7"
  },
  "orig_nbformat": 4
 },
 "nbformat": 4,
 "nbformat_minor": 2
}
