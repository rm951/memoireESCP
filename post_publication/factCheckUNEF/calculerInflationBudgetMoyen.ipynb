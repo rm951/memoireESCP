{
 "cells": [
  {
   "attachments": {},
   "cell_type": "markdown",
   "metadata": {},
   "source": [
    "These data come from a survey conducted by INSEE, Budget des Familles, which are protected by the Statistical Secrecy Committee. To reproduce the analysis, one must request access to this data."
   ]
  },
  {
   "cell_type": "code",
   "execution_count": 1,
   "metadata": {},
   "outputs": [],
   "source": [
    "import pandas as pd"
   ]
  },
  {
   "cell_type": "code",
   "execution_count": 2,
   "metadata": {},
   "outputs": [],
   "source": [
    "df = pd.read_csv('../BDF/Csv/C05.csv', sep=\";\", index_col=\"IDENT_MEN\")"
   ]
  },
  {
   "cell_type": "code",
   "execution_count": 3,
   "metadata": {},
   "outputs": [],
   "source": [
    "df_liste_menages = pd.read_csv('menagesEtudiant2.csv', index_col=\"IDENT_MEN\")"
   ]
  },
  {
   "cell_type": "code",
   "execution_count": 4,
   "metadata": {},
   "outputs": [],
   "source": [
    "df = df_liste_menages.merge(right=df, left_index=True, right_index=True)"
   ]
  },
  {
   "attachments": {},
   "cell_type": "markdown",
   "metadata": {},
   "source": [
    "We need to remove the columns starting with 13 (taxes) and 14 (subsidies) which are not consumption. And also the columns total CTOT and pondmen (weight household) which are not useful."
   ]
  },
  {
   "cell_type": "code",
   "execution_count": 5,
   "metadata": {},
   "outputs": [],
   "source": [
    "columns_to_delete = df.columns[df.columns.str.startswith('C13') | df.columns.str.startswith('C14')]\n",
    "df = df.drop(columns=columns_to_delete)\n",
    "df = df.drop(columns=[\"CTOT\", \"pondmen\"])"
   ]
  },
  {
   "cell_type": "code",
   "execution_count": 6,
   "metadata": {},
   "outputs": [],
   "source": [
    "column_averages = df.mean()\n",
    "\n",
    "# Ensuite, vous pouvez créer une nouvelle ligne dans le DataFrame contenant les moyennes\n",
    "average_row = pd.DataFrame(column_averages).T\n",
    "\n",
    "# Maintenant, vous pouvez concaténer la ligne moyenne au DataFrame d'origine\n",
    "df_with_average_row = pd.concat([df, average_row])\n",
    "\n",
    "# Si vous voulez supprimer les lignes d'origine et ne garder que la ligne moyenne\n",
    "df = df_with_average_row.iloc[-1:]"
   ]
  },
  {
   "cell_type": "code",
   "execution_count": 7,
   "metadata": {},
   "outputs": [],
   "source": [
    "df_prop = df.divide(df.sum(axis=1), axis=0)\n"
   ]
  },
  {
   "cell_type": "code",
   "execution_count": 8,
   "metadata": {},
   "outputs": [],
   "source": [
    "df_prop.rename(columns=lambda x: x.replace('C', ''), inplace=True)\n"
   ]
  },
  {
   "attachments": {},
   "cell_type": "markdown",
   "metadata": {},
   "source": [
    "We know have the proportion of each consumption area per household."
   ]
  },
  {
   "cell_type": "code",
   "execution_count": 9,
   "metadata": {},
   "outputs": [],
   "source": [
    "import eurostat"
   ]
  },
  {
   "cell_type": "code",
   "execution_count": 10,
   "metadata": {},
   "outputs": [],
   "source": [
    "df_inflation_raw = eurostat.get_data_df(code=\"PRC_HICP_MANR\", filter_pars={\n",
    "                                    'geo': 'FR', 'startPeriod': \"1997-01\", \"endPeriod\": \"2023-06\"})\n",
    "df_inflation_raw = df_inflation_raw.rename(columns={'geo\\TIME_PERIOD': 'geo'})"
   ]
  },
  {
   "cell_type": "code",
   "execution_count": 11,
   "metadata": {},
   "outputs": [],
   "source": [
    "df_correspondances = pd.read_csv(\"../correspondances.csv\", dtype=\"str\", sep=\";\")"
   ]
  },
  {
   "cell_type": "code",
   "execution_count": 12,
   "metadata": {},
   "outputs": [],
   "source": [
    "df_correspondances.set_index('colonnes de df_prop', inplace=True)"
   ]
  },
  {
   "cell_type": "code",
   "execution_count": 13,
   "metadata": {},
   "outputs": [],
   "source": [
    "df_inflation = df_inflation_raw[df_inflation_raw['coicop'].str.startswith('CP')]"
   ]
  },
  {
   "cell_type": "code",
   "execution_count": 14,
   "metadata": {},
   "outputs": [
    {
     "name": "stderr",
     "output_type": "stream",
     "text": [
      "C:\\Users\\mdaversa\\AppData\\Local\\Temp\\ipykernel_21792\\2914206753.py:1: SettingWithCopyWarning: \n",
      "A value is trying to be set on a copy of a slice from a DataFrame.\n",
      "Try using .loc[row_indexer,col_indexer] = value instead\n",
      "\n",
      "See the caveats in the documentation: https://pandas.pydata.org/pandas-docs/stable/user_guide/indexing.html#returning-a-view-versus-a-copy\n",
      "  df_inflation['coicop'] = df_inflation['coicop'].str.replace('CP', '')\n"
     ]
    }
   ],
   "source": [
    "df_inflation['coicop'] = df_inflation['coicop'].str.replace('CP', '')\n"
   ]
  },
  {
   "cell_type": "code",
   "execution_count": 15,
   "metadata": {},
   "outputs": [],
   "source": [
    "df_inflation = df_inflation.drop([\"freq\", \"unit\", \"geo\"], axis=1)\n"
   ]
  },
  {
   "cell_type": "code",
   "execution_count": 16,
   "metadata": {},
   "outputs": [],
   "source": [
    "df_inflation = df_inflation.set_index('coicop')"
   ]
  },
  {
   "cell_type": "code",
   "execution_count": 17,
   "metadata": {},
   "outputs": [],
   "source": [
    "df_prop = df_prop.transpose()"
   ]
  },
  {
   "cell_type": "code",
   "execution_count": 18,
   "metadata": {},
   "outputs": [
    {
     "data": {
      "text/html": [
       "<div>\n",
       "<style scoped>\n",
       "    .dataframe tbody tr th:only-of-type {\n",
       "        vertical-align: middle;\n",
       "    }\n",
       "\n",
       "    .dataframe tbody tr th {\n",
       "        vertical-align: top;\n",
       "    }\n",
       "\n",
       "    .dataframe thead th {\n",
       "        text-align: right;\n",
       "    }\n",
       "</style>\n",
       "<table border=\"1\" class=\"dataframe\">\n",
       "  <thead>\n",
       "    <tr style=\"text-align: right;\">\n",
       "      <th></th>\n",
       "      <th>0</th>\n",
       "    </tr>\n",
       "  </thead>\n",
       "  <tbody>\n",
       "    <tr>\n",
       "      <th>01111</th>\n",
       "      <td>0.002373</td>\n",
       "    </tr>\n",
       "    <tr>\n",
       "      <th>01112</th>\n",
       "      <td>0.010616</td>\n",
       "    </tr>\n",
       "    <tr>\n",
       "      <th>01113</th>\n",
       "      <td>0.003708</td>\n",
       "    </tr>\n",
       "    <tr>\n",
       "      <th>01114</th>\n",
       "      <td>0.005331</td>\n",
       "    </tr>\n",
       "    <tr>\n",
       "      <th>01115</th>\n",
       "      <td>0.003013</td>\n",
       "    </tr>\n",
       "  </tbody>\n",
       "</table>\n",
       "</div>"
      ],
      "text/plain": [
       "              0\n",
       "01111  0.002373\n",
       "01112  0.010616\n",
       "01113  0.003708\n",
       "01114  0.005331\n",
       "01115  0.003013"
      ]
     },
     "execution_count": 18,
     "metadata": {},
     "output_type": "execute_result"
    }
   ],
   "source": [
    "df_prop.head()"
   ]
  },
  {
   "cell_type": "code",
   "execution_count": 19,
   "metadata": {},
   "outputs": [
    {
     "data": {
      "text/html": [
       "<div>\n",
       "<style scoped>\n",
       "    .dataframe tbody tr th:only-of-type {\n",
       "        vertical-align: middle;\n",
       "    }\n",
       "\n",
       "    .dataframe tbody tr th {\n",
       "        vertical-align: top;\n",
       "    }\n",
       "\n",
       "    .dataframe thead th {\n",
       "        text-align: right;\n",
       "    }\n",
       "</style>\n",
       "<table border=\"1\" class=\"dataframe\">\n",
       "  <thead>\n",
       "    <tr style=\"text-align: right;\">\n",
       "      <th></th>\n",
       "      <th>1997-01</th>\n",
       "      <th>1997-02</th>\n",
       "      <th>1997-03</th>\n",
       "      <th>1997-04</th>\n",
       "      <th>1997-05</th>\n",
       "      <th>1997-06</th>\n",
       "      <th>1997-07</th>\n",
       "      <th>1997-08</th>\n",
       "      <th>1997-09</th>\n",
       "      <th>1997-10</th>\n",
       "      <th>...</th>\n",
       "      <th>2022-09</th>\n",
       "      <th>2022-10</th>\n",
       "      <th>2022-11</th>\n",
       "      <th>2022-12</th>\n",
       "      <th>2023-01</th>\n",
       "      <th>2023-02</th>\n",
       "      <th>2023-03</th>\n",
       "      <th>2023-04</th>\n",
       "      <th>2023-05</th>\n",
       "      <th>2023-06</th>\n",
       "    </tr>\n",
       "    <tr>\n",
       "      <th>coicop</th>\n",
       "      <th></th>\n",
       "      <th></th>\n",
       "      <th></th>\n",
       "      <th></th>\n",
       "      <th></th>\n",
       "      <th></th>\n",
       "      <th></th>\n",
       "      <th></th>\n",
       "      <th></th>\n",
       "      <th></th>\n",
       "      <th></th>\n",
       "      <th></th>\n",
       "      <th></th>\n",
       "      <th></th>\n",
       "      <th></th>\n",
       "      <th></th>\n",
       "      <th></th>\n",
       "      <th></th>\n",
       "      <th></th>\n",
       "      <th></th>\n",
       "      <th></th>\n",
       "    </tr>\n",
       "  </thead>\n",
       "  <tbody>\n",
       "    <tr>\n",
       "      <th>00</th>\n",
       "      <td>1.8</td>\n",
       "      <td>1.7</td>\n",
       "      <td>1.1</td>\n",
       "      <td>1.0</td>\n",
       "      <td>0.9</td>\n",
       "      <td>1.0</td>\n",
       "      <td>1.1</td>\n",
       "      <td>1.6</td>\n",
       "      <td>1.4</td>\n",
       "      <td>1.1</td>\n",
       "      <td>...</td>\n",
       "      <td>6.2</td>\n",
       "      <td>7.1</td>\n",
       "      <td>7.1</td>\n",
       "      <td>6.7</td>\n",
       "      <td>7.0</td>\n",
       "      <td>7.3</td>\n",
       "      <td>6.7</td>\n",
       "      <td>6.9</td>\n",
       "      <td>6.0</td>\n",
       "      <td>5.3</td>\n",
       "    </tr>\n",
       "    <tr>\n",
       "      <th>01</th>\n",
       "      <td>2.5</td>\n",
       "      <td>1.5</td>\n",
       "      <td>0.1</td>\n",
       "      <td>0.5</td>\n",
       "      <td>0.4</td>\n",
       "      <td>1.0</td>\n",
       "      <td>1.5</td>\n",
       "      <td>2.8</td>\n",
       "      <td>2.9</td>\n",
       "      <td>3.0</td>\n",
       "      <td>...</td>\n",
       "      <td>10.6</td>\n",
       "      <td>12.9</td>\n",
       "      <td>13.0</td>\n",
       "      <td>12.9</td>\n",
       "      <td>14.1</td>\n",
       "      <td>15.8</td>\n",
       "      <td>16.9</td>\n",
       "      <td>15.7</td>\n",
       "      <td>14.9</td>\n",
       "      <td>14.3</td>\n",
       "    </tr>\n",
       "    <tr>\n",
       "      <th>011</th>\n",
       "      <td>2.8</td>\n",
       "      <td>1.6</td>\n",
       "      <td>0.2</td>\n",
       "      <td>0.5</td>\n",
       "      <td>0.3</td>\n",
       "      <td>0.8</td>\n",
       "      <td>1.4</td>\n",
       "      <td>2.7</td>\n",
       "      <td>2.8</td>\n",
       "      <td>2.9</td>\n",
       "      <td>...</td>\n",
       "      <td>10.8</td>\n",
       "      <td>13.2</td>\n",
       "      <td>13.2</td>\n",
       "      <td>13.1</td>\n",
       "      <td>14.4</td>\n",
       "      <td>16.1</td>\n",
       "      <td>17.2</td>\n",
       "      <td>15.9</td>\n",
       "      <td>15.0</td>\n",
       "      <td>14.3</td>\n",
       "    </tr>\n",
       "    <tr>\n",
       "      <th>0111</th>\n",
       "      <td>1.9</td>\n",
       "      <td>2.1</td>\n",
       "      <td>1.9</td>\n",
       "      <td>1.7</td>\n",
       "      <td>1.8</td>\n",
       "      <td>1.7</td>\n",
       "      <td>1.6</td>\n",
       "      <td>1.6</td>\n",
       "      <td>1.4</td>\n",
       "      <td>1.3</td>\n",
       "      <td>...</td>\n",
       "      <td>9.9</td>\n",
       "      <td>11.2</td>\n",
       "      <td>11.8</td>\n",
       "      <td>12.1</td>\n",
       "      <td>13.4</td>\n",
       "      <td>14.4</td>\n",
       "      <td>15.4</td>\n",
       "      <td>15.8</td>\n",
       "      <td>14.7</td>\n",
       "      <td>14.1</td>\n",
       "    </tr>\n",
       "    <tr>\n",
       "      <th>01111</th>\n",
       "      <td>0.9</td>\n",
       "      <td>1.2</td>\n",
       "      <td>1.5</td>\n",
       "      <td>0.9</td>\n",
       "      <td>1.1</td>\n",
       "      <td>0.9</td>\n",
       "      <td>0.9</td>\n",
       "      <td>0.4</td>\n",
       "      <td>-0.3</td>\n",
       "      <td>1.1</td>\n",
       "      <td>...</td>\n",
       "      <td>12.2</td>\n",
       "      <td>14.1</td>\n",
       "      <td>15.8</td>\n",
       "      <td>16.1</td>\n",
       "      <td>17.2</td>\n",
       "      <td>19.3</td>\n",
       "      <td>21.2</td>\n",
       "      <td>22.9</td>\n",
       "      <td>20.2</td>\n",
       "      <td>18.8</td>\n",
       "    </tr>\n",
       "  </tbody>\n",
       "</table>\n",
       "<p>5 rows × 318 columns</p>\n",
       "</div>"
      ],
      "text/plain": [
       "        1997-01  1997-02  1997-03  1997-04  1997-05  1997-06  1997-07  \\\n",
       "coicop                                                                  \n",
       "00          1.8      1.7      1.1      1.0      0.9      1.0      1.1   \n",
       "01          2.5      1.5      0.1      0.5      0.4      1.0      1.5   \n",
       "011         2.8      1.6      0.2      0.5      0.3      0.8      1.4   \n",
       "0111        1.9      2.1      1.9      1.7      1.8      1.7      1.6   \n",
       "01111       0.9      1.2      1.5      0.9      1.1      0.9      0.9   \n",
       "\n",
       "        1997-08  1997-09  1997-10  ...  2022-09  2022-10  2022-11  2022-12  \\\n",
       "coicop                             ...                                       \n",
       "00          1.6      1.4      1.1  ...      6.2      7.1      7.1      6.7   \n",
       "01          2.8      2.9      3.0  ...     10.6     12.9     13.0     12.9   \n",
       "011         2.7      2.8      2.9  ...     10.8     13.2     13.2     13.1   \n",
       "0111        1.6      1.4      1.3  ...      9.9     11.2     11.8     12.1   \n",
       "01111       0.4     -0.3      1.1  ...     12.2     14.1     15.8     16.1   \n",
       "\n",
       "        2023-01  2023-02  2023-03  2023-04  2023-05  2023-06  \n",
       "coicop                                                        \n",
       "00          7.0      7.3      6.7      6.9      6.0      5.3  \n",
       "01         14.1     15.8     16.9     15.7     14.9     14.3  \n",
       "011        14.4     16.1     17.2     15.9     15.0     14.3  \n",
       "0111       13.4     14.4     15.4     15.8     14.7     14.1  \n",
       "01111      17.2     19.3     21.2     22.9     20.2     18.8  \n",
       "\n",
       "[5 rows x 318 columns]"
      ]
     },
     "execution_count": 19,
     "metadata": {},
     "output_type": "execute_result"
    }
   ],
   "source": [
    "df_inflation.head()"
   ]
  },
  {
   "cell_type": "code",
   "execution_count": 20,
   "metadata": {},
   "outputs": [],
   "source": [
    "df_prop = df_prop.merge(right=df_correspondances, right_on=\"colonnes de df_prop\", left_index=True)"
   ]
  },
  {
   "cell_type": "code",
   "execution_count": 21,
   "metadata": {},
   "outputs": [],
   "source": [
    "df_prop.rename(columns={\"colonnes de df_inflation correspondante\": \"coicop\"}, inplace=True)\n"
   ]
  },
  {
   "cell_type": "code",
   "execution_count": 22,
   "metadata": {},
   "outputs": [],
   "source": [
    "df_prop = df_prop.set_index(\"coicop\")"
   ]
  },
  {
   "cell_type": "code",
   "execution_count": 23,
   "metadata": {},
   "outputs": [
    {
     "data": {
      "text/plain": [
       "1997-01    float64\n",
       "1997-02    float64\n",
       "1997-03    float64\n",
       "1997-04    float64\n",
       "1997-05    float64\n",
       "            ...   \n",
       "2023-02    float64\n",
       "2023-03    float64\n",
       "2023-04    float64\n",
       "2023-05    float64\n",
       "2023-06    float64\n",
       "Length: 318, dtype: object"
      ]
     },
     "execution_count": 23,
     "metadata": {},
     "output_type": "execute_result"
    }
   ],
   "source": [
    "df_inflation.dtypes"
   ]
  },
  {
   "cell_type": "code",
   "execution_count": 24,
   "metadata": {},
   "outputs": [],
   "source": [
    "# Colonne '0' de df_prop\n",
    "df_prop_column = df_prop[0]\n",
    "\n",
    "# Multiplier chaque colonne de df_inflation par la colonne '0' de df_prop\n",
    "result_df = df_inflation.multiply(df_prop_column, axis=0)"
   ]
  },
  {
   "cell_type": "code",
   "execution_count": 26,
   "metadata": {},
   "outputs": [],
   "source": [
    "result_df = result_df.dropna()"
   ]
  },
  {
   "cell_type": "code",
   "execution_count": 28,
   "metadata": {},
   "outputs": [],
   "source": [
    "result_df = result_df.sum()"
   ]
  },
  {
   "cell_type": "code",
   "execution_count": 31,
   "metadata": {},
   "outputs": [],
   "source": [
    "result_df = pd.DataFrame(result_df)"
   ]
  },
  {
   "cell_type": "code",
   "execution_count": 33,
   "metadata": {},
   "outputs": [],
   "source": [
    "result_df = result_df.rename_axis('date')"
   ]
  },
  {
   "cell_type": "code",
   "execution_count": 35,
   "metadata": {},
   "outputs": [],
   "source": [
    "result_df = result_df.rename(columns={0: 'inflationEtudiant'})"
   ]
  },
  {
   "cell_type": "code",
   "execution_count": 36,
   "metadata": {},
   "outputs": [],
   "source": [
    "result_df.to_csv(f\"inflationEtudiantBudgetMoyen.csv\")"
   ]
  }
 ],
 "metadata": {
  "kernelspec": {
   "display_name": "Python 3",
   "language": "python",
   "name": "python3"
  },
  "language_info": {
   "codemirror_mode": {
    "name": "ipython",
    "version": 3
   },
   "file_extension": ".py",
   "mimetype": "text/x-python",
   "name": "python",
   "nbconvert_exporter": "python",
   "pygments_lexer": "ipython3",
   "version": "3.11.3"
  },
  "orig_nbformat": 4
 },
 "nbformat": 4,
 "nbformat_minor": 2
}
