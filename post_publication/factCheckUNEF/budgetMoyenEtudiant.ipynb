{
 "cells": [
  {
   "attachments": {},
   "cell_type": "markdown",
   "metadata": {},
   "source": [
    "These data come from a survey conducted by INSEE, Budget des Familles, which are protected by the Statistical Secrecy Committee. To reproduce the analysis, one must request access to this data."
   ]
  },
  {
   "cell_type": "code",
   "execution_count": 15,
   "metadata": {},
   "outputs": [],
   "source": [
    "import pandas as pd"
   ]
  },
  {
   "cell_type": "code",
   "execution_count": 16,
   "metadata": {},
   "outputs": [],
   "source": [
    "df_liste_menages = pd.read_csv('menagesEtudiant2.csv', index_col=\"IDENT_MEN\")"
   ]
  },
  {
   "cell_type": "code",
   "execution_count": null,
   "metadata": {},
   "outputs": [],
   "source": []
  },
  {
   "cell_type": "code",
   "execution_count": 17,
   "metadata": {},
   "outputs": [],
   "source": [
    "df = pd.read_csv('../BDF/Csv/C05.csv', sep=\";\", index_col=\"IDENT_MEN\")"
   ]
  },
  {
   "cell_type": "code",
   "execution_count": 18,
   "metadata": {},
   "outputs": [],
   "source": [
    "df = df_liste_menages.merge(right=df, left_index=True, right_index=True)"
   ]
  },
  {
   "cell_type": "code",
   "execution_count": 19,
   "metadata": {},
   "outputs": [],
   "source": [
    "column_averages = df.mean()\n",
    "\n",
    "# Ensuite, vous pouvez créer une nouvelle ligne dans le DataFrame contenant les moyennes\n",
    "average_row = pd.DataFrame(column_averages).T\n",
    "\n",
    "# Maintenant, vous pouvez concaténer la ligne moyenne au DataFrame d'origine\n",
    "df_with_average_row = pd.concat([df, average_row])\n",
    "\n",
    "# Si vous voulez supprimer les lignes d'origine et ne garder que la ligne moyenne\n",
    "df = df_with_average_row.iloc[-1:]"
   ]
  },
  {
   "attachments": {},
   "cell_type": "markdown",
   "metadata": {},
   "source": [
    "We need to remove the columns starting with 13 (taxes) and 14 (subsidies) which are not consumption. And also the columns total CTOT and pondmen (weight household) which are not useful."
   ]
  },
  {
   "cell_type": "code",
   "execution_count": 20,
   "metadata": {},
   "outputs": [],
   "source": [
    "columns_to_delete = df.columns[df.columns.str.startswith('C13') | df.columns.str.startswith('C14')]\n",
    "df = df.drop(columns=columns_to_delete)\n",
    "df = df.drop(columns=[\"CTOT\", \"pondmen\"])"
   ]
  },
  {
   "cell_type": "code",
   "execution_count": 21,
   "metadata": {},
   "outputs": [],
   "source": [
    "df_prop = df.divide(df.sum(axis=1), axis=0)\n"
   ]
  },
  {
   "cell_type": "code",
   "execution_count": 22,
   "metadata": {},
   "outputs": [],
   "source": [
    "df_prop.rename(columns=lambda x: x.replace('C', ''), inplace=True)\n"
   ]
  },
  {
   "attachments": {},
   "cell_type": "markdown",
   "metadata": {},
   "source": [
    "We know have the proportion of each consumption area per household."
   ]
  },
  {
   "cell_type": "code",
   "execution_count": 23,
   "metadata": {},
   "outputs": [],
   "source": [
    "import eurostat"
   ]
  },
  {
   "cell_type": "code",
   "execution_count": 24,
   "metadata": {},
   "outputs": [],
   "source": [
    "df_inflation_raw = eurostat.get_data_df(code=\"PRC_HICP_MANR\", filter_pars={\n",
    "                                    'geo': 'FR', 'startPeriod': \"1997-01\"})\n",
    "df_inflation_raw = df_inflation_raw.rename(columns={'geo\\TIME_PERIOD': 'geo'})"
   ]
  },
  {
   "cell_type": "code",
   "execution_count": 25,
   "metadata": {},
   "outputs": [],
   "source": [
    "df_correspondances = pd.read_csv(\"../correspondances.csv\", dtype=\"str\", sep=\";\")"
   ]
  },
  {
   "cell_type": "code",
   "execution_count": 26,
   "metadata": {},
   "outputs": [],
   "source": [
    "df_correspondances.set_index('colonnes de df_prop', inplace=True)"
   ]
  },
  {
   "cell_type": "code",
   "execution_count": 27,
   "metadata": {},
   "outputs": [],
   "source": [
    "df_inflation = df_inflation_raw[df_inflation_raw['coicop'].str.startswith('CP')]"
   ]
  },
  {
   "cell_type": "code",
   "execution_count": 28,
   "metadata": {},
   "outputs": [
    {
     "name": "stderr",
     "output_type": "stream",
     "text": [
      "C:\\Users\\mdaversa\\AppData\\Local\\Temp\\ipykernel_11936\\2914206753.py:1: SettingWithCopyWarning: \n",
      "A value is trying to be set on a copy of a slice from a DataFrame.\n",
      "Try using .loc[row_indexer,col_indexer] = value instead\n",
      "\n",
      "See the caveats in the documentation: https://pandas.pydata.org/pandas-docs/stable/user_guide/indexing.html#returning-a-view-versus-a-copy\n",
      "  df_inflation['coicop'] = df_inflation['coicop'].str.replace('CP', '')\n"
     ]
    }
   ],
   "source": [
    "df_inflation['coicop'] = df_inflation['coicop'].str.replace('CP', '')\n"
   ]
  },
  {
   "cell_type": "code",
   "execution_count": 31,
   "metadata": {},
   "outputs": [],
   "source": [
    "df_prop = df_prop.transpose()"
   ]
  },
  {
   "cell_type": "code",
   "execution_count": 29,
   "metadata": {},
   "outputs": [],
   "source": [
    "df_prop.to_csv(\"budgetMoyenEtudiant.csv\")"
   ]
  }
 ],
 "metadata": {
  "kernelspec": {
   "display_name": "Python 3",
   "language": "python",
   "name": "python3"
  },
  "language_info": {
   "codemirror_mode": {
    "name": "ipython",
    "version": 3
   },
   "file_extension": ".py",
   "mimetype": "text/x-python",
   "name": "python",
   "nbconvert_exporter": "python",
   "pygments_lexer": "ipython3",
   "version": "3.11.3"
  },
  "orig_nbformat": 4
 },
 "nbformat": 4,
 "nbformat_minor": 2
}
