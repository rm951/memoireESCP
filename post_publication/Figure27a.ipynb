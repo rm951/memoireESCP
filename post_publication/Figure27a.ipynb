{
 "cells": [
  {
   "attachments": {},
   "cell_type": "markdown",
   "metadata": {},
   "source": [
    "These data come from a survey conducted by INSEE, Budget des Familles, which are protected by the Statistical Secrecy Committee. To reproduce the analysis, one must request access to this data."
   ]
  },
  {
   "cell_type": "code",
   "execution_count": 1,
   "metadata": {},
   "outputs": [],
   "source": [
    "import pandas as pd"
   ]
  },
  {
   "cell_type": "code",
   "execution_count": 2,
   "metadata": {},
   "outputs": [],
   "source": [
    "date_analysis = \"2023-01\""
   ]
  },
  {
   "cell_type": "code",
   "execution_count": 3,
   "metadata": {},
   "outputs": [],
   "source": [
    "df = pd.read_csv('BDF/Csv/C05.csv', sep=\";\", index_col=\"IDENT_MEN\")"
   ]
  },
  {
   "attachments": {},
   "cell_type": "markdown",
   "metadata": {},
   "source": [
    "We need to remove the columns starting with 13 (taxes) and 14 (subsidies) which are not consumption. And also the columns total CTOT and pondmen (weight household) which are not useful."
   ]
  },
  {
   "cell_type": "code",
   "execution_count": 4,
   "metadata": {},
   "outputs": [],
   "source": [
    "columns_to_delete = df.columns[df.columns.str.startswith('C13') | df.columns.str.startswith('C14')]\n",
    "df = df.drop(columns=columns_to_delete)\n",
    "df = df.drop(columns=[\"CTOT\", \"pondmen\"])"
   ]
  },
  {
   "cell_type": "code",
   "execution_count": 5,
   "metadata": {},
   "outputs": [],
   "source": [
    "df_prop = df.divide(df.sum(axis=1), axis=0)\n"
   ]
  },
  {
   "cell_type": "code",
   "execution_count": 6,
   "metadata": {},
   "outputs": [],
   "source": [
    "df_prop.rename(columns=lambda x: x.replace('C', ''), inplace=True)\n"
   ]
  },
  {
   "attachments": {},
   "cell_type": "markdown",
   "metadata": {},
   "source": [
    "We know have the proportion of each consumption area per household."
   ]
  },
  {
   "cell_type": "code",
   "execution_count": 7,
   "metadata": {},
   "outputs": [],
   "source": [
    "import eurostat"
   ]
  },
  {
   "cell_type": "code",
   "execution_count": 8,
   "metadata": {},
   "outputs": [
    {
     "name": "stdout",
     "output_type": "stream",
     "text": [
      "Dataset not found: PRC_HICP_MANR\n"
     ]
    },
    {
     "ename": "ValueError",
     "evalue": "",
     "output_type": "error",
     "traceback": [
      "\u001b[1;31m---------------------------------------------------------------------------\u001b[0m",
      "\u001b[1;31mValueError\u001b[0m                                Traceback (most recent call last)",
      "Cell \u001b[1;32mIn[8], line 1\u001b[0m\n\u001b[1;32m----> 1\u001b[0m df_inflation_raw \u001b[39m=\u001b[39m eurostat\u001b[39m.\u001b[39;49mget_data_df(code\u001b[39m=\u001b[39;49m\u001b[39m\"\u001b[39;49m\u001b[39mPRC_HICP_MANR\u001b[39;49m\u001b[39m\"\u001b[39;49m, filter_pars\u001b[39m=\u001b[39;49m{\n\u001b[0;32m      2\u001b[0m                                     \u001b[39m'\u001b[39;49m\u001b[39mgeo\u001b[39;49m\u001b[39m'\u001b[39;49m: \u001b[39m'\u001b[39;49m\u001b[39mFR\u001b[39;49m\u001b[39m'\u001b[39;49m, \u001b[39m'\u001b[39;49m\u001b[39mstartPeriod\u001b[39;49m\u001b[39m'\u001b[39;49m: \u001b[39m\"\u001b[39;49m\u001b[39m2021-03\u001b[39;49m\u001b[39m\"\u001b[39;49m})\n\u001b[0;32m      3\u001b[0m df_inflation_raw \u001b[39m=\u001b[39m df_inflation_raw\u001b[39m.\u001b[39mrename(columns\u001b[39m=\u001b[39m{\u001b[39m'\u001b[39m\u001b[39mgeo\u001b[39m\u001b[39m\\\u001b[39m\u001b[39mTIME_PERIOD\u001b[39m\u001b[39m'\u001b[39m: \u001b[39m'\u001b[39m\u001b[39mgeo\u001b[39m\u001b[39m'\u001b[39m})\n",
      "File \u001b[1;32mc:\\Users\\mdaversa\\AppData\\Local\\Programs\\Python\\Python311\\Lib\\site-packages\\eurostat\\eurostat.py:251\u001b[0m, in \u001b[0;36mget_data_df\u001b[1;34m(code, flags, **kwargs)\u001b[0m\n\u001b[0;32m    245\u001b[0m \u001b[39mdef\u001b[39;00m \u001b[39mget_data_df\u001b[39m(code, flags\u001b[39m=\u001b[39m\u001b[39mFalse\u001b[39;00m, \u001b[39m*\u001b[39m\u001b[39m*\u001b[39mkwargs):\n\u001b[0;32m    246\u001b[0m \u001b[39m    \u001b[39m\u001b[39m\"\"\"\u001b[39;00m\n\u001b[0;32m    247\u001b[0m \u001b[39m    Download an Eurostat dataset (of given code).\u001b[39;00m\n\u001b[0;32m    248\u001b[0m \u001b[39m    Return it as a Pandas dataframe.\u001b[39;00m\n\u001b[0;32m    249\u001b[0m \u001b[39m    \"\"\"\u001b[39;00m\n\u001b[1;32m--> 251\u001b[0m     d \u001b[39m=\u001b[39m get_data(code, flags, \u001b[39m*\u001b[39;49m\u001b[39m*\u001b[39;49mkwargs)\n\u001b[0;32m    253\u001b[0m     \u001b[39mif\u001b[39;00m d \u001b[39m!=\u001b[39m \u001b[39mNone\u001b[39;00m:\n\u001b[0;32m    254\u001b[0m         \u001b[39mreturn\u001b[39;00m DataFrame(d[\u001b[39m1\u001b[39m:], columns\u001b[39m=\u001b[39md[\u001b[39m0\u001b[39m])\n",
      "File \u001b[1;32mc:\\Users\\mdaversa\\AppData\\Local\\Programs\\Python\\Python311\\Lib\\site-packages\\eurostat\\eurostat.py:122\u001b[0m, in \u001b[0;36mget_data\u001b[1;34m(code, flags, **kwargs)\u001b[0m\n\u001b[0;32m    120\u001b[0m \u001b[39massert\u001b[39;00m \u001b[39mtype\u001b[39m(verbose) \u001b[39mis\u001b[39;00m \u001b[39mbool\u001b[39m, \u001b[39m\"\u001b[39m\u001b[39mError: \u001b[39m\u001b[39m'\u001b[39m\u001b[39mverbose\u001b[39m\u001b[39m'\u001b[39m\u001b[39m must be a boolean.\u001b[39m\u001b[39m\"\u001b[39m\n\u001b[0;32m    121\u001b[0m \u001b[39massert\u001b[39;00m \u001b[39mtype\u001b[39m(reverse_time) \u001b[39mis\u001b[39;00m \u001b[39mbool\u001b[39m, \u001b[39m\"\u001b[39m\u001b[39mError: \u001b[39m\u001b[39m'\u001b[39m\u001b[39mreverse_time\u001b[39m\u001b[39m'\u001b[39m\u001b[39m must be a boolean.\u001b[39m\u001b[39m\"\u001b[39m\n\u001b[1;32m--> 122\u001b[0m __, provider, __ \u001b[39m=\u001b[39m __get_info__(code)\n\u001b[0;32m    124\u001b[0m \u001b[39mif\u001b[39;00m filter_pars \u001b[39m==\u001b[39m \u001b[39mdict\u001b[39m():\n\u001b[0;32m    125\u001b[0m     filt \u001b[39m=\u001b[39m \u001b[39m\"\u001b[39m\u001b[39m?\u001b[39m\u001b[39m\"\u001b[39m\n",
      "File \u001b[1;32mc:\\Users\\mdaversa\\AppData\\Local\\Programs\\Python\\Python311\\Lib\\site-packages\\eurostat\\eurostat.py:500\u001b[0m, in \u001b[0;36m__get_info__\u001b[1;34m(code)\u001b[0m\n\u001b[0;32m    498\u001b[0m \u001b[39mif\u001b[39;00m \u001b[39mnot\u001b[39;00m found:\n\u001b[0;32m    499\u001b[0m     \u001b[39mprint\u001b[39m(\u001b[39m\"\u001b[39m\u001b[39mDataset not found: \u001b[39m\u001b[39m\"\u001b[39m \u001b[39m+\u001b[39m code)\n\u001b[1;32m--> 500\u001b[0m     \u001b[39mraise\u001b[39;00m \u001b[39mValueError\u001b[39;00m\n\u001b[0;32m    501\u001b[0m \u001b[39melse\u001b[39;00m:\n\u001b[0;32m    502\u001b[0m     dsd_code \u001b[39m=\u001b[39m root\u001b[39m.\u001b[39mfind(__Uri__\u001b[39m.\u001b[39mdsd_path)\u001b[39m.\u001b[39mget(\u001b[39m\"\u001b[39m\u001b[39mid\u001b[39m\u001b[39m\"\u001b[39m)\n",
      "\u001b[1;31mValueError\u001b[0m: "
     ]
    }
   ],
   "source": [
    "df_inflation_raw = eurostat.get_data_df(code=\"PRC_HICP_MANR\", filter_pars={\n",
    "                                    'geo': 'FR', 'startPeriod': \"2021-03\"})\n",
    "df_inflation_raw = df_inflation_raw.rename(columns={'geo\\TIME_PERIOD': 'geo'})"
   ]
  },
  {
   "cell_type": "code",
   "execution_count": null,
   "metadata": {},
   "outputs": [],
   "source": [
    "df_correspondances = pd.read_csv(\"correspondances.csv\", dtype=\"str\", sep=\";\")"
   ]
  },
  {
   "cell_type": "code",
   "execution_count": null,
   "metadata": {},
   "outputs": [],
   "source": [
    "df_correspondances.set_index('colonnes de df_prop', inplace=True)"
   ]
  },
  {
   "cell_type": "code",
   "execution_count": null,
   "metadata": {},
   "outputs": [],
   "source": [
    "df_inflation = df_inflation_raw[df_inflation_raw['coicop'].str.startswith('CP')]"
   ]
  },
  {
   "cell_type": "code",
   "execution_count": null,
   "metadata": {},
   "outputs": [
    {
     "name": "stderr",
     "output_type": "stream",
     "text": [
      "C:\\Users\\mdaversa\\AppData\\Local\\Temp\\ipykernel_12052\\2914206753.py:1: SettingWithCopyWarning: \n",
      "A value is trying to be set on a copy of a slice from a DataFrame.\n",
      "Try using .loc[row_indexer,col_indexer] = value instead\n",
      "\n",
      "See the caveats in the documentation: https://pandas.pydata.org/pandas-docs/stable/user_guide/indexing.html#returning-a-view-versus-a-copy\n",
      "  df_inflation['coicop'] = df_inflation['coicop'].str.replace('CP', '')\n"
     ]
    }
   ],
   "source": [
    "df_inflation['coicop'] = df_inflation['coicop'].str.replace('CP', '')\n"
   ]
  },
  {
   "cell_type": "code",
   "execution_count": null,
   "metadata": {},
   "outputs": [],
   "source": [
    "df_inflation = df_inflation.loc[:, [\"coicop\", date_analysis]]\n"
   ]
  },
  {
   "cell_type": "code",
   "execution_count": null,
   "metadata": {},
   "outputs": [],
   "source": [
    "df_inflation = df_inflation.set_index('coicop')"
   ]
  },
  {
   "cell_type": "code",
   "execution_count": null,
   "metadata": {},
   "outputs": [],
   "source": [
    "def cell_func(cell_value, col_name):\n",
    "    # Votre logique ici, vous pouvez utiliser 'col_name' et 'cell_value'\n",
    "    coicop = df_correspondances.loc[col_name]['colonnes de df_inflation correspondante']\n",
    "    return df_inflation.loc[coicop][date_analysis]*cell_value\n",
    "\n",
    "def col_func(col):\n",
    "    column_name = col.name\n",
    "    return col.apply(cell_func, args=(column_name,))\n",
    "\n",
    "\n",
    "df_inflations = df_prop.apply(col_func)"
   ]
  },
  {
   "cell_type": "code",
   "execution_count": null,
   "metadata": {},
   "outputs": [],
   "source": [
    "df_inflation_by_household = pd.DataFrame(df_inflations.sum(axis=1))"
   ]
  },
  {
   "cell_type": "code",
   "execution_count": null,
   "metadata": {},
   "outputs": [],
   "source": [
    "df_inflation_by_household = df_inflation_by_household.rename(columns={0: \"inflation\"})"
   ]
  },
  {
   "cell_type": "code",
   "execution_count": null,
   "metadata": {},
   "outputs": [],
   "source": [
    "df_inflation_by_household.to_csv(f\"BDF/computed_inflation_by_household_{date_analysis}.csv\")"
   ]
  }
 ],
 "metadata": {
  "kernelspec": {
   "display_name": "Python 3",
   "language": "python",
   "name": "python3"
  },
  "language_info": {
   "codemirror_mode": {
    "name": "ipython",
    "version": 3
   },
   "file_extension": ".py",
   "mimetype": "text/x-python",
   "name": "python",
   "nbconvert_exporter": "python",
   "pygments_lexer": "ipython3",
   "version": "3.11.3"
  },
  "orig_nbformat": 4
 },
 "nbformat": 4,
 "nbformat_minor": 2
}
