{
 "cells": [
  {
   "attachments": {},
   "cell_type": "markdown",
   "metadata": {},
   "source": [
    "These data come from a survey conducted by INSEE, Budget des Familles, which are protected by the Statistical Secrecy Committee. To reproduce the analysis, one must request access to this data."
   ]
  },
  {
   "cell_type": "code",
   "execution_count": 67,
   "metadata": {},
   "outputs": [],
   "source": [
    "import pandas as pd\n",
    "date_analysis = \"2023-04\"\n",
    "df_inflation_by_household = pd.read_csv(f'BDF/computed_inflation_by_household_{date_analysis}.csv', index_col=\"IDENT_MEN\")"
   ]
  },
  {
   "attachments": {},
   "cell_type": "markdown",
   "metadata": {},
   "source": [
    "# Household"
   ]
  },
  {
   "cell_type": "code",
   "execution_count": 68,
   "metadata": {},
   "outputs": [
    {
     "name": "stderr",
     "output_type": "stream",
     "text": [
      "C:\\Users\\mdaversa\\AppData\\Local\\Temp\\ipykernel_13088\\1221685487.py:1: DtypeWarning: Columns (21,22,23,48,49,421) have mixed types. Specify dtype option on import or set low_memory=False.\n",
      "  df_menage = pd.read_csv(\"BDF/Csv/MENAGE.csv\", sep=\";\", encoding='latin1')\n"
     ]
    }
   ],
   "source": [
    "df_menage = pd.read_csv(\"BDF/Csv/MENAGE.csv\", sep=\";\", encoding='latin1')"
   ]
  },
  {
   "cell_type": "code",
   "execution_count": 69,
   "metadata": {},
   "outputs": [],
   "source": [
    "df_menage = df_menage.set_index(\"IDENT_MEN\")"
   ]
  },
  {
   "cell_type": "code",
   "execution_count": 70,
   "metadata": {},
   "outputs": [
    {
     "name": "stderr",
     "output_type": "stream",
     "text": [
      "C:\\Users\\mdaversa\\AppData\\Local\\Temp\\ipykernel_13088\\3018729231.py:1: DtypeWarning: Columns (354,387,390,395,430,452,502,732,737,766,770,774,778,782,850,1325,1501,1629) have mixed types. Specify dtype option on import or set low_memory=False.\n",
      "  df_dep_men = pd.read_csv(\"BDF/Csv/DEPMEN.csv\", sep=\";\", encoding='latin1')\n"
     ]
    }
   ],
   "source": [
    "df_dep_men = pd.read_csv(\"BDF/Csv/DEPMEN.csv\", sep=\";\", encoding='latin1')"
   ]
  },
  {
   "cell_type": "code",
   "execution_count": 71,
   "metadata": {},
   "outputs": [],
   "source": [
    "df_dep_men = df_dep_men.set_index(\"IDENT_MEN\")"
   ]
  },
  {
   "cell_type": "code",
   "execution_count": 72,
   "metadata": {},
   "outputs": [],
   "source": [
    "df_menage = pd.merge(left=df_menage, right=df_dep_men, left_index=True, right_index=True)"
   ]
  },
  {
   "cell_type": "code",
   "execution_count": 73,
   "metadata": {},
   "outputs": [],
   "source": [
    "variables = [\"AGEPR\", \"TUU\", \"DNIVIE1\", \"Stalog\", \"NENFANTS\", \"COUPLEPR\", \"Chaufp\", \"TYPVOIS\"]\n",
    "df_filtered = df_menage.loc[:, variables]"
   ]
  },
  {
   "attachments": {},
   "cell_type": "markdown",
   "metadata": {},
   "source": [
    "# Cleaning variables"
   ]
  },
  {
   "cell_type": "code",
   "execution_count": 74,
   "metadata": {},
   "outputs": [],
   "source": [
    "def clean_variable(df, variable, variable_ref, numerical, labels=[],  bins=[]):\n",
    "    df[f'{variable}_category'] = pd.cut(x=df[variable], bins=bins, labels=labels, right=False) if numerical else df[variable]\n",
    "    df = pd.concat([df, pd.get_dummies(data=df[f\"{variable}_category\"])], axis=1)\n",
    "    df = df.drop([variable, f\"{variable}_category\", variable_ref], axis=1)\n",
    "    return df\n"
   ]
  },
  {
   "attachments": {},
   "cell_type": "markdown",
   "metadata": {},
   "source": [
    "Age"
   ]
  },
  {
   "cell_type": "code",
   "execution_count": 75,
   "metadata": {},
   "outputs": [],
   "source": [
    "df_filtered = clean_variable(df=df_filtered, variable=\"AGEPR\", labels=[\"Moins de 30 ans\", \"De 30 à 44 ans\", \"De 45 à 59 ans\", \"De 60 à 74 ans\", \"75 ans et plus\"], variable_ref = \"De 45 à 59 ans\", bins = [0, 30, 45, 60, 75, 102], numerical=True)"
   ]
  },
  {
   "attachments": {},
   "cell_type": "markdown",
   "metadata": {},
   "source": [
    "Type menage"
   ]
  },
  {
   "attachments": {},
   "cell_type": "markdown",
   "metadata": {},
   "source": [
    "TUUU"
   ]
  },
  {
   "cell_type": "code",
   "execution_count": 76,
   "metadata": {},
   "outputs": [],
   "source": [
    "df_filtered = clean_variable(df=df_filtered, variable=\"TUU\", variable_ref = \"Ville moyenne\", numerical=True, bins=[0,3,5,9], labels=[\"Rural et petite ville\", \"Ville moyenne\", \"Grande ville\"])"
   ]
  },
  {
   "attachments": {},
   "cell_type": "markdown",
   "metadata": {},
   "source": [
    "Qintiles niveau de vie"
   ]
  },
  {
   "cell_type": "code",
   "execution_count": 77,
   "metadata": {},
   "outputs": [],
   "source": [
    "df_filtered = clean_variable(df=df_filtered, variable=\"DNIVIE1\", variable_ref = \"Moyen\", numerical=True, bins=[0,3,9,11], labels=[\"Pauvre\", \"Moyen\", \"Riche\"])"
   ]
  },
  {
   "cell_type": "code",
   "execution_count": 78,
   "metadata": {},
   "outputs": [],
   "source": [
    "df_filtered = df_filtered.dropna()"
   ]
  },
  {
   "cell_type": "code",
   "execution_count": 79,
   "metadata": {},
   "outputs": [],
   "source": [
    "df_filtered = clean_variable(df=df_filtered, variable=\"COUPLEPR\", variable_ref = \"N'habite pas en couple\", numerical=True, bins=[0,3,4], labels=[\"Habite en couple\", \"N'habite pas en couple\"])"
   ]
  },
  {
   "attachments": {},
   "cell_type": "markdown",
   "metadata": {},
   "source": [
    "Stalog"
   ]
  },
  {
   "cell_type": "code",
   "execution_count": 80,
   "metadata": {},
   "outputs": [],
   "source": [
    "df_filtered = clean_variable(df=df_filtered, variable=\"Stalog\", variable_ref = \"Locataire\", numerical=True, bins=[0,4,7], labels=[\"Propriétaire\", \"Locataire\"])"
   ]
  },
  {
   "cell_type": "code",
   "execution_count": 81,
   "metadata": {},
   "outputs": [],
   "source": [
    "df_filtered = clean_variable(df=df_filtered, variable=\"Chaufp\", variable_ref = \"Chauffage central ou mixte\", numerical=True, bins=[0,4,5,8], labels=[\"Chauffage central ou mixte\", \"Chauffage électrique individuel\", \"Chauffage non-électrique\"])"
   ]
  },
  {
   "cell_type": "code",
   "execution_count": 82,
   "metadata": {},
   "outputs": [],
   "source": [
    "df_filtered = clean_variable(df=df_filtered, variable=\"TYPVOIS\", variable_ref = \"Immeubles\", numerical=True, labels=[\"Pavillonnaire\", \"Immeubles\"], bins=[0,3,6])"
   ]
  },
  {
   "attachments": {},
   "cell_type": "markdown",
   "metadata": {},
   "source": [
    "# Regression\n"
   ]
  },
  {
   "cell_type": "code",
   "execution_count": 83,
   "metadata": {},
   "outputs": [],
   "source": [
    "df_filtered = pd.merge(df_filtered, df_inflation_by_household, left_index=True, right_index=True)"
   ]
  },
  {
   "cell_type": "code",
   "execution_count": 84,
   "metadata": {},
   "outputs": [],
   "source": [
    "df_filtered = df_filtered.dropna()\n"
   ]
  },
  {
   "cell_type": "code",
   "execution_count": 85,
   "metadata": {},
   "outputs": [],
   "source": [
    "y = df_filtered['inflation']\n",
    "df_filtered = df_filtered.drop(columns=['inflation'])\n",
    "X = df_filtered\n"
   ]
  },
  {
   "cell_type": "code",
   "execution_count": 86,
   "metadata": {},
   "outputs": [],
   "source": [
    "import statsmodels.api as sm\n",
    "X = sm.add_constant(X)"
   ]
  },
  {
   "cell_type": "code",
   "execution_count": 87,
   "metadata": {},
   "outputs": [],
   "source": [
    "model = sm.OLS(y, X)"
   ]
  },
  {
   "cell_type": "code",
   "execution_count": 88,
   "metadata": {},
   "outputs": [],
   "source": [
    "results = model.fit()\n"
   ]
  },
  {
   "cell_type": "code",
   "execution_count": 89,
   "metadata": {},
   "outputs": [
    {
     "name": "stdout",
     "output_type": "stream",
     "text": [
      "                            OLS Regression Results                            \n",
      "==============================================================================\n",
      "Dep. Variable:              inflation   R-squared:                       0.067\n",
      "Model:                            OLS   Adj. R-squared:                  0.067\n",
      "Method:                 Least Squares   F-statistic:                     82.30\n",
      "Date:                Wed, 14 Jun 2023   Prob (F-statistic):          9.01e-229\n",
      "Time:                        17:05:12   Log-Likelihood:                -33631.\n",
      "No. Observations:               15945   AIC:                         6.729e+04\n",
      "Df Residuals:                   15930   BIC:                         6.741e+04\n",
      "Df Model:                          14                                         \n",
      "Covariance Type:            nonrobust                                         \n",
      "===================================================================================================\n",
      "                                      coef    std err          t      P>|t|      [0.025      0.975]\n",
      "---------------------------------------------------------------------------------------------------\n",
      "const                               5.7885      0.062     93.269      0.000       5.667       5.910\n",
      "NENFANTS                            0.1137      0.016      6.991      0.000       0.082       0.146\n",
      "Moins de 30 ans                    -0.5622      0.066     -8.570      0.000      -0.691      -0.434\n",
      "De 30 à 44 ans                     -0.2449      0.044     -5.602      0.000      -0.331      -0.159\n",
      "De 60 à 74 ans                      0.3198      0.045      7.044      0.000       0.231       0.409\n",
      "75 ans et plus                      0.3382      0.057      5.925      0.000       0.226       0.450\n",
      "Rural et petite ville              -0.1046      0.051     -2.064      0.039      -0.204      -0.005\n",
      "Grande ville                        0.1725      0.047      3.689      0.000       0.081       0.264\n",
      "Pauvre                              0.3043      0.040      7.584      0.000       0.226       0.383\n",
      "Riche                               0.0873      0.044      1.997      0.046       0.002       0.173\n",
      "Habite en couple                    0.2240      0.035      6.433      0.000       0.156       0.292\n",
      "Propriétaire                        0.8360      0.041     20.564      0.000       0.756       0.916\n",
      "Chauffage électrique individuel     0.0318      0.049      0.652      0.515      -0.064       0.127\n",
      "Chauffage non-électrique           -0.2483      0.037     -6.751      0.000      -0.320      -0.176\n",
      "Pavillonnaire                      -0.1818      0.043     -4.242      0.000      -0.266      -0.098\n",
      "==============================================================================\n",
      "Omnibus:                      705.200   Durbin-Watson:                   1.996\n",
      "Prob(Omnibus):                  0.000   Jarque-Bera (JB):             1928.810\n",
      "Skew:                           0.207   Prob(JB):                         0.00\n",
      "Kurtosis:                       4.653   Cond. No.                         11.3\n",
      "==============================================================================\n",
      "\n",
      "Notes:\n",
      "[1] Standard Errors assume that the covariance matrix of the errors is correctly specified.\n"
     ]
    }
   ],
   "source": [
    "print(results.summary())\n"
   ]
  }
 ],
 "metadata": {
  "kernelspec": {
   "display_name": "Python 3",
   "language": "python",
   "name": "python3"
  },
  "language_info": {
   "codemirror_mode": {
    "name": "ipython",
    "version": 3
   },
   "file_extension": ".py",
   "mimetype": "text/x-python",
   "name": "python",
   "nbconvert_exporter": "python",
   "pygments_lexer": "ipython3",
   "version": "3.11.3"
  },
  "orig_nbformat": 4
 },
 "nbformat": 4,
 "nbformat_minor": 2
}
