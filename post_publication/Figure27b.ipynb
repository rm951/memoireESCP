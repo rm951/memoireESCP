{
 "cells": [
  {
   "attachments": {},
   "cell_type": "markdown",
   "metadata": {},
   "source": [
    "These data come from a survey conducted by INSEE, Budget des Familles, which are protected by the Statistical Secrecy Committee. To reproduce the analysis, one must request access to this data."
   ]
  },
  {
   "cell_type": "code",
   "execution_count": 449,
   "metadata": {},
   "outputs": [],
   "source": [
    "import pandas as pd\n",
    "date_analysis = \"2022-08\"\n",
    "df_inflation_by_household = pd.read_csv(f'BDF/computed_inflation_by_household_{date_analysis}.csv', index_col=\"IDENT_MEN\")"
   ]
  },
  {
   "attachments": {},
   "cell_type": "markdown",
   "metadata": {},
   "source": [
    "# Household"
   ]
  },
  {
   "cell_type": "code",
   "execution_count": 450,
   "metadata": {},
   "outputs": [
    {
     "name": "stderr",
     "output_type": "stream",
     "text": [
      "C:\\Users\\mdaversa\\AppData\\Local\\Temp\\ipykernel_14016\\1221685487.py:1: DtypeWarning: Columns (21,22,23,48,49,421) have mixed types. Specify dtype option on import or set low_memory=False.\n",
      "  df_menage = pd.read_csv(\"BDF/Csv/MENAGE.csv\", sep=\";\", encoding='latin1')\n"
     ]
    }
   ],
   "source": [
    "df_menage = pd.read_csv(\"BDF/Csv/MENAGE.csv\", sep=\";\", encoding='latin1')"
   ]
  },
  {
   "cell_type": "code",
   "execution_count": 451,
   "metadata": {},
   "outputs": [],
   "source": [
    "df_menage = df_menage.set_index(\"IDENT_MEN\")"
   ]
  },
  {
   "cell_type": "code",
   "execution_count": 452,
   "metadata": {},
   "outputs": [
    {
     "name": "stderr",
     "output_type": "stream",
     "text": [
      "C:\\Users\\mdaversa\\AppData\\Local\\Temp\\ipykernel_14016\\3018729231.py:1: DtypeWarning: Columns (354,387,390,395,430,452,502,732,737,766,770,774,778,782,850,1325,1501,1629) have mixed types. Specify dtype option on import or set low_memory=False.\n",
      "  df_dep_men = pd.read_csv(\"BDF/Csv/DEPMEN.csv\", sep=\";\", encoding='latin1')\n"
     ]
    }
   ],
   "source": [
    "df_dep_men = pd.read_csv(\"BDF/Csv/DEPMEN.csv\", sep=\";\", encoding='latin1')"
   ]
  },
  {
   "cell_type": "code",
   "execution_count": 453,
   "metadata": {},
   "outputs": [],
   "source": [
    "df_dep_men = df_dep_men.set_index(\"IDENT_MEN\")"
   ]
  },
  {
   "cell_type": "code",
   "execution_count": 454,
   "metadata": {},
   "outputs": [],
   "source": [
    "df_menage = pd.merge(left=df_menage, right=df_dep_men, left_index=True, right_index=True)"
   ]
  },
  {
   "cell_type": "code",
   "execution_count": 455,
   "metadata": {},
   "outputs": [],
   "source": [
    "variables = [\"AGEPR\", \"TUU\", \"DNIVIE1\", \"Stalog\", \"TYPMEN5\", \"TYPVOIS\"]\n",
    "df_filtered = df_menage.loc[:, variables]"
   ]
  },
  {
   "attachments": {},
   "cell_type": "markdown",
   "metadata": {},
   "source": [
    "# Cleaning variables"
   ]
  },
  {
   "cell_type": "code",
   "execution_count": 456,
   "metadata": {},
   "outputs": [],
   "source": [
    "df_filtered['TYPMEN5'] = df_filtered['TYPMEN5'].replace({\n",
    "    1: 'Personne seule',\n",
    "    2: 'Famille monoparentale',\n",
    "    3: 'Couple sans enfant',\n",
    "    4: 'Couple avec au moins un enfant',\n",
    "    5: 'Autre type de ménage (ménage complexe)'\n",
    "})"
   ]
  },
  {
   "cell_type": "code",
   "execution_count": 457,
   "metadata": {},
   "outputs": [],
   "source": [
    "def clean_variable(df, variable, variable_ref, numerical, labels=[],  bins=[]):\n",
    "    df[f'{variable}_category'] = pd.cut(x=df[variable], bins=bins, labels=labels, right=False) if numerical else df[variable]\n",
    "    df = pd.concat([df, pd.get_dummies(data=df[f\"{variable}_category\"])], axis=1)\n",
    "    df = df.drop([variable, f\"{variable}_category\", variable_ref], axis=1)\n",
    "    return df\n"
   ]
  },
  {
   "cell_type": "code",
   "execution_count": 458,
   "metadata": {},
   "outputs": [],
   "source": [
    "df_filtered = clean_variable(df=df_filtered, variable=\"TYPMEN5\", variable_ref=\"Personne seule\", numerical=False)"
   ]
  },
  {
   "attachments": {},
   "cell_type": "markdown",
   "metadata": {},
   "source": [
    "Age"
   ]
  },
  {
   "cell_type": "code",
   "execution_count": 459,
   "metadata": {},
   "outputs": [],
   "source": [
    "df_filtered = clean_variable(df=df_filtered, variable=\"AGEPR\", labels=[\"Moins de 30 ans\", \"De 30 à 44 ans\", \"De 45 à 59 ans\", \"De 60 à 74 ans\", \"75 ans et plus\"], variable_ref = \"De 45 à 59 ans\", bins = [0, 30, 45, 60, 75, 102], numerical=True)"
   ]
  },
  {
   "attachments": {},
   "cell_type": "markdown",
   "metadata": {},
   "source": [
    "Type menage"
   ]
  },
  {
   "attachments": {},
   "cell_type": "markdown",
   "metadata": {},
   "source": [
    "TUUU"
   ]
  },
  {
   "cell_type": "code",
   "execution_count": 460,
   "metadata": {},
   "outputs": [],
   "source": [
    "df_filtered = clean_variable(df=df_filtered, variable=\"TUU\", variable_ref = \"Ville moyenne\", numerical=True, bins=[0,4,6,7,9], labels=[\"Rural et petites villes\", \"Ville moyenne\", \"Grande ville\", \"Agglomération parisienne\"])"
   ]
  },
  {
   "attachments": {},
   "cell_type": "markdown",
   "metadata": {},
   "source": [
    "Qintiles niveau de vie"
   ]
  },
  {
   "cell_type": "code",
   "execution_count": 461,
   "metadata": {},
   "outputs": [],
   "source": [
    "df_filtered = clean_variable(df=df_filtered, variable=\"DNIVIE1\", variable_ref = \"D4-8\", numerical=True, bins=[0,4,8,11], labels=[\"D1-3\", \"D4-8\", \"D8-10\"])"
   ]
  },
  {
   "cell_type": "code",
   "execution_count": 462,
   "metadata": {},
   "outputs": [],
   "source": [
    "df_filtered = df_filtered.dropna()"
   ]
  },
  {
   "attachments": {},
   "cell_type": "markdown",
   "metadata": {},
   "source": [
    "Stalog"
   ]
  },
  {
   "cell_type": "code",
   "execution_count": 463,
   "metadata": {},
   "outputs": [],
   "source": [
    "df_filtered = clean_variable(df=df_filtered, variable=\"Stalog\", variable_ref = \"Locataire\", numerical=True, bins=[0,3,6], labels=[\"Propriétaire\", \"Locataire\"])"
   ]
  },
  {
   "cell_type": "code",
   "execution_count": 464,
   "metadata": {},
   "outputs": [],
   "source": [
    "df_filtered = clean_variable(df=df_filtered, variable=\"TYPVOIS\", variable_ref = \"Immeubles\", numerical=True, labels=[\"Pavillonnaire\", \"Immeubles\"], bins=[0,3,6])"
   ]
  },
  {
   "attachments": {},
   "cell_type": "markdown",
   "metadata": {},
   "source": [
    "# Regression\n"
   ]
  },
  {
   "cell_type": "code",
   "execution_count": 465,
   "metadata": {},
   "outputs": [],
   "source": [
    "df_filtered = pd.merge(df_filtered, df_inflation_by_household, left_index=True, right_index=True)"
   ]
  },
  {
   "cell_type": "code",
   "execution_count": 466,
   "metadata": {},
   "outputs": [],
   "source": [
    "df_filtered = df_filtered.dropna()\n"
   ]
  },
  {
   "cell_type": "code",
   "execution_count": 467,
   "metadata": {},
   "outputs": [],
   "source": [
    "y = df_filtered['inflation']\n",
    "df_filtered = df_filtered.drop(columns=['inflation'])\n",
    "X = df_filtered\n"
   ]
  },
  {
   "cell_type": "code",
   "execution_count": 468,
   "metadata": {},
   "outputs": [],
   "source": [
    "import statsmodels.api as sm\n",
    "X = sm.add_constant(X)"
   ]
  },
  {
   "cell_type": "code",
   "execution_count": 469,
   "metadata": {},
   "outputs": [],
   "source": [
    "model = sm.OLS(y, X)"
   ]
  },
  {
   "cell_type": "code",
   "execution_count": 470,
   "metadata": {},
   "outputs": [],
   "source": [
    "results = model.fit()\n"
   ]
  },
  {
   "cell_type": "code",
   "execution_count": 472,
   "metadata": {},
   "outputs": [
    {
     "data": {
      "text/html": [
       "<table class=\"simpletable\">\n",
       "<caption>OLS Regression Results</caption>\n",
       "<tr>\n",
       "  <th>Dep. Variable:</th>        <td>inflation</td>    <th>  R-squared:         </th> <td>   0.128</td> \n",
       "</tr>\n",
       "<tr>\n",
       "  <th>Model:</th>                   <td>OLS</td>       <th>  Adj. R-squared:    </th> <td>   0.127</td> \n",
       "</tr>\n",
       "<tr>\n",
       "  <th>Method:</th>             <td>Least Squares</td>  <th>  F-statistic:       </th> <td>   166.0</td> \n",
       "</tr>\n",
       "<tr>\n",
       "  <th>Date:</th>             <td>Tue, 13 Jun 2023</td> <th>  Prob (F-statistic):</th>  <td>  0.00</td>  \n",
       "</tr>\n",
       "<tr>\n",
       "  <th>Time:</th>                 <td>22:43:37</td>     <th>  Log-Likelihood:    </th> <td> -40931.</td> \n",
       "</tr>\n",
       "<tr>\n",
       "  <th>No. Observations:</th>      <td> 16978</td>      <th>  AIC:               </th> <td>8.189e+04</td>\n",
       "</tr>\n",
       "<tr>\n",
       "  <th>Df Residuals:</th>          <td> 16962</td>      <th>  BIC:               </th> <td>8.202e+04</td>\n",
       "</tr>\n",
       "<tr>\n",
       "  <th>Df Model:</th>              <td>    15</td>      <th>                     </th>     <td> </td>    \n",
       "</tr>\n",
       "<tr>\n",
       "  <th>Covariance Type:</th>      <td>nonrobust</td>    <th>                     </th>     <td> </td>    \n",
       "</tr>\n",
       "</table>\n",
       "<table class=\"simpletable\">\n",
       "<tr>\n",
       "                     <td></td>                       <th>coef</th>     <th>std err</th>      <th>t</th>      <th>P>|t|</th>  <th>[0.025</th>    <th>0.975]</th>  \n",
       "</tr>\n",
       "<tr>\n",
       "  <th>const</th>                                  <td>    5.6603</td> <td>    0.083</td> <td>   68.351</td> <td> 0.000</td> <td>    5.498</td> <td>    5.823</td>\n",
       "</tr>\n",
       "<tr>\n",
       "  <th>Autre type de ménage (ménage complexe)</th> <td>   -0.0524</td> <td>    0.105</td> <td>   -0.500</td> <td> 0.617</td> <td>   -0.258</td> <td>    0.153</td>\n",
       "</tr>\n",
       "<tr>\n",
       "  <th>Couple avec au moins un enfant</th>         <td>    0.1252</td> <td>    0.064</td> <td>    1.972</td> <td> 0.049</td> <td>    0.001</td> <td>    0.250</td>\n",
       "</tr>\n",
       "<tr>\n",
       "  <th>Couple sans enfant</th>                     <td>    0.3185</td> <td>    0.061</td> <td>    5.242</td> <td> 0.000</td> <td>    0.199</td> <td>    0.438</td>\n",
       "</tr>\n",
       "<tr>\n",
       "  <th>Famille monoparentale</th>                  <td>    0.0773</td> <td>    0.070</td> <td>    1.100</td> <td> 0.271</td> <td>   -0.060</td> <td>    0.215</td>\n",
       "</tr>\n",
       "<tr>\n",
       "  <th>Moins de 30 ans</th>                        <td>   -0.5547</td> <td>    0.083</td> <td>   -6.672</td> <td> 0.000</td> <td>   -0.718</td> <td>   -0.392</td>\n",
       "</tr>\n",
       "<tr>\n",
       "  <th>De 30 à 44 ans</th>                         <td>   -0.2010</td> <td>    0.056</td> <td>   -3.566</td> <td> 0.000</td> <td>   -0.311</td> <td>   -0.090</td>\n",
       "</tr>\n",
       "<tr>\n",
       "  <th>De 60 à 74 ans</th>                         <td>    0.1871</td> <td>    0.062</td> <td>    3.032</td> <td> 0.002</td> <td>    0.066</td> <td>    0.308</td>\n",
       "</tr>\n",
       "<tr>\n",
       "  <th>75 ans et plus</th>                         <td>    0.3874</td> <td>    0.077</td> <td>    5.023</td> <td> 0.000</td> <td>    0.236</td> <td>    0.539</td>\n",
       "</tr>\n",
       "<tr>\n",
       "  <th>Rural et petites villes</th>                <td>    0.3721</td> <td>    0.060</td> <td>    6.156</td> <td> 0.000</td> <td>    0.254</td> <td>    0.491</td>\n",
       "</tr>\n",
       "<tr>\n",
       "  <th>Grande ville</th>                           <td>   -0.1876</td> <td>    0.073</td> <td>   -2.555</td> <td> 0.011</td> <td>   -0.332</td> <td>   -0.044</td>\n",
       "</tr>\n",
       "<tr>\n",
       "  <th>Agglomération parisienne</th>               <td>    0.0023</td> <td>    0.063</td> <td>    0.036</td> <td> 0.971</td> <td>   -0.122</td> <td>    0.126</td>\n",
       "</tr>\n",
       "<tr>\n",
       "  <th>D1-3</th>                                   <td>   -0.1463</td> <td>    0.050</td> <td>   -2.915</td> <td> 0.004</td> <td>   -0.245</td> <td>   -0.048</td>\n",
       "</tr>\n",
       "<tr>\n",
       "  <th>D8-10</th>                                  <td>    0.0711</td> <td>    0.055</td> <td>    1.282</td> <td> 0.200</td> <td>   -0.038</td> <td>    0.180</td>\n",
       "</tr>\n",
       "<tr>\n",
       "  <th>Propriétaire</th>                           <td>    1.3878</td> <td>    0.052</td> <td>   26.895</td> <td> 0.000</td> <td>    1.287</td> <td>    1.489</td>\n",
       "</tr>\n",
       "<tr>\n",
       "  <th>Pavillonnaire</th>                          <td>    0.3897</td> <td>    0.055</td> <td>    7.088</td> <td> 0.000</td> <td>    0.282</td> <td>    0.498</td>\n",
       "</tr>\n",
       "</table>\n",
       "<table class=\"simpletable\">\n",
       "<tr>\n",
       "  <th>Omnibus:</th>       <td>4919.436</td> <th>  Durbin-Watson:     </th> <td>   2.015</td> \n",
       "</tr>\n",
       "<tr>\n",
       "  <th>Prob(Omnibus):</th>  <td> 0.000</td>  <th>  Jarque-Bera (JB):  </th> <td>26232.834</td>\n",
       "</tr>\n",
       "<tr>\n",
       "  <th>Skew:</th>           <td> 1.295</td>  <th>  Prob(JB):          </th> <td>    0.00</td> \n",
       "</tr>\n",
       "<tr>\n",
       "  <th>Kurtosis:</th>       <td> 8.511</td>  <th>  Cond. No.          </th> <td>    10.2</td> \n",
       "</tr>\n",
       "</table><br/><br/>Notes:<br/>[1] Standard Errors assume that the covariance matrix of the errors is correctly specified."
      ],
      "text/latex": [
       "\\begin{center}\n",
       "\\begin{tabular}{lclc}\n",
       "\\toprule\n",
       "\\textbf{Dep. Variable:}                         &    inflation     & \\textbf{  R-squared:         } &     0.128   \\\\\n",
       "\\textbf{Model:}                                 &       OLS        & \\textbf{  Adj. R-squared:    } &     0.127   \\\\\n",
       "\\textbf{Method:}                                &  Least Squares   & \\textbf{  F-statistic:       } &     166.0   \\\\\n",
       "\\textbf{Date:}                                  & Tue, 13 Jun 2023 & \\textbf{  Prob (F-statistic):} &     0.00    \\\\\n",
       "\\textbf{Time:}                                  &     22:43:37     & \\textbf{  Log-Likelihood:    } &   -40931.   \\\\\n",
       "\\textbf{No. Observations:}                      &       16978      & \\textbf{  AIC:               } & 8.189e+04   \\\\\n",
       "\\textbf{Df Residuals:}                          &       16962      & \\textbf{  BIC:               } & 8.202e+04   \\\\\n",
       "\\textbf{Df Model:}                              &          15      & \\textbf{                     } &             \\\\\n",
       "\\textbf{Covariance Type:}                       &    nonrobust     & \\textbf{                     } &             \\\\\n",
       "\\bottomrule\n",
       "\\end{tabular}\n",
       "\\begin{tabular}{lcccccc}\n",
       "                                                & \\textbf{coef} & \\textbf{std err} & \\textbf{t} & \\textbf{P$> |$t$|$} & \\textbf{[0.025} & \\textbf{0.975]}  \\\\\n",
       "\\midrule\n",
       "\\textbf{const}                                  &       5.6603  &        0.083     &    68.351  &         0.000        &        5.498    &        5.823     \\\\\n",
       "\\textbf{Autre type de ménage (ménage complexe)} &      -0.0524  &        0.105     &    -0.500  &         0.617        &       -0.258    &        0.153     \\\\\n",
       "\\textbf{Couple avec au moins un enfant}         &       0.1252  &        0.064     &     1.972  &         0.049        &        0.001    &        0.250     \\\\\n",
       "\\textbf{Couple sans enfant}                     &       0.3185  &        0.061     &     5.242  &         0.000        &        0.199    &        0.438     \\\\\n",
       "\\textbf{Famille monoparentale}                  &       0.0773  &        0.070     &     1.100  &         0.271        &       -0.060    &        0.215     \\\\\n",
       "\\textbf{Moins de 30 ans}                        &      -0.5547  &        0.083     &    -6.672  &         0.000        &       -0.718    &       -0.392     \\\\\n",
       "\\textbf{De 30 à 44 ans}                         &      -0.2010  &        0.056     &    -3.566  &         0.000        &       -0.311    &       -0.090     \\\\\n",
       "\\textbf{De 60 à 74 ans}                         &       0.1871  &        0.062     &     3.032  &         0.002        &        0.066    &        0.308     \\\\\n",
       "\\textbf{75 ans et plus}                         &       0.3874  &        0.077     &     5.023  &         0.000        &        0.236    &        0.539     \\\\\n",
       "\\textbf{Rural et petites villes}                &       0.3721  &        0.060     &     6.156  &         0.000        &        0.254    &        0.491     \\\\\n",
       "\\textbf{Grande ville}                           &      -0.1876  &        0.073     &    -2.555  &         0.011        &       -0.332    &       -0.044     \\\\\n",
       "\\textbf{Agglomération parisienne}               &       0.0023  &        0.063     &     0.036  &         0.971        &       -0.122    &        0.126     \\\\\n",
       "\\textbf{D1-3}                                   &      -0.1463  &        0.050     &    -2.915  &         0.004        &       -0.245    &       -0.048     \\\\\n",
       "\\textbf{D8-10}                                  &       0.0711  &        0.055     &     1.282  &         0.200        &       -0.038    &        0.180     \\\\\n",
       "\\textbf{Propriétaire}                           &       1.3878  &        0.052     &    26.895  &         0.000        &        1.287    &        1.489     \\\\\n",
       "\\textbf{Pavillonnaire}                          &       0.3897  &        0.055     &     7.088  &         0.000        &        0.282    &        0.498     \\\\\n",
       "\\bottomrule\n",
       "\\end{tabular}\n",
       "\\begin{tabular}{lclc}\n",
       "\\textbf{Omnibus:}       & 4919.436 & \\textbf{  Durbin-Watson:     } &     2.015  \\\\\n",
       "\\textbf{Prob(Omnibus):} &   0.000  & \\textbf{  Jarque-Bera (JB):  } & 26232.834  \\\\\n",
       "\\textbf{Skew:}          &   1.295  & \\textbf{  Prob(JB):          } &      0.00  \\\\\n",
       "\\textbf{Kurtosis:}      &   8.511  & \\textbf{  Cond. No.          } &      10.2  \\\\\n",
       "\\bottomrule\n",
       "\\end{tabular}\n",
       "%\\caption{OLS Regression Results}\n",
       "\\end{center}\n",
       "\n",
       "Notes: \\newline\n",
       " [1] Standard Errors assume that the covariance matrix of the errors is correctly specified."
      ],
      "text/plain": [
       "<class 'statsmodels.iolib.summary.Summary'>\n",
       "\"\"\"\n",
       "                            OLS Regression Results                            \n",
       "==============================================================================\n",
       "Dep. Variable:              inflation   R-squared:                       0.128\n",
       "Model:                            OLS   Adj. R-squared:                  0.127\n",
       "Method:                 Least Squares   F-statistic:                     166.0\n",
       "Date:                Tue, 13 Jun 2023   Prob (F-statistic):               0.00\n",
       "Time:                        22:43:37   Log-Likelihood:                -40931.\n",
       "No. Observations:               16978   AIC:                         8.189e+04\n",
       "Df Residuals:                   16962   BIC:                         8.202e+04\n",
       "Df Model:                          15                                         \n",
       "Covariance Type:            nonrobust                                         \n",
       "==========================================================================================================\n",
       "                                             coef    std err          t      P>|t|      [0.025      0.975]\n",
       "----------------------------------------------------------------------------------------------------------\n",
       "const                                      5.6603      0.083     68.351      0.000       5.498       5.823\n",
       "Autre type de ménage (ménage complexe)    -0.0524      0.105     -0.500      0.617      -0.258       0.153\n",
       "Couple avec au moins un enfant             0.1252      0.064      1.972      0.049       0.001       0.250\n",
       "Couple sans enfant                         0.3185      0.061      5.242      0.000       0.199       0.438\n",
       "Famille monoparentale                      0.0773      0.070      1.100      0.271      -0.060       0.215\n",
       "Moins de 30 ans                           -0.5547      0.083     -6.672      0.000      -0.718      -0.392\n",
       "De 30 à 44 ans                            -0.2010      0.056     -3.566      0.000      -0.311      -0.090\n",
       "De 60 à 74 ans                             0.1871      0.062      3.032      0.002       0.066       0.308\n",
       "75 ans et plus                             0.3874      0.077      5.023      0.000       0.236       0.539\n",
       "Rural et petites villes                    0.3721      0.060      6.156      0.000       0.254       0.491\n",
       "Grande ville                              -0.1876      0.073     -2.555      0.011      -0.332      -0.044\n",
       "Agglomération parisienne                   0.0023      0.063      0.036      0.971      -0.122       0.126\n",
       "D1-3                                      -0.1463      0.050     -2.915      0.004      -0.245      -0.048\n",
       "D8-10                                      0.0711      0.055      1.282      0.200      -0.038       0.180\n",
       "Propriétaire                               1.3878      0.052     26.895      0.000       1.287       1.489\n",
       "Pavillonnaire                              0.3897      0.055      7.088      0.000       0.282       0.498\n",
       "==============================================================================\n",
       "Omnibus:                     4919.436   Durbin-Watson:                   2.015\n",
       "Prob(Omnibus):                  0.000   Jarque-Bera (JB):            26232.834\n",
       "Skew:                           1.295   Prob(JB):                         0.00\n",
       "Kurtosis:                       8.511   Cond. No.                         10.2\n",
       "==============================================================================\n",
       "\n",
       "Notes:\n",
       "[1] Standard Errors assume that the covariance matrix of the errors is correctly specified.\n",
       "\"\"\""
      ]
     },
     "execution_count": 472,
     "metadata": {},
     "output_type": "execute_result"
    }
   ],
   "source": [
    "results.summary()\n"
   ]
  }
 ],
 "metadata": {
  "kernelspec": {
   "display_name": "Python 3",
   "language": "python",
   "name": "python3"
  },
  "language_info": {
   "codemirror_mode": {
    "name": "ipython",
    "version": 3
   },
   "file_extension": ".py",
   "mimetype": "text/x-python",
   "name": "python",
   "nbconvert_exporter": "python",
   "pygments_lexer": "ipython3",
   "version": "3.11.3"
  },
  "orig_nbformat": 4
 },
 "nbformat": 4,
 "nbformat_minor": 2
}
