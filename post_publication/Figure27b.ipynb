{
 "cells": [
  {
   "attachments": {},
   "cell_type": "markdown",
   "metadata": {},
   "source": [
    "These data come from a survey conducted by INSEE, Budget des Familles, which are protected by the Statistical Secrecy Committee. To reproduce the analysis, one must request access to this data."
   ]
  },
  {
   "cell_type": "code",
   "execution_count": 542,
   "metadata": {},
   "outputs": [],
   "source": [
    "import pandas as pd\n",
    "date_analysis = \"2023-04\"\n",
    "df_inflation_by_household = pd.read_csv(f'BDF/computed_inflation_by_household_{date_analysis}.csv', index_col=\"IDENT_MEN\")"
   ]
  },
  {
   "attachments": {},
   "cell_type": "markdown",
   "metadata": {},
   "source": [
    "# Household"
   ]
  },
  {
   "cell_type": "code",
   "execution_count": 543,
   "metadata": {},
   "outputs": [
    {
     "name": "stderr",
     "output_type": "stream",
     "text": [
      "C:\\Users\\mdaversa\\AppData\\Local\\Temp\\ipykernel_12492\\1221685487.py:1: DtypeWarning: Columns (21,22,23,48,49,421) have mixed types. Specify dtype option on import or set low_memory=False.\n",
      "  df_menage = pd.read_csv(\"BDF/Csv/MENAGE.csv\", sep=\";\", encoding='latin1')\n"
     ]
    }
   ],
   "source": [
    "df_menage = pd.read_csv(\"BDF/Csv/MENAGE.csv\", sep=\";\", encoding='latin1')"
   ]
  },
  {
   "cell_type": "code",
   "execution_count": 544,
   "metadata": {},
   "outputs": [],
   "source": [
    "df_menage = df_menage.set_index(\"IDENT_MEN\")"
   ]
  },
  {
   "cell_type": "code",
   "execution_count": 545,
   "metadata": {},
   "outputs": [
    {
     "name": "stderr",
     "output_type": "stream",
     "text": [
      "C:\\Users\\mdaversa\\AppData\\Local\\Temp\\ipykernel_12492\\3018729231.py:1: DtypeWarning: Columns (354,387,390,395,430,452,502,732,737,766,770,774,778,782,850,1325,1501,1629) have mixed types. Specify dtype option on import or set low_memory=False.\n",
      "  df_dep_men = pd.read_csv(\"BDF/Csv/DEPMEN.csv\", sep=\";\", encoding='latin1')\n"
     ]
    }
   ],
   "source": [
    "df_dep_men = pd.read_csv(\"BDF/Csv/DEPMEN.csv\", sep=\";\", encoding='latin1')"
   ]
  },
  {
   "cell_type": "code",
   "execution_count": 546,
   "metadata": {},
   "outputs": [],
   "source": [
    "df_dep_men = df_dep_men.set_index(\"IDENT_MEN\")"
   ]
  },
  {
   "cell_type": "code",
   "execution_count": 547,
   "metadata": {},
   "outputs": [],
   "source": [
    "df_menage = pd.merge(left=df_menage, right=df_dep_men, left_index=True, right_index=True)"
   ]
  },
  {
   "cell_type": "code",
   "execution_count": 548,
   "metadata": {},
   "outputs": [],
   "source": [
    "variables = [\"AGEPR\", \"TUU\", \"DNIVIE1\", \"Stalog\", \"NENFANTS\", \"COUPLEPR\", \"Chaufp\"]\n",
    "df_filtered = df_menage.loc[:, variables]"
   ]
  },
  {
   "attachments": {},
   "cell_type": "markdown",
   "metadata": {},
   "source": [
    "# Cleaning variables"
   ]
  },
  {
   "cell_type": "code",
   "execution_count": 549,
   "metadata": {},
   "outputs": [],
   "source": [
    "def clean_variable(df, variable, variable_ref, numerical, labels=[],  bins=[]):\n",
    "    df[f'{variable}_category'] = pd.cut(x=df[variable], bins=bins, labels=labels, right=True) if numerical else df[variable]\n",
    "    df = pd.concat([df, pd.get_dummies(data=df[f\"{variable}_category\"])], axis=1)\n",
    "    df = df.drop([variable, f\"{variable}_category\", variable_ref], axis=1)\n",
    "    return df\n"
   ]
  },
  {
   "attachments": {},
   "cell_type": "markdown",
   "metadata": {},
   "source": [
    "Age"
   ]
  },
  {
   "cell_type": "code",
   "execution_count": 550,
   "metadata": {},
   "outputs": [],
   "source": [
    "df_filtered = clean_variable(df=df_filtered, variable=\"AGEPR\", labels=[\"Moins de 30 ans\", \"De 30 à 44 ans\", \"De 45 à 59 ans\", \"De 60 à 74 ans\", \"75 ans et plus\"], variable_ref = \"De 45 à 59 ans\", bins = [0, 30, 45, 60, 75, 102], numerical=True)"
   ]
  },
  {
   "attachments": {},
   "cell_type": "markdown",
   "metadata": {},
   "source": [
    "Type menage"
   ]
  },
  {
   "attachments": {},
   "cell_type": "markdown",
   "metadata": {},
   "source": [
    "TUUU"
   ]
  },
  {
   "cell_type": "code",
   "execution_count": 551,
   "metadata": {},
   "outputs": [],
   "source": [
    "df_filtered = clean_variable(df=df_filtered, variable=\"TUU\", variable_ref = \"Ville moyenne\", numerical=True, bins=[0,2,4,6,7,9], labels=[\"Rural\", \"Petite ville\", \"Ville moyenne\", \"Grande ville\", \"Agglomération parisienne\"])"
   ]
  },
  {
   "attachments": {},
   "cell_type": "markdown",
   "metadata": {},
   "source": [
    "Qintiles niveau de vie"
   ]
  },
  {
   "cell_type": "code",
   "execution_count": 552,
   "metadata": {},
   "outputs": [],
   "source": [
    "df_filtered = clean_variable(df=df_filtered, variable=\"DNIVIE1\", variable_ref = \"Moyen\", numerical=True, bins=[0,3,8,11], labels=[\"Pauvre\", \"Moyen\", \"Riche\"])"
   ]
  },
  {
   "cell_type": "code",
   "execution_count": 553,
   "metadata": {},
   "outputs": [],
   "source": [
    "df_filtered = df_filtered.dropna()"
   ]
  },
  {
   "cell_type": "code",
   "execution_count": 554,
   "metadata": {},
   "outputs": [],
   "source": [
    "df_filtered = clean_variable(df=df_filtered, variable=\"COUPLEPR\", variable_ref = \"N'habite pas en couple\", numerical=True, bins=[0,1,4], labels=[\"Habite en couple\", \"N'habite pas en couple\"])"
   ]
  },
  {
   "attachments": {},
   "cell_type": "markdown",
   "metadata": {},
   "source": [
    "Stalog"
   ]
  },
  {
   "cell_type": "code",
   "execution_count": 555,
   "metadata": {},
   "outputs": [],
   "source": [
    "df_filtered = clean_variable(df=df_filtered, variable=\"Stalog\", variable_ref = \"Locataire\", numerical=True, bins=[0,3,6], labels=[\"Propriétaire\", \"Locataire\"])"
   ]
  },
  {
   "cell_type": "code",
   "execution_count": 556,
   "metadata": {},
   "outputs": [],
   "source": [
    "df_filtered = clean_variable(df=df_filtered, variable=\"Chaufp\", variable_ref = 1, numerical=False)"
   ]
  },
  {
   "attachments": {},
   "cell_type": "markdown",
   "metadata": {},
   "source": [
    "# Regression\n"
   ]
  },
  {
   "cell_type": "code",
   "execution_count": 557,
   "metadata": {},
   "outputs": [],
   "source": [
    "df_filtered = pd.merge(df_filtered, df_inflation_by_household, left_index=True, right_index=True)"
   ]
  },
  {
   "cell_type": "code",
   "execution_count": 558,
   "metadata": {},
   "outputs": [],
   "source": [
    "df_filtered = df_filtered.dropna()\n"
   ]
  },
  {
   "cell_type": "code",
   "execution_count": 559,
   "metadata": {},
   "outputs": [],
   "source": [
    "y = df_filtered['inflation']\n",
    "df_filtered = df_filtered.drop(columns=['inflation'])\n",
    "X = df_filtered\n"
   ]
  },
  {
   "cell_type": "code",
   "execution_count": 560,
   "metadata": {},
   "outputs": [],
   "source": [
    "import statsmodels.api as sm\n",
    "X = sm.add_constant(X)"
   ]
  },
  {
   "cell_type": "code",
   "execution_count": 561,
   "metadata": {},
   "outputs": [],
   "source": [
    "model = sm.OLS(y, X)"
   ]
  },
  {
   "cell_type": "code",
   "execution_count": 562,
   "metadata": {},
   "outputs": [],
   "source": [
    "results = model.fit()\n"
   ]
  },
  {
   "cell_type": "code",
   "execution_count": 563,
   "metadata": {},
   "outputs": [
    {
     "name": "stdout",
     "output_type": "stream",
     "text": [
      "                            OLS Regression Results                            \n",
      "==============================================================================\n",
      "Dep. Variable:              inflation   R-squared:                       0.071\n",
      "Model:                            OLS   Adj. R-squared:                  0.070\n",
      "Method:                 Least Squares   F-statistic:                     60.94\n",
      "Date:                Mon, 12 Jun 2023   Prob (F-statistic):          1.53e-236\n",
      "Time:                        19:09:11   Log-Likelihood:                -33600.\n",
      "No. Observations:               15945   AIC:                         6.724e+04\n",
      "Df Residuals:                   15924   BIC:                         6.740e+04\n",
      "Df Model:                          20                                         \n",
      "Covariance Type:            nonrobust                                         \n",
      "============================================================================================\n",
      "                               coef    std err          t      P>|t|      [0.025      0.975]\n",
      "--------------------------------------------------------------------------------------------\n",
      "const                        5.7883      0.066     87.949      0.000       5.659       5.917\n",
      "NENFANTS                     0.1187      0.016      7.255      0.000       0.087       0.151\n",
      "Moins de 30 ans             -0.5358      0.062     -8.640      0.000      -0.657      -0.414\n",
      "De 30 à 44 ans              -0.2422      0.044     -5.559      0.000      -0.328      -0.157\n",
      "De 60 à 74 ans               0.3449      0.046      7.567      0.000       0.256       0.434\n",
      "75 ans et plus               0.3114      0.059      5.313      0.000       0.197       0.426\n",
      "Rural                        0.0458      0.053      0.866      0.387      -0.058       0.150\n",
      "Petite ville                 0.0485      0.048      1.015      0.310      -0.045       0.142\n",
      "Grande ville                 0.2126      0.042      5.019      0.000       0.130       0.296\n",
      "Agglomération parisienne     0.5084      0.061      8.343      0.000       0.389       0.628\n",
      "Pauvre                       0.2335      0.038      6.142      0.000       0.159       0.308\n",
      "Riche                        0.1103      0.045      2.463      0.014       0.023       0.198\n",
      "Habite en couple             0.1598      0.035      4.590      0.000       0.092       0.228\n",
      "Propriétaire                 0.7047      0.038     18.453      0.000       0.630       0.780\n",
      "2.0                         -0.1026      0.055     -1.875      0.061      -0.210       0.005\n",
      "3.0                          0.3578      0.243      1.474      0.141      -0.118       0.834\n",
      "4.0                         -0.0635      0.064     -0.987      0.324      -0.190       0.063\n",
      "5.0                          0.2633      0.082      3.196      0.001       0.102       0.425\n",
      "6.0                         -0.4253      0.082     -5.203      0.000      -0.585      -0.265\n",
      "7.0                         -0.3547      0.060     -5.906      0.000      -0.472      -0.237\n",
      "9.0                          0.2017      1.151      0.175      0.861      -2.055       2.458\n",
      "==============================================================================\n",
      "Omnibus:                      748.354   Durbin-Watson:                   2.000\n",
      "Prob(Omnibus):                  0.000   Jarque-Bera (JB):             2049.083\n",
      "Skew:                           0.230   Prob(JB):                         0.00\n",
      "Kurtosis:                       4.695   Cond. No.                         137.\n",
      "==============================================================================\n",
      "\n",
      "Notes:\n",
      "[1] Standard Errors assume that the covariance matrix of the errors is correctly specified.\n"
     ]
    }
   ],
   "source": [
    "print(results.summary())\n"
   ]
  }
 ],
 "metadata": {
  "kernelspec": {
   "display_name": "Python 3",
   "language": "python",
   "name": "python3"
  },
  "language_info": {
   "codemirror_mode": {
    "name": "ipython",
    "version": 3
   },
   "file_extension": ".py",
   "mimetype": "text/x-python",
   "name": "python",
   "nbconvert_exporter": "python",
   "pygments_lexer": "ipython3",
   "version": "3.11.3"
  },
  "orig_nbformat": 4
 },
 "nbformat": 4,
 "nbformat_minor": 2
}
