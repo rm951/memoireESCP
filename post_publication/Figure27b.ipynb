{
 "cells": [
  {
   "attachments": {},
   "cell_type": "markdown",
   "metadata": {},
   "source": [
    "These data come from a survey conducted by INSEE, Budget des Familles, which are protected by the Statistical Secrecy Committee. To reproduce the analysis, one must request access to this data."
   ]
  },
  {
   "cell_type": "code",
   "execution_count": 38,
   "metadata": {},
   "outputs": [],
   "source": [
    "import pandas as pd\n",
    "date_analysis = \"2023-04\"\n",
    "df_inflation_by_household = pd.read_csv(f'BDF/computed_inflation_by_household_{date_analysis}.csv', index_col=\"IDENT_MEN\")"
   ]
  },
  {
   "attachments": {},
   "cell_type": "markdown",
   "metadata": {},
   "source": [
    "# Household"
   ]
  },
  {
   "cell_type": "code",
   "execution_count": 39,
   "metadata": {},
   "outputs": [
    {
     "name": "stderr",
     "output_type": "stream",
     "text": [
      "C:\\Users\\mdaversa\\AppData\\Local\\Temp\\ipykernel_16816\\1221685487.py:1: DtypeWarning: Columns (21,22,23,48,49,421) have mixed types. Specify dtype option on import or set low_memory=False.\n",
      "  df_menage = pd.read_csv(\"BDF/Csv/MENAGE.csv\", sep=\";\", encoding='latin1')\n"
     ]
    }
   ],
   "source": [
    "df_menage = pd.read_csv(\"BDF/Csv/MENAGE.csv\", sep=\";\", encoding='latin1')"
   ]
  },
  {
   "cell_type": "code",
   "execution_count": 40,
   "metadata": {},
   "outputs": [],
   "source": [
    "df_menage = df_menage.set_index(\"IDENT_MEN\")"
   ]
  },
  {
   "cell_type": "code",
   "execution_count": 41,
   "metadata": {},
   "outputs": [
    {
     "name": "stderr",
     "output_type": "stream",
     "text": [
      "C:\\Users\\mdaversa\\AppData\\Local\\Temp\\ipykernel_16816\\3018729231.py:1: DtypeWarning: Columns (354,387,390,395,430,452,502,732,737,766,770,774,778,782,850,1325,1501,1629) have mixed types. Specify dtype option on import or set low_memory=False.\n",
      "  df_dep_men = pd.read_csv(\"BDF/Csv/DEPMEN.csv\", sep=\";\", encoding='latin1')\n"
     ]
    }
   ],
   "source": [
    "df_dep_men = pd.read_csv(\"BDF/Csv/DEPMEN.csv\", sep=\";\", encoding='latin1')"
   ]
  },
  {
   "cell_type": "code",
   "execution_count": 42,
   "metadata": {},
   "outputs": [],
   "source": [
    "df_dep_men = df_dep_men.set_index(\"IDENT_MEN\")"
   ]
  },
  {
   "cell_type": "code",
   "execution_count": 43,
   "metadata": {},
   "outputs": [],
   "source": [
    "df_menage = pd.merge(left=df_menage, right=df_dep_men, left_index=True, right_index=True)"
   ]
  },
  {
   "cell_type": "code",
   "execution_count": 44,
   "metadata": {},
   "outputs": [],
   "source": [
    "variables = [\"AGEPR\", \"TUU\", \"DNIVIE1\", \"Stalog\", \"NENFANTS\", \"COUPLEPR\", \"Chaufp\"]\n",
    "df_filtered = df_menage.loc[:, variables]"
   ]
  },
  {
   "attachments": {},
   "cell_type": "markdown",
   "metadata": {},
   "source": [
    "# Cleaning variables"
   ]
  },
  {
   "cell_type": "code",
   "execution_count": 45,
   "metadata": {},
   "outputs": [],
   "source": [
    "def clean_variable(df, variable, variable_ref, numerical, labels=[],  bins=[]):\n",
    "    df[f'{variable}_category'] = pd.cut(x=df[variable], bins=bins, labels=labels, right=True) if numerical else df[variable]\n",
    "    df = pd.concat([df, pd.get_dummies(data=df[f\"{variable}_category\"])], axis=1)\n",
    "    df = df.drop([variable, f\"{variable}_category\", variable_ref], axis=1)\n",
    "    return df\n"
   ]
  },
  {
   "attachments": {},
   "cell_type": "markdown",
   "metadata": {},
   "source": [
    "Age"
   ]
  },
  {
   "cell_type": "code",
   "execution_count": 46,
   "metadata": {},
   "outputs": [],
   "source": [
    "df_filtered = clean_variable(df=df_filtered, variable=\"AGEPR\", labels=[\"Moins de 30 ans\", \"De 30 à 44 ans\", \"De 45 à 59 ans\", \"De 60 à 74 ans\", \"75 ans et plus\"], variable_ref = \"De 45 à 59 ans\", bins = [0, 30, 45, 60, 75, 102], numerical=True)"
   ]
  },
  {
   "attachments": {},
   "cell_type": "markdown",
   "metadata": {},
   "source": [
    "Type menage"
   ]
  },
  {
   "attachments": {},
   "cell_type": "markdown",
   "metadata": {},
   "source": [
    "TUUU"
   ]
  },
  {
   "cell_type": "code",
   "execution_count": 47,
   "metadata": {},
   "outputs": [],
   "source": [
    "df_filtered = clean_variable(df=df_filtered, variable=\"TUU\", variable_ref = \"Ville moyenne\", numerical=True, bins=[0,2,4,6,7,9], labels=[\"Rural\", \"Petite ville\", \"Ville moyenne\", \"Grande ville\", \"Agglomération parisienne\"])"
   ]
  },
  {
   "attachments": {},
   "cell_type": "markdown",
   "metadata": {},
   "source": [
    "Qintiles niveau de vie"
   ]
  },
  {
   "cell_type": "code",
   "execution_count": 48,
   "metadata": {},
   "outputs": [],
   "source": [
    "df_filtered = clean_variable(df=df_filtered, variable=\"DNIVIE1\", variable_ref = \"Moyen\", numerical=True, bins=[0,3,8,11], labels=[\"Pauvre\", \"Moyen\", \"Riche\"])"
   ]
  },
  {
   "cell_type": "code",
   "execution_count": 49,
   "metadata": {},
   "outputs": [],
   "source": [
    "df_filtered = df_filtered.dropna()"
   ]
  },
  {
   "cell_type": "code",
   "execution_count": 50,
   "metadata": {},
   "outputs": [],
   "source": [
    "df_filtered = clean_variable(df=df_filtered, variable=\"COUPLEPR\", variable_ref = \"N'habite pas en couple\", numerical=True, bins=[0,1,4], labels=[\"Habite en couple\", \"N'habite pas en couple\"])"
   ]
  },
  {
   "attachments": {},
   "cell_type": "markdown",
   "metadata": {},
   "source": [
    "Stalog"
   ]
  },
  {
   "cell_type": "code",
   "execution_count": 51,
   "metadata": {},
   "outputs": [],
   "source": [
    "df_filtered = clean_variable(df=df_filtered, variable=\"Stalog\", variable_ref = \"Locataire\", numerical=True, bins=[0,3,6], labels=[\"Propriétaire\", \"Locataire\"])"
   ]
  },
  {
   "cell_type": "code",
   "execution_count": 52,
   "metadata": {},
   "outputs": [],
   "source": [
    "df_filtered = clean_variable(df=df_filtered, variable=\"Chaufp\", variable_ref = \"Chauffage central ou mixte\", numerical=True, bins=[0,4,5,8], labels=[\"Chauffage central ou mixte\", \"Chauffage électrique individuel\", \"Chauffage non-électrique\"])"
   ]
  },
  {
   "attachments": {},
   "cell_type": "markdown",
   "metadata": {},
   "source": [
    "# Regression\n"
   ]
  },
  {
   "cell_type": "code",
   "execution_count": 53,
   "metadata": {},
   "outputs": [],
   "source": [
    "df_filtered = pd.merge(df_filtered, df_inflation_by_household, left_index=True, right_index=True)"
   ]
  },
  {
   "cell_type": "code",
   "execution_count": 54,
   "metadata": {},
   "outputs": [],
   "source": [
    "df_filtered = df_filtered.dropna()\n"
   ]
  },
  {
   "cell_type": "code",
   "execution_count": 55,
   "metadata": {},
   "outputs": [],
   "source": [
    "y = df_filtered['inflation']\n",
    "df_filtered = df_filtered.drop(columns=['inflation'])\n",
    "X = df_filtered\n"
   ]
  },
  {
   "cell_type": "code",
   "execution_count": 56,
   "metadata": {},
   "outputs": [],
   "source": [
    "import statsmodels.api as sm\n",
    "X = sm.add_constant(X)"
   ]
  },
  {
   "cell_type": "code",
   "execution_count": 57,
   "metadata": {},
   "outputs": [],
   "source": [
    "model = sm.OLS(y, X)"
   ]
  },
  {
   "cell_type": "code",
   "execution_count": 58,
   "metadata": {},
   "outputs": [],
   "source": [
    "results = model.fit()\n"
   ]
  },
  {
   "cell_type": "code",
   "execution_count": 59,
   "metadata": {},
   "outputs": [
    {
     "name": "stdout",
     "output_type": "stream",
     "text": [
      "                            OLS Regression Results                            \n",
      "==============================================================================\n",
      "Dep. Variable:              inflation   R-squared:                       0.071\n",
      "Model:                            OLS   Adj. R-squared:                  0.070\n",
      "Method:                 Least Squares   F-statistic:                     80.72\n",
      "Date:                Tue, 13 Jun 2023   Prob (F-statistic):          1.56e-239\n",
      "Time:                        11:17:21   Log-Likelihood:                -33604.\n",
      "No. Observations:               15945   AIC:                         6.724e+04\n",
      "Df Residuals:                   15929   BIC:                         6.736e+04\n",
      "Df Model:                          15                                         \n",
      "Covariance Type:            nonrobust                                         \n",
      "===================================================================================================\n",
      "                                      coef    std err          t      P>|t|      [0.025      0.975]\n",
      "---------------------------------------------------------------------------------------------------\n",
      "const                               5.7230      0.052    110.084      0.000       5.621       5.825\n",
      "NENFANTS                            0.1198      0.016      7.336      0.000       0.088       0.152\n",
      "Moins de 30 ans                    -0.5372      0.062     -8.681      0.000      -0.658      -0.416\n",
      "De 30 à 44 ans                     -0.2432      0.044     -5.588      0.000      -0.328      -0.158\n",
      "De 60 à 74 ans                      0.3456      0.046      7.584      0.000       0.256       0.435\n",
      "75 ans et plus                      0.3118      0.059      5.323      0.000       0.197       0.427\n",
      "Rural                               0.0409      0.053      0.774      0.439      -0.063       0.144\n",
      "Petite ville                        0.0470      0.048      0.984      0.325      -0.047       0.141\n",
      "Grande ville                        0.2154      0.042      5.112      0.000       0.133       0.298\n",
      "Agglomération parisienne            0.5282      0.059      8.920      0.000       0.412       0.644\n",
      "Pauvre                              0.2384      0.038      6.296      0.000       0.164       0.313\n",
      "Riche                               0.1112      0.045      2.485      0.013       0.023       0.199\n",
      "Habite en couple                    0.1552      0.035      4.469      0.000       0.087       0.223\n",
      "Propriétaire                        0.6904      0.037     18.425      0.000       0.617       0.764\n",
      "Chauffage électrique individuel     0.3428      0.067      5.102      0.000       0.211       0.475\n",
      "Chauffage non-électrique           -0.2970      0.037     -7.940      0.000      -0.370      -0.224\n",
      "==============================================================================\n",
      "Omnibus:                      748.069   Durbin-Watson:                   2.001\n",
      "Prob(Omnibus):                  0.000   Jarque-Bera (JB):             2057.242\n",
      "Skew:                           0.228   Prob(JB):                         0.00\n",
      "Kurtosis:                       4.700   Cond. No.                         9.89\n",
      "==============================================================================\n",
      "\n",
      "Notes:\n",
      "[1] Standard Errors assume that the covariance matrix of the errors is correctly specified.\n"
     ]
    }
   ],
   "source": [
    "print(results.summary())\n"
   ]
  }
 ],
 "metadata": {
  "kernelspec": {
   "display_name": "Python 3",
   "language": "python",
   "name": "python3"
  },
  "language_info": {
   "codemirror_mode": {
    "name": "ipython",
    "version": 3
   },
   "file_extension": ".py",
   "mimetype": "text/x-python",
   "name": "python",
   "nbconvert_exporter": "python",
   "pygments_lexer": "ipython3",
   "version": "3.11.3"
  },
  "orig_nbformat": 4
 },
 "nbformat": 4,
 "nbformat_minor": 2
}
