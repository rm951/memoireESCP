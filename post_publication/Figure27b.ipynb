{
 "cells": [
  {
   "attachments": {},
   "cell_type": "markdown",
   "metadata": {},
   "source": [
    "These data come from a survey conducted by INSEE, Budget des Familles, which are protected by the Statistical Secrecy Committee. To reproduce the analysis, one must request access to this data."
   ]
  },
  {
   "cell_type": "code",
   "execution_count": 196,
   "metadata": {},
   "outputs": [],
   "source": [
    "import pandas as pd\n",
    "date_analysis = \"2022-09\"\n",
    "df_inflation_by_household = pd.read_csv(f'BDF/computed_inflation_by_household_{date_analysis}.csv', index_col=\"IDENT_MEN\")"
   ]
  },
  {
   "attachments": {},
   "cell_type": "markdown",
   "metadata": {},
   "source": [
    "# Household"
   ]
  },
  {
   "cell_type": "code",
   "execution_count": 197,
   "metadata": {},
   "outputs": [
    {
     "name": "stderr",
     "output_type": "stream",
     "text": [
      "C:\\Users\\mdaversa\\AppData\\Local\\Temp\\ipykernel_14016\\1221685487.py:1: DtypeWarning: Columns (21,22,23,48,49,421) have mixed types. Specify dtype option on import or set low_memory=False.\n",
      "  df_menage = pd.read_csv(\"BDF/Csv/MENAGE.csv\", sep=\";\", encoding='latin1')\n"
     ]
    }
   ],
   "source": [
    "df_menage = pd.read_csv(\"BDF/Csv/MENAGE.csv\", sep=\";\", encoding='latin1')"
   ]
  },
  {
   "cell_type": "code",
   "execution_count": 198,
   "metadata": {},
   "outputs": [],
   "source": [
    "df_menage = df_menage.set_index(\"IDENT_MEN\")"
   ]
  },
  {
   "cell_type": "code",
   "execution_count": 199,
   "metadata": {},
   "outputs": [
    {
     "name": "stderr",
     "output_type": "stream",
     "text": [
      "C:\\Users\\mdaversa\\AppData\\Local\\Temp\\ipykernel_14016\\3018729231.py:1: DtypeWarning: Columns (354,387,390,395,430,452,502,732,737,766,770,774,778,782,850,1325,1501,1629) have mixed types. Specify dtype option on import or set low_memory=False.\n",
      "  df_dep_men = pd.read_csv(\"BDF/Csv/DEPMEN.csv\", sep=\";\", encoding='latin1')\n"
     ]
    }
   ],
   "source": [
    "df_dep_men = pd.read_csv(\"BDF/Csv/DEPMEN.csv\", sep=\";\", encoding='latin1')"
   ]
  },
  {
   "cell_type": "code",
   "execution_count": 200,
   "metadata": {},
   "outputs": [],
   "source": [
    "df_dep_men = df_dep_men.set_index(\"IDENT_MEN\")"
   ]
  },
  {
   "cell_type": "code",
   "execution_count": 201,
   "metadata": {},
   "outputs": [],
   "source": [
    "df_menage = pd.merge(left=df_menage, right=df_dep_men, left_index=True, right_index=True)"
   ]
  },
  {
   "cell_type": "code",
   "execution_count": 202,
   "metadata": {},
   "outputs": [],
   "source": [
    "variables = [\"AGEPR\", \"TUU\", \"DNIVIE1\", \"Stalog\", \"TYPMEN5\"]\n",
    "df_filtered = df_menage.loc[:, variables]"
   ]
  },
  {
   "attachments": {},
   "cell_type": "markdown",
   "metadata": {},
   "source": [
    "# Cleaning variables"
   ]
  },
  {
   "cell_type": "code",
   "execution_count": 203,
   "metadata": {},
   "outputs": [],
   "source": [
    "df_filtered['TYPMEN5'] = df_filtered['TYPMEN5'].replace({\n",
    "    1: 'Personne seule',\n",
    "    2: 'Famille monoparentale',\n",
    "    3: 'Couple sans enfant',\n",
    "    4: 'Couple avec au moins un enfant',\n",
    "    5: 'Autre type de ménage (ménage complexe)'\n",
    "})"
   ]
  },
  {
   "cell_type": "code",
   "execution_count": 204,
   "metadata": {},
   "outputs": [],
   "source": [
    "def clean_variable(df, variable, variable_ref, numerical, labels=[],  bins=[]):\n",
    "    df[f'{variable}_category'] = pd.cut(x=df[variable], bins=bins, labels=labels, right=True) if numerical else df[variable]\n",
    "    df = pd.concat([df, pd.get_dummies(data=df[f\"{variable}_category\"])], axis=1)\n",
    "    df = df.drop([variable, f\"{variable}_category\", variable_ref], axis=1)\n",
    "    return df\n"
   ]
  },
  {
   "cell_type": "code",
   "execution_count": 205,
   "metadata": {},
   "outputs": [],
   "source": [
    "df_filtered = clean_variable(df=df_filtered, variable=\"TYPMEN5\", variable_ref=\"Personne seule\", numerical=False)"
   ]
  },
  {
   "attachments": {},
   "cell_type": "markdown",
   "metadata": {},
   "source": [
    "Age"
   ]
  },
  {
   "cell_type": "code",
   "execution_count": 206,
   "metadata": {},
   "outputs": [],
   "source": [
    "df_filtered = clean_variable(df=df_filtered, variable=\"AGEPR\", labels=[\"Moins de 30 ans\", \"De 30 à 44 ans\", \"De 45 à 59 ans\", \"De 60 à 74 ans\", \"75 ans et plus\"], variable_ref = \"De 45 à 59 ans\", bins = [0, 30, 45, 60, 75, 102], numerical=True)"
   ]
  },
  {
   "attachments": {},
   "cell_type": "markdown",
   "metadata": {},
   "source": [
    "Type menage"
   ]
  },
  {
   "attachments": {},
   "cell_type": "markdown",
   "metadata": {},
   "source": [
    "TUUU"
   ]
  },
  {
   "cell_type": "code",
   "execution_count": 207,
   "metadata": {},
   "outputs": [],
   "source": [
    "df_filtered = clean_variable(df=df_filtered, variable=\"TUU\", variable_ref = \"Ville moyenne\", numerical=True, bins=[0,4,6,7,9], labels=[\"Rural et petites villes\", \"Ville moyenne\", \"Grande ville\", \"Agglomération parisienne\"])"
   ]
  },
  {
   "attachments": {},
   "cell_type": "markdown",
   "metadata": {},
   "source": [
    "Qintiles niveau de vie"
   ]
  },
  {
   "cell_type": "code",
   "execution_count": 208,
   "metadata": {},
   "outputs": [],
   "source": [
    "df_filtered = clean_variable(df=df_filtered, variable=\"DNIVIE1\", variable_ref = \"D4-8\", numerical=True, bins=[0,4,8,11], labels=[\"D1-3\", \"D4-8\", \"D8-10\"])"
   ]
  },
  {
   "cell_type": "code",
   "execution_count": 209,
   "metadata": {},
   "outputs": [],
   "source": [
    "df_filtered = df_filtered.dropna()"
   ]
  },
  {
   "attachments": {},
   "cell_type": "markdown",
   "metadata": {},
   "source": [
    "Stalog"
   ]
  },
  {
   "cell_type": "code",
   "execution_count": 210,
   "metadata": {},
   "outputs": [],
   "source": [
    "df_filtered = clean_variable(df=df_filtered, variable=\"Stalog\", variable_ref = \"Locataire\", numerical=True, bins=[0,3,6], labels=[\"Propriétaire\", \"Locataire\"])"
   ]
  },
  {
   "attachments": {},
   "cell_type": "markdown",
   "metadata": {},
   "source": [
    "# Regression\n"
   ]
  },
  {
   "cell_type": "code",
   "execution_count": 211,
   "metadata": {},
   "outputs": [],
   "source": [
    "df_filtered = pd.merge(df_filtered, df_inflation_by_household, left_index=True, right_index=True)"
   ]
  },
  {
   "cell_type": "code",
   "execution_count": 212,
   "metadata": {},
   "outputs": [],
   "source": [
    "df_filtered = df_filtered.dropna()\n"
   ]
  },
  {
   "cell_type": "code",
   "execution_count": 213,
   "metadata": {},
   "outputs": [],
   "source": [
    "y = df_filtered['inflation']\n",
    "df_filtered = df_filtered.drop(columns=['inflation'])\n",
    "X = df_filtered\n"
   ]
  },
  {
   "cell_type": "code",
   "execution_count": 214,
   "metadata": {},
   "outputs": [],
   "source": [
    "import statsmodels.api as sm\n",
    "X = sm.add_constant(X)"
   ]
  },
  {
   "cell_type": "code",
   "execution_count": 215,
   "metadata": {},
   "outputs": [],
   "source": [
    "model = sm.OLS(y, X)"
   ]
  },
  {
   "cell_type": "code",
   "execution_count": 216,
   "metadata": {},
   "outputs": [],
   "source": [
    "results = model.fit()\n"
   ]
  },
  {
   "cell_type": "code",
   "execution_count": 217,
   "metadata": {},
   "outputs": [
    {
     "data": {
      "text/html": [
       "<table class=\"simpletable\">\n",
       "<tr>\n",
       "                     <td></td>                       <th>coef</th>     <th>std err</th>      <th>t</th>      <th>P>|t|</th>  <th>[0.025</th>    <th>0.975]</th>  \n",
       "</tr>\n",
       "<tr>\n",
       "  <th>const</th>                                  <td>    5.5037</td> <td>    0.062</td> <td>   89.061</td> <td> 0.000</td> <td>    5.383</td> <td>    5.625</td>\n",
       "</tr>\n",
       "<tr>\n",
       "  <th>Autre type de ménage (ménage complexe)</th> <td>    0.0301</td> <td>    0.088</td> <td>    0.341</td> <td> 0.733</td> <td>   -0.143</td> <td>    0.203</td>\n",
       "</tr>\n",
       "<tr>\n",
       "  <th>Couple avec au moins un enfant</th>         <td>    0.1902</td> <td>    0.053</td> <td>    3.591</td> <td> 0.000</td> <td>    0.086</td> <td>    0.294</td>\n",
       "</tr>\n",
       "<tr>\n",
       "  <th>Couple sans enfant</th>                     <td>    0.3603</td> <td>    0.051</td> <td>    7.094</td> <td> 0.000</td> <td>    0.261</td> <td>    0.460</td>\n",
       "</tr>\n",
       "<tr>\n",
       "  <th>Famille monoparentale</th>                  <td>    0.1085</td> <td>    0.059</td> <td>    1.826</td> <td> 0.068</td> <td>   -0.008</td> <td>    0.225</td>\n",
       "</tr>\n",
       "<tr>\n",
       "  <th>Moins de 30 ans</th>                        <td>   -0.5171</td> <td>    0.067</td> <td>   -7.723</td> <td> 0.000</td> <td>   -0.648</td> <td>   -0.386</td>\n",
       "</tr>\n",
       "<tr>\n",
       "  <th>De 30 à 44 ans</th>                         <td>   -0.1902</td> <td>    0.048</td> <td>   -3.994</td> <td> 0.000</td> <td>   -0.284</td> <td>   -0.097</td>\n",
       "</tr>\n",
       "<tr>\n",
       "  <th>De 60 à 74 ans</th>                         <td>    0.3416</td> <td>    0.053</td> <td>    6.501</td> <td> 0.000</td> <td>    0.239</td> <td>    0.445</td>\n",
       "</tr>\n",
       "<tr>\n",
       "  <th>75 ans et plus</th>                         <td>    0.8534</td> <td>    0.067</td> <td>   12.677</td> <td> 0.000</td> <td>    0.721</td> <td>    0.985</td>\n",
       "</tr>\n",
       "<tr>\n",
       "  <th>Rural et petites villes</th>                <td>   -0.0172</td> <td>    0.043</td> <td>   -0.404</td> <td> 0.686</td> <td>   -0.101</td> <td>    0.066</td>\n",
       "</tr>\n",
       "<tr>\n",
       "  <th>Grande ville</th>                           <td>   -0.2651</td> <td>    0.047</td> <td>   -5.623</td> <td> 0.000</td> <td>   -0.358</td> <td>   -0.173</td>\n",
       "</tr>\n",
       "<tr>\n",
       "  <th>Agglomération parisienne</th>               <td>   -0.1244</td> <td>    0.066</td> <td>   -1.898</td> <td> 0.058</td> <td>   -0.253</td> <td>    0.004</td>\n",
       "</tr>\n",
       "<tr>\n",
       "  <th>D1-3</th>                                   <td>    0.1725</td> <td>    0.041</td> <td>    4.168</td> <td> 0.000</td> <td>    0.091</td> <td>    0.254</td>\n",
       "</tr>\n",
       "<tr>\n",
       "  <th>D8-10</th>                                  <td>   -0.0218</td> <td>    0.052</td> <td>   -0.416</td> <td> 0.677</td> <td>   -0.125</td> <td>    0.081</td>\n",
       "</tr>\n",
       "<tr>\n",
       "  <th>Propriétaire</th>                           <td>    1.5541</td> <td>    0.041</td> <td>   37.876</td> <td> 0.000</td> <td>    1.474</td> <td>    1.634</td>\n",
       "</tr>\n",
       "</table>"
      ],
      "text/latex": [
       "\\begin{center}\n",
       "\\begin{tabular}{lcccccc}\n",
       "\\toprule\n",
       "                                                & \\textbf{coef} & \\textbf{std err} & \\textbf{t} & \\textbf{P$> |$t$|$} & \\textbf{[0.025} & \\textbf{0.975]}  \\\\\n",
       "\\midrule\n",
       "\\textbf{const}                                  &       5.5037  &        0.062     &    89.061  &         0.000        &        5.383    &        5.625     \\\\\n",
       "\\textbf{Autre type de ménage (ménage complexe)} &       0.0301  &        0.088     &     0.341  &         0.733        &       -0.143    &        0.203     \\\\\n",
       "\\textbf{Couple avec au moins un enfant}         &       0.1902  &        0.053     &     3.591  &         0.000        &        0.086    &        0.294     \\\\\n",
       "\\textbf{Couple sans enfant}                     &       0.3603  &        0.051     &     7.094  &         0.000        &        0.261    &        0.460     \\\\\n",
       "\\textbf{Famille monoparentale}                  &       0.1085  &        0.059     &     1.826  &         0.068        &       -0.008    &        0.225     \\\\\n",
       "\\textbf{Moins de 30 ans}                        &      -0.5171  &        0.067     &    -7.723  &         0.000        &       -0.648    &       -0.386     \\\\\n",
       "\\textbf{De 30 à 44 ans}                         &      -0.1902  &        0.048     &    -3.994  &         0.000        &       -0.284    &       -0.097     \\\\\n",
       "\\textbf{De 60 à 74 ans}                         &       0.3416  &        0.053     &     6.501  &         0.000        &        0.239    &        0.445     \\\\\n",
       "\\textbf{75 ans et plus}                         &       0.8534  &        0.067     &    12.677  &         0.000        &        0.721    &        0.985     \\\\\n",
       "\\textbf{Rural et petites villes}                &      -0.0172  &        0.043     &    -0.404  &         0.686        &       -0.101    &        0.066     \\\\\n",
       "\\textbf{Grande ville}                           &      -0.2651  &        0.047     &    -5.623  &         0.000        &       -0.358    &       -0.173     \\\\\n",
       "\\textbf{Agglomération parisienne}               &      -0.1244  &        0.066     &    -1.898  &         0.058        &       -0.253    &        0.004     \\\\\n",
       "\\textbf{D1-3}                                   &       0.1725  &        0.041     &     4.168  &         0.000        &        0.091    &        0.254     \\\\\n",
       "\\textbf{D8-10}                                  &      -0.0218  &        0.052     &    -0.416  &         0.677        &       -0.125    &        0.081     \\\\\n",
       "\\textbf{Propriétaire}                           &       1.5541  &        0.041     &    37.876  &         0.000        &        1.474    &        1.634     \\\\\n",
       "\\bottomrule\n",
       "\\end{tabular}\n",
       "\\end{center}"
      ],
      "text/plain": [
       "<class 'statsmodels.iolib.table.SimpleTable'>"
      ]
     },
     "execution_count": 217,
     "metadata": {},
     "output_type": "execute_result"
    }
   ],
   "source": [
    "results.summary().tables[1]\n"
   ]
  }
 ],
 "metadata": {
  "kernelspec": {
   "display_name": "Python 3",
   "language": "python",
   "name": "python3"
  },
  "language_info": {
   "codemirror_mode": {
    "name": "ipython",
    "version": 3
   },
   "file_extension": ".py",
   "mimetype": "text/x-python",
   "name": "python",
   "nbconvert_exporter": "python",
   "pygments_lexer": "ipython3",
   "version": "3.11.3"
  },
  "orig_nbformat": 4
 },
 "nbformat": 4,
 "nbformat_minor": 2
}
