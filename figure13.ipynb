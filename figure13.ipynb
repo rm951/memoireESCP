{
 "cells": [
  {
   "cell_type": "code",
   "execution_count": 2,
   "metadata": {},
   "outputs": [],
   "source": [
    "import pandas as pd\n",
    "import eurostat"
   ]
  },
  {
   "cell_type": "code",
   "execution_count": 3,
   "metadata": {},
   "outputs": [],
   "source": [
    "df = eurostat.get_data_df(code=\"HBS_STR_T223\")\n",
    "df = df.rename(columns={'geo\\TIME_PERIOD': 'geo', '2015':'OBS_VALUE'})\n"
   ]
  },
  {
   "cell_type": "code",
   "execution_count": 4,
   "metadata": {},
   "outputs": [],
   "source": [
    "# Keep only the rows where TIME_PERIOD is equal to 2015\n",
    "df = df.loc[:, ['quantile','coicop','geo','OBS_VALUE']]\n"
   ]
  },
  {
   "cell_type": "code",
   "execution_count": 5,
   "metadata": {},
   "outputs": [],
   "source": [
    "df_inflation = eurostat.get_data_df(code=\"PRC_HICP_MANR\",filter_pars={'startPeriod':\"2021-03\"})\n",
    "df_inflation = df_inflation.rename(columns={'geo\\TIME_PERIOD': 'geo'})\n"
   ]
  },
  {
   "cell_type": "code",
   "execution_count": 6,
   "metadata": {},
   "outputs": [],
   "source": [
    "merged_df = df.merge(df_inflation, on=[\"coicop\", \"geo\"])\n"
   ]
  },
  {
   "cell_type": "code",
   "execution_count": 7,
   "metadata": {},
   "outputs": [],
   "source": [
    "cols_to_multiply = [col for col in merged_df.columns if col.startswith('202')]\n",
    "merged_df[['w' + col for col in cols_to_multiply]] = merged_df[cols_to_multiply].apply(lambda x: x * merged_df['OBS_VALUE']/1000)\n"
   ]
  },
  {
   "cell_type": "code",
   "execution_count": 8,
   "metadata": {},
   "outputs": [],
   "source": [
    "merged_df_5_chars = merged_df[merged_df['coicop'].str.len() == 5]\n"
   ]
  },
  {
   "cell_type": "code",
   "execution_count": 9,
   "metadata": {},
   "outputs": [
    {
     "name": "stderr",
     "output_type": "stream",
     "text": [
      "C:\\Users\\maxen\\AppData\\Local\\Temp\\ipykernel_12524\\899747291.py:7: SettingWithCopyWarning: \n",
      "A value is trying to be set on a copy of a slice from a DataFrame.\n",
      "Try using .loc[row_indexer,col_indexer] = value instead\n",
      "\n",
      "See the caveats in the documentation: https://pandas.pydata.org/pandas-docs/stable/user_guide/indexing.html#returning-a-view-versus-a-copy\n",
      "  merged_df_5_chars[new_col_name] = merged_df_5_chars.groupby(['geo', 'quantile'])[col].transform('sum')\n",
      "C:\\Users\\maxen\\AppData\\Local\\Temp\\ipykernel_12524\\899747291.py:7: SettingWithCopyWarning: \n",
      "A value is trying to be set on a copy of a slice from a DataFrame.\n",
      "Try using .loc[row_indexer,col_indexer] = value instead\n",
      "\n",
      "See the caveats in the documentation: https://pandas.pydata.org/pandas-docs/stable/user_guide/indexing.html#returning-a-view-versus-a-copy\n",
      "  merged_df_5_chars[new_col_name] = merged_df_5_chars.groupby(['geo', 'quantile'])[col].transform('sum')\n",
      "C:\\Users\\maxen\\AppData\\Local\\Temp\\ipykernel_12524\\899747291.py:7: SettingWithCopyWarning: \n",
      "A value is trying to be set on a copy of a slice from a DataFrame.\n",
      "Try using .loc[row_indexer,col_indexer] = value instead\n",
      "\n",
      "See the caveats in the documentation: https://pandas.pydata.org/pandas-docs/stable/user_guide/indexing.html#returning-a-view-versus-a-copy\n",
      "  merged_df_5_chars[new_col_name] = merged_df_5_chars.groupby(['geo', 'quantile'])[col].transform('sum')\n",
      "C:\\Users\\maxen\\AppData\\Local\\Temp\\ipykernel_12524\\899747291.py:7: SettingWithCopyWarning: \n",
      "A value is trying to be set on a copy of a slice from a DataFrame.\n",
      "Try using .loc[row_indexer,col_indexer] = value instead\n",
      "\n",
      "See the caveats in the documentation: https://pandas.pydata.org/pandas-docs/stable/user_guide/indexing.html#returning-a-view-versus-a-copy\n",
      "  merged_df_5_chars[new_col_name] = merged_df_5_chars.groupby(['geo', 'quantile'])[col].transform('sum')\n",
      "C:\\Users\\maxen\\AppData\\Local\\Temp\\ipykernel_12524\\899747291.py:7: SettingWithCopyWarning: \n",
      "A value is trying to be set on a copy of a slice from a DataFrame.\n",
      "Try using .loc[row_indexer,col_indexer] = value instead\n",
      "\n",
      "See the caveats in the documentation: https://pandas.pydata.org/pandas-docs/stable/user_guide/indexing.html#returning-a-view-versus-a-copy\n",
      "  merged_df_5_chars[new_col_name] = merged_df_5_chars.groupby(['geo', 'quantile'])[col].transform('sum')\n",
      "C:\\Users\\maxen\\AppData\\Local\\Temp\\ipykernel_12524\\899747291.py:7: SettingWithCopyWarning: \n",
      "A value is trying to be set on a copy of a slice from a DataFrame.\n",
      "Try using .loc[row_indexer,col_indexer] = value instead\n",
      "\n",
      "See the caveats in the documentation: https://pandas.pydata.org/pandas-docs/stable/user_guide/indexing.html#returning-a-view-versus-a-copy\n",
      "  merged_df_5_chars[new_col_name] = merged_df_5_chars.groupby(['geo', 'quantile'])[col].transform('sum')\n",
      "C:\\Users\\maxen\\AppData\\Local\\Temp\\ipykernel_12524\\899747291.py:7: SettingWithCopyWarning: \n",
      "A value is trying to be set on a copy of a slice from a DataFrame.\n",
      "Try using .loc[row_indexer,col_indexer] = value instead\n",
      "\n",
      "See the caveats in the documentation: https://pandas.pydata.org/pandas-docs/stable/user_guide/indexing.html#returning-a-view-versus-a-copy\n",
      "  merged_df_5_chars[new_col_name] = merged_df_5_chars.groupby(['geo', 'quantile'])[col].transform('sum')\n",
      "C:\\Users\\maxen\\AppData\\Local\\Temp\\ipykernel_12524\\899747291.py:7: SettingWithCopyWarning: \n",
      "A value is trying to be set on a copy of a slice from a DataFrame.\n",
      "Try using .loc[row_indexer,col_indexer] = value instead\n",
      "\n",
      "See the caveats in the documentation: https://pandas.pydata.org/pandas-docs/stable/user_guide/indexing.html#returning-a-view-versus-a-copy\n",
      "  merged_df_5_chars[new_col_name] = merged_df_5_chars.groupby(['geo', 'quantile'])[col].transform('sum')\n",
      "C:\\Users\\maxen\\AppData\\Local\\Temp\\ipykernel_12524\\899747291.py:7: SettingWithCopyWarning: \n",
      "A value is trying to be set on a copy of a slice from a DataFrame.\n",
      "Try using .loc[row_indexer,col_indexer] = value instead\n",
      "\n",
      "See the caveats in the documentation: https://pandas.pydata.org/pandas-docs/stable/user_guide/indexing.html#returning-a-view-versus-a-copy\n",
      "  merged_df_5_chars[new_col_name] = merged_df_5_chars.groupby(['geo', 'quantile'])[col].transform('sum')\n",
      "C:\\Users\\maxen\\AppData\\Local\\Temp\\ipykernel_12524\\899747291.py:7: SettingWithCopyWarning: \n",
      "A value is trying to be set on a copy of a slice from a DataFrame.\n",
      "Try using .loc[row_indexer,col_indexer] = value instead\n",
      "\n",
      "See the caveats in the documentation: https://pandas.pydata.org/pandas-docs/stable/user_guide/indexing.html#returning-a-view-versus-a-copy\n",
      "  merged_df_5_chars[new_col_name] = merged_df_5_chars.groupby(['geo', 'quantile'])[col].transform('sum')\n",
      "C:\\Users\\maxen\\AppData\\Local\\Temp\\ipykernel_12524\\899747291.py:7: SettingWithCopyWarning: \n",
      "A value is trying to be set on a copy of a slice from a DataFrame.\n",
      "Try using .loc[row_indexer,col_indexer] = value instead\n",
      "\n",
      "See the caveats in the documentation: https://pandas.pydata.org/pandas-docs/stable/user_guide/indexing.html#returning-a-view-versus-a-copy\n",
      "  merged_df_5_chars[new_col_name] = merged_df_5_chars.groupby(['geo', 'quantile'])[col].transform('sum')\n",
      "C:\\Users\\maxen\\AppData\\Local\\Temp\\ipykernel_12524\\899747291.py:7: SettingWithCopyWarning: \n",
      "A value is trying to be set on a copy of a slice from a DataFrame.\n",
      "Try using .loc[row_indexer,col_indexer] = value instead\n",
      "\n",
      "See the caveats in the documentation: https://pandas.pydata.org/pandas-docs/stable/user_guide/indexing.html#returning-a-view-versus-a-copy\n",
      "  merged_df_5_chars[new_col_name] = merged_df_5_chars.groupby(['geo', 'quantile'])[col].transform('sum')\n",
      "C:\\Users\\maxen\\AppData\\Local\\Temp\\ipykernel_12524\\899747291.py:7: SettingWithCopyWarning: \n",
      "A value is trying to be set on a copy of a slice from a DataFrame.\n",
      "Try using .loc[row_indexer,col_indexer] = value instead\n",
      "\n",
      "See the caveats in the documentation: https://pandas.pydata.org/pandas-docs/stable/user_guide/indexing.html#returning-a-view-versus-a-copy\n",
      "  merged_df_5_chars[new_col_name] = merged_df_5_chars.groupby(['geo', 'quantile'])[col].transform('sum')\n",
      "C:\\Users\\maxen\\AppData\\Local\\Temp\\ipykernel_12524\\899747291.py:7: SettingWithCopyWarning: \n",
      "A value is trying to be set on a copy of a slice from a DataFrame.\n",
      "Try using .loc[row_indexer,col_indexer] = value instead\n",
      "\n",
      "See the caveats in the documentation: https://pandas.pydata.org/pandas-docs/stable/user_guide/indexing.html#returning-a-view-versus-a-copy\n",
      "  merged_df_5_chars[new_col_name] = merged_df_5_chars.groupby(['geo', 'quantile'])[col].transform('sum')\n",
      "C:\\Users\\maxen\\AppData\\Local\\Temp\\ipykernel_12524\\899747291.py:7: SettingWithCopyWarning: \n",
      "A value is trying to be set on a copy of a slice from a DataFrame.\n",
      "Try using .loc[row_indexer,col_indexer] = value instead\n",
      "\n",
      "See the caveats in the documentation: https://pandas.pydata.org/pandas-docs/stable/user_guide/indexing.html#returning-a-view-versus-a-copy\n",
      "  merged_df_5_chars[new_col_name] = merged_df_5_chars.groupby(['geo', 'quantile'])[col].transform('sum')\n",
      "C:\\Users\\maxen\\AppData\\Local\\Temp\\ipykernel_12524\\899747291.py:7: SettingWithCopyWarning: \n",
      "A value is trying to be set on a copy of a slice from a DataFrame.\n",
      "Try using .loc[row_indexer,col_indexer] = value instead\n",
      "\n",
      "See the caveats in the documentation: https://pandas.pydata.org/pandas-docs/stable/user_guide/indexing.html#returning-a-view-versus-a-copy\n",
      "  merged_df_5_chars[new_col_name] = merged_df_5_chars.groupby(['geo', 'quantile'])[col].transform('sum')\n",
      "C:\\Users\\maxen\\AppData\\Local\\Temp\\ipykernel_12524\\899747291.py:7: SettingWithCopyWarning: \n",
      "A value is trying to be set on a copy of a slice from a DataFrame.\n",
      "Try using .loc[row_indexer,col_indexer] = value instead\n",
      "\n",
      "See the caveats in the documentation: https://pandas.pydata.org/pandas-docs/stable/user_guide/indexing.html#returning-a-view-versus-a-copy\n",
      "  merged_df_5_chars[new_col_name] = merged_df_5_chars.groupby(['geo', 'quantile'])[col].transform('sum')\n",
      "C:\\Users\\maxen\\AppData\\Local\\Temp\\ipykernel_12524\\899747291.py:7: SettingWithCopyWarning: \n",
      "A value is trying to be set on a copy of a slice from a DataFrame.\n",
      "Try using .loc[row_indexer,col_indexer] = value instead\n",
      "\n",
      "See the caveats in the documentation: https://pandas.pydata.org/pandas-docs/stable/user_guide/indexing.html#returning-a-view-versus-a-copy\n",
      "  merged_df_5_chars[new_col_name] = merged_df_5_chars.groupby(['geo', 'quantile'])[col].transform('sum')\n",
      "C:\\Users\\maxen\\AppData\\Local\\Temp\\ipykernel_12524\\899747291.py:7: SettingWithCopyWarning: \n",
      "A value is trying to be set on a copy of a slice from a DataFrame.\n",
      "Try using .loc[row_indexer,col_indexer] = value instead\n",
      "\n",
      "See the caveats in the documentation: https://pandas.pydata.org/pandas-docs/stable/user_guide/indexing.html#returning-a-view-versus-a-copy\n",
      "  merged_df_5_chars[new_col_name] = merged_df_5_chars.groupby(['geo', 'quantile'])[col].transform('sum')\n",
      "C:\\Users\\maxen\\AppData\\Local\\Temp\\ipykernel_12524\\899747291.py:7: SettingWithCopyWarning: \n",
      "A value is trying to be set on a copy of a slice from a DataFrame.\n",
      "Try using .loc[row_indexer,col_indexer] = value instead\n",
      "\n",
      "See the caveats in the documentation: https://pandas.pydata.org/pandas-docs/stable/user_guide/indexing.html#returning-a-view-versus-a-copy\n",
      "  merged_df_5_chars[new_col_name] = merged_df_5_chars.groupby(['geo', 'quantile'])[col].transform('sum')\n",
      "C:\\Users\\maxen\\AppData\\Local\\Temp\\ipykernel_12524\\899747291.py:7: SettingWithCopyWarning: \n",
      "A value is trying to be set on a copy of a slice from a DataFrame.\n",
      "Try using .loc[row_indexer,col_indexer] = value instead\n",
      "\n",
      "See the caveats in the documentation: https://pandas.pydata.org/pandas-docs/stable/user_guide/indexing.html#returning-a-view-versus-a-copy\n",
      "  merged_df_5_chars[new_col_name] = merged_df_5_chars.groupby(['geo', 'quantile'])[col].transform('sum')\n",
      "C:\\Users\\maxen\\AppData\\Local\\Temp\\ipykernel_12524\\899747291.py:7: SettingWithCopyWarning: \n",
      "A value is trying to be set on a copy of a slice from a DataFrame.\n",
      "Try using .loc[row_indexer,col_indexer] = value instead\n",
      "\n",
      "See the caveats in the documentation: https://pandas.pydata.org/pandas-docs/stable/user_guide/indexing.html#returning-a-view-versus-a-copy\n",
      "  merged_df_5_chars[new_col_name] = merged_df_5_chars.groupby(['geo', 'quantile'])[col].transform('sum')\n",
      "C:\\Users\\maxen\\AppData\\Local\\Temp\\ipykernel_12524\\899747291.py:7: SettingWithCopyWarning: \n",
      "A value is trying to be set on a copy of a slice from a DataFrame.\n",
      "Try using .loc[row_indexer,col_indexer] = value instead\n",
      "\n",
      "See the caveats in the documentation: https://pandas.pydata.org/pandas-docs/stable/user_guide/indexing.html#returning-a-view-versus-a-copy\n",
      "  merged_df_5_chars[new_col_name] = merged_df_5_chars.groupby(['geo', 'quantile'])[col].transform('sum')\n",
      "C:\\Users\\maxen\\AppData\\Local\\Temp\\ipykernel_12524\\899747291.py:7: SettingWithCopyWarning: \n",
      "A value is trying to be set on a copy of a slice from a DataFrame.\n",
      "Try using .loc[row_indexer,col_indexer] = value instead\n",
      "\n",
      "See the caveats in the documentation: https://pandas.pydata.org/pandas-docs/stable/user_guide/indexing.html#returning-a-view-versus-a-copy\n",
      "  merged_df_5_chars[new_col_name] = merged_df_5_chars.groupby(['geo', 'quantile'])[col].transform('sum')\n",
      "C:\\Users\\maxen\\AppData\\Local\\Temp\\ipykernel_12524\\899747291.py:7: SettingWithCopyWarning: \n",
      "A value is trying to be set on a copy of a slice from a DataFrame.\n",
      "Try using .loc[row_indexer,col_indexer] = value instead\n",
      "\n",
      "See the caveats in the documentation: https://pandas.pydata.org/pandas-docs/stable/user_guide/indexing.html#returning-a-view-versus-a-copy\n",
      "  merged_df_5_chars[new_col_name] = merged_df_5_chars.groupby(['geo', 'quantile'])[col].transform('sum')\n",
      "C:\\Users\\maxen\\AppData\\Local\\Temp\\ipykernel_12524\\899747291.py:7: SettingWithCopyWarning: \n",
      "A value is trying to be set on a copy of a slice from a DataFrame.\n",
      "Try using .loc[row_indexer,col_indexer] = value instead\n",
      "\n",
      "See the caveats in the documentation: https://pandas.pydata.org/pandas-docs/stable/user_guide/indexing.html#returning-a-view-versus-a-copy\n",
      "  merged_df_5_chars[new_col_name] = merged_df_5_chars.groupby(['geo', 'quantile'])[col].transform('sum')\n"
     ]
    }
   ],
   "source": [
    "columns_to_sum = [col for col in merged_df_5_chars.columns if col.startswith('w')]\n",
    "                  \n",
    "summed_columns = []\n",
    "for col in columns_to_sum:\n",
    "    new_col_name = col[1:]\n",
    "    summed_columns.append(new_col_name)\n",
    "    merged_df_5_chars[new_col_name] = merged_df_5_chars.groupby(['geo', 'quantile'])[col].transform('sum')\n",
    "\n",
    "df_inflation_by_quintile = merged_df_5_chars[['geo', 'quantile'] + summed_columns].drop_duplicates()"
   ]
  },
  {
   "cell_type": "code",
   "execution_count": 10,
   "metadata": {},
   "outputs": [],
   "source": [
    "# For EU27_2020, only the groups of coicop with 4 characters have value\n",
    "\n",
    "merged_df_4_chars = merged_df[merged_df['coicop'].str.len() == 4]\n",
    "merged_df_4_chars = merged_df_4_chars.loc[(merged_df_4_chars['geo'] == 'EU27_2020')]\n",
    "summed_columns = []\n",
    "for col in columns_to_sum:\n",
    "    new_col_name = col[1:]\n",
    "    summed_columns.append(new_col_name)\n",
    "    merged_df_4_chars[new_col_name] = merged_df_4_chars.groupby(['geo', 'quantile'])[col].transform('sum')\n",
    "\n",
    "df_inflation_by_quintile_eu27 = merged_df_4_chars[['geo', 'quantile'] + summed_columns].drop_duplicates()\n"
   ]
  },
  {
   "cell_type": "code",
   "execution_count": 11,
   "metadata": {},
   "outputs": [],
   "source": [
    "df_inflation_by_quintile = pd.concat([df_inflation_by_quintile, df_inflation_by_quintile_eu27])"
   ]
  },
  {
   "cell_type": "code",
   "execution_count": 12,
   "metadata": {},
   "outputs": [],
   "source": [
    "# we drop Italy and EA because they don't have the values, and TR because they have a crazy high inflation\n",
    "df_inflation_by_quintile = df_inflation_by_quintile.loc[~df_inflation_by_quintile['geo'].isin(['IT', 'EA', 'TR'])]"
   ]
  },
  {
   "cell_type": "code",
   "execution_count": 13,
   "metadata": {},
   "outputs": [],
   "source": [
    "value_vars = df_inflation_by_quintile.filter(regex='^202').columns\n"
   ]
  },
  {
   "cell_type": "code",
   "execution_count": 14,
   "metadata": {},
   "outputs": [],
   "source": [
    "df_inflation_by_quintile_melt = df_inflation_by_quintile.melt(id_vars=[\"geo\", \"quantile\"], value_vars=value_vars, var_name=\"month\", value_name=\"inflation\")"
   ]
  },
  {
   "cell_type": "code",
   "execution_count": 15,
   "metadata": {},
   "outputs": [],
   "source": [
    "df_pivot = df_inflation_by_quintile_melt.pivot_table(index=['geo', 'month'], columns='quantile', values='inflation').reset_index()\n",
    "\n",
    "df_pivot['Q1/Q5'] = df_pivot['QUINTILE1'] / df_pivot['QUINTILE5']\n",
    "\n",
    "quintile_columns = ['QUINTILE1', 'QUINTILE2', 'QUINTILE3', 'QUINTILE4', 'QUINTILE5']\n",
    "quintiles_df = df_pivot[quintile_columns]\n",
    "\n",
    "df_pivot['normalized_std'] = quintiles_df.std(axis=1) / quintiles_df.mean(axis=1)\n",
    "\n",
    "df_pivot['Q1-Q5'] = df_pivot['QUINTILE1'] - df_pivot['QUINTILE5']\n",
    "df_pivot['(Q1-Q5)/Q1'] = (df_pivot['QUINTILE1'] - df_pivot['QUINTILE5'])/df_pivot['QUINTILE1']\n",
    "\n",
    "df_inflation_by_quintile = df_pivot.reset_index(drop=True)\n",
    "df_inflation_by_quintile = df_inflation_by_quintile.drop([\"UNK\"], axis=1)"
   ]
  },
  {
   "attachments": {},
   "cell_type": "markdown",
   "metadata": {},
   "source": [
    "# Energy inflation"
   ]
  },
  {
   "cell_type": "code",
   "execution_count": 16,
   "metadata": {},
   "outputs": [],
   "source": [
    "df_inflation_NRG = df_inflation[df_inflation[\"coicop\"] == \"NRG\"]"
   ]
  },
  {
   "cell_type": "code",
   "execution_count": 17,
   "metadata": {},
   "outputs": [],
   "source": [
    "df_inflation_NRG = df_inflation_NRG.melt(id_vars=[\"geo\"], value_vars=value_vars, var_name=\"month\", value_name=\"inflationNRG\")"
   ]
  },
  {
   "cell_type": "code",
   "execution_count": 18,
   "metadata": {},
   "outputs": [],
   "source": [
    "df_inflation_by_quintile = df_inflation_by_quintile.merge(df_inflation_NRG, on=[\"geo\", \"month\"])"
   ]
  },
  {
   "attachments": {},
   "cell_type": "markdown",
   "metadata": {},
   "source": [
    "# Food inflation"
   ]
  },
  {
   "cell_type": "code",
   "execution_count": 19,
   "metadata": {},
   "outputs": [],
   "source": [
    "df_inflation_FOOD = df_inflation[df_inflation[\"coicop\"] == \"FOOD\"]"
   ]
  },
  {
   "cell_type": "code",
   "execution_count": 20,
   "metadata": {},
   "outputs": [],
   "source": [
    "df_inflation_FOOD = df_inflation_FOOD.melt(id_vars=[\"geo\"], value_vars=value_vars, var_name=\"month\", value_name=\"inflationFOOD\")"
   ]
  },
  {
   "cell_type": "code",
   "execution_count": 21,
   "metadata": {},
   "outputs": [],
   "source": [
    "df_inflation_by_quintile = df_inflation_by_quintile.merge(df_inflation_FOOD, on=[\"geo\", \"month\"])"
   ]
  },
  {
   "attachments": {},
   "cell_type": "markdown",
   "metadata": {},
   "source": [
    "# Gini"
   ]
  },
  {
   "cell_type": "code",
   "execution_count": 22,
   "metadata": {},
   "outputs": [],
   "source": [
    "gini = eurostat.get_data_df(code=\"TESSI190\")"
   ]
  },
  {
   "cell_type": "code",
   "execution_count": 23,
   "metadata": {},
   "outputs": [],
   "source": [
    "import numpy as np\n",
    "\n",
    "def get_most_recent(row):\n",
    "    for year in range(2022, 2010, -1):\n",
    "        if not pd.isnull(row[str(year)]):\n",
    "            return row[str(year)]\n",
    "    return np.nan\n",
    "\n",
    "gini[\"most_recent\"] = gini.apply(get_most_recent, axis=1)\n",
    "gini = gini.rename(columns={\"geo\\TIME_PERIOD\": \"geo\"})\n",
    "gini = gini.loc[:, [\"geo\", \"most_recent\"]]\n",
    "gini = gini.rename(columns={\"most_recent\": \"gini\"})\n"
   ]
  },
  {
   "cell_type": "code",
   "execution_count": 24,
   "metadata": {},
   "outputs": [],
   "source": [
    "df_inflation_by_quintile = df_inflation_by_quintile.merge(gini, on=\"geo\")"
   ]
  },
  {
   "attachments": {},
   "cell_type": "markdown",
   "metadata": {},
   "source": [
    "# Price levels"
   ]
  },
  {
   "cell_type": "code",
   "execution_count": 25,
   "metadata": {},
   "outputs": [],
   "source": [
    "price_levels_energy = eurostat.get_data_df(code=\"prc_ppp_ind\", filter_pars={'startPeriod':\"2021\", \"endPeriod\":\"2021\", \"ppp_cat\":[\"A010405\"], \"na_item\":\"PLI_EU27_2020\"})\n",
    "price_levels_energy = price_levels_energy.rename(columns={\"geo\\TIME_PERIOD\":\"geo\", \"2021\": \"energy_price_level\"})\n",
    "price_levels_energy = price_levels_energy.loc[:, [\"geo\", \"energy_price_level\"]]\n",
    "\n"
   ]
  },
  {
   "cell_type": "code",
   "execution_count": 26,
   "metadata": {},
   "outputs": [],
   "source": [
    "df_inflation_by_quintile = df_inflation_by_quintile.merge(right=price_levels_energy, on=\"geo\")"
   ]
  },
  {
   "cell_type": "code",
   "execution_count": 27,
   "metadata": {},
   "outputs": [],
   "source": [
    "price_levels_transport = eurostat.get_data_df(code=\"prc_ppp_ind\", filter_pars={'startPeriod':\"2021\", \"endPeriod\":\"2021\", \"ppp_cat\":[\"A0107\"], \"na_item\":\"PLI_EU27_2020\"})\n",
    "price_levels_transport = price_levels_transport.rename(columns={\"geo\\TIME_PERIOD\":\"geo\", \"2021\": \"transport_price_level\"})\n",
    "price_levels_transport = price_levels_transport.loc[:, [\"geo\", \"transport_price_level\"]]"
   ]
  },
  {
   "cell_type": "code",
   "execution_count": 28,
   "metadata": {},
   "outputs": [],
   "source": [
    "df_inflation_by_quintile = df_inflation_by_quintile.merge(right=price_levels_transport, on=\"geo\")"
   ]
  },
  {
   "attachments": {},
   "cell_type": "markdown",
   "metadata": {},
   "source": [
    "# GDP per capita"
   ]
  },
  {
   "cell_type": "code",
   "execution_count": 29,
   "metadata": {},
   "outputs": [],
   "source": [
    "code = \"NAMA_10_PC\"\n",
    "gdp = eurostat.get_data_df(code=code, filter_pars={'startPeriod':\"2021\", \"endPeriod\":\"2021\", \"unit\": \"CP_EUR_HAB\", \"na_item\":\"B1GQ\"})\n",
    "gdp = gdp.rename(columns={\"geo\\TIME_PERIOD\":\"geo\", \"2021\": \"gdp\"})\n",
    "gdp = gdp.loc[:, [\"geo\", \"gdp\"]]"
   ]
  },
  {
   "cell_type": "code",
   "execution_count": 30,
   "metadata": {},
   "outputs": [],
   "source": [
    "df_inflation_by_quintile = df_inflation_by_quintile.merge(right=gdp, on=\"geo\")"
   ]
  },
  {
   "attachments": {},
   "cell_type": "markdown",
   "metadata": {},
   "source": [
    "# Government expenditure"
   ]
  },
  {
   "cell_type": "code",
   "execution_count": 31,
   "metadata": {},
   "outputs": [],
   "source": [
    "code = \"GOV_10A_EXP\"\n",
    "gov_exp = eurostat.get_data_df(code=code, filter_pars={'startPeriod':\"2021\", \"endPeriod\":\"2021\", \"na_item\":\"TE\", \"sector\":\"S13\", \"unit\":\"PC_GDP\", \"cofog99\": \"TOTAL\"})\n",
    "gov_exp = gov_exp.rename(columns={\"geo\\TIME_PERIOD\":\"geo\", \"2021\": \"gov_exp\"})\n",
    "gov_exp = gov_exp.loc[:, [\"geo\", \"gov_exp\"]]"
   ]
  },
  {
   "cell_type": "code",
   "execution_count": 32,
   "metadata": {},
   "outputs": [],
   "source": [
    "df_inflation_by_quintile = df_inflation_by_quintile.merge(right=gov_exp, on=\"geo\")"
   ]
  },
  {
   "cell_type": "code",
   "execution_count": 33,
   "metadata": {},
   "outputs": [],
   "source": [
    "code = \"GOV_10A_EXP\"\n",
    "gov_exp_social = eurostat.get_data_df(code=code, filter_pars={'startPeriod':\"2021\", \"endPeriod\":\"2021\", \"na_item\":\"TE\", \"sector\":\"S13\", \"unit\":\"PC_GDP\", \"cofog99\": \"GF10\"})\n",
    "gov_exp_social = gov_exp_social.rename(columns={\"geo\\TIME_PERIOD\":\"geo\", \"2021\": \"gov_exp_social\"})\n",
    "gov_exp_social = gov_exp_social.loc[:, [\"geo\", \"gov_exp_social\"]]"
   ]
  },
  {
   "cell_type": "code",
   "execution_count": 34,
   "metadata": {},
   "outputs": [],
   "source": [
    "df_inflation_by_quintile = df_inflation_by_quintile.merge(right=gov_exp_social, on=\"geo\")"
   ]
  },
  {
   "attachments": {},
   "cell_type": "markdown",
   "metadata": {},
   "source": [
    "# Urbanisation"
   ]
  },
  {
   "cell_type": "code",
   "execution_count": 35,
   "metadata": {},
   "outputs": [],
   "source": [
    "code = \"ILC_LVHO01\"\n",
    "urbanisation = eurostat.get_data_df(code=code, filter_pars={\"endPeriod\":\"2022\", \"incgrp\":\"TOTAL\", \"building\": \"TOTAL\", \"deg_urb\": \"DEG1\"})\n",
    "\n",
    "urbanisation[\"most_recent\"] = urbanisation.apply(get_most_recent, axis=1)\n",
    "\n",
    "\n",
    "urbanisation = urbanisation.rename(columns={\"geo\\TIME_PERIOD\":\"geo\", \"most_recent\": \"urbanisation\"})\n",
    "urbanisation = urbanisation.loc[:, [\"geo\", \"urbanisation\"]]"
   ]
  },
  {
   "cell_type": "code",
   "execution_count": 36,
   "metadata": {},
   "outputs": [],
   "source": [
    "df_inflation_by_quintile = df_inflation_by_quintile.merge(urbanisation, on=\"geo\")"
   ]
  },
  {
   "attachments": {},
   "cell_type": "markdown",
   "metadata": {},
   "source": [
    "# Share of electric consumption in final energy consumption"
   ]
  },
  {
   "cell_type": "code",
   "execution_count": 37,
   "metadata": {},
   "outputs": [],
   "source": [
    "code = \"NRG_IND_FECF\"\n",
    "electric_share = eurostat.get_data_df(code=code, filter_pars={\"startPeriod\":\"2021\", \"endPeriod\":\"2021\", \"nrg_bal\":\"FC_E\",\"siec\":\"E7000\"})\n",
    "\n",
    "\n",
    "\n",
    "electric_share = electric_share.rename(columns={\"geo\\TIME_PERIOD\":\"geo\", \"2021\": \"electric_share\"})\n",
    "electric_share = electric_share.loc[:, [\"geo\", \"electric_share\"]]"
   ]
  },
  {
   "cell_type": "code",
   "execution_count": 38,
   "metadata": {},
   "outputs": [],
   "source": [
    "df_inflation_by_quintile = df_inflation_by_quintile.merge(electric_share, on=\"geo\")"
   ]
  },
  {
   "attachments": {},
   "cell_type": "markdown",
   "metadata": {},
   "source": [
    "# At-risk-of-poverty rate before social transfers"
   ]
  },
  {
   "cell_type": "code",
   "execution_count": 39,
   "metadata": {},
   "outputs": [],
   "source": [
    "code = \"ILC_LI10\"\n",
    "poverty = eurostat.get_data_df(code=code, filter_pars={\"startPeriod\":\"2011\", \"endPeriod\":\"2022\", \"age\": \"total\", \"indic_il\":\"LI_R_MD60BT\", \"sex\":\"T\"})\n",
    "\n",
    "poverty[\"most_recent\"] = poverty.apply(get_most_recent, axis=1)\n",
    "\n",
    "\n",
    "poverty = poverty.rename(columns={\"geo\\TIME_PERIOD\":\"geo\", \"most_recent\": \"poverty\"})\n",
    "poverty = poverty.loc[:, [\"geo\", \"poverty\"]]"
   ]
  },
  {
   "cell_type": "code",
   "execution_count": 40,
   "metadata": {},
   "outputs": [],
   "source": [
    "df_inflation_by_quintile = df_inflation_by_quintile.merge(poverty, on=\"geo\")"
   ]
  },
  {
   "attachments": {},
   "cell_type": "markdown",
   "metadata": {},
   "source": [
    "# Import"
   ]
  },
  {
   "cell_type": "code",
   "execution_count": 41,
   "metadata": {},
   "outputs": [],
   "source": [
    "code = \"TET00004\"\n",
    "importation = eurostat.get_data_df(code=code, filter_pars={\"startPeriod\":\"2011\", \"endPeriod\":\"2021\"})\n",
    "\n",
    "\n",
    "importation = importation.rename(columns={\"geo\\TIME_PERIOD\":\"geo\", \"2021\": \"importation\"})\n",
    "importation = importation.loc[:, [\"geo\", \"importation\"]]"
   ]
  },
  {
   "cell_type": "code",
   "execution_count": 42,
   "metadata": {},
   "outputs": [],
   "source": [
    "df_inflation_by_quintile = df_inflation_by_quintile.merge(importation, on=\"geo\")"
   ]
  },
  {
   "attachments": {},
   "cell_type": "markdown",
   "metadata": {},
   "source": [
    "# Analysis"
   ]
  },
  {
   "cell_type": "code",
   "execution_count": 43,
   "metadata": {},
   "outputs": [],
   "source": [
    "df_inflation_by_quintile = df_inflation_by_quintile.dropna()"
   ]
  },
  {
   "cell_type": "code",
   "execution_count": 44,
   "metadata": {},
   "outputs": [
    {
     "data": {
      "text/html": [
       "<div>\n",
       "<style scoped>\n",
       "    .dataframe tbody tr th:only-of-type {\n",
       "        vertical-align: middle;\n",
       "    }\n",
       "\n",
       "    .dataframe tbody tr th {\n",
       "        vertical-align: top;\n",
       "    }\n",
       "\n",
       "    .dataframe thead th {\n",
       "        text-align: right;\n",
       "    }\n",
       "</style>\n",
       "<table border=\"1\" class=\"dataframe\">\n",
       "  <thead>\n",
       "    <tr style=\"text-align: right;\">\n",
       "      <th></th>\n",
       "      <th>QUINTILE1</th>\n",
       "      <th>QUINTILE2</th>\n",
       "      <th>QUINTILE3</th>\n",
       "      <th>QUINTILE4</th>\n",
       "      <th>QUINTILE5</th>\n",
       "      <th>Q1/Q5</th>\n",
       "      <th>normalized_std</th>\n",
       "      <th>Q1-Q5</th>\n",
       "      <th>(Q1-Q5)/Q1</th>\n",
       "      <th>inflationNRG</th>\n",
       "      <th>...</th>\n",
       "      <th>gini</th>\n",
       "      <th>energy_price_level</th>\n",
       "      <th>transport_price_level</th>\n",
       "      <th>gdp</th>\n",
       "      <th>gov_exp</th>\n",
       "      <th>gov_exp_social</th>\n",
       "      <th>urbanisation</th>\n",
       "      <th>electric_share</th>\n",
       "      <th>poverty</th>\n",
       "      <th>importation</th>\n",
       "    </tr>\n",
       "  </thead>\n",
       "  <tbody>\n",
       "    <tr>\n",
       "      <th>count</th>\n",
       "      <td>700.000000</td>\n",
       "      <td>700.000000</td>\n",
       "      <td>700.000000</td>\n",
       "      <td>700.000000</td>\n",
       "      <td>700.000000</td>\n",
       "      <td>700.000000</td>\n",
       "      <td>700.000000</td>\n",
       "      <td>700.000000</td>\n",
       "      <td>700.000000</td>\n",
       "      <td>700.000000</td>\n",
       "      <td>...</td>\n",
       "      <td>700.000000</td>\n",
       "      <td>700.000000</td>\n",
       "      <td>700.000000</td>\n",
       "      <td>700.000000</td>\n",
       "      <td>700.000000</td>\n",
       "      <td>700.000000</td>\n",
       "      <td>700.000000</td>\n",
       "      <td>700.000000</td>\n",
       "      <td>700.000000</td>\n",
       "      <td>700.000000</td>\n",
       "    </tr>\n",
       "    <tr>\n",
       "      <th>mean</th>\n",
       "      <td>7.271781</td>\n",
       "      <td>7.112183</td>\n",
       "      <td>7.043678</td>\n",
       "      <td>6.962606</td>\n",
       "      <td>6.775261</td>\n",
       "      <td>1.006081</td>\n",
       "      <td>0.071568</td>\n",
       "      <td>0.496520</td>\n",
       "      <td>-0.021545</td>\n",
       "      <td>25.014429</td>\n",
       "      <td>...</td>\n",
       "      <td>29.189286</td>\n",
       "      <td>89.735714</td>\n",
       "      <td>95.275000</td>\n",
       "      <td>35475.714286</td>\n",
       "      <td>47.167857</td>\n",
       "      <td>17.114286</td>\n",
       "      <td>37.653571</td>\n",
       "      <td>24.028214</td>\n",
       "      <td>25.792857</td>\n",
       "      <td>67.346429</td>\n",
       "    </tr>\n",
       "    <tr>\n",
       "      <th>std</th>\n",
       "      <td>5.741714</td>\n",
       "      <td>5.399576</td>\n",
       "      <td>5.135835</td>\n",
       "      <td>4.924312</td>\n",
       "      <td>4.636832</td>\n",
       "      <td>1.088487</td>\n",
       "      <td>0.101829</td>\n",
       "      <td>1.518120</td>\n",
       "      <td>0.795889</td>\n",
       "      <td>18.960473</td>\n",
       "      <td>...</td>\n",
       "      <td>3.836458</td>\n",
       "      <td>20.901571</td>\n",
       "      <td>18.372198</td>\n",
       "      <td>23768.248231</td>\n",
       "      <td>6.894051</td>\n",
       "      <td>4.032479</td>\n",
       "      <td>9.980004</td>\n",
       "      <td>7.653508</td>\n",
       "      <td>3.574961</td>\n",
       "      <td>32.978767</td>\n",
       "    </tr>\n",
       "    <tr>\n",
       "      <th>min</th>\n",
       "      <td>-1.012000</td>\n",
       "      <td>-0.981100</td>\n",
       "      <td>-1.033400</td>\n",
       "      <td>-1.056200</td>\n",
       "      <td>-1.206500</td>\n",
       "      <td>-21.647059</td>\n",
       "      <td>-1.293301</td>\n",
       "      <td>-2.862700</td>\n",
       "      <td>-5.299442</td>\n",
       "      <td>-28.200000</td>\n",
       "      <td>...</td>\n",
       "      <td>21.800000</td>\n",
       "      <td>47.600000</td>\n",
       "      <td>69.100000</td>\n",
       "      <td>10330.000000</td>\n",
       "      <td>24.800000</td>\n",
       "      <td>8.700000</td>\n",
       "      <td>18.900000</td>\n",
       "      <td>14.560000</td>\n",
       "      <td>16.100000</td>\n",
       "      <td>28.800000</td>\n",
       "    </tr>\n",
       "    <tr>\n",
       "      <th>25%</th>\n",
       "      <td>2.846775</td>\n",
       "      <td>2.936775</td>\n",
       "      <td>3.144425</td>\n",
       "      <td>3.237025</td>\n",
       "      <td>3.288650</td>\n",
       "      <td>0.911086</td>\n",
       "      <td>0.030149</td>\n",
       "      <td>-0.400250</td>\n",
       "      <td>-0.094847</td>\n",
       "      <td>12.100000</td>\n",
       "      <td>...</td>\n",
       "      <td>26.750000</td>\n",
       "      <td>74.750000</td>\n",
       "      <td>82.050000</td>\n",
       "      <td>18292.500000</td>\n",
       "      <td>43.475000</td>\n",
       "      <td>13.575000</td>\n",
       "      <td>31.025000</td>\n",
       "      <td>20.240000</td>\n",
       "      <td>23.000000</td>\n",
       "      <td>45.850000</td>\n",
       "    </tr>\n",
       "    <tr>\n",
       "      <th>50%</th>\n",
       "      <td>6.115050</td>\n",
       "      <td>5.995350</td>\n",
       "      <td>5.995900</td>\n",
       "      <td>6.018200</td>\n",
       "      <td>5.922450</td>\n",
       "      <td>1.043885</td>\n",
       "      <td>0.053085</td>\n",
       "      <td>0.246450</td>\n",
       "      <td>0.043403</td>\n",
       "      <td>22.050000</td>\n",
       "      <td>...</td>\n",
       "      <td>29.250000</td>\n",
       "      <td>92.000000</td>\n",
       "      <td>91.050000</td>\n",
       "      <td>26090.000000</td>\n",
       "      <td>48.050000</td>\n",
       "      <td>17.600000</td>\n",
       "      <td>37.600000</td>\n",
       "      <td>22.040000</td>\n",
       "      <td>25.750000</td>\n",
       "      <td>57.450000</td>\n",
       "    </tr>\n",
       "    <tr>\n",
       "      <th>75%</th>\n",
       "      <td>9.875950</td>\n",
       "      <td>9.391025</td>\n",
       "      <td>9.201350</td>\n",
       "      <td>9.155200</td>\n",
       "      <td>8.880950</td>\n",
       "      <td>1.155246</td>\n",
       "      <td>0.092687</td>\n",
       "      <td>0.987125</td>\n",
       "      <td>0.135949</td>\n",
       "      <td>35.075000</td>\n",
       "      <td>...</td>\n",
       "      <td>31.925000</td>\n",
       "      <td>103.650000</td>\n",
       "      <td>107.225000</td>\n",
       "      <td>45257.500000</td>\n",
       "      <td>50.925000</td>\n",
       "      <td>20.600000</td>\n",
       "      <td>43.325000</td>\n",
       "      <td>25.907500</td>\n",
       "      <td>27.600000</td>\n",
       "      <td>79.000000</td>\n",
       "    </tr>\n",
       "    <tr>\n",
       "      <th>max</th>\n",
       "      <td>34.990300</td>\n",
       "      <td>31.546600</td>\n",
       "      <td>27.866700</td>\n",
       "      <td>25.908300</td>\n",
       "      <td>23.498800</td>\n",
       "      <td>16.727099</td>\n",
       "      <td>0.780795</td>\n",
       "      <td>11.491500</td>\n",
       "      <td>17.398876</td>\n",
       "      <td>113.800000</td>\n",
       "      <td>...</td>\n",
       "      <td>38.400000</td>\n",
       "      <td>130.400000</td>\n",
       "      <td>138.500000</td>\n",
       "      <td>112780.000000</td>\n",
       "      <td>59.000000</td>\n",
       "      <td>24.800000</td>\n",
       "      <td>59.600000</td>\n",
       "      <td>51.010000</td>\n",
       "      <td>32.800000</td>\n",
       "      <td>176.700000</td>\n",
       "    </tr>\n",
       "  </tbody>\n",
       "</table>\n",
       "<p>8 rows × 21 columns</p>\n",
       "</div>"
      ],
      "text/plain": [
       "        QUINTILE1   QUINTILE2   QUINTILE3   QUINTILE4   QUINTILE5       Q1/Q5   \n",
       "count  700.000000  700.000000  700.000000  700.000000  700.000000  700.000000  \\\n",
       "mean     7.271781    7.112183    7.043678    6.962606    6.775261    1.006081   \n",
       "std      5.741714    5.399576    5.135835    4.924312    4.636832    1.088487   \n",
       "min     -1.012000   -0.981100   -1.033400   -1.056200   -1.206500  -21.647059   \n",
       "25%      2.846775    2.936775    3.144425    3.237025    3.288650    0.911086   \n",
       "50%      6.115050    5.995350    5.995900    6.018200    5.922450    1.043885   \n",
       "75%      9.875950    9.391025    9.201350    9.155200    8.880950    1.155246   \n",
       "max     34.990300   31.546600   27.866700   25.908300   23.498800   16.727099   \n",
       "\n",
       "       normalized_std       Q1-Q5  (Q1-Q5)/Q1  inflationNRG  ...        gini   \n",
       "count      700.000000  700.000000  700.000000    700.000000  ...  700.000000  \\\n",
       "mean         0.071568    0.496520   -0.021545     25.014429  ...   29.189286   \n",
       "std          0.101829    1.518120    0.795889     18.960473  ...    3.836458   \n",
       "min         -1.293301   -2.862700   -5.299442    -28.200000  ...   21.800000   \n",
       "25%          0.030149   -0.400250   -0.094847     12.100000  ...   26.750000   \n",
       "50%          0.053085    0.246450    0.043403     22.050000  ...   29.250000   \n",
       "75%          0.092687    0.987125    0.135949     35.075000  ...   31.925000   \n",
       "max          0.780795   11.491500   17.398876    113.800000  ...   38.400000   \n",
       "\n",
       "       energy_price_level  transport_price_level            gdp     gov_exp   \n",
       "count          700.000000             700.000000     700.000000  700.000000  \\\n",
       "mean            89.735714              95.275000   35475.714286   47.167857   \n",
       "std             20.901571              18.372198   23768.248231    6.894051   \n",
       "min             47.600000              69.100000   10330.000000   24.800000   \n",
       "25%             74.750000              82.050000   18292.500000   43.475000   \n",
       "50%             92.000000              91.050000   26090.000000   48.050000   \n",
       "75%            103.650000             107.225000   45257.500000   50.925000   \n",
       "max            130.400000             138.500000  112780.000000   59.000000   \n",
       "\n",
       "       gov_exp_social  urbanisation  electric_share     poverty  importation  \n",
       "count      700.000000    700.000000      700.000000  700.000000   700.000000  \n",
       "mean        17.114286     37.653571       24.028214   25.792857    67.346429  \n",
       "std          4.032479      9.980004        7.653508    3.574961    32.978767  \n",
       "min          8.700000     18.900000       14.560000   16.100000    28.800000  \n",
       "25%         13.575000     31.025000       20.240000   23.000000    45.850000  \n",
       "50%         17.600000     37.600000       22.040000   25.750000    57.450000  \n",
       "75%         20.600000     43.325000       25.907500   27.600000    79.000000  \n",
       "max         24.800000     59.600000       51.010000   32.800000   176.700000  \n",
       "\n",
       "[8 rows x 21 columns]"
      ]
     },
     "execution_count": 44,
     "metadata": {},
     "output_type": "execute_result"
    }
   ],
   "source": [
    "df_inflation_by_quintile.describe()"
   ]
  },
  {
   "cell_type": "code",
   "execution_count": 45,
   "metadata": {},
   "outputs": [
    {
     "data": {
      "text/plain": [
       "geo                       object\n",
       "month                     object\n",
       "QUINTILE1                float64\n",
       "QUINTILE2                float64\n",
       "QUINTILE3                float64\n",
       "QUINTILE4                float64\n",
       "QUINTILE5                float64\n",
       "Q1/Q5                    float64\n",
       "normalized_std           float64\n",
       "Q1-Q5                    float64\n",
       "(Q1-Q5)/Q1               float64\n",
       "inflationNRG             float64\n",
       "inflationFOOD            float64\n",
       "gini                     float64\n",
       "energy_price_level       float64\n",
       "transport_price_level    float64\n",
       "gdp                      float64\n",
       "gov_exp                  float64\n",
       "gov_exp_social           float64\n",
       "urbanisation             float64\n",
       "electric_share           float64\n",
       "poverty                  float64\n",
       "importation              float64\n",
       "dtype: object"
      ]
     },
     "execution_count": 45,
     "metadata": {},
     "output_type": "execute_result"
    }
   ],
   "source": [
    "df_inflation_by_quintile.dtypes"
   ]
  },
  {
   "cell_type": "code",
   "execution_count": 46,
   "metadata": {},
   "outputs": [
    {
     "name": "stdout",
     "output_type": "stream",
     "text": [
      "                            OLS Regression Results                            \n",
      "==============================================================================\n",
      "Dep. Variable:                  Q1/Q5   R-squared:                       0.058\n",
      "Model:                            OLS   Adj. R-squared:                  0.033\n",
      "Method:                 Least Squares   F-statistic:                     2.334\n",
      "Date:                Mon, 08 May 2023   Prob (F-statistic):            0.00141\n",
      "Time:                        02:26:17   Log-Likelihood:                -4254.8\n",
      "No. Observations:                 700   AIC:                             8548.\n",
      "Df Residuals:                     681   BIC:                             8634.\n",
      "Df Model:                          18                                         \n",
      "Covariance Type:            nonrobust                                         \n",
      "=========================================================================================\n",
      "                            coef    std err          t      P>|t|      [0.025      0.975]\n",
      "-----------------------------------------------------------------------------------------\n",
      "const                   148.5418     92.365      1.608      0.108     -32.813     329.897\n",
      "QUINTILE2                -3.9185     31.212     -0.126      0.900     -65.201      57.364\n",
      "QUINTILE3               -14.9125     39.472     -0.378      0.706     -92.415      62.590\n",
      "QUINTILE4                18.5179     36.553      0.507      0.613     -53.251      90.287\n",
      "QUINTILE5                -5.1848     22.620     -0.229      0.819     -49.598      39.229\n",
      "Q1-Q5                    18.6052     13.817      1.347      0.179      -8.524      45.734\n",
      "(Q1-Q5)/Q1               -1.4667      5.321     -0.276      0.783     -11.914       8.981\n",
      "inflationNRG              0.7243      0.419      1.729      0.084      -0.098       1.547\n",
      "inflationFOOD             2.3900      1.499      1.595      0.111      -0.552       5.332\n",
      "gini                      1.1788      2.151      0.548      0.584      -3.044       5.402\n",
      "energy_price_level        0.2598      0.411      0.632      0.527      -0.547       1.066\n",
      "transport_price_level     0.4197      0.828      0.507      0.613      -1.207       2.046\n",
      "gdp                      -0.0007      0.001     -1.191      0.234      -0.002       0.000\n",
      "gov_exp                  -2.6183      1.864     -1.404      0.161      -6.279       1.043\n",
      "gov_exp_social            4.0598      3.242      1.252      0.211      -2.306      10.426\n",
      "urbanisation             -1.9341      0.672     -2.878      0.004      -3.254      -0.615\n",
      "electric_share            0.6719      0.742      0.905      0.366      -0.785       2.129\n",
      "poverty                  -1.2459      2.068     -0.602      0.547      -5.307       2.815\n",
      "importation               0.1994      0.250      0.797      0.426      -0.292       0.691\n",
      "==============================================================================\n",
      "Omnibus:                     1132.483   Durbin-Watson:                   1.961\n",
      "Prob(Omnibus):                  0.000   Jarque-Bera (JB):          3208315.514\n",
      "Skew:                          -8.785   Prob(JB):                         0.00\n",
      "Kurtosis:                     334.196   Cond. No.                     9.87e+05\n",
      "==============================================================================\n",
      "\n",
      "Notes:\n",
      "[1] Standard Errors assume that the covariance matrix of the errors is correctly specified.\n",
      "[2] The condition number is large, 9.87e+05. This might indicate that there are\n",
      "strong multicollinearity or other numerical problems.\n"
     ]
    }
   ],
   "source": [
    "import pandas as pd\n",
    "import numpy as np\n",
    "import statsmodels.api as sm\n",
    "\n",
    "\n",
    "Y = df_inflation_by_quintile['Q1/Q5']*100\n",
    "X = df_inflation_by_quintile.drop(['Q1/Q5', 'normalized_std', 'geo','month', 'QUINTILE1'], axis=1)\n",
    "X = sm.add_constant(X)\n",
    "\n",
    "model = sm.OLS(Y, X).fit()\n",
    "\n",
    "print(model.summary())"
   ]
  },
  {
   "cell_type": "code",
   "execution_count": 47,
   "metadata": {},
   "outputs": [
    {
     "name": "stdout",
     "output_type": "stream",
     "text": [
      "                            OLS Regression Results                            \n",
      "==============================================================================\n",
      "Dep. Variable:         normalized_std   R-squared:                       0.130\n",
      "Model:                            OLS   Adj. R-squared:                  0.107\n",
      "Method:                 Least Squares   F-statistic:                     5.676\n",
      "Date:                Mon, 08 May 2023   Prob (F-statistic):           1.05e-12\n",
      "Time:                        02:26:17   Log-Likelihood:                 655.29\n",
      "No. Observations:                 700   AIC:                            -1273.\n",
      "Df Residuals:                     681   BIC:                            -1186.\n",
      "Df Model:                          18                                         \n",
      "Covariance Type:            nonrobust                                         \n",
      "=========================================================================================\n",
      "                            coef    std err          t      P>|t|      [0.025      0.975]\n",
      "-----------------------------------------------------------------------------------------\n",
      "const                     0.3295      0.083      3.968      0.000       0.166       0.492\n",
      "QUINTILE2                 0.0519      0.028      1.851      0.065      -0.003       0.107\n",
      "QUINTILE3                -0.1089      0.035     -3.069      0.002      -0.179      -0.039\n",
      "QUINTILE4                 0.0962      0.033      2.928      0.004       0.032       0.161\n",
      "QUINTILE5                -0.0496      0.020     -2.438      0.015      -0.089      -0.010\n",
      "Q1-Q5                     0.0040      0.012      0.323      0.747      -0.020       0.028\n",
      "(Q1-Q5)/Q1               -0.0087      0.005     -1.821      0.069      -0.018       0.001\n",
      "inflationNRG              0.0005      0.000      1.298      0.195      -0.000       0.001\n",
      "inflationFOOD             0.0002      0.001      0.120      0.904      -0.002       0.003\n",
      "gini                     -0.0028      0.002     -1.451      0.147      -0.007       0.001\n",
      "energy_price_level       -0.0010      0.000     -2.694      0.007      -0.002      -0.000\n",
      "transport_price_level     0.0023      0.001      3.145      0.002       0.001       0.004\n",
      "gdp                   -1.795e-06    5.2e-07     -3.452      0.001   -2.82e-06   -7.74e-07\n",
      "gov_exp                  -0.0023      0.002     -1.375      0.170      -0.006       0.001\n",
      "gov_exp_social           -0.0011      0.003     -0.373      0.710      -0.007       0.005\n",
      "urbanisation             -0.0019      0.001     -3.074      0.002      -0.003      -0.001\n",
      "electric_share           -0.0009      0.001     -1.276      0.202      -0.002       0.000\n",
      "poverty                  -0.0003      0.002     -0.156      0.876      -0.004       0.003\n",
      "importation               0.0004      0.000      1.769      0.077   -4.37e-05       0.001\n",
      "==============================================================================\n",
      "Omnibus:                      680.524   Durbin-Watson:                   1.652\n",
      "Prob(Omnibus):                  0.000   Jarque-Bera (JB):           218329.546\n",
      "Skew:                          -3.599   Prob(JB):                         0.00\n",
      "Kurtosis:                      89.219   Cond. No.                     9.87e+05\n",
      "==============================================================================\n",
      "\n",
      "Notes:\n",
      "[1] Standard Errors assume that the covariance matrix of the errors is correctly specified.\n",
      "[2] The condition number is large, 9.87e+05. This might indicate that there are\n",
      "strong multicollinearity or other numerical problems.\n"
     ]
    }
   ],
   "source": [
    "import pandas as pd\n",
    "import numpy as np\n",
    "import statsmodels.api as sm\n",
    "\n",
    "\n",
    "Y = df_inflation_by_quintile['normalized_std']\n",
    "X = df_inflation_by_quintile.drop(['Q1/Q5', 'normalized_std', 'geo','month', 'QUINTILE1'], axis=1)\n",
    "X = sm.add_constant(X)\n",
    "\n",
    "model = sm.OLS(Y, X).fit()\n",
    "\n",
    "print(model.summary())"
   ]
  },
  {
   "cell_type": "code",
   "execution_count": 48,
   "metadata": {},
   "outputs": [
    {
     "name": "stdout",
     "output_type": "stream",
     "text": [
      "                            OLS Regression Results                            \n",
      "==============================================================================\n",
      "Dep. Variable:           inflationNRG   R-squared:                       0.021\n",
      "Model:                            OLS   Adj. R-squared:                  0.020\n",
      "Method:                 Least Squares   F-statistic:                     15.24\n",
      "Date:                Mon, 08 May 2023   Prob (F-statistic):           0.000104\n",
      "Time:                        02:26:17   Log-Likelihood:                -3044.8\n",
      "No. Observations:                 700   AIC:                             6094.\n",
      "Df Residuals:                     698   BIC:                             6103.\n",
      "Df Model:                           1                                         \n",
      "Covariance Type:            nonrobust                                         \n",
      "=========================================================================================\n",
      "                            coef    std err          t      P>|t|      [0.025      0.975]\n",
      "-----------------------------------------------------------------------------------------\n",
      "const                    10.6428      3.749      2.839      0.005       3.281      18.004\n",
      "transport_price_level     0.1508      0.039      3.904      0.000       0.075       0.227\n",
      "==============================================================================\n",
      "Omnibus:                      113.260   Durbin-Watson:                   0.231\n",
      "Prob(Omnibus):                  0.000   Jarque-Bera (JB):              206.742\n",
      "Skew:                           0.965   Prob(JB):                     1.28e-45\n",
      "Kurtosis:                       4.833   Cond. No.                         513.\n",
      "==============================================================================\n",
      "\n",
      "Notes:\n",
      "[1] Standard Errors assume that the covariance matrix of the errors is correctly specified.\n"
     ]
    }
   ],
   "source": [
    "import pandas as pd\n",
    "import numpy as np\n",
    "import statsmodels.api as sm\n",
    "\n",
    "\n",
    "Y = df_inflation_by_quintile['inflationNRG']\n",
    "X = df_inflation_by_quintile['transport_price_level']\n",
    "X = sm.add_constant(X)\n",
    "\n",
    "model = sm.OLS(Y, X).fit()\n",
    "\n",
    "print(model.summary())"
   ]
  },
  {
   "cell_type": "code",
   "execution_count": 49,
   "metadata": {},
   "outputs": [
    {
     "name": "stdout",
     "output_type": "stream",
     "text": [
      "                            OLS Regression Results                            \n",
      "==============================================================================\n",
      "Dep. Variable:              QUINTILE1   R-squared:                       0.455\n",
      "Model:                            OLS   Adj. R-squared:                  0.452\n",
      "Method:                 Least Squares   F-statistic:                     144.9\n",
      "Date:                Mon, 08 May 2023   Prob (F-statistic):           4.80e-90\n",
      "Time:                        02:26:18   Log-Likelihood:                -2003.9\n",
      "No. Observations:                 700   AIC:                             4018.\n",
      "Df Residuals:                     695   BIC:                             4041.\n",
      "Df Model:                           4                                         \n",
      "Covariance Type:            nonrobust                                         \n",
      "==================================================================================\n",
      "                     coef    std err          t      P>|t|      [0.025      0.975]\n",
      "----------------------------------------------------------------------------------\n",
      "const              5.3305      1.571      3.393      0.001       2.246       8.415\n",
      "inflationNRG       0.1859      0.009     21.863      0.000       0.169       0.203\n",
      "gini               0.2104      0.048      4.397      0.000       0.116       0.304\n",
      "gov_exp_social    -0.3662      0.041     -8.969      0.000      -0.446      -0.286\n",
      "urbanisation      -0.0686      0.018     -3.780      0.000      -0.104      -0.033\n",
      "==============================================================================\n",
      "Omnibus:                       69.910   Durbin-Watson:                   0.241\n",
      "Prob(Omnibus):                  0.000   Jarque-Bera (JB):               88.613\n",
      "Skew:                           0.848   Prob(JB):                     5.73e-20\n",
      "Kurtosis:                       3.400   Cond. No.                         564.\n",
      "==============================================================================\n",
      "\n",
      "Notes:\n",
      "[1] Standard Errors assume that the covariance matrix of the errors is correctly specified.\n"
     ]
    }
   ],
   "source": [
    "Y = df_inflation_by_quintile['QUINTILE1']\n",
    "X = df_inflation_by_quintile[['inflationNRG', 'gini', 'gov_exp_social', 'urbanisation']]\n",
    "X = sm.add_constant(X)\n",
    "\n",
    "model = sm.OLS(Y, X).fit()\n",
    "\n",
    "print(model.summary())"
   ]
  },
  {
   "cell_type": "code",
   "execution_count": 50,
   "metadata": {},
   "outputs": [
    {
     "name": "stdout",
     "output_type": "stream",
     "text": [
      "                            OLS Regression Results                            \n",
      "==============================================================================\n",
      "Dep. Variable:              QUINTILE5   R-squared:                       0.405\n",
      "Model:                            OLS   Adj. R-squared:                  0.401\n",
      "Method:                 Least Squares   F-statistic:                     118.0\n",
      "Date:                Mon, 08 May 2023   Prob (F-statistic):           8.13e-77\n",
      "Time:                        02:26:18   Log-Likelihood:                -1885.1\n",
      "No. Observations:                 700   AIC:                             3780.\n",
      "Df Residuals:                     695   BIC:                             3803.\n",
      "Df Model:                           4                                         \n",
      "Covariance Type:            nonrobust                                         \n",
      "==================================================================================\n",
      "                     coef    std err          t      P>|t|      [0.025      0.975]\n",
      "----------------------------------------------------------------------------------\n",
      "const              6.6410      1.326      5.009      0.000       4.038       9.244\n",
      "inflationNRG       0.1407      0.007     19.616      0.000       0.127       0.155\n",
      "gini               0.1393      0.040      3.451      0.001       0.060       0.219\n",
      "gov_exp_social    -0.2986      0.034     -8.666      0.000      -0.366      -0.231\n",
      "urbanisation      -0.0622      0.015     -4.063      0.000      -0.092      -0.032\n",
      "==============================================================================\n",
      "Omnibus:                       40.964   Durbin-Watson:                   0.239\n",
      "Prob(Omnibus):                  0.000   Jarque-Bera (JB):               46.883\n",
      "Skew:                           0.630   Prob(JB):                     6.60e-11\n",
      "Kurtosis:                       3.133   Cond. No.                         564.\n",
      "==============================================================================\n",
      "\n",
      "Notes:\n",
      "[1] Standard Errors assume that the covariance matrix of the errors is correctly specified.\n"
     ]
    }
   ],
   "source": [
    "Y = df_inflation_by_quintile['QUINTILE5']\n",
    "X = df_inflation_by_quintile[['inflationNRG', 'gini', 'gov_exp_social', 'urbanisation']]\n",
    "X = sm.add_constant(X)\n",
    "\n",
    "model = sm.OLS(Y, X).fit()\n",
    "\n",
    "print(model.summary())"
   ]
  },
  {
   "cell_type": "code",
   "execution_count": 51,
   "metadata": {},
   "outputs": [
    {
     "name": "stdout",
     "output_type": "stream",
     "text": [
      "                            OLS Regression Results                            \n",
      "==============================================================================\n",
      "Dep. Variable:                  Q1-Q5   R-squared:                       0.540\n",
      "Model:                            OLS   Adj. R-squared:                  0.535\n",
      "Method:                 Least Squares   F-statistic:                     116.0\n",
      "Date:                Mon, 08 May 2023   Prob (F-statistic):          3.33e-112\n",
      "Time:                        02:26:18   Log-Likelihood:                -1013.3\n",
      "No. Observations:                 700   AIC:                             2043.\n",
      "Df Residuals:                     692   BIC:                             2079.\n",
      "Df Model:                           7                                         \n",
      "Covariance Type:            nonrobust                                         \n",
      "==================================================================================\n",
      "                     coef    std err          t      P>|t|      [0.025      0.975]\n",
      "----------------------------------------------------------------------------------\n",
      "const             -2.8288      0.437     -6.466      0.000      -3.688      -1.970\n",
      "inflationNRG       0.0345      0.002     15.573      0.000       0.030       0.039\n",
      "inflationFOOD      0.0817      0.006     14.342      0.000       0.070       0.093\n",
      "gini              -0.0016      0.015     -0.108      0.914      -0.030       0.027\n",
      "gov_exp_social    -0.0443      0.010     -4.386      0.000      -0.064      -0.024\n",
      "urbanisation       0.0055      0.005      1.170      0.242      -0.004       0.015\n",
      "electric_share     0.0040      0.005      0.734      0.463      -0.007       0.015\n",
      "poverty            0.0885      0.014      6.471      0.000       0.062       0.115\n",
      "==============================================================================\n",
      "Omnibus:                      106.173   Durbin-Watson:                   0.310\n",
      "Prob(Omnibus):                  0.000   Jarque-Bera (JB):              567.019\n",
      "Skew:                           0.549   Prob(JB):                    7.47e-124\n",
      "Kurtosis:                       7.270   Cond. No.                         761.\n",
      "==============================================================================\n",
      "\n",
      "Notes:\n",
      "[1] Standard Errors assume that the covariance matrix of the errors is correctly specified.\n"
     ]
    }
   ],
   "source": [
    "Y = df_inflation_by_quintile['Q1-Q5']\n",
    "X = df_inflation_by_quintile[['inflationNRG', 'inflationFOOD', 'gini', 'gov_exp_social', 'urbanisation', 'electric_share', 'poverty']]\n",
    "X = sm.add_constant(X)\n",
    "\n",
    "model = sm.OLS(Y, X).fit()\n",
    "\n",
    "print(model.summary())"
   ]
  },
  {
   "cell_type": "code",
   "execution_count": 52,
   "metadata": {},
   "outputs": [
    {
     "name": "stdout",
     "output_type": "stream",
     "text": [
      "                            OLS Regression Results                            \n",
      "==============================================================================\n",
      "Dep. Variable:                  Q1-Q5   R-squared:                       0.001\n",
      "Model:                            OLS   Adj. R-squared:                 -0.001\n",
      "Method:                 Least Squares   F-statistic:                    0.6344\n",
      "Date:                Mon, 08 May 2023   Prob (F-statistic):              0.426\n",
      "Time:                        02:26:18   Log-Likelihood:                -1284.7\n",
      "No. Observations:                 700   AIC:                             2573.\n",
      "Df Residuals:                     698   BIC:                             2582.\n",
      "Df Model:                           1                                         \n",
      "Covariance Type:            nonrobust                                         \n",
      "==============================================================================\n",
      "                 coef    std err          t      P>|t|      [0.025      0.975]\n",
      "------------------------------------------------------------------------------\n",
      "const          0.4282      0.103      4.151      0.000       0.226       0.631\n",
      "gdp         1.925e-06   2.42e-06      0.796      0.426   -2.82e-06    6.67e-06\n",
      "==============================================================================\n",
      "Omnibus:                      352.153   Durbin-Watson:                   0.234\n",
      "Prob(Omnibus):                  0.000   Jarque-Bera (JB):             2500.737\n",
      "Skew:                           2.161   Prob(JB):                         0.00\n",
      "Kurtosis:                      11.189   Cond. No.                     7.67e+04\n",
      "==============================================================================\n",
      "\n",
      "Notes:\n",
      "[1] Standard Errors assume that the covariance matrix of the errors is correctly specified.\n",
      "[2] The condition number is large, 7.67e+04. This might indicate that there are\n",
      "strong multicollinearity or other numerical problems.\n"
     ]
    }
   ],
   "source": [
    "Y = df_inflation_by_quintile['Q1-Q5']\n",
    "X = df_inflation_by_quintile[['gdp']]\n",
    "X = sm.add_constant(X)\n",
    "\n",
    "model = sm.OLS(Y, X).fit()\n",
    "\n",
    "print(model.summary())"
   ]
  },
  {
   "cell_type": "code",
   "execution_count": 53,
   "metadata": {},
   "outputs": [
    {
     "name": "stdout",
     "output_type": "stream",
     "text": [
      "                            OLS Regression Results                            \n",
      "==============================================================================\n",
      "Dep. Variable:             (Q1-Q5)/Q1   R-squared:                       0.032\n",
      "Model:                            OLS   Adj. R-squared:                  0.026\n",
      "Method:                 Least Squares   F-statistic:                     5.698\n",
      "Date:                Mon, 08 May 2023   Prob (F-statistic):           0.000163\n",
      "Time:                        02:26:18   Log-Likelihood:                -821.66\n",
      "No. Observations:                 700   AIC:                             1653.\n",
      "Df Residuals:                     695   BIC:                             1676.\n",
      "Df Model:                           4                                         \n",
      "Covariance Type:            nonrobust                                         \n",
      "==================================================================================\n",
      "                     coef    std err          t      P>|t|      [0.025      0.975]\n",
      "----------------------------------------------------------------------------------\n",
      "const             -1.0398      0.290     -3.583      0.000      -1.610      -0.470\n",
      "inflationNRG       0.0055      0.002      3.504      0.000       0.002       0.009\n",
      "gini               0.0226      0.009      2.559      0.011       0.005       0.040\n",
      "gov_exp_social     0.0118      0.008      1.566      0.118      -0.003       0.027\n",
      "urbanisation       0.0005      0.003      0.145      0.884      -0.006       0.007\n",
      "==============================================================================\n",
      "Omnibus:                     1415.456   Durbin-Watson:                   1.689\n",
      "Prob(Omnibus):                  0.000   Jarque-Bera (JB):          3601943.682\n",
      "Skew:                          14.742   Prob(JB):                         0.00\n",
      "Kurtosis:                     353.180   Cond. No.                         564.\n",
      "==============================================================================\n",
      "\n",
      "Notes:\n",
      "[1] Standard Errors assume that the covariance matrix of the errors is correctly specified.\n"
     ]
    }
   ],
   "source": [
    "Y = df_inflation_by_quintile['(Q1-Q5)/Q1']\n",
    "X = df_inflation_by_quintile[['inflationNRG', 'gini', 'gov_exp_social', 'urbanisation']]\n",
    "X = sm.add_constant(X)\n",
    "\n",
    "model = sm.OLS(Y, X).fit()\n",
    "\n",
    "print(model.summary())"
   ]
  },
  {
   "attachments": {},
   "cell_type": "markdown",
   "metadata": {},
   "source": [
    "# PCA"
   ]
  },
  {
   "cell_type": "code",
   "execution_count": 58,
   "metadata": {},
   "outputs": [],
   "source": [
    "import pandas as pd\n",
    "from sklearn.decomposition import PCA\n",
    "from sklearn.preprocessing import StandardScaler\n",
    "\n",
    "y = df_inflation_by_quintile['Q1-Q5']\n",
    "X = df_inflation_by_quintile.drop(['Q1-Q5', 'month', 'geo'], axis=1)\n",
    "\n",
    "scaler = StandardScaler()\n",
    "X_std = scaler.fit_transform(X)\n",
    "\n",
    "pca = PCA(n_components=2)\n",
    "\n",
    "pca.fit(X_std)\n",
    "\n",
    "X_pca = pca.transform(X_std)\n",
    "\n",
    "df_pca = pd.DataFrame(data=X_pca, columns=['PC1', 'PC2'])\n",
    "df_pca['Q1-Q5'] = y.values\n"
   ]
  },
  {
   "cell_type": "code",
   "execution_count": 65,
   "metadata": {},
   "outputs": [
    {
     "data": {
      "image/png": "[encoded data removed]",
      "text/plain": [
       "<Figure size 640x480 with 2 Axes>"
      ]
     },
     "metadata": {},
     "output_type": "display_data"
    }
   ],
   "source": [
    "import pandas as pd\n",
    "import numpy as np\n",
    "import seaborn as sns\n",
    "import matplotlib.pyplot as plt\n",
    "\n",
    "\n",
    "# Définir les variables d'entrée (X)\n",
    "X = df_inflation_by_quintile[['inflationNRG', 'inflationFOOD', 'gini', 'gov_exp_social', 'urbanisation', 'electric_share', 'poverty', 'gdp']]\n",
    "\n",
    "# Calculer la matrice de corrélation\n",
    "corr_matrix = X.corr()\n",
    "\n",
    "# Afficher la matrice de corrélation sous forme de heatmap\n",
    "sns.heatmap(corr_matrix, annot=True, cmap='coolwarm')\n",
    "plt.show()\n",
    "\n"
   ]
  },
  {
   "cell_type": "code",
   "execution_count": 70,
   "metadata": {},
   "outputs": [
    {
     "name": "stdout",
     "output_type": "stream",
     "text": [
      "Score du modèle:  0.5307645902627776\n",
      "MSE:  1.2430297430757538\n",
      "RMSE:  1.114912437402935\n",
      "R^2:  0.5307645902627776\n",
      "Coefficients:  [ 0.03463111  0.07590676 -0.00212295 -0.04653222  0.00707921  0.00272944\n",
      "  0.08167056]\n",
      "P-values:  [ 0.03463111  0.07590676 -0.00212295 -0.04653222  0.00707921  0.00272944\n",
      "  0.08167056]\n"
     ]
    }
   ],
   "source": [
    "from sklearn.model_selection import train_test_split\n",
    "from sklearn.linear_model import Ridge\n",
    "from sklearn.metrics import mean_squared_error, r2_score\n",
    "import pandas as pd\n",
    "import numpy as np\n",
    "\n",
    "\n",
    "# Diviser les données en ensembles d'entraînement et de test\n",
    "X_train, X_test, y_train, y_test = train_test_split(df_inflation_by_quintile[['inflationNRG', 'inflationFOOD', 'gini', 'gov_exp_social', 'urbanisation', 'electric_share', 'poverty']], df_inflation_by_quintile['Q1-Q5'], test_size=0.2, random_state=42)\n",
    "\n",
    "# Créer un modèle de régression linéaire avec régularisation L2 (Ridge)\n",
    "ridge = Ridge(alpha=1.0)\n",
    "\n",
    "# Entraîner le modèle sur les données d'entraînement\n",
    "ridge.fit(X_train, y_train)\n",
    "\n",
    "y_pred = ridge.predict(X_test)\n",
    "\n",
    "# Calculer les métriques de performance\n",
    "mse = mean_squared_error(y_test, y_pred)\n",
    "rmse = np.sqrt(mse)\n",
    "r2 = r2_score(y_test, y_pred)\n",
    "\n",
    "# Afficher les résultats\n",
    "print(\"Score du modèle: \", ridge.score(X_test, y_test))\n",
    "print(\"MSE: \", mse)\n",
    "print(\"RMSE: \", rmse)\n",
    "print(\"R^2: \", r2)\n",
    "print(\"Coefficients: \", ridge.coef_)\n",
    "print(\"P-values: \", ridge.coef_)\n"
   ]
  },
  {
   "cell_type": "code",
   "execution_count": 71,
   "metadata": {},
   "outputs": [
    {
     "name": "stdout",
     "output_type": "stream",
     "text": [
      "Score du modèle:  0.450687940489068\n",
      "MSE:  1.455157079012152\n",
      "RMSE:  1.2062989177696182\n",
      "R^2:  0.450687940489068\n",
      "Coefficients:  [ 0.03590737  0.06225334  0.         -0.          0.00173176 -0.\n",
      "  0.00934502]\n"
     ]
    }
   ],
   "source": [
    "# Importer les bibliothèques nécessaires\n",
    "from sklearn.model_selection import train_test_split\n",
    "from sklearn.linear_model import Lasso\n",
    "from sklearn.metrics import mean_squared_error, r2_score\n",
    "import pandas as pd\n",
    "import numpy as np\n",
    "\n",
    "\n",
    "\n",
    "# Diviser les données en ensembles d'entraînement et de test\n",
    "X_train, X_test, y_train, y_test = train_test_split(df_inflation_by_quintile[['inflationNRG', 'inflationFOOD', 'gini', 'gov_exp_social', 'urbanisation', 'electric_share', 'poverty']], df_inflation_by_quintile['Q1-Q5'], test_size=0.2, random_state=42)\n",
    "\n",
    "# Créer un modèle de régression linéaire avec régularisation L1 (Lasso)\n",
    "lasso = Lasso(alpha=1.0)\n",
    "\n",
    "# Entraîner le modèle sur les données d'entraînement\n",
    "lasso.fit(X_train, y_train)\n",
    "\n",
    "# Faire des prédictions sur les données de test\n",
    "y_pred = lasso.predict(X_test)\n",
    "\n",
    "# Calculer les métriques de performance\n",
    "mse = mean_squared_error(y_test, y_pred)\n",
    "rmse = np.sqrt(mse)\n",
    "r2 = r2_score(y_test, y_pred)\n",
    "\n",
    "# Afficher les résultats\n",
    "print(\"Score du modèle: \", lasso.score(X_test, y_test))\n",
    "print(\"MSE: \", mse)\n",
    "print(\"RMSE: \", rmse)\n",
    "print(\"R^2: \", r2)\n",
    "print(\"Coefficients: \", lasso.coef_)\n"
   ]
  }
 ],
 "metadata": {
  "kernelspec": {
   "display_name": "Python 3",
   "language": "python",
   "name": "python3"
  },
  "language_info": {
   "codemirror_mode": {
    "name": "ipython",
    "version": 3
   },
   "file_extension": ".py",
   "mimetype": "text/x-python",
   "name": "python",
   "nbconvert_exporter": "python",
   "pygments_lexer": "ipython3",
   "version": "3.10.7"
  },
  "orig_nbformat": 4
 },
 "nbformat": 4,
 "nbformat_minor": 2
}
