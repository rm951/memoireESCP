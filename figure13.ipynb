{
 "cells": [
  {
   "cell_type": "code",
   "execution_count": 1,
   "metadata": {},
   "outputs": [],
   "source": [
    "import pandas as pd\n",
    "import eurostat"
   ]
  },
  {
   "cell_type": "code",
   "execution_count": 2,
   "metadata": {},
   "outputs": [],
   "source": [
    "df = eurostat.get_data_df(code=\"HBS_STR_T223\")\n",
    "df = df.rename(columns={'geo\\TIME_PERIOD': 'geo', '2015':'OBS_VALUE'})\n"
   ]
  },
  {
   "cell_type": "code",
   "execution_count": 3,
   "metadata": {},
   "outputs": [],
   "source": [
    "# Keep only the rows where TIME_PERIOD is equal to 2015\n",
    "df = df.loc[:, ['quantile','coicop','geo','OBS_VALUE']]\n"
   ]
  },
  {
   "cell_type": "code",
   "execution_count": 4,
   "metadata": {},
   "outputs": [],
   "source": [
    "df_inflation = eurostat.get_data_df(code=\"PRC_HICP_MANR\",filter_pars={'startPeriod':\"2021-03\"})\n",
    "df_inflation = df_inflation.rename(columns={'geo\\TIME_PERIOD': 'geo'})\n"
   ]
  },
  {
   "cell_type": "code",
   "execution_count": 5,
   "metadata": {},
   "outputs": [],
   "source": [
    "merged_df = df.merge(df_inflation, on=[\"coicop\", \"geo\"])\n"
   ]
  },
  {
   "cell_type": "code",
   "execution_count": 6,
   "metadata": {},
   "outputs": [],
   "source": [
    "cols_to_multiply = [col for col in merged_df.columns if col.startswith('202')]\n",
    "merged_df[['w' + col for col in cols_to_multiply]] = merged_df[cols_to_multiply].apply(lambda x: x * merged_df['OBS_VALUE']/1000)\n"
   ]
  },
  {
   "cell_type": "code",
   "execution_count": 7,
   "metadata": {},
   "outputs": [],
   "source": [
    "merged_df_5_chars = merged_df[merged_df['coicop'].str.len() == 5]\n"
   ]
  },
  {
   "cell_type": "code",
   "execution_count": 8,
   "metadata": {},
   "outputs": [
    {
     "name": "stderr",
     "output_type": "stream",
     "text": [
      "C:\\Users\\maxen\\AppData\\Local\\Temp\\ipykernel_14996\\899747291.py:7: SettingWithCopyWarning: \n",
      "A value is trying to be set on a copy of a slice from a DataFrame.\n",
      "Try using .loc[row_indexer,col_indexer] = value instead\n",
      "\n",
      "See the caveats in the documentation: https://pandas.pydata.org/pandas-docs/stable/user_guide/indexing.html#returning-a-view-versus-a-copy\n",
      "  merged_df_5_chars[new_col_name] = merged_df_5_chars.groupby(['geo', 'quantile'])[col].transform('sum')\n",
      "C:\\Users\\maxen\\AppData\\Local\\Temp\\ipykernel_14996\\899747291.py:7: SettingWithCopyWarning: \n",
      "A value is trying to be set on a copy of a slice from a DataFrame.\n",
      "Try using .loc[row_indexer,col_indexer] = value instead\n",
      "\n",
      "See the caveats in the documentation: https://pandas.pydata.org/pandas-docs/stable/user_guide/indexing.html#returning-a-view-versus-a-copy\n",
      "  merged_df_5_chars[new_col_name] = merged_df_5_chars.groupby(['geo', 'quantile'])[col].transform('sum')\n",
      "C:\\Users\\maxen\\AppData\\Local\\Temp\\ipykernel_14996\\899747291.py:7: SettingWithCopyWarning: \n",
      "A value is trying to be set on a copy of a slice from a DataFrame.\n",
      "Try using .loc[row_indexer,col_indexer] = value instead\n",
      "\n",
      "See the caveats in the documentation: https://pandas.pydata.org/pandas-docs/stable/user_guide/indexing.html#returning-a-view-versus-a-copy\n",
      "  merged_df_5_chars[new_col_name] = merged_df_5_chars.groupby(['geo', 'quantile'])[col].transform('sum')\n",
      "C:\\Users\\maxen\\AppData\\Local\\Temp\\ipykernel_14996\\899747291.py:7: SettingWithCopyWarning: \n",
      "A value is trying to be set on a copy of a slice from a DataFrame.\n",
      "Try using .loc[row_indexer,col_indexer] = value instead\n",
      "\n",
      "See the caveats in the documentation: https://pandas.pydata.org/pandas-docs/stable/user_guide/indexing.html#returning-a-view-versus-a-copy\n",
      "  merged_df_5_chars[new_col_name] = merged_df_5_chars.groupby(['geo', 'quantile'])[col].transform('sum')\n",
      "C:\\Users\\maxen\\AppData\\Local\\Temp\\ipykernel_14996\\899747291.py:7: SettingWithCopyWarning: \n",
      "A value is trying to be set on a copy of a slice from a DataFrame.\n",
      "Try using .loc[row_indexer,col_indexer] = value instead\n",
      "\n",
      "See the caveats in the documentation: https://pandas.pydata.org/pandas-docs/stable/user_guide/indexing.html#returning-a-view-versus-a-copy\n",
      "  merged_df_5_chars[new_col_name] = merged_df_5_chars.groupby(['geo', 'quantile'])[col].transform('sum')\n",
      "C:\\Users\\maxen\\AppData\\Local\\Temp\\ipykernel_14996\\899747291.py:7: SettingWithCopyWarning: \n",
      "A value is trying to be set on a copy of a slice from a DataFrame.\n",
      "Try using .loc[row_indexer,col_indexer] = value instead\n",
      "\n",
      "See the caveats in the documentation: https://pandas.pydata.org/pandas-docs/stable/user_guide/indexing.html#returning-a-view-versus-a-copy\n",
      "  merged_df_5_chars[new_col_name] = merged_df_5_chars.groupby(['geo', 'quantile'])[col].transform('sum')\n",
      "C:\\Users\\maxen\\AppData\\Local\\Temp\\ipykernel_14996\\899747291.py:7: SettingWithCopyWarning: \n",
      "A value is trying to be set on a copy of a slice from a DataFrame.\n",
      "Try using .loc[row_indexer,col_indexer] = value instead\n",
      "\n",
      "See the caveats in the documentation: https://pandas.pydata.org/pandas-docs/stable/user_guide/indexing.html#returning-a-view-versus-a-copy\n",
      "  merged_df_5_chars[new_col_name] = merged_df_5_chars.groupby(['geo', 'quantile'])[col].transform('sum')\n",
      "C:\\Users\\maxen\\AppData\\Local\\Temp\\ipykernel_14996\\899747291.py:7: SettingWithCopyWarning: \n",
      "A value is trying to be set on a copy of a slice from a DataFrame.\n",
      "Try using .loc[row_indexer,col_indexer] = value instead\n",
      "\n",
      "See the caveats in the documentation: https://pandas.pydata.org/pandas-docs/stable/user_guide/indexing.html#returning-a-view-versus-a-copy\n",
      "  merged_df_5_chars[new_col_name] = merged_df_5_chars.groupby(['geo', 'quantile'])[col].transform('sum')\n",
      "C:\\Users\\maxen\\AppData\\Local\\Temp\\ipykernel_14996\\899747291.py:7: SettingWithCopyWarning: \n",
      "A value is trying to be set on a copy of a slice from a DataFrame.\n",
      "Try using .loc[row_indexer,col_indexer] = value instead\n",
      "\n",
      "See the caveats in the documentation: https://pandas.pydata.org/pandas-docs/stable/user_guide/indexing.html#returning-a-view-versus-a-copy\n",
      "  merged_df_5_chars[new_col_name] = merged_df_5_chars.groupby(['geo', 'quantile'])[col].transform('sum')\n",
      "C:\\Users\\maxen\\AppData\\Local\\Temp\\ipykernel_14996\\899747291.py:7: SettingWithCopyWarning: \n",
      "A value is trying to be set on a copy of a slice from a DataFrame.\n",
      "Try using .loc[row_indexer,col_indexer] = value instead\n",
      "\n",
      "See the caveats in the documentation: https://pandas.pydata.org/pandas-docs/stable/user_guide/indexing.html#returning-a-view-versus-a-copy\n",
      "  merged_df_5_chars[new_col_name] = merged_df_5_chars.groupby(['geo', 'quantile'])[col].transform('sum')\n",
      "C:\\Users\\maxen\\AppData\\Local\\Temp\\ipykernel_14996\\899747291.py:7: SettingWithCopyWarning: \n",
      "A value is trying to be set on a copy of a slice from a DataFrame.\n",
      "Try using .loc[row_indexer,col_indexer] = value instead\n",
      "\n",
      "See the caveats in the documentation: https://pandas.pydata.org/pandas-docs/stable/user_guide/indexing.html#returning-a-view-versus-a-copy\n",
      "  merged_df_5_chars[new_col_name] = merged_df_5_chars.groupby(['geo', 'quantile'])[col].transform('sum')\n",
      "C:\\Users\\maxen\\AppData\\Local\\Temp\\ipykernel_14996\\899747291.py:7: SettingWithCopyWarning: \n",
      "A value is trying to be set on a copy of a slice from a DataFrame.\n",
      "Try using .loc[row_indexer,col_indexer] = value instead\n",
      "\n",
      "See the caveats in the documentation: https://pandas.pydata.org/pandas-docs/stable/user_guide/indexing.html#returning-a-view-versus-a-copy\n",
      "  merged_df_5_chars[new_col_name] = merged_df_5_chars.groupby(['geo', 'quantile'])[col].transform('sum')\n",
      "C:\\Users\\maxen\\AppData\\Local\\Temp\\ipykernel_14996\\899747291.py:7: SettingWithCopyWarning: \n",
      "A value is trying to be set on a copy of a slice from a DataFrame.\n",
      "Try using .loc[row_indexer,col_indexer] = value instead\n",
      "\n",
      "See the caveats in the documentation: https://pandas.pydata.org/pandas-docs/stable/user_guide/indexing.html#returning-a-view-versus-a-copy\n",
      "  merged_df_5_chars[new_col_name] = merged_df_5_chars.groupby(['geo', 'quantile'])[col].transform('sum')\n",
      "C:\\Users\\maxen\\AppData\\Local\\Temp\\ipykernel_14996\\899747291.py:7: SettingWithCopyWarning: \n",
      "A value is trying to be set on a copy of a slice from a DataFrame.\n",
      "Try using .loc[row_indexer,col_indexer] = value instead\n",
      "\n",
      "See the caveats in the documentation: https://pandas.pydata.org/pandas-docs/stable/user_guide/indexing.html#returning-a-view-versus-a-copy\n",
      "  merged_df_5_chars[new_col_name] = merged_df_5_chars.groupby(['geo', 'quantile'])[col].transform('sum')\n",
      "C:\\Users\\maxen\\AppData\\Local\\Temp\\ipykernel_14996\\899747291.py:7: SettingWithCopyWarning: \n",
      "A value is trying to be set on a copy of a slice from a DataFrame.\n",
      "Try using .loc[row_indexer,col_indexer] = value instead\n",
      "\n",
      "See the caveats in the documentation: https://pandas.pydata.org/pandas-docs/stable/user_guide/indexing.html#returning-a-view-versus-a-copy\n",
      "  merged_df_5_chars[new_col_name] = merged_df_5_chars.groupby(['geo', 'quantile'])[col].transform('sum')\n",
      "C:\\Users\\maxen\\AppData\\Local\\Temp\\ipykernel_14996\\899747291.py:7: SettingWithCopyWarning: \n",
      "A value is trying to be set on a copy of a slice from a DataFrame.\n",
      "Try using .loc[row_indexer,col_indexer] = value instead\n",
      "\n",
      "See the caveats in the documentation: https://pandas.pydata.org/pandas-docs/stable/user_guide/indexing.html#returning-a-view-versus-a-copy\n",
      "  merged_df_5_chars[new_col_name] = merged_df_5_chars.groupby(['geo', 'quantile'])[col].transform('sum')\n",
      "C:\\Users\\maxen\\AppData\\Local\\Temp\\ipykernel_14996\\899747291.py:7: SettingWithCopyWarning: \n",
      "A value is trying to be set on a copy of a slice from a DataFrame.\n",
      "Try using .loc[row_indexer,col_indexer] = value instead\n",
      "\n",
      "See the caveats in the documentation: https://pandas.pydata.org/pandas-docs/stable/user_guide/indexing.html#returning-a-view-versus-a-copy\n",
      "  merged_df_5_chars[new_col_name] = merged_df_5_chars.groupby(['geo', 'quantile'])[col].transform('sum')\n",
      "C:\\Users\\maxen\\AppData\\Local\\Temp\\ipykernel_14996\\899747291.py:7: SettingWithCopyWarning: \n",
      "A value is trying to be set on a copy of a slice from a DataFrame.\n",
      "Try using .loc[row_indexer,col_indexer] = value instead\n",
      "\n",
      "See the caveats in the documentation: https://pandas.pydata.org/pandas-docs/stable/user_guide/indexing.html#returning-a-view-versus-a-copy\n",
      "  merged_df_5_chars[new_col_name] = merged_df_5_chars.groupby(['geo', 'quantile'])[col].transform('sum')\n",
      "C:\\Users\\maxen\\AppData\\Local\\Temp\\ipykernel_14996\\899747291.py:7: SettingWithCopyWarning: \n",
      "A value is trying to be set on a copy of a slice from a DataFrame.\n",
      "Try using .loc[row_indexer,col_indexer] = value instead\n",
      "\n",
      "See the caveats in the documentation: https://pandas.pydata.org/pandas-docs/stable/user_guide/indexing.html#returning-a-view-versus-a-copy\n",
      "  merged_df_5_chars[new_col_name] = merged_df_5_chars.groupby(['geo', 'quantile'])[col].transform('sum')\n",
      "C:\\Users\\maxen\\AppData\\Local\\Temp\\ipykernel_14996\\899747291.py:7: SettingWithCopyWarning: \n",
      "A value is trying to be set on a copy of a slice from a DataFrame.\n",
      "Try using .loc[row_indexer,col_indexer] = value instead\n",
      "\n",
      "See the caveats in the documentation: https://pandas.pydata.org/pandas-docs/stable/user_guide/indexing.html#returning-a-view-versus-a-copy\n",
      "  merged_df_5_chars[new_col_name] = merged_df_5_chars.groupby(['geo', 'quantile'])[col].transform('sum')\n",
      "C:\\Users\\maxen\\AppData\\Local\\Temp\\ipykernel_14996\\899747291.py:7: SettingWithCopyWarning: \n",
      "A value is trying to be set on a copy of a slice from a DataFrame.\n",
      "Try using .loc[row_indexer,col_indexer] = value instead\n",
      "\n",
      "See the caveats in the documentation: https://pandas.pydata.org/pandas-docs/stable/user_guide/indexing.html#returning-a-view-versus-a-copy\n",
      "  merged_df_5_chars[new_col_name] = merged_df_5_chars.groupby(['geo', 'quantile'])[col].transform('sum')\n",
      "C:\\Users\\maxen\\AppData\\Local\\Temp\\ipykernel_14996\\899747291.py:7: SettingWithCopyWarning: \n",
      "A value is trying to be set on a copy of a slice from a DataFrame.\n",
      "Try using .loc[row_indexer,col_indexer] = value instead\n",
      "\n",
      "See the caveats in the documentation: https://pandas.pydata.org/pandas-docs/stable/user_guide/indexing.html#returning-a-view-versus-a-copy\n",
      "  merged_df_5_chars[new_col_name] = merged_df_5_chars.groupby(['geo', 'quantile'])[col].transform('sum')\n",
      "C:\\Users\\maxen\\AppData\\Local\\Temp\\ipykernel_14996\\899747291.py:7: SettingWithCopyWarning: \n",
      "A value is trying to be set on a copy of a slice from a DataFrame.\n",
      "Try using .loc[row_indexer,col_indexer] = value instead\n",
      "\n",
      "See the caveats in the documentation: https://pandas.pydata.org/pandas-docs/stable/user_guide/indexing.html#returning-a-view-versus-a-copy\n",
      "  merged_df_5_chars[new_col_name] = merged_df_5_chars.groupby(['geo', 'quantile'])[col].transform('sum')\n",
      "C:\\Users\\maxen\\AppData\\Local\\Temp\\ipykernel_14996\\899747291.py:7: SettingWithCopyWarning: \n",
      "A value is trying to be set on a copy of a slice from a DataFrame.\n",
      "Try using .loc[row_indexer,col_indexer] = value instead\n",
      "\n",
      "See the caveats in the documentation: https://pandas.pydata.org/pandas-docs/stable/user_guide/indexing.html#returning-a-view-versus-a-copy\n",
      "  merged_df_5_chars[new_col_name] = merged_df_5_chars.groupby(['geo', 'quantile'])[col].transform('sum')\n",
      "C:\\Users\\maxen\\AppData\\Local\\Temp\\ipykernel_14996\\899747291.py:7: SettingWithCopyWarning: \n",
      "A value is trying to be set on a copy of a slice from a DataFrame.\n",
      "Try using .loc[row_indexer,col_indexer] = value instead\n",
      "\n",
      "See the caveats in the documentation: https://pandas.pydata.org/pandas-docs/stable/user_guide/indexing.html#returning-a-view-versus-a-copy\n",
      "  merged_df_5_chars[new_col_name] = merged_df_5_chars.groupby(['geo', 'quantile'])[col].transform('sum')\n",
      "C:\\Users\\maxen\\AppData\\Local\\Temp\\ipykernel_14996\\899747291.py:7: SettingWithCopyWarning: \n",
      "A value is trying to be set on a copy of a slice from a DataFrame.\n",
      "Try using .loc[row_indexer,col_indexer] = value instead\n",
      "\n",
      "See the caveats in the documentation: https://pandas.pydata.org/pandas-docs/stable/user_guide/indexing.html#returning-a-view-versus-a-copy\n",
      "  merged_df_5_chars[new_col_name] = merged_df_5_chars.groupby(['geo', 'quantile'])[col].transform('sum')\n"
     ]
    }
   ],
   "source": [
    "columns_to_sum = [col for col in merged_df_5_chars.columns if col.startswith('w')]\n",
    "                  \n",
    "summed_columns = []\n",
    "for col in columns_to_sum:\n",
    "    new_col_name = col[1:]\n",
    "    summed_columns.append(new_col_name)\n",
    "    merged_df_5_chars[new_col_name] = merged_df_5_chars.groupby(['geo', 'quantile'])[col].transform('sum')\n",
    "\n",
    "df_inflation_by_quintile = merged_df_5_chars[['geo', 'quantile'] + summed_columns].drop_duplicates()"
   ]
  },
  {
   "cell_type": "code",
   "execution_count": 9,
   "metadata": {},
   "outputs": [],
   "source": [
    "# For EU27_2020, only the groups of coicop with 4 characters have value\n",
    "\n",
    "merged_df_4_chars = merged_df[merged_df['coicop'].str.len() == 4]\n",
    "merged_df_4_chars = merged_df_4_chars.loc[(merged_df_4_chars['geo'] == 'EU27_2020')]\n",
    "summed_columns = []\n",
    "for col in columns_to_sum:\n",
    "    new_col_name = col[1:]\n",
    "    summed_columns.append(new_col_name)\n",
    "    merged_df_4_chars[new_col_name] = merged_df_4_chars.groupby(['geo', 'quantile'])[col].transform('sum')\n",
    "\n",
    "df_inflation_by_quintile_eu27 = merged_df_4_chars[['geo', 'quantile'] + summed_columns].drop_duplicates()\n"
   ]
  },
  {
   "cell_type": "code",
   "execution_count": 10,
   "metadata": {},
   "outputs": [],
   "source": [
    "df_inflation_by_quintile = pd.concat([df_inflation_by_quintile, df_inflation_by_quintile_eu27])"
   ]
  },
  {
   "cell_type": "code",
   "execution_count": 11,
   "metadata": {},
   "outputs": [],
   "source": [
    "# we drop Italy and EA because they don't have the values, and TR because they have a crazy high inflation\n",
    "df_inflation_by_quintile = df_inflation_by_quintile.loc[~df_inflation_by_quintile['geo'].isin(['IT', 'EA', 'TR'])]"
   ]
  },
  {
   "cell_type": "code",
   "execution_count": 12,
   "metadata": {},
   "outputs": [],
   "source": [
    "value_vars = df_inflation_by_quintile.filter(regex='^202').columns\n"
   ]
  },
  {
   "cell_type": "code",
   "execution_count": 13,
   "metadata": {},
   "outputs": [],
   "source": [
    "df_inflation_by_quintile_melt = df_inflation_by_quintile.melt(id_vars=[\"geo\", \"quantile\"], value_vars=value_vars, var_name=\"month\", value_name=\"inflation\")"
   ]
  },
  {
   "cell_type": "code",
   "execution_count": 14,
   "metadata": {},
   "outputs": [],
   "source": [
    "df_pivot = df_inflation_by_quintile_melt.pivot_table(index=['geo', 'month'], columns='quantile', values='inflation').reset_index()\n",
    "\n",
    "df_pivot['Q1/Q5'] = df_pivot['QUINTILE1'] / df_pivot['QUINTILE5']\n",
    "\n",
    "quintile_columns = ['QUINTILE1', 'QUINTILE2', 'QUINTILE3', 'QUINTILE4', 'QUINTILE5']\n",
    "quintiles_df = df_pivot[quintile_columns]\n",
    "\n",
    "df_pivot['normalized_std'] = quintiles_df.std(axis=1) / quintiles_df.mean(axis=1)\n",
    "\n",
    "df_inflation_by_quintile = df_pivot.reset_index(drop=True)\n",
    "df_inflation_by_quintile = df_inflation_by_quintile.loc[:, [\"geo\", \"month\", \"Q1/Q5\", \"normalized_std\"]]\n"
   ]
  },
  {
   "cell_type": "code",
   "execution_count": 15,
   "metadata": {},
   "outputs": [],
   "source": [
    "country_names = {\n",
    "    'AT': 'Austria',\n",
    "    'BE': 'Belgium',\n",
    "    'BG': 'Bulgaria',\n",
    "    'CY': 'Cyprus',\n",
    "    'CZ': 'Czechia',\n",
    "    'DE': 'Germany',\n",
    "    'DK': 'Denmark',\n",
    "    'EE': 'Estonia',\n",
    "    'EL': 'Greece',\n",
    "    'ES': 'Spain',\n",
    "    'FI': 'Finland',\n",
    "    'FR': 'France',\n",
    "    'HR': 'Croatia',\n",
    "    'HU': 'Hungary',\n",
    "    'IE': 'Ireland',\n",
    "    'LT': 'Lithuania',\n",
    "    'LU': 'Luxembourg',\n",
    "    'LV': 'Latvia',\n",
    "    'MT': 'Malta',\n",
    "    'NL': 'Netherlands',\n",
    "    'NO': 'Norway',\n",
    "    'PL': 'Poland',\n",
    "    'PT': 'Portugal',\n",
    "    'RO': 'Romania',\n",
    "    'SE': 'Sweden',\n",
    "    'SI': 'Slovenia',\n",
    "    'SK': 'Slovakia',\n",
    "    'ME': 'Montenegro',\n",
    "    'MK': 'North Macedonia',\n",
    "    'RS': 'Serbia',\n",
    "    'XK': 'Kosovo',\n",
    "    'EU27_2020' : 'European Union'\n",
    "}\n",
    "# df_inflation_by_quintile_2022_03 = df_inflation_by_quintile_2022_03.rename(index=country_names)"
   ]
  },
  {
   "attachments": {},
   "cell_type": "markdown",
   "metadata": {},
   "source": [
    "# Energy inflation"
   ]
  },
  {
   "cell_type": "code",
   "execution_count": 16,
   "metadata": {},
   "outputs": [],
   "source": [
    "df_inflation_NRG = df_inflation[df_inflation[\"coicop\"] == \"NRG\"]"
   ]
  },
  {
   "cell_type": "code",
   "execution_count": 17,
   "metadata": {},
   "outputs": [],
   "source": [
    "df_inflation_NRG = df_inflation_NRG.melt(id_vars=[\"geo\"], value_vars=value_vars, var_name=\"month\", value_name=\"inflationNRG\")"
   ]
  },
  {
   "cell_type": "code",
   "execution_count": 18,
   "metadata": {},
   "outputs": [],
   "source": [
    "df_inflation_by_quintile = df_inflation_by_quintile.merge(df_inflation_NRG, on=[\"geo\", \"month\"])"
   ]
  },
  {
   "attachments": {},
   "cell_type": "markdown",
   "metadata": {},
   "source": [
    "# Gini"
   ]
  },
  {
   "cell_type": "code",
   "execution_count": 19,
   "metadata": {},
   "outputs": [],
   "source": [
    "gini = eurostat.get_data_df(code=\"TESSI190\")"
   ]
  },
  {
   "cell_type": "code",
   "execution_count": 20,
   "metadata": {},
   "outputs": [],
   "source": [
    "import numpy as np\n",
    "\n",
    "def get_most_recent(row):\n",
    "    for year in range(2022, 2010, -1):\n",
    "        if not pd.isnull(row[str(year)]):\n",
    "            return row[str(year)]\n",
    "    return np.nan\n",
    "\n",
    "gini[\"most_recent\"] = gini.apply(get_most_recent, axis=1)\n",
    "gini = gini.rename(columns={\"geo\\TIME_PERIOD\": \"geo\"})\n",
    "gini = gini.loc[:, [\"geo\", \"most_recent\"]]\n",
    "gini = gini.rename(columns={\"most_recent\": \"gini\"})\n"
   ]
  },
  {
   "cell_type": "code",
   "execution_count": 21,
   "metadata": {},
   "outputs": [],
   "source": [
    "df_inflation_by_quintile = df_inflation_by_quintile.merge(gini, on=\"geo\")"
   ]
  },
  {
   "attachments": {},
   "cell_type": "markdown",
   "metadata": {},
   "source": [
    "# Price levels"
   ]
  },
  {
   "cell_type": "code",
   "execution_count": 22,
   "metadata": {},
   "outputs": [],
   "source": [
    "price_levels_energy = eurostat.get_data_df(code=\"prc_ppp_ind\", filter_pars={'startPeriod':\"2021\", \"endPeriod\":\"2021\", \"ppp_cat\":[\"A010405\"], \"na_item\":\"PLI_EU27_2020\"})\n",
    "price_levels_energy = price_levels_energy.rename(columns={\"geo\\TIME_PERIOD\":\"geo\", \"2021\": \"energy_price_level\"})\n",
    "price_levels_energy = price_levels_energy.loc[:, [\"geo\", \"energy_price_level\"]]\n",
    "\n"
   ]
  },
  {
   "cell_type": "code",
   "execution_count": 23,
   "metadata": {},
   "outputs": [],
   "source": [
    "df_inflation_by_quintile = df_inflation_by_quintile.merge(right=price_levels_energy, on=\"geo\")"
   ]
  },
  {
   "cell_type": "code",
   "execution_count": 24,
   "metadata": {},
   "outputs": [],
   "source": [
    "price_levels_transport = eurostat.get_data_df(code=\"prc_ppp_ind\", filter_pars={'startPeriod':\"2021\", \"endPeriod\":\"2021\", \"ppp_cat\":[\"A0107\"], \"na_item\":\"PLI_EU27_2020\"})\n",
    "price_levels_transport = price_levels_transport.rename(columns={\"geo\\TIME_PERIOD\":\"geo\", \"2021\": \"transport_price_level\"})\n",
    "price_levels_transport = price_levels_transport.loc[:, [\"geo\", \"transport_price_level\"]]"
   ]
  },
  {
   "cell_type": "code",
   "execution_count": 25,
   "metadata": {},
   "outputs": [],
   "source": [
    "df_inflation_by_quintile = df_inflation_by_quintile.merge(right=price_levels_transport, on=\"geo\")"
   ]
  },
  {
   "attachments": {},
   "cell_type": "markdown",
   "metadata": {},
   "source": [
    "# GDP per capita"
   ]
  },
  {
   "cell_type": "code",
   "execution_count": 26,
   "metadata": {},
   "outputs": [],
   "source": [
    "code = \"NAMA_10_PC\"\n",
    "gdp = eurostat.get_data_df(code=code, filter_pars={'startPeriod':\"2021\", \"endPeriod\":\"2021\", \"unit\": \"CP_EUR_HAB\", \"na_item\":\"B1GQ\"})\n",
    "gdp = gdp.rename(columns={\"geo\\TIME_PERIOD\":\"geo\", \"2021\": \"gdp\"})\n",
    "gdp = gdp.loc[:, [\"geo\", \"gdp\"]]"
   ]
  },
  {
   "cell_type": "code",
   "execution_count": 27,
   "metadata": {},
   "outputs": [],
   "source": [
    "df_inflation_by_quintile = df_inflation_by_quintile.merge(right=gdp, on=\"geo\")"
   ]
  },
  {
   "attachments": {},
   "cell_type": "markdown",
   "metadata": {},
   "source": [
    "# Government expenditure"
   ]
  },
  {
   "cell_type": "code",
   "execution_count": 28,
   "metadata": {},
   "outputs": [],
   "source": [
    "code = \"GOV_10A_EXP\"\n",
    "gov_exp = eurostat.get_data_df(code=code, filter_pars={'startPeriod':\"2021\", \"endPeriod\":\"2021\", \"na_item\":\"TE\", \"sector\":\"S13\", \"unit\":\"PC_GDP\", \"cofog99\": \"TOTAL\"})\n",
    "gov_exp = gov_exp.rename(columns={\"geo\\TIME_PERIOD\":\"geo\", \"2021\": \"gov_exp\"})\n",
    "gov_exp = gov_exp.loc[:, [\"geo\", \"gov_exp\"]]"
   ]
  },
  {
   "cell_type": "code",
   "execution_count": 29,
   "metadata": {},
   "outputs": [],
   "source": [
    "df_inflation_by_quintile = df_inflation_by_quintile.merge(right=gov_exp, on=\"geo\")"
   ]
  },
  {
   "cell_type": "code",
   "execution_count": 30,
   "metadata": {},
   "outputs": [],
   "source": [
    "code = \"GOV_10A_EXP\"\n",
    "gov_exp_social = eurostat.get_data_df(code=code, filter_pars={'startPeriod':\"2021\", \"endPeriod\":\"2021\", \"na_item\":\"TE\", \"sector\":\"S13\", \"unit\":\"PC_GDP\", \"cofog99\": \"GF10\"})\n",
    "gov_exp_social = gov_exp_social.rename(columns={\"geo\\TIME_PERIOD\":\"geo\", \"2021\": \"gov_exp_social\"})\n",
    "gov_exp_social = gov_exp_social.loc[:, [\"geo\", \"gov_exp_social\"]]"
   ]
  },
  {
   "cell_type": "code",
   "execution_count": 31,
   "metadata": {},
   "outputs": [],
   "source": [
    "df_inflation_by_quintile = df_inflation_by_quintile.merge(right=gov_exp_social, on=\"geo\")"
   ]
  },
  {
   "attachments": {},
   "cell_type": "markdown",
   "metadata": {},
   "source": [
    "# Analysis"
   ]
  }
 ],
 "metadata": {
  "kernelspec": {
   "display_name": "Python 3",
   "language": "python",
   "name": "python3"
  },
  "language_info": {
   "codemirror_mode": {
    "name": "ipython",
    "version": 3
   },
   "file_extension": ".py",
   "mimetype": "text/x-python",
   "name": "python",
   "nbconvert_exporter": "python",
   "pygments_lexer": "ipython3",
   "version": "3.10.7"
  },
  "orig_nbformat": 4
 },
 "nbformat": 4,
 "nbformat_minor": 2
}
