{
 "cells": [
  {
   "cell_type": "code",
   "execution_count": 1,
   "metadata": {},
   "outputs": [],
   "source": [
    "import pandas as pd\n",
    "import eurostat"
   ]
  },
  {
   "cell_type": "code",
   "execution_count": 2,
   "metadata": {},
   "outputs": [],
   "source": [
    "df = eurostat.get_data_df(code=\"HBS_STR_T223\")\n",
    "df = df.rename(columns={'geo\\TIME_PERIOD': 'geo', '2015':'OBS_VALUE'})\n"
   ]
  },
  {
   "cell_type": "code",
   "execution_count": 3,
   "metadata": {},
   "outputs": [],
   "source": [
    "# Keep only the rows where TIME_PERIOD is equal to 2015\n",
    "df = df.loc[:, ['quantile','coicop','geo','OBS_VALUE']]\n"
   ]
  },
  {
   "cell_type": "code",
   "execution_count": 4,
   "metadata": {},
   "outputs": [],
   "source": [
    "df_inflation = eurostat.get_data_df(code=\"PRC_HICP_MANR\",filter_pars={'startPeriod':\"2021-01\"})\n",
    "df_inflation = df_inflation.rename(columns={'geo\\TIME_PERIOD': 'geo'})\n"
   ]
  },
  {
   "cell_type": "code",
   "execution_count": 5,
   "metadata": {},
   "outputs": [],
   "source": [
    "merged_df = df.merge(df_inflation, on=[\"coicop\", \"geo\"])\n"
   ]
  },
  {
   "cell_type": "code",
   "execution_count": 6,
   "metadata": {},
   "outputs": [],
   "source": [
    "cols_to_multiply = [col for col in merged_df.columns if col.startswith('202')]\n",
    "merged_df[['w' + col for col in cols_to_multiply]] = merged_df[cols_to_multiply].apply(lambda x: x * merged_df['OBS_VALUE']/1000)\n"
   ]
  },
  {
   "cell_type": "code",
   "execution_count": 7,
   "metadata": {},
   "outputs": [],
   "source": [
    "merged_df_5_chars = merged_df[merged_df['coicop'].str.len() == 5]\n"
   ]
  },
  {
   "cell_type": "code",
   "execution_count": 8,
   "metadata": {},
   "outputs": [
    {
     "name": "stderr",
     "output_type": "stream",
     "text": [
      "C:\\Users\\maxen\\AppData\\Local\\Temp\\ipykernel_10288\\899747291.py:7: SettingWithCopyWarning: \n",
      "A value is trying to be set on a copy of a slice from a DataFrame.\n",
      "Try using .loc[row_indexer,col_indexer] = value instead\n",
      "\n",
      "See the caveats in the documentation: https://pandas.pydata.org/pandas-docs/stable/user_guide/indexing.html#returning-a-view-versus-a-copy\n",
      "  merged_df_5_chars[new_col_name] = merged_df_5_chars.groupby(['geo', 'quantile'])[col].transform('sum')\n",
      "C:\\Users\\maxen\\AppData\\Local\\Temp\\ipykernel_10288\\899747291.py:7: SettingWithCopyWarning: \n",
      "A value is trying to be set on a copy of a slice from a DataFrame.\n",
      "Try using .loc[row_indexer,col_indexer] = value instead\n",
      "\n",
      "See the caveats in the documentation: https://pandas.pydata.org/pandas-docs/stable/user_guide/indexing.html#returning-a-view-versus-a-copy\n",
      "  merged_df_5_chars[new_col_name] = merged_df_5_chars.groupby(['geo', 'quantile'])[col].transform('sum')\n",
      "C:\\Users\\maxen\\AppData\\Local\\Temp\\ipykernel_10288\\899747291.py:7: SettingWithCopyWarning: \n",
      "A value is trying to be set on a copy of a slice from a DataFrame.\n",
      "Try using .loc[row_indexer,col_indexer] = value instead\n",
      "\n",
      "See the caveats in the documentation: https://pandas.pydata.org/pandas-docs/stable/user_guide/indexing.html#returning-a-view-versus-a-copy\n",
      "  merged_df_5_chars[new_col_name] = merged_df_5_chars.groupby(['geo', 'quantile'])[col].transform('sum')\n",
      "C:\\Users\\maxen\\AppData\\Local\\Temp\\ipykernel_10288\\899747291.py:7: SettingWithCopyWarning: \n",
      "A value is trying to be set on a copy of a slice from a DataFrame.\n",
      "Try using .loc[row_indexer,col_indexer] = value instead\n",
      "\n",
      "See the caveats in the documentation: https://pandas.pydata.org/pandas-docs/stable/user_guide/indexing.html#returning-a-view-versus-a-copy\n",
      "  merged_df_5_chars[new_col_name] = merged_df_5_chars.groupby(['geo', 'quantile'])[col].transform('sum')\n",
      "C:\\Users\\maxen\\AppData\\Local\\Temp\\ipykernel_10288\\899747291.py:7: SettingWithCopyWarning: \n",
      "A value is trying to be set on a copy of a slice from a DataFrame.\n",
      "Try using .loc[row_indexer,col_indexer] = value instead\n",
      "\n",
      "See the caveats in the documentation: https://pandas.pydata.org/pandas-docs/stable/user_guide/indexing.html#returning-a-view-versus-a-copy\n",
      "  merged_df_5_chars[new_col_name] = merged_df_5_chars.groupby(['geo', 'quantile'])[col].transform('sum')\n",
      "C:\\Users\\maxen\\AppData\\Local\\Temp\\ipykernel_10288\\899747291.py:7: SettingWithCopyWarning: \n",
      "A value is trying to be set on a copy of a slice from a DataFrame.\n",
      "Try using .loc[row_indexer,col_indexer] = value instead\n",
      "\n",
      "See the caveats in the documentation: https://pandas.pydata.org/pandas-docs/stable/user_guide/indexing.html#returning-a-view-versus-a-copy\n",
      "  merged_df_5_chars[new_col_name] = merged_df_5_chars.groupby(['geo', 'quantile'])[col].transform('sum')\n",
      "C:\\Users\\maxen\\AppData\\Local\\Temp\\ipykernel_10288\\899747291.py:7: SettingWithCopyWarning: \n",
      "A value is trying to be set on a copy of a slice from a DataFrame.\n",
      "Try using .loc[row_indexer,col_indexer] = value instead\n",
      "\n",
      "See the caveats in the documentation: https://pandas.pydata.org/pandas-docs/stable/user_guide/indexing.html#returning-a-view-versus-a-copy\n",
      "  merged_df_5_chars[new_col_name] = merged_df_5_chars.groupby(['geo', 'quantile'])[col].transform('sum')\n",
      "C:\\Users\\maxen\\AppData\\Local\\Temp\\ipykernel_10288\\899747291.py:7: SettingWithCopyWarning: \n",
      "A value is trying to be set on a copy of a slice from a DataFrame.\n",
      "Try using .loc[row_indexer,col_indexer] = value instead\n",
      "\n",
      "See the caveats in the documentation: https://pandas.pydata.org/pandas-docs/stable/user_guide/indexing.html#returning-a-view-versus-a-copy\n",
      "  merged_df_5_chars[new_col_name] = merged_df_5_chars.groupby(['geo', 'quantile'])[col].transform('sum')\n",
      "C:\\Users\\maxen\\AppData\\Local\\Temp\\ipykernel_10288\\899747291.py:7: SettingWithCopyWarning: \n",
      "A value is trying to be set on a copy of a slice from a DataFrame.\n",
      "Try using .loc[row_indexer,col_indexer] = value instead\n",
      "\n",
      "See the caveats in the documentation: https://pandas.pydata.org/pandas-docs/stable/user_guide/indexing.html#returning-a-view-versus-a-copy\n",
      "  merged_df_5_chars[new_col_name] = merged_df_5_chars.groupby(['geo', 'quantile'])[col].transform('sum')\n",
      "C:\\Users\\maxen\\AppData\\Local\\Temp\\ipykernel_10288\\899747291.py:7: SettingWithCopyWarning: \n",
      "A value is trying to be set on a copy of a slice from a DataFrame.\n",
      "Try using .loc[row_indexer,col_indexer] = value instead\n",
      "\n",
      "See the caveats in the documentation: https://pandas.pydata.org/pandas-docs/stable/user_guide/indexing.html#returning-a-view-versus-a-copy\n",
      "  merged_df_5_chars[new_col_name] = merged_df_5_chars.groupby(['geo', 'quantile'])[col].transform('sum')\n",
      "C:\\Users\\maxen\\AppData\\Local\\Temp\\ipykernel_10288\\899747291.py:7: SettingWithCopyWarning: \n",
      "A value is trying to be set on a copy of a slice from a DataFrame.\n",
      "Try using .loc[row_indexer,col_indexer] = value instead\n",
      "\n",
      "See the caveats in the documentation: https://pandas.pydata.org/pandas-docs/stable/user_guide/indexing.html#returning-a-view-versus-a-copy\n",
      "  merged_df_5_chars[new_col_name] = merged_df_5_chars.groupby(['geo', 'quantile'])[col].transform('sum')\n",
      "C:\\Users\\maxen\\AppData\\Local\\Temp\\ipykernel_10288\\899747291.py:7: SettingWithCopyWarning: \n",
      "A value is trying to be set on a copy of a slice from a DataFrame.\n",
      "Try using .loc[row_indexer,col_indexer] = value instead\n",
      "\n",
      "See the caveats in the documentation: https://pandas.pydata.org/pandas-docs/stable/user_guide/indexing.html#returning-a-view-versus-a-copy\n",
      "  merged_df_5_chars[new_col_name] = merged_df_5_chars.groupby(['geo', 'quantile'])[col].transform('sum')\n",
      "C:\\Users\\maxen\\AppData\\Local\\Temp\\ipykernel_10288\\899747291.py:7: SettingWithCopyWarning: \n",
      "A value is trying to be set on a copy of a slice from a DataFrame.\n",
      "Try using .loc[row_indexer,col_indexer] = value instead\n",
      "\n",
      "See the caveats in the documentation: https://pandas.pydata.org/pandas-docs/stable/user_guide/indexing.html#returning-a-view-versus-a-copy\n",
      "  merged_df_5_chars[new_col_name] = merged_df_5_chars.groupby(['geo', 'quantile'])[col].transform('sum')\n",
      "C:\\Users\\maxen\\AppData\\Local\\Temp\\ipykernel_10288\\899747291.py:7: SettingWithCopyWarning: \n",
      "A value is trying to be set on a copy of a slice from a DataFrame.\n",
      "Try using .loc[row_indexer,col_indexer] = value instead\n",
      "\n",
      "See the caveats in the documentation: https://pandas.pydata.org/pandas-docs/stable/user_guide/indexing.html#returning-a-view-versus-a-copy\n",
      "  merged_df_5_chars[new_col_name] = merged_df_5_chars.groupby(['geo', 'quantile'])[col].transform('sum')\n",
      "C:\\Users\\maxen\\AppData\\Local\\Temp\\ipykernel_10288\\899747291.py:7: SettingWithCopyWarning: \n",
      "A value is trying to be set on a copy of a slice from a DataFrame.\n",
      "Try using .loc[row_indexer,col_indexer] = value instead\n",
      "\n",
      "See the caveats in the documentation: https://pandas.pydata.org/pandas-docs/stable/user_guide/indexing.html#returning-a-view-versus-a-copy\n",
      "  merged_df_5_chars[new_col_name] = merged_df_5_chars.groupby(['geo', 'quantile'])[col].transform('sum')\n",
      "C:\\Users\\maxen\\AppData\\Local\\Temp\\ipykernel_10288\\899747291.py:7: SettingWithCopyWarning: \n",
      "A value is trying to be set on a copy of a slice from a DataFrame.\n",
      "Try using .loc[row_indexer,col_indexer] = value instead\n",
      "\n",
      "See the caveats in the documentation: https://pandas.pydata.org/pandas-docs/stable/user_guide/indexing.html#returning-a-view-versus-a-copy\n",
      "  merged_df_5_chars[new_col_name] = merged_df_5_chars.groupby(['geo', 'quantile'])[col].transform('sum')\n",
      "C:\\Users\\maxen\\AppData\\Local\\Temp\\ipykernel_10288\\899747291.py:7: SettingWithCopyWarning: \n",
      "A value is trying to be set on a copy of a slice from a DataFrame.\n",
      "Try using .loc[row_indexer,col_indexer] = value instead\n",
      "\n",
      "See the caveats in the documentation: https://pandas.pydata.org/pandas-docs/stable/user_guide/indexing.html#returning-a-view-versus-a-copy\n",
      "  merged_df_5_chars[new_col_name] = merged_df_5_chars.groupby(['geo', 'quantile'])[col].transform('sum')\n",
      "C:\\Users\\maxen\\AppData\\Local\\Temp\\ipykernel_10288\\899747291.py:7: SettingWithCopyWarning: \n",
      "A value is trying to be set on a copy of a slice from a DataFrame.\n",
      "Try using .loc[row_indexer,col_indexer] = value instead\n",
      "\n",
      "See the caveats in the documentation: https://pandas.pydata.org/pandas-docs/stable/user_guide/indexing.html#returning-a-view-versus-a-copy\n",
      "  merged_df_5_chars[new_col_name] = merged_df_5_chars.groupby(['geo', 'quantile'])[col].transform('sum')\n",
      "C:\\Users\\maxen\\AppData\\Local\\Temp\\ipykernel_10288\\899747291.py:7: SettingWithCopyWarning: \n",
      "A value is trying to be set on a copy of a slice from a DataFrame.\n",
      "Try using .loc[row_indexer,col_indexer] = value instead\n",
      "\n",
      "See the caveats in the documentation: https://pandas.pydata.org/pandas-docs/stable/user_guide/indexing.html#returning-a-view-versus-a-copy\n",
      "  merged_df_5_chars[new_col_name] = merged_df_5_chars.groupby(['geo', 'quantile'])[col].transform('sum')\n",
      "C:\\Users\\maxen\\AppData\\Local\\Temp\\ipykernel_10288\\899747291.py:7: SettingWithCopyWarning: \n",
      "A value is trying to be set on a copy of a slice from a DataFrame.\n",
      "Try using .loc[row_indexer,col_indexer] = value instead\n",
      "\n",
      "See the caveats in the documentation: https://pandas.pydata.org/pandas-docs/stable/user_guide/indexing.html#returning-a-view-versus-a-copy\n",
      "  merged_df_5_chars[new_col_name] = merged_df_5_chars.groupby(['geo', 'quantile'])[col].transform('sum')\n",
      "C:\\Users\\maxen\\AppData\\Local\\Temp\\ipykernel_10288\\899747291.py:7: SettingWithCopyWarning: \n",
      "A value is trying to be set on a copy of a slice from a DataFrame.\n",
      "Try using .loc[row_indexer,col_indexer] = value instead\n",
      "\n",
      "See the caveats in the documentation: https://pandas.pydata.org/pandas-docs/stable/user_guide/indexing.html#returning-a-view-versus-a-copy\n",
      "  merged_df_5_chars[new_col_name] = merged_df_5_chars.groupby(['geo', 'quantile'])[col].transform('sum')\n",
      "C:\\Users\\maxen\\AppData\\Local\\Temp\\ipykernel_10288\\899747291.py:7: SettingWithCopyWarning: \n",
      "A value is trying to be set on a copy of a slice from a DataFrame.\n",
      "Try using .loc[row_indexer,col_indexer] = value instead\n",
      "\n",
      "See the caveats in the documentation: https://pandas.pydata.org/pandas-docs/stable/user_guide/indexing.html#returning-a-view-versus-a-copy\n",
      "  merged_df_5_chars[new_col_name] = merged_df_5_chars.groupby(['geo', 'quantile'])[col].transform('sum')\n",
      "C:\\Users\\maxen\\AppData\\Local\\Temp\\ipykernel_10288\\899747291.py:7: SettingWithCopyWarning: \n",
      "A value is trying to be set on a copy of a slice from a DataFrame.\n",
      "Try using .loc[row_indexer,col_indexer] = value instead\n",
      "\n",
      "See the caveats in the documentation: https://pandas.pydata.org/pandas-docs/stable/user_guide/indexing.html#returning-a-view-versus-a-copy\n",
      "  merged_df_5_chars[new_col_name] = merged_df_5_chars.groupby(['geo', 'quantile'])[col].transform('sum')\n",
      "C:\\Users\\maxen\\AppData\\Local\\Temp\\ipykernel_10288\\899747291.py:7: SettingWithCopyWarning: \n",
      "A value is trying to be set on a copy of a slice from a DataFrame.\n",
      "Try using .loc[row_indexer,col_indexer] = value instead\n",
      "\n",
      "See the caveats in the documentation: https://pandas.pydata.org/pandas-docs/stable/user_guide/indexing.html#returning-a-view-versus-a-copy\n",
      "  merged_df_5_chars[new_col_name] = merged_df_5_chars.groupby(['geo', 'quantile'])[col].transform('sum')\n",
      "C:\\Users\\maxen\\AppData\\Local\\Temp\\ipykernel_10288\\899747291.py:7: SettingWithCopyWarning: \n",
      "A value is trying to be set on a copy of a slice from a DataFrame.\n",
      "Try using .loc[row_indexer,col_indexer] = value instead\n",
      "\n",
      "See the caveats in the documentation: https://pandas.pydata.org/pandas-docs/stable/user_guide/indexing.html#returning-a-view-versus-a-copy\n",
      "  merged_df_5_chars[new_col_name] = merged_df_5_chars.groupby(['geo', 'quantile'])[col].transform('sum')\n",
      "C:\\Users\\maxen\\AppData\\Local\\Temp\\ipykernel_10288\\899747291.py:7: SettingWithCopyWarning: \n",
      "A value is trying to be set on a copy of a slice from a DataFrame.\n",
      "Try using .loc[row_indexer,col_indexer] = value instead\n",
      "\n",
      "See the caveats in the documentation: https://pandas.pydata.org/pandas-docs/stable/user_guide/indexing.html#returning-a-view-versus-a-copy\n",
      "  merged_df_5_chars[new_col_name] = merged_df_5_chars.groupby(['geo', 'quantile'])[col].transform('sum')\n",
      "C:\\Users\\maxen\\AppData\\Local\\Temp\\ipykernel_10288\\899747291.py:7: SettingWithCopyWarning: \n",
      "A value is trying to be set on a copy of a slice from a DataFrame.\n",
      "Try using .loc[row_indexer,col_indexer] = value instead\n",
      "\n",
      "See the caveats in the documentation: https://pandas.pydata.org/pandas-docs/stable/user_guide/indexing.html#returning-a-view-versus-a-copy\n",
      "  merged_df_5_chars[new_col_name] = merged_df_5_chars.groupby(['geo', 'quantile'])[col].transform('sum')\n",
      "C:\\Users\\maxen\\AppData\\Local\\Temp\\ipykernel_10288\\899747291.py:7: SettingWithCopyWarning: \n",
      "A value is trying to be set on a copy of a slice from a DataFrame.\n",
      "Try using .loc[row_indexer,col_indexer] = value instead\n",
      "\n",
      "See the caveats in the documentation: https://pandas.pydata.org/pandas-docs/stable/user_guide/indexing.html#returning-a-view-versus-a-copy\n",
      "  merged_df_5_chars[new_col_name] = merged_df_5_chars.groupby(['geo', 'quantile'])[col].transform('sum')\n"
     ]
    }
   ],
   "source": [
    "columns_to_sum = [col for col in merged_df_5_chars.columns if col.startswith('w')]\n",
    "                  \n",
    "summed_columns = []\n",
    "for col in columns_to_sum:\n",
    "    new_col_name = col[1:]\n",
    "    summed_columns.append(new_col_name)\n",
    "    merged_df_5_chars[new_col_name] = merged_df_5_chars.groupby(['geo', 'quantile'])[col].transform('sum')\n",
    "\n",
    "df_inflation_by_quintile = merged_df_5_chars[['geo', 'quantile'] + summed_columns].drop_duplicates()"
   ]
  },
  {
   "cell_type": "code",
   "execution_count": 9,
   "metadata": {},
   "outputs": [],
   "source": [
    "# For EU27_2020, only the groups of coicop with 4 characters have value\n",
    "\n",
    "merged_df_4_chars = merged_df[merged_df['coicop'].str.len() == 4]\n",
    "merged_df_4_chars = merged_df_4_chars.loc[(merged_df_4_chars['geo'] == 'EU27_2020')]\n",
    "summed_columns = []\n",
    "for col in columns_to_sum:\n",
    "    new_col_name = col[1:]\n",
    "    summed_columns.append(new_col_name)\n",
    "    merged_df_4_chars[new_col_name] = merged_df_4_chars.groupby(['geo', 'quantile'])[col].transform('sum')\n",
    "\n",
    "df_inflation_by_quintile_eu27 = merged_df_4_chars[['geo', 'quantile'] + summed_columns].drop_duplicates()\n"
   ]
  },
  {
   "cell_type": "code",
   "execution_count": 10,
   "metadata": {},
   "outputs": [],
   "source": [
    "df_inflation_by_quintile = pd.concat([df_inflation_by_quintile, df_inflation_by_quintile_eu27])"
   ]
  },
  {
   "cell_type": "code",
   "execution_count": 11,
   "metadata": {},
   "outputs": [],
   "source": [
    "# we drop Italy and EA because they don't have the values, and TR because they have a crazy high inflation\n",
    "df_inflation_by_quintile = df_inflation_by_quintile.loc[~df_inflation_by_quintile['geo'].isin(['IT', 'EA', 'TR'])]"
   ]
  },
  {
   "cell_type": "code",
   "execution_count": 12,
   "metadata": {},
   "outputs": [],
   "source": [
    "value_vars = df_inflation_by_quintile.filter(regex='^202').columns\n"
   ]
  },
  {
   "cell_type": "code",
   "execution_count": 13,
   "metadata": {},
   "outputs": [],
   "source": [
    "df_inflation_by_quintile_melt = df_inflation_by_quintile.melt(id_vars=[\"geo\", \"quantile\"], value_vars=value_vars, var_name=\"month\", value_name=\"inflation\")"
   ]
  },
  {
   "cell_type": "code",
   "execution_count": 14,
   "metadata": {},
   "outputs": [],
   "source": [
    "df_pivot = df_inflation_by_quintile_melt.pivot_table(index=['geo', 'month'], columns='quantile', values='inflation').reset_index()\n",
    "\n",
    "df_pivot['Q1/Q5'] = df_pivot['QUINTILE1'] / df_pivot['QUINTILE5']\n",
    "\n",
    "quintile_columns = ['QUINTILE1', 'QUINTILE2', 'QUINTILE3', 'QUINTILE4', 'QUINTILE5']\n",
    "quintiles_df = df_pivot[quintile_columns]\n",
    "\n",
    "df_pivot['normalized_std'] = quintiles_df.std(axis=1) / quintiles_df.mean(axis=1)\n",
    "\n",
    "df_pivot['Q1-Q5'] = df_pivot['QUINTILE1'] - df_pivot['QUINTILE5']\n",
    "df_pivot['(Q1-Q5)/Q1'] = (df_pivot['QUINTILE1'] - df_pivot['QUINTILE5'])/df_pivot['QUINTILE1']\n",
    "\n",
    "df_inflation_by_quintile = df_pivot.reset_index(drop=True)\n",
    "df_inflation_by_quintile = df_inflation_by_quintile.drop([\"UNK\"], axis=1)"
   ]
  },
  {
   "attachments": {},
   "cell_type": "markdown",
   "metadata": {},
   "source": [
    "# Energy inflation"
   ]
  },
  {
   "cell_type": "code",
   "execution_count": 15,
   "metadata": {},
   "outputs": [],
   "source": [
    "df_inflation_NRG = df_inflation[df_inflation[\"coicop\"] == \"NRG\"]"
   ]
  },
  {
   "cell_type": "code",
   "execution_count": 16,
   "metadata": {},
   "outputs": [],
   "source": [
    "df_inflation_NRG = df_inflation_NRG.melt(id_vars=[\"geo\"], value_vars=value_vars, var_name=\"month\", value_name=\"inflationNRG\")"
   ]
  },
  {
   "cell_type": "code",
   "execution_count": 17,
   "metadata": {},
   "outputs": [],
   "source": [
    "df_inflation_by_quintile = df_inflation_by_quintile.merge(df_inflation_NRG, on=[\"geo\", \"month\"])"
   ]
  },
  {
   "attachments": {},
   "cell_type": "markdown",
   "metadata": {},
   "source": [
    "# Food inflation"
   ]
  },
  {
   "cell_type": "code",
   "execution_count": 18,
   "metadata": {},
   "outputs": [],
   "source": [
    "df_inflation_FOOD = df_inflation[df_inflation[\"coicop\"] == \"FOOD\"]"
   ]
  },
  {
   "cell_type": "code",
   "execution_count": 19,
   "metadata": {},
   "outputs": [],
   "source": [
    "df_inflation_FOOD = df_inflation_FOOD.melt(id_vars=[\"geo\"], value_vars=value_vars, var_name=\"month\", value_name=\"inflationFOOD\")"
   ]
  },
  {
   "cell_type": "code",
   "execution_count": 20,
   "metadata": {},
   "outputs": [],
   "source": [
    "df_inflation_by_quintile = df_inflation_by_quintile.merge(df_inflation_FOOD, on=[\"geo\", \"month\"])"
   ]
  },
  {
   "attachments": {},
   "cell_type": "markdown",
   "metadata": {},
   "source": [
    "# Services inflation"
   ]
  },
  {
   "cell_type": "code",
   "execution_count": 21,
   "metadata": {},
   "outputs": [],
   "source": [
    "df_inflation_SERV = df_inflation[df_inflation[\"coicop\"] == \"SERV\"]"
   ]
  },
  {
   "cell_type": "code",
   "execution_count": 22,
   "metadata": {},
   "outputs": [],
   "source": [
    "df_inflation_SERV = df_inflation_SERV.melt(id_vars=[\"geo\"], value_vars=value_vars, var_name=\"month\", value_name=\"inflationSERV\")"
   ]
  },
  {
   "cell_type": "code",
   "execution_count": 23,
   "metadata": {},
   "outputs": [],
   "source": [
    "df_inflation_by_quintile = df_inflation_by_quintile.merge(df_inflation_SERV, on=[\"geo\", \"month\"])"
   ]
  },
  {
   "cell_type": "code",
   "execution_count": 24,
   "metadata": {},
   "outputs": [],
   "source": [
    "df_inflation_by_quintile['inflationNRG/SERV'] = df_inflation_by_quintile['inflationNRG'] / df_inflation_by_quintile['inflationSERV']"
   ]
  },
  {
   "attachments": {},
   "cell_type": "markdown",
   "metadata": {},
   "source": [
    "# Gini"
   ]
  },
  {
   "cell_type": "code",
   "execution_count": 25,
   "metadata": {},
   "outputs": [],
   "source": [
    "gini = eurostat.get_data_df(code=\"TESSI190\")"
   ]
  },
  {
   "cell_type": "code",
   "execution_count": 26,
   "metadata": {},
   "outputs": [],
   "source": [
    "import numpy as np\n",
    "\n",
    "def get_most_recent(row):\n",
    "    for year in range(2022, 2010, -1):\n",
    "        if not pd.isnull(row[str(year)]):\n",
    "            return row[str(year)]\n",
    "    return np.nan\n",
    "\n",
    "gini[\"most_recent\"] = gini.apply(get_most_recent, axis=1)\n",
    "gini = gini.rename(columns={\"geo\\TIME_PERIOD\": \"geo\"})\n",
    "gini = gini.loc[:, [\"geo\", \"most_recent\"]]\n",
    "gini = gini.rename(columns={\"most_recent\": \"gini\"})\n"
   ]
  },
  {
   "cell_type": "code",
   "execution_count": 27,
   "metadata": {},
   "outputs": [],
   "source": [
    "df_inflation_by_quintile = df_inflation_by_quintile.merge(gini, on=\"geo\")"
   ]
  },
  {
   "attachments": {},
   "cell_type": "markdown",
   "metadata": {},
   "source": [
    "# Price levels"
   ]
  },
  {
   "cell_type": "code",
   "execution_count": 28,
   "metadata": {},
   "outputs": [],
   "source": [
    "price_levels_energy = eurostat.get_data_df(code=\"prc_ppp_ind\", filter_pars={'startPeriod':\"2021\", \"endPeriod\":\"2021\", \"ppp_cat\":[\"A010405\"], \"na_item\":\"PLI_EU27_2020\"})\n",
    "price_levels_energy = price_levels_energy.rename(columns={\"geo\\TIME_PERIOD\":\"geo\", \"2021\": \"energy_price_level\"})\n",
    "price_levels_energy = price_levels_energy.loc[:, [\"geo\", \"energy_price_level\"]]\n",
    "\n"
   ]
  },
  {
   "cell_type": "code",
   "execution_count": 29,
   "metadata": {},
   "outputs": [],
   "source": [
    "df_inflation_by_quintile = df_inflation_by_quintile.merge(right=price_levels_energy, on=\"geo\")"
   ]
  },
  {
   "cell_type": "code",
   "execution_count": 30,
   "metadata": {},
   "outputs": [],
   "source": [
    "price_levels_transport = eurostat.get_data_df(code=\"prc_ppp_ind\", filter_pars={'startPeriod':\"2021\", \"endPeriod\":\"2021\", \"ppp_cat\":[\"A0107\"], \"na_item\":\"PLI_EU27_2020\"})\n",
    "price_levels_transport = price_levels_transport.rename(columns={\"geo\\TIME_PERIOD\":\"geo\", \"2021\": \"transport_price_level\"})\n",
    "price_levels_transport = price_levels_transport.loc[:, [\"geo\", \"transport_price_level\"]]"
   ]
  },
  {
   "cell_type": "code",
   "execution_count": 31,
   "metadata": {},
   "outputs": [],
   "source": [
    "df_inflation_by_quintile = df_inflation_by_quintile.merge(right=price_levels_transport, on=\"geo\")"
   ]
  },
  {
   "attachments": {},
   "cell_type": "markdown",
   "metadata": {},
   "source": [
    "# GDP per capita"
   ]
  },
  {
   "cell_type": "code",
   "execution_count": 32,
   "metadata": {},
   "outputs": [],
   "source": [
    "code = \"NAMA_10_PC\"\n",
    "gdp = eurostat.get_data_df(code=code, filter_pars={'startPeriod':\"2021\", \"endPeriod\":\"2021\", \"unit\": \"CP_EUR_HAB\", \"na_item\":\"B1GQ\"})\n",
    "gdp = gdp.rename(columns={\"geo\\TIME_PERIOD\":\"geo\", \"2021\": \"gdp\"})\n",
    "gdp = gdp.loc[:, [\"geo\", \"gdp\"]]"
   ]
  },
  {
   "cell_type": "code",
   "execution_count": 33,
   "metadata": {},
   "outputs": [],
   "source": [
    "df_inflation_by_quintile = df_inflation_by_quintile.merge(right=gdp, on=\"geo\")"
   ]
  },
  {
   "attachments": {},
   "cell_type": "markdown",
   "metadata": {},
   "source": [
    "# Government expenditure"
   ]
  },
  {
   "cell_type": "code",
   "execution_count": 34,
   "metadata": {},
   "outputs": [],
   "source": [
    "code = \"GOV_10A_EXP\"\n",
    "gov_exp = eurostat.get_data_df(code=code, filter_pars={'startPeriod':\"2021\", \"endPeriod\":\"2021\", \"na_item\":\"TE\", \"sector\":\"S13\", \"unit\":\"PC_GDP\", \"cofog99\": \"TOTAL\"})\n",
    "gov_exp = gov_exp.rename(columns={\"geo\\TIME_PERIOD\":\"geo\", \"2021\": \"gov_exp\"})\n",
    "gov_exp = gov_exp.loc[:, [\"geo\", \"gov_exp\"]]"
   ]
  },
  {
   "cell_type": "code",
   "execution_count": 35,
   "metadata": {},
   "outputs": [],
   "source": [
    "df_inflation_by_quintile = df_inflation_by_quintile.merge(right=gov_exp, on=\"geo\")"
   ]
  },
  {
   "cell_type": "code",
   "execution_count": 36,
   "metadata": {},
   "outputs": [],
   "source": [
    "code = \"GOV_10A_EXP\"\n",
    "gov_exp_social = eurostat.get_data_df(code=code, filter_pars={'startPeriod':\"2021\", \"endPeriod\":\"2021\", \"na_item\":\"TE\", \"sector\":\"S13\", \"unit\":\"PC_GDP\", \"cofog99\": \"GF10\"})\n",
    "gov_exp_social = gov_exp_social.rename(columns={\"geo\\TIME_PERIOD\":\"geo\", \"2021\": \"gov_exp_social\"})\n",
    "gov_exp_social = gov_exp_social.loc[:, [\"geo\", \"gov_exp_social\"]]"
   ]
  },
  {
   "cell_type": "code",
   "execution_count": 37,
   "metadata": {},
   "outputs": [],
   "source": [
    "df_inflation_by_quintile = df_inflation_by_quintile.merge(right=gov_exp_social, on=\"geo\")"
   ]
  },
  {
   "attachments": {},
   "cell_type": "markdown",
   "metadata": {},
   "source": [
    "# Urbanisation"
   ]
  },
  {
   "cell_type": "code",
   "execution_count": 38,
   "metadata": {},
   "outputs": [],
   "source": [
    "code = \"ILC_LVHO01\"\n",
    "urbanisation = eurostat.get_data_df(code=code, filter_pars={\"endPeriod\":\"2022\", \"incgrp\":\"TOTAL\", \"building\": \"TOTAL\", \"deg_urb\": \"DEG1\"})\n",
    "\n",
    "urbanisation[\"most_recent\"] = urbanisation.apply(get_most_recent, axis=1)\n",
    "\n",
    "\n",
    "urbanisation = urbanisation.rename(columns={\"geo\\TIME_PERIOD\":\"geo\", \"most_recent\": \"urbanisation\"})\n",
    "urbanisation = urbanisation.loc[:, [\"geo\", \"urbanisation\"]]"
   ]
  },
  {
   "cell_type": "code",
   "execution_count": 39,
   "metadata": {},
   "outputs": [],
   "source": [
    "df_inflation_by_quintile = df_inflation_by_quintile.merge(urbanisation, on=\"geo\")"
   ]
  },
  {
   "attachments": {},
   "cell_type": "markdown",
   "metadata": {},
   "source": [
    "# Share of electric consumption in final energy consumption"
   ]
  },
  {
   "cell_type": "code",
   "execution_count": 40,
   "metadata": {},
   "outputs": [],
   "source": [
    "code = \"NRG_IND_FECF\"\n",
    "electric_share = eurostat.get_data_df(code=code, filter_pars={\"startPeriod\":\"2021\", \"endPeriod\":\"2021\", \"nrg_bal\":\"FC_E\",\"siec\":\"E7000\"})\n",
    "\n",
    "\n",
    "\n",
    "electric_share = electric_share.rename(columns={\"geo\\TIME_PERIOD\":\"geo\", \"2021\": \"electric_share\"})\n",
    "electric_share = electric_share.loc[:, [\"geo\", \"electric_share\"]]"
   ]
  },
  {
   "cell_type": "code",
   "execution_count": 41,
   "metadata": {},
   "outputs": [],
   "source": [
    "df_inflation_by_quintile = df_inflation_by_quintile.merge(electric_share, on=\"geo\")"
   ]
  },
  {
   "attachments": {},
   "cell_type": "markdown",
   "metadata": {},
   "source": [
    "# At-risk-of-poverty rate before social transfers"
   ]
  },
  {
   "cell_type": "code",
   "execution_count": 42,
   "metadata": {},
   "outputs": [],
   "source": [
    "code = \"ILC_LI10\"\n",
    "poverty = eurostat.get_data_df(code=code, filter_pars={\"startPeriod\":\"2011\", \"endPeriod\":\"2022\", \"age\": \"total\", \"indic_il\":\"LI_R_MD60BT\", \"sex\":\"T\"})\n",
    "\n",
    "poverty[\"most_recent\"] = poverty.apply(get_most_recent, axis=1)\n",
    "\n",
    "\n",
    "poverty = poverty.rename(columns={\"geo\\TIME_PERIOD\":\"geo\", \"most_recent\": \"poverty\"})\n",
    "poverty = poverty.loc[:, [\"geo\", \"poverty\"]]"
   ]
  },
  {
   "cell_type": "code",
   "execution_count": 43,
   "metadata": {},
   "outputs": [],
   "source": [
    "df_inflation_by_quintile = df_inflation_by_quintile.merge(poverty, on=\"geo\")"
   ]
  },
  {
   "attachments": {},
   "cell_type": "markdown",
   "metadata": {},
   "source": [
    "# Import"
   ]
  },
  {
   "cell_type": "code",
   "execution_count": 44,
   "metadata": {},
   "outputs": [],
   "source": [
    "code = \"TET00004\"\n",
    "importation = eurostat.get_data_df(code=code, filter_pars={\"startPeriod\":\"2011\", \"endPeriod\":\"2021\"})\n",
    "\n",
    "\n",
    "importation = importation.rename(columns={\"geo\\TIME_PERIOD\":\"geo\", \"2021\": \"importation\"})\n",
    "importation = importation.loc[:, [\"geo\", \"importation\"]]"
   ]
  },
  {
   "cell_type": "code",
   "execution_count": 45,
   "metadata": {},
   "outputs": [],
   "source": [
    "df_inflation_by_quintile = df_inflation_by_quintile.merge(importation, on=\"geo\")"
   ]
  },
  {
   "attachments": {},
   "cell_type": "markdown",
   "metadata": {},
   "source": [
    "# Analysis"
   ]
  },
  {
   "attachments": {},
   "cell_type": "markdown",
   "metadata": {},
   "source": [
    "# PCA"
   ]
  },
  {
   "cell_type": "code",
   "execution_count": 47,
   "metadata": {},
   "outputs": [
    {
     "data": {
      "image/png": "[encoded data removed]",
      "text/plain": [
       "<Figure size 640x480 with 2 Axes>"
      ]
     },
     "metadata": {},
     "output_type": "display_data"
    }
   ],
   "source": [
    "import pandas as pd\n",
    "import numpy as np\n",
    "import seaborn as sns\n",
    "import matplotlib.pyplot as plt\n",
    "\n",
    "\n",
    "# Définir les variables d'entrée (X)\n",
    "X = df_inflation_by_quintile[['inflationNRG', 'inflationFOOD', 'gini', 'gov_exp_social', 'urbanisation', 'electric_share', 'poverty', 'gdp']]\n",
    "\n",
    "# Calculer la matrice de corrélation\n",
    "corr_matrix = X.corr()\n",
    "\n",
    "# Afficher la matrice de corrélation sous forme de heatmap\n",
    "sns.heatmap(corr_matrix, annot=True, cmap='coolwarm')\n",
    "plt.show()\n",
    "\n"
   ]
  },
  {
   "attachments": {},
   "cell_type": "markdown",
   "metadata": {},
   "source": [
    "# Auto regressive"
   ]
  },
  {
   "cell_type": "code",
   "execution_count": 48,
   "metadata": {},
   "outputs": [
    {
     "name": "stdout",
     "output_type": "stream",
     "text": [
      "                            OLS Regression Results                            \n",
      "==============================================================================\n",
      "Dep. Variable:                  Q1-Q5   R-squared:                       0.865\n",
      "Model:                            OLS   Adj. R-squared:                  0.863\n",
      "Method:                 Least Squares   F-statistic:                     604.9\n",
      "Date:                Mon, 08 May 2023   Prob (F-statistic):          1.53e-322\n",
      "Time:                        12:36:28   Log-Likelihood:                -609.45\n",
      "No. Observations:                 765   AIC:                             1237.\n",
      "Df Residuals:                     756   BIC:                             1279.\n",
      "Df Model:                           8                                         \n",
      "Covariance Type:            nonrobust                                         \n",
      "==================================================================================\n",
      "                     coef    std err          t      P>|t|      [0.025      0.975]\n",
      "----------------------------------------------------------------------------------\n",
      "const             -0.4697      0.253     -1.853      0.064      -0.967       0.028\n",
      "inflationNRG       0.0113      0.001     10.059      0.000       0.009       0.014\n",
      "inflationFOOD      0.0117      0.003      3.694      0.000       0.005       0.018\n",
      "gini               0.0133      0.006      2.192      0.029       0.001       0.025\n",
      "gov_exp_social    -0.0104      0.006     -1.783      0.075      -0.022       0.001\n",
      "urbanisation      -0.0008      0.002     -0.352      0.725      -0.005       0.004\n",
      "electric_share  1.854e-05      0.003      0.007      0.995      -0.005       0.005\n",
      "importation        0.0008      0.001      1.152      0.250      -0.001       0.002\n",
      "Q1-Q5_lag1         0.8264      0.018     46.417      0.000       0.791       0.861\n",
      "==============================================================================\n",
      "Omnibus:                      212.899   Durbin-Watson:                   1.885\n",
      "Prob(Omnibus):                  0.000   Jarque-Bera (JB):             3942.475\n",
      "Skew:                           0.753   Prob(JB):                         0.00\n",
      "Kurtosis:                      14.019   Cond. No.                     1.22e+03\n",
      "==============================================================================\n",
      "\n",
      "Notes:\n",
      "[1] Standard Errors assume that the covariance matrix of the errors is correctly specified.\n",
      "[2] The condition number is large, 1.22e+03. This might indicate that there are\n",
      "strong multicollinearity or other numerical problems.\n"
     ]
    }
   ],
   "source": [
    "import statsmodels.api as sm\n",
    "\n",
    "X = df_inflation_by_quintile[['inflationNRG', 'inflationFOOD', 'gini', 'gov_exp_social', 'urbanisation', 'electric_share', 'importation']]\n",
    "Y = df_inflation_by_quintile['Q1-Q5']\n",
    "\n",
    "X = sm.add_constant(X)\n",
    "\n",
    "lags = 1\n",
    "\n",
    "for i in range(1, lags+1):\n",
    "    X['Q1-Q5_lag{}'.format(i)] = Y.shift(i)\n",
    "\n",
    "X = X.dropna()\n",
    "Y = Y[X.index]\n",
    "\n",
    "model = sm.OLS(Y, X).fit()\n",
    "\n",
    "print(model.summary())\n"
   ]
  },
  {
   "cell_type": "code",
   "execution_count": 61,
   "metadata": {},
   "outputs": [
    {
     "name": "stdout",
     "output_type": "stream",
     "text": [
      "                            OLS Regression Results                            \n",
      "==============================================================================\n",
      "Dep. Variable:                  Q1-Q5   R-squared:                       0.851\n",
      "Model:                            OLS   Adj. R-squared:                  0.850\n",
      "Method:                 Least Squares   F-statistic:                     658.9\n",
      "Date:                Mon, 08 May 2023   Prob (F-statistic):          1.96e-282\n",
      "Time:                        12:48:04   Log-Likelihood:                -618.12\n",
      "No. Observations:                 700   AIC:                             1250.\n",
      "Df Residuals:                     693   BIC:                             1282.\n",
      "Df Model:                           6                                         \n",
      "Covariance Type:            nonrobust                                         \n",
      "=====================================================================================\n",
      "                        coef    std err          t      P>|t|      [0.025      0.975]\n",
      "-------------------------------------------------------------------------------------\n",
      "const                 0.2063      0.230      0.898      0.369      -0.245       0.657\n",
      "inflationNRG/SERV     0.0045      0.001      2.997      0.003       0.002       0.007\n",
      "gov_exp_social       -0.0128      0.006     -2.173      0.030      -0.024      -0.001\n",
      "gini                  0.0076      0.007      1.114      0.266      -0.006       0.021\n",
      "urbanisation         -0.0022      0.003     -0.838      0.402      -0.007       0.003\n",
      "electric_share       -0.0034      0.003     -1.017      0.310      -0.010       0.003\n",
      "Q1-Q5_lag1            0.9345      0.016     59.977      0.000       0.904       0.965\n",
      "==============================================================================\n",
      "Omnibus:                      251.476   Durbin-Watson:                   1.938\n",
      "Prob(Omnibus):                  0.000   Jarque-Bera (JB):             4998.855\n",
      "Skew:                           1.096   Prob(JB):                         0.00\n",
      "Kurtosis:                      15.907   Cond. No.                         587.\n",
      "==============================================================================\n",
      "\n",
      "Notes:\n",
      "[1] Standard Errors assume that the covariance matrix of the errors is correctly specified.\n"
     ]
    },
    {
     "name": "stderr",
     "output_type": "stream",
     "text": [
      "C:\\Users\\maxen\\AppData\\Local\\Temp\\ipykernel_10288\\2522653222.py:20: SettingWithCopyWarning: \n",
      "A value is trying to be set on a copy of a slice from a DataFrame.\n",
      "Try using .loc[row_indexer,col_indexer] = value instead\n",
      "\n",
      "See the caveats in the documentation: https://pandas.pydata.org/pandas-docs/stable/user_guide/indexing.html#returning-a-view-versus-a-copy\n",
      "  df_region['Q1-Q5_lag{}'.format(i)] = df_region['Q1-Q5'].shift(i)\n",
      "C:\\Users\\maxen\\AppData\\Local\\Temp\\ipykernel_10288\\2522653222.py:20: SettingWithCopyWarning: \n",
      "A value is trying to be set on a copy of a slice from a DataFrame.\n",
      "Try using .loc[row_indexer,col_indexer] = value instead\n",
      "\n",
      "See the caveats in the documentation: https://pandas.pydata.org/pandas-docs/stable/user_guide/indexing.html#returning-a-view-versus-a-copy\n",
      "  df_region['Q1-Q5_lag{}'.format(i)] = df_region['Q1-Q5'].shift(i)\n",
      "C:\\Users\\maxen\\AppData\\Local\\Temp\\ipykernel_10288\\2522653222.py:20: SettingWithCopyWarning: \n",
      "A value is trying to be set on a copy of a slice from a DataFrame.\n",
      "Try using .loc[row_indexer,col_indexer] = value instead\n",
      "\n",
      "See the caveats in the documentation: https://pandas.pydata.org/pandas-docs/stable/user_guide/indexing.html#returning-a-view-versus-a-copy\n",
      "  df_region['Q1-Q5_lag{}'.format(i)] = df_region['Q1-Q5'].shift(i)\n",
      "C:\\Users\\maxen\\AppData\\Local\\Temp\\ipykernel_10288\\2522653222.py:20: SettingWithCopyWarning: \n",
      "A value is trying to be set on a copy of a slice from a DataFrame.\n",
      "Try using .loc[row_indexer,col_indexer] = value instead\n",
      "\n",
      "See the caveats in the documentation: https://pandas.pydata.org/pandas-docs/stable/user_guide/indexing.html#returning-a-view-versus-a-copy\n",
      "  df_region['Q1-Q5_lag{}'.format(i)] = df_region['Q1-Q5'].shift(i)\n",
      "C:\\Users\\maxen\\AppData\\Local\\Temp\\ipykernel_10288\\2522653222.py:20: SettingWithCopyWarning: \n",
      "A value is trying to be set on a copy of a slice from a DataFrame.\n",
      "Try using .loc[row_indexer,col_indexer] = value instead\n",
      "\n",
      "See the caveats in the documentation: https://pandas.pydata.org/pandas-docs/stable/user_guide/indexing.html#returning-a-view-versus-a-copy\n",
      "  df_region['Q1-Q5_lag{}'.format(i)] = df_region['Q1-Q5'].shift(i)\n",
      "C:\\Users\\maxen\\AppData\\Local\\Temp\\ipykernel_10288\\2522653222.py:20: SettingWithCopyWarning: \n",
      "A value is trying to be set on a copy of a slice from a DataFrame.\n",
      "Try using .loc[row_indexer,col_indexer] = value instead\n",
      "\n",
      "See the caveats in the documentation: https://pandas.pydata.org/pandas-docs/stable/user_guide/indexing.html#returning-a-view-versus-a-copy\n",
      "  df_region['Q1-Q5_lag{}'.format(i)] = df_region['Q1-Q5'].shift(i)\n",
      "C:\\Users\\maxen\\AppData\\Local\\Temp\\ipykernel_10288\\2522653222.py:20: SettingWithCopyWarning: \n",
      "A value is trying to be set on a copy of a slice from a DataFrame.\n",
      "Try using .loc[row_indexer,col_indexer] = value instead\n",
      "\n",
      "See the caveats in the documentation: https://pandas.pydata.org/pandas-docs/stable/user_guide/indexing.html#returning-a-view-versus-a-copy\n",
      "  df_region['Q1-Q5_lag{}'.format(i)] = df_region['Q1-Q5'].shift(i)\n",
      "C:\\Users\\maxen\\AppData\\Local\\Temp\\ipykernel_10288\\2522653222.py:20: SettingWithCopyWarning: \n",
      "A value is trying to be set on a copy of a slice from a DataFrame.\n",
      "Try using .loc[row_indexer,col_indexer] = value instead\n",
      "\n",
      "See the caveats in the documentation: https://pandas.pydata.org/pandas-docs/stable/user_guide/indexing.html#returning-a-view-versus-a-copy\n",
      "  df_region['Q1-Q5_lag{}'.format(i)] = df_region['Q1-Q5'].shift(i)\n",
      "C:\\Users\\maxen\\AppData\\Local\\Temp\\ipykernel_10288\\2522653222.py:20: SettingWithCopyWarning: \n",
      "A value is trying to be set on a copy of a slice from a DataFrame.\n",
      "Try using .loc[row_indexer,col_indexer] = value instead\n",
      "\n",
      "See the caveats in the documentation: https://pandas.pydata.org/pandas-docs/stable/user_guide/indexing.html#returning-a-view-versus-a-copy\n",
      "  df_region['Q1-Q5_lag{}'.format(i)] = df_region['Q1-Q5'].shift(i)\n",
      "C:\\Users\\maxen\\AppData\\Local\\Temp\\ipykernel_10288\\2522653222.py:20: SettingWithCopyWarning: \n",
      "A value is trying to be set on a copy of a slice from a DataFrame.\n",
      "Try using .loc[row_indexer,col_indexer] = value instead\n",
      "\n",
      "See the caveats in the documentation: https://pandas.pydata.org/pandas-docs/stable/user_guide/indexing.html#returning-a-view-versus-a-copy\n",
      "  df_region['Q1-Q5_lag{}'.format(i)] = df_region['Q1-Q5'].shift(i)\n",
      "C:\\Users\\maxen\\AppData\\Local\\Temp\\ipykernel_10288\\2522653222.py:20: SettingWithCopyWarning: \n",
      "A value is trying to be set on a copy of a slice from a DataFrame.\n",
      "Try using .loc[row_indexer,col_indexer] = value instead\n",
      "\n",
      "See the caveats in the documentation: https://pandas.pydata.org/pandas-docs/stable/user_guide/indexing.html#returning-a-view-versus-a-copy\n",
      "  df_region['Q1-Q5_lag{}'.format(i)] = df_region['Q1-Q5'].shift(i)\n",
      "C:\\Users\\maxen\\AppData\\Local\\Temp\\ipykernel_10288\\2522653222.py:20: SettingWithCopyWarning: \n",
      "A value is trying to be set on a copy of a slice from a DataFrame.\n",
      "Try using .loc[row_indexer,col_indexer] = value instead\n",
      "\n",
      "See the caveats in the documentation: https://pandas.pydata.org/pandas-docs/stable/user_guide/indexing.html#returning-a-view-versus-a-copy\n",
      "  df_region['Q1-Q5_lag{}'.format(i)] = df_region['Q1-Q5'].shift(i)\n",
      "C:\\Users\\maxen\\AppData\\Local\\Temp\\ipykernel_10288\\2522653222.py:20: SettingWithCopyWarning: \n",
      "A value is trying to be set on a copy of a slice from a DataFrame.\n",
      "Try using .loc[row_indexer,col_indexer] = value instead\n",
      "\n",
      "See the caveats in the documentation: https://pandas.pydata.org/pandas-docs/stable/user_guide/indexing.html#returning-a-view-versus-a-copy\n",
      "  df_region['Q1-Q5_lag{}'.format(i)] = df_region['Q1-Q5'].shift(i)\n",
      "C:\\Users\\maxen\\AppData\\Local\\Temp\\ipykernel_10288\\2522653222.py:20: SettingWithCopyWarning: \n",
      "A value is trying to be set on a copy of a slice from a DataFrame.\n",
      "Try using .loc[row_indexer,col_indexer] = value instead\n",
      "\n",
      "See the caveats in the documentation: https://pandas.pydata.org/pandas-docs/stable/user_guide/indexing.html#returning-a-view-versus-a-copy\n",
      "  df_region['Q1-Q5_lag{}'.format(i)] = df_region['Q1-Q5'].shift(i)\n",
      "C:\\Users\\maxen\\AppData\\Local\\Temp\\ipykernel_10288\\2522653222.py:20: SettingWithCopyWarning: \n",
      "A value is trying to be set on a copy of a slice from a DataFrame.\n",
      "Try using .loc[row_indexer,col_indexer] = value instead\n",
      "\n",
      "See the caveats in the documentation: https://pandas.pydata.org/pandas-docs/stable/user_guide/indexing.html#returning-a-view-versus-a-copy\n",
      "  df_region['Q1-Q5_lag{}'.format(i)] = df_region['Q1-Q5'].shift(i)\n",
      "C:\\Users\\maxen\\AppData\\Local\\Temp\\ipykernel_10288\\2522653222.py:20: SettingWithCopyWarning: \n",
      "A value is trying to be set on a copy of a slice from a DataFrame.\n",
      "Try using .loc[row_indexer,col_indexer] = value instead\n",
      "\n",
      "See the caveats in the documentation: https://pandas.pydata.org/pandas-docs/stable/user_guide/indexing.html#returning-a-view-versus-a-copy\n",
      "  df_region['Q1-Q5_lag{}'.format(i)] = df_region['Q1-Q5'].shift(i)\n",
      "C:\\Users\\maxen\\AppData\\Local\\Temp\\ipykernel_10288\\2522653222.py:20: SettingWithCopyWarning: \n",
      "A value is trying to be set on a copy of a slice from a DataFrame.\n",
      "Try using .loc[row_indexer,col_indexer] = value instead\n",
      "\n",
      "See the caveats in the documentation: https://pandas.pydata.org/pandas-docs/stable/user_guide/indexing.html#returning-a-view-versus-a-copy\n",
      "  df_region['Q1-Q5_lag{}'.format(i)] = df_region['Q1-Q5'].shift(i)\n",
      "C:\\Users\\maxen\\AppData\\Local\\Temp\\ipykernel_10288\\2522653222.py:20: SettingWithCopyWarning: \n",
      "A value is trying to be set on a copy of a slice from a DataFrame.\n",
      "Try using .loc[row_indexer,col_indexer] = value instead\n",
      "\n",
      "See the caveats in the documentation: https://pandas.pydata.org/pandas-docs/stable/user_guide/indexing.html#returning-a-view-versus-a-copy\n",
      "  df_region['Q1-Q5_lag{}'.format(i)] = df_region['Q1-Q5'].shift(i)\n",
      "C:\\Users\\maxen\\AppData\\Local\\Temp\\ipykernel_10288\\2522653222.py:20: SettingWithCopyWarning: \n",
      "A value is trying to be set on a copy of a slice from a DataFrame.\n",
      "Try using .loc[row_indexer,col_indexer] = value instead\n",
      "\n",
      "See the caveats in the documentation: https://pandas.pydata.org/pandas-docs/stable/user_guide/indexing.html#returning-a-view-versus-a-copy\n",
      "  df_region['Q1-Q5_lag{}'.format(i)] = df_region['Q1-Q5'].shift(i)\n",
      "C:\\Users\\maxen\\AppData\\Local\\Temp\\ipykernel_10288\\2522653222.py:20: SettingWithCopyWarning: \n",
      "A value is trying to be set on a copy of a slice from a DataFrame.\n",
      "Try using .loc[row_indexer,col_indexer] = value instead\n",
      "\n",
      "See the caveats in the documentation: https://pandas.pydata.org/pandas-docs/stable/user_guide/indexing.html#returning-a-view-versus-a-copy\n",
      "  df_region['Q1-Q5_lag{}'.format(i)] = df_region['Q1-Q5'].shift(i)\n",
      "C:\\Users\\maxen\\AppData\\Local\\Temp\\ipykernel_10288\\2522653222.py:20: SettingWithCopyWarning: \n",
      "A value is trying to be set on a copy of a slice from a DataFrame.\n",
      "Try using .loc[row_indexer,col_indexer] = value instead\n",
      "\n",
      "See the caveats in the documentation: https://pandas.pydata.org/pandas-docs/stable/user_guide/indexing.html#returning-a-view-versus-a-copy\n",
      "  df_region['Q1-Q5_lag{}'.format(i)] = df_region['Q1-Q5'].shift(i)\n",
      "C:\\Users\\maxen\\AppData\\Local\\Temp\\ipykernel_10288\\2522653222.py:20: SettingWithCopyWarning: \n",
      "A value is trying to be set on a copy of a slice from a DataFrame.\n",
      "Try using .loc[row_indexer,col_indexer] = value instead\n",
      "\n",
      "See the caveats in the documentation: https://pandas.pydata.org/pandas-docs/stable/user_guide/indexing.html#returning-a-view-versus-a-copy\n",
      "  df_region['Q1-Q5_lag{}'.format(i)] = df_region['Q1-Q5'].shift(i)\n",
      "C:\\Users\\maxen\\AppData\\Local\\Temp\\ipykernel_10288\\2522653222.py:20: SettingWithCopyWarning: \n",
      "A value is trying to be set on a copy of a slice from a DataFrame.\n",
      "Try using .loc[row_indexer,col_indexer] = value instead\n",
      "\n",
      "See the caveats in the documentation: https://pandas.pydata.org/pandas-docs/stable/user_guide/indexing.html#returning-a-view-versus-a-copy\n",
      "  df_region['Q1-Q5_lag{}'.format(i)] = df_region['Q1-Q5'].shift(i)\n",
      "C:\\Users\\maxen\\AppData\\Local\\Temp\\ipykernel_10288\\2522653222.py:20: SettingWithCopyWarning: \n",
      "A value is trying to be set on a copy of a slice from a DataFrame.\n",
      "Try using .loc[row_indexer,col_indexer] = value instead\n",
      "\n",
      "See the caveats in the documentation: https://pandas.pydata.org/pandas-docs/stable/user_guide/indexing.html#returning-a-view-versus-a-copy\n",
      "  df_region['Q1-Q5_lag{}'.format(i)] = df_region['Q1-Q5'].shift(i)\n",
      "C:\\Users\\maxen\\AppData\\Local\\Temp\\ipykernel_10288\\2522653222.py:20: SettingWithCopyWarning: \n",
      "A value is trying to be set on a copy of a slice from a DataFrame.\n",
      "Try using .loc[row_indexer,col_indexer] = value instead\n",
      "\n",
      "See the caveats in the documentation: https://pandas.pydata.org/pandas-docs/stable/user_guide/indexing.html#returning-a-view-versus-a-copy\n",
      "  df_region['Q1-Q5_lag{}'.format(i)] = df_region['Q1-Q5'].shift(i)\n",
      "C:\\Users\\maxen\\AppData\\Local\\Temp\\ipykernel_10288\\2522653222.py:20: SettingWithCopyWarning: \n",
      "A value is trying to be set on a copy of a slice from a DataFrame.\n",
      "Try using .loc[row_indexer,col_indexer] = value instead\n",
      "\n",
      "See the caveats in the documentation: https://pandas.pydata.org/pandas-docs/stable/user_guide/indexing.html#returning-a-view-versus-a-copy\n",
      "  df_region['Q1-Q5_lag{}'.format(i)] = df_region['Q1-Q5'].shift(i)\n",
      "C:\\Users\\maxen\\AppData\\Local\\Temp\\ipykernel_10288\\2522653222.py:20: SettingWithCopyWarning: \n",
      "A value is trying to be set on a copy of a slice from a DataFrame.\n",
      "Try using .loc[row_indexer,col_indexer] = value instead\n",
      "\n",
      "See the caveats in the documentation: https://pandas.pydata.org/pandas-docs/stable/user_guide/indexing.html#returning-a-view-versus-a-copy\n",
      "  df_region['Q1-Q5_lag{}'.format(i)] = df_region['Q1-Q5'].shift(i)\n",
      "C:\\Users\\maxen\\AppData\\Local\\Temp\\ipykernel_10288\\2522653222.py:20: SettingWithCopyWarning: \n",
      "A value is trying to be set on a copy of a slice from a DataFrame.\n",
      "Try using .loc[row_indexer,col_indexer] = value instead\n",
      "\n",
      "See the caveats in the documentation: https://pandas.pydata.org/pandas-docs/stable/user_guide/indexing.html#returning-a-view-versus-a-copy\n",
      "  df_region['Q1-Q5_lag{}'.format(i)] = df_region['Q1-Q5'].shift(i)\n"
     ]
    }
   ],
   "source": [
    "# Replace infinite values with NaN\n",
    "df_inflation_by_quintile = df_inflation_by_quintile.replace([np.inf, -np.inf], np.nan)\n",
    "\n",
    "# Drop rows with NaN values and 0 values\n",
    "df_inflation_by_quintile = df_inflation_by_quintile.dropna()\n",
    "df_inflation_by_quintile = df_inflation_by_quintile[df_inflation_by_quintile != 0].dropna()\n",
    "\n",
    "# Define the maximum number of lags\n",
    "max_lag = 1\n",
    "\n",
    "# Create an empty DataFrame to store the lagged values\n",
    "df_lagged = pd.DataFrame()\n",
    "\n",
    "# Loop through each region and add the lagged values to the DataFrame\n",
    "for geo in df_inflation_by_quintile['geo'].unique():\n",
    "    # Subset the data for the current region\n",
    "    df_region = df_inflation_by_quintile[df_inflation_by_quintile['geo']==geo]\n",
    "    # Add the lagged values to the DataFrame for the current region\n",
    "    for i in range(1, max_lag+1):\n",
    "        df_region['Q1-Q5_lag{}'.format(i)] = df_region['Q1-Q5'].shift(i)\n",
    "    # Append the lagged values for the current region to the overall DataFrame\n",
    "    df_lagged = pd.concat([df_lagged, df_region], ignore_index=True)\n",
    "\n",
    "# Remove rows with missing values\n",
    "df_lagged = df_lagged.dropna()\n",
    "\n",
    "# Select target variable and explanatory variables, including the lagged values\n",
    "X = df_lagged[['inflationNRG/SERV','gov_exp_social',  'gini', 'urbanisation', 'electric_share', 'Q1-Q5_lag1']]\n",
    "Y = df_lagged['Q1-Q5']\n",
    "\n",
    "# Add a constant to the explanatory variables\n",
    "X = sm.add_constant(X)\n",
    "\n",
    "# Fit the AR model\n",
    "model = sm.OLS(Y, X).fit()\n",
    "\n",
    "# Print the summary of results\n",
    "print(model.summary())\n",
    "\n",
    "\n",
    "with open('model_summary.csv', 'w') as f:\n",
    "    f.write(model.summary().as_csv())\n"
   ]
  },
  {
   "cell_type": "code",
   "execution_count": 79,
   "metadata": {},
   "outputs": [
    {
     "name": "stdout",
     "output_type": "stream",
     "text": [
      "                            OLS Regression Results                            \n",
      "==============================================================================\n",
      "Dep. Variable:                  Q1-Q5   R-squared:                       0.850\n",
      "Model:                            OLS   Adj. R-squared:                  0.850\n",
      "Method:                 Least Squares   F-statistic:                     1316.\n",
      "Date:                Mon, 08 May 2023   Prob (F-statistic):          2.50e-286\n",
      "Time:                        13:02:15   Log-Likelihood:                -619.74\n",
      "No. Observations:                 700   AIC:                             1247.\n",
      "Df Residuals:                     696   BIC:                             1266.\n",
      "Df Model:                           3                                         \n",
      "Covariance Type:            nonrobust                                         \n",
      "=====================================================================================\n",
      "                        coef    std err          t      P>|t|      [0.025      0.975]\n",
      "-------------------------------------------------------------------------------------\n",
      "const                 0.3018      0.103      2.940      0.003       0.100       0.503\n",
      "inflationNRG/SERV     0.0042      0.001      2.830      0.005       0.001       0.007\n",
      "gov_exp_social       -0.0148      0.006     -2.595      0.010      -0.026      -0.004\n",
      "Q1-Q5_lag1            0.9375      0.015     61.164      0.000       0.907       0.968\n",
      "==============================================================================\n",
      "Omnibus:                      243.227   Durbin-Watson:                   1.935\n",
      "Prob(Omnibus):                  0.000   Jarque-Bera (JB):             4874.341\n",
      "Skew:                           1.039   Prob(JB):                         0.00\n",
      "Kurtosis:                      15.759   Cond. No.                         94.6\n",
      "==============================================================================\n",
      "\n",
      "Notes:\n",
      "[1] Standard Errors assume that the covariance matrix of the errors is correctly specified.\n"
     ]
    },
    {
     "name": "stderr",
     "output_type": "stream",
     "text": [
      "C:\\Users\\maxen\\AppData\\Local\\Temp\\ipykernel_10288\\373230184.py:20: SettingWithCopyWarning: \n",
      "A value is trying to be set on a copy of a slice from a DataFrame.\n",
      "Try using .loc[row_indexer,col_indexer] = value instead\n",
      "\n",
      "See the caveats in the documentation: https://pandas.pydata.org/pandas-docs/stable/user_guide/indexing.html#returning-a-view-versus-a-copy\n",
      "  df_region['Q1-Q5_lag{}'.format(i)] = df_region['Q1-Q5'].shift(i)\n",
      "C:\\Users\\maxen\\AppData\\Local\\Temp\\ipykernel_10288\\373230184.py:20: SettingWithCopyWarning: \n",
      "A value is trying to be set on a copy of a slice from a DataFrame.\n",
      "Try using .loc[row_indexer,col_indexer] = value instead\n",
      "\n",
      "See the caveats in the documentation: https://pandas.pydata.org/pandas-docs/stable/user_guide/indexing.html#returning-a-view-versus-a-copy\n",
      "  df_region['Q1-Q5_lag{}'.format(i)] = df_region['Q1-Q5'].shift(i)\n",
      "C:\\Users\\maxen\\AppData\\Local\\Temp\\ipykernel_10288\\373230184.py:20: SettingWithCopyWarning: \n",
      "A value is trying to be set on a copy of a slice from a DataFrame.\n",
      "Try using .loc[row_indexer,col_indexer] = value instead\n",
      "\n",
      "See the caveats in the documentation: https://pandas.pydata.org/pandas-docs/stable/user_guide/indexing.html#returning-a-view-versus-a-copy\n",
      "  df_region['Q1-Q5_lag{}'.format(i)] = df_region['Q1-Q5'].shift(i)\n",
      "C:\\Users\\maxen\\AppData\\Local\\Temp\\ipykernel_10288\\373230184.py:20: SettingWithCopyWarning: \n",
      "A value is trying to be set on a copy of a slice from a DataFrame.\n",
      "Try using .loc[row_indexer,col_indexer] = value instead\n",
      "\n",
      "See the caveats in the documentation: https://pandas.pydata.org/pandas-docs/stable/user_guide/indexing.html#returning-a-view-versus-a-copy\n",
      "  df_region['Q1-Q5_lag{}'.format(i)] = df_region['Q1-Q5'].shift(i)\n",
      "C:\\Users\\maxen\\AppData\\Local\\Temp\\ipykernel_10288\\373230184.py:20: SettingWithCopyWarning: \n",
      "A value is trying to be set on a copy of a slice from a DataFrame.\n",
      "Try using .loc[row_indexer,col_indexer] = value instead\n",
      "\n",
      "See the caveats in the documentation: https://pandas.pydata.org/pandas-docs/stable/user_guide/indexing.html#returning-a-view-versus-a-copy\n",
      "  df_region['Q1-Q5_lag{}'.format(i)] = df_region['Q1-Q5'].shift(i)\n",
      "C:\\Users\\maxen\\AppData\\Local\\Temp\\ipykernel_10288\\373230184.py:20: SettingWithCopyWarning: \n",
      "A value is trying to be set on a copy of a slice from a DataFrame.\n",
      "Try using .loc[row_indexer,col_indexer] = value instead\n",
      "\n",
      "See the caveats in the documentation: https://pandas.pydata.org/pandas-docs/stable/user_guide/indexing.html#returning-a-view-versus-a-copy\n",
      "  df_region['Q1-Q5_lag{}'.format(i)] = df_region['Q1-Q5'].shift(i)\n",
      "C:\\Users\\maxen\\AppData\\Local\\Temp\\ipykernel_10288\\373230184.py:20: SettingWithCopyWarning: \n",
      "A value is trying to be set on a copy of a slice from a DataFrame.\n",
      "Try using .loc[row_indexer,col_indexer] = value instead\n",
      "\n",
      "See the caveats in the documentation: https://pandas.pydata.org/pandas-docs/stable/user_guide/indexing.html#returning-a-view-versus-a-copy\n",
      "  df_region['Q1-Q5_lag{}'.format(i)] = df_region['Q1-Q5'].shift(i)\n",
      "C:\\Users\\maxen\\AppData\\Local\\Temp\\ipykernel_10288\\373230184.py:20: SettingWithCopyWarning: \n",
      "A value is trying to be set on a copy of a slice from a DataFrame.\n",
      "Try using .loc[row_indexer,col_indexer] = value instead\n",
      "\n",
      "See the caveats in the documentation: https://pandas.pydata.org/pandas-docs/stable/user_guide/indexing.html#returning-a-view-versus-a-copy\n",
      "  df_region['Q1-Q5_lag{}'.format(i)] = df_region['Q1-Q5'].shift(i)\n",
      "C:\\Users\\maxen\\AppData\\Local\\Temp\\ipykernel_10288\\373230184.py:20: SettingWithCopyWarning: \n",
      "A value is trying to be set on a copy of a slice from a DataFrame.\n",
      "Try using .loc[row_indexer,col_indexer] = value instead\n",
      "\n",
      "See the caveats in the documentation: https://pandas.pydata.org/pandas-docs/stable/user_guide/indexing.html#returning-a-view-versus-a-copy\n",
      "  df_region['Q1-Q5_lag{}'.format(i)] = df_region['Q1-Q5'].shift(i)\n",
      "C:\\Users\\maxen\\AppData\\Local\\Temp\\ipykernel_10288\\373230184.py:20: SettingWithCopyWarning: \n",
      "A value is trying to be set on a copy of a slice from a DataFrame.\n",
      "Try using .loc[row_indexer,col_indexer] = value instead\n",
      "\n",
      "See the caveats in the documentation: https://pandas.pydata.org/pandas-docs/stable/user_guide/indexing.html#returning-a-view-versus-a-copy\n",
      "  df_region['Q1-Q5_lag{}'.format(i)] = df_region['Q1-Q5'].shift(i)\n",
      "C:\\Users\\maxen\\AppData\\Local\\Temp\\ipykernel_10288\\373230184.py:20: SettingWithCopyWarning: \n",
      "A value is trying to be set on a copy of a slice from a DataFrame.\n",
      "Try using .loc[row_indexer,col_indexer] = value instead\n",
      "\n",
      "See the caveats in the documentation: https://pandas.pydata.org/pandas-docs/stable/user_guide/indexing.html#returning-a-view-versus-a-copy\n",
      "  df_region['Q1-Q5_lag{}'.format(i)] = df_region['Q1-Q5'].shift(i)\n",
      "C:\\Users\\maxen\\AppData\\Local\\Temp\\ipykernel_10288\\373230184.py:20: SettingWithCopyWarning: \n",
      "A value is trying to be set on a copy of a slice from a DataFrame.\n",
      "Try using .loc[row_indexer,col_indexer] = value instead\n",
      "\n",
      "See the caveats in the documentation: https://pandas.pydata.org/pandas-docs/stable/user_guide/indexing.html#returning-a-view-versus-a-copy\n",
      "  df_region['Q1-Q5_lag{}'.format(i)] = df_region['Q1-Q5'].shift(i)\n",
      "C:\\Users\\maxen\\AppData\\Local\\Temp\\ipykernel_10288\\373230184.py:20: SettingWithCopyWarning: \n",
      "A value is trying to be set on a copy of a slice from a DataFrame.\n",
      "Try using .loc[row_indexer,col_indexer] = value instead\n",
      "\n",
      "See the caveats in the documentation: https://pandas.pydata.org/pandas-docs/stable/user_guide/indexing.html#returning-a-view-versus-a-copy\n",
      "  df_region['Q1-Q5_lag{}'.format(i)] = df_region['Q1-Q5'].shift(i)\n",
      "C:\\Users\\maxen\\AppData\\Local\\Temp\\ipykernel_10288\\373230184.py:20: SettingWithCopyWarning: \n",
      "A value is trying to be set on a copy of a slice from a DataFrame.\n",
      "Try using .loc[row_indexer,col_indexer] = value instead\n",
      "\n",
      "See the caveats in the documentation: https://pandas.pydata.org/pandas-docs/stable/user_guide/indexing.html#returning-a-view-versus-a-copy\n",
      "  df_region['Q1-Q5_lag{}'.format(i)] = df_region['Q1-Q5'].shift(i)\n",
      "C:\\Users\\maxen\\AppData\\Local\\Temp\\ipykernel_10288\\373230184.py:20: SettingWithCopyWarning: \n",
      "A value is trying to be set on a copy of a slice from a DataFrame.\n",
      "Try using .loc[row_indexer,col_indexer] = value instead\n",
      "\n",
      "See the caveats in the documentation: https://pandas.pydata.org/pandas-docs/stable/user_guide/indexing.html#returning-a-view-versus-a-copy\n",
      "  df_region['Q1-Q5_lag{}'.format(i)] = df_region['Q1-Q5'].shift(i)\n",
      "C:\\Users\\maxen\\AppData\\Local\\Temp\\ipykernel_10288\\373230184.py:20: SettingWithCopyWarning: \n",
      "A value is trying to be set on a copy of a slice from a DataFrame.\n",
      "Try using .loc[row_indexer,col_indexer] = value instead\n",
      "\n",
      "See the caveats in the documentation: https://pandas.pydata.org/pandas-docs/stable/user_guide/indexing.html#returning-a-view-versus-a-copy\n",
      "  df_region['Q1-Q5_lag{}'.format(i)] = df_region['Q1-Q5'].shift(i)\n",
      "C:\\Users\\maxen\\AppData\\Local\\Temp\\ipykernel_10288\\373230184.py:20: SettingWithCopyWarning: \n",
      "A value is trying to be set on a copy of a slice from a DataFrame.\n",
      "Try using .loc[row_indexer,col_indexer] = value instead\n",
      "\n",
      "See the caveats in the documentation: https://pandas.pydata.org/pandas-docs/stable/user_guide/indexing.html#returning-a-view-versus-a-copy\n",
      "  df_region['Q1-Q5_lag{}'.format(i)] = df_region['Q1-Q5'].shift(i)\n",
      "C:\\Users\\maxen\\AppData\\Local\\Temp\\ipykernel_10288\\373230184.py:20: SettingWithCopyWarning: \n",
      "A value is trying to be set on a copy of a slice from a DataFrame.\n",
      "Try using .loc[row_indexer,col_indexer] = value instead\n",
      "\n",
      "See the caveats in the documentation: https://pandas.pydata.org/pandas-docs/stable/user_guide/indexing.html#returning-a-view-versus-a-copy\n",
      "  df_region['Q1-Q5_lag{}'.format(i)] = df_region['Q1-Q5'].shift(i)\n",
      "C:\\Users\\maxen\\AppData\\Local\\Temp\\ipykernel_10288\\373230184.py:20: SettingWithCopyWarning: \n",
      "A value is trying to be set on a copy of a slice from a DataFrame.\n",
      "Try using .loc[row_indexer,col_indexer] = value instead\n",
      "\n",
      "See the caveats in the documentation: https://pandas.pydata.org/pandas-docs/stable/user_guide/indexing.html#returning-a-view-versus-a-copy\n",
      "  df_region['Q1-Q5_lag{}'.format(i)] = df_region['Q1-Q5'].shift(i)\n",
      "C:\\Users\\maxen\\AppData\\Local\\Temp\\ipykernel_10288\\373230184.py:20: SettingWithCopyWarning: \n",
      "A value is trying to be set on a copy of a slice from a DataFrame.\n",
      "Try using .loc[row_indexer,col_indexer] = value instead\n",
      "\n",
      "See the caveats in the documentation: https://pandas.pydata.org/pandas-docs/stable/user_guide/indexing.html#returning-a-view-versus-a-copy\n",
      "  df_region['Q1-Q5_lag{}'.format(i)] = df_region['Q1-Q5'].shift(i)\n",
      "C:\\Users\\maxen\\AppData\\Local\\Temp\\ipykernel_10288\\373230184.py:20: SettingWithCopyWarning: \n",
      "A value is trying to be set on a copy of a slice from a DataFrame.\n",
      "Try using .loc[row_indexer,col_indexer] = value instead\n",
      "\n",
      "See the caveats in the documentation: https://pandas.pydata.org/pandas-docs/stable/user_guide/indexing.html#returning-a-view-versus-a-copy\n",
      "  df_region['Q1-Q5_lag{}'.format(i)] = df_region['Q1-Q5'].shift(i)\n",
      "C:\\Users\\maxen\\AppData\\Local\\Temp\\ipykernel_10288\\373230184.py:20: SettingWithCopyWarning: \n",
      "A value is trying to be set on a copy of a slice from a DataFrame.\n",
      "Try using .loc[row_indexer,col_indexer] = value instead\n",
      "\n",
      "See the caveats in the documentation: https://pandas.pydata.org/pandas-docs/stable/user_guide/indexing.html#returning-a-view-versus-a-copy\n",
      "  df_region['Q1-Q5_lag{}'.format(i)] = df_region['Q1-Q5'].shift(i)\n",
      "C:\\Users\\maxen\\AppData\\Local\\Temp\\ipykernel_10288\\373230184.py:20: SettingWithCopyWarning: \n",
      "A value is trying to be set on a copy of a slice from a DataFrame.\n",
      "Try using .loc[row_indexer,col_indexer] = value instead\n",
      "\n",
      "See the caveats in the documentation: https://pandas.pydata.org/pandas-docs/stable/user_guide/indexing.html#returning-a-view-versus-a-copy\n",
      "  df_region['Q1-Q5_lag{}'.format(i)] = df_region['Q1-Q5'].shift(i)\n",
      "C:\\Users\\maxen\\AppData\\Local\\Temp\\ipykernel_10288\\373230184.py:20: SettingWithCopyWarning: \n",
      "A value is trying to be set on a copy of a slice from a DataFrame.\n",
      "Try using .loc[row_indexer,col_indexer] = value instead\n",
      "\n",
      "See the caveats in the documentation: https://pandas.pydata.org/pandas-docs/stable/user_guide/indexing.html#returning-a-view-versus-a-copy\n",
      "  df_region['Q1-Q5_lag{}'.format(i)] = df_region['Q1-Q5'].shift(i)\n",
      "C:\\Users\\maxen\\AppData\\Local\\Temp\\ipykernel_10288\\373230184.py:20: SettingWithCopyWarning: \n",
      "A value is trying to be set on a copy of a slice from a DataFrame.\n",
      "Try using .loc[row_indexer,col_indexer] = value instead\n",
      "\n",
      "See the caveats in the documentation: https://pandas.pydata.org/pandas-docs/stable/user_guide/indexing.html#returning-a-view-versus-a-copy\n",
      "  df_region['Q1-Q5_lag{}'.format(i)] = df_region['Q1-Q5'].shift(i)\n",
      "C:\\Users\\maxen\\AppData\\Local\\Temp\\ipykernel_10288\\373230184.py:20: SettingWithCopyWarning: \n",
      "A value is trying to be set on a copy of a slice from a DataFrame.\n",
      "Try using .loc[row_indexer,col_indexer] = value instead\n",
      "\n",
      "See the caveats in the documentation: https://pandas.pydata.org/pandas-docs/stable/user_guide/indexing.html#returning-a-view-versus-a-copy\n",
      "  df_region['Q1-Q5_lag{}'.format(i)] = df_region['Q1-Q5'].shift(i)\n",
      "C:\\Users\\maxen\\AppData\\Local\\Temp\\ipykernel_10288\\373230184.py:20: SettingWithCopyWarning: \n",
      "A value is trying to be set on a copy of a slice from a DataFrame.\n",
      "Try using .loc[row_indexer,col_indexer] = value instead\n",
      "\n",
      "See the caveats in the documentation: https://pandas.pydata.org/pandas-docs/stable/user_guide/indexing.html#returning-a-view-versus-a-copy\n",
      "  df_region['Q1-Q5_lag{}'.format(i)] = df_region['Q1-Q5'].shift(i)\n",
      "C:\\Users\\maxen\\AppData\\Local\\Temp\\ipykernel_10288\\373230184.py:20: SettingWithCopyWarning: \n",
      "A value is trying to be set on a copy of a slice from a DataFrame.\n",
      "Try using .loc[row_indexer,col_indexer] = value instead\n",
      "\n",
      "See the caveats in the documentation: https://pandas.pydata.org/pandas-docs/stable/user_guide/indexing.html#returning-a-view-versus-a-copy\n",
      "  df_region['Q1-Q5_lag{}'.format(i)] = df_region['Q1-Q5'].shift(i)\n"
     ]
    }
   ],
   "source": [
    "# Replace infinite values with NaN\n",
    "df_inflation_by_quintile = df_inflation_by_quintile.replace([np.inf, -np.inf], np.nan)\n",
    "\n",
    "# Drop rows with NaN values and 0 values\n",
    "df_inflation_by_quintile = df_inflation_by_quintile.dropna()\n",
    "df_inflation_by_quintile = df_inflation_by_quintile[df_inflation_by_quintile != 0].dropna()\n",
    "\n",
    "# Define the maximum number of lags\n",
    "max_lag = 1\n",
    "\n",
    "# Create an empty DataFrame to store the lagged values\n",
    "df_lagged = pd.DataFrame()\n",
    "\n",
    "# Loop through each region and add the lagged values to the DataFrame\n",
    "for geo in df_inflation_by_quintile['geo'].unique():\n",
    "    # Subset the data for the current region\n",
    "    df_region = df_inflation_by_quintile[df_inflation_by_quintile['geo']==geo]\n",
    "    # Add the lagged values to the DataFrame for the current region\n",
    "    for i in range(1, max_lag+1):\n",
    "        df_region['Q1-Q5_lag{}'.format(i)] = df_region['Q1-Q5'].shift(i)\n",
    "    # Append the lagged values for the current region to the overall DataFrame\n",
    "    df_lagged = pd.concat([df_lagged, df_region], ignore_index=True)\n",
    "\n",
    "# Remove rows with missing values\n",
    "df_lagged = df_lagged.dropna()\n",
    "\n",
    "# Select target variable and explanatory variables, including the lagged values\n",
    "X = df_lagged[['inflationNRG/SERV','gov_exp_social', 'Q1-Q5_lag1']]\n",
    "Y = df_lagged['Q1-Q5']\n",
    "\n",
    "# Add a constant to the explanatory variables\n",
    "X = sm.add_constant(X)\n",
    "\n",
    "# Fit the AR model\n",
    "model = sm.OLS(Y, X).fit()\n",
    "\n",
    "summary = model.summary()\n",
    "# Print the summary of results\n",
    "print(summary)\n",
    "\n",
    "\n",
    "with open('model_summary2.csv', 'w') as f:\n",
    "    f.write(model.summary().as_csv())\n",
    "\n",
    "html_summary = summary.as_html()\n",
    "html_summary = \"<head><style>body {font-family: 'cmr10', sans-serif;}</style></head>\" + html_summary\n",
    "\n"
   ]
  },
  {
   "cell_type": "code",
   "execution_count": 80,
   "metadata": {},
   "outputs": [],
   "source": [
    "with open('model_summary.html', 'w') as f:\n",
    "    f.write(html_summary)"
   ]
  }
 ],
 "metadata": {
  "kernelspec": {
   "display_name": "Python 3",
   "language": "python",
   "name": "python3"
  },
  "language_info": {
   "codemirror_mode": {
    "name": "ipython",
    "version": 3
   },
   "file_extension": ".py",
   "mimetype": "text/x-python",
   "name": "python",
   "nbconvert_exporter": "python",
   "pygments_lexer": "ipython3",
   "version": "3.10.7"
  },
  "orig_nbformat": 4
 },
 "nbformat": 4,
 "nbformat_minor": 2
}
