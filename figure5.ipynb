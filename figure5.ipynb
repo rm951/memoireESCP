{
 "cells": [
  {
   "cell_type": "code",
   "execution_count": 1,
   "metadata": {},
   "outputs": [],
   "source": [
    "import pandas as pd\n",
    "\n",
    "\n",
    "url = \"https://www.insee.fr/fr/statistiques/fichier/4648335/TF106.csv\"\n",
    "\n",
    "df = pd.read_csv(url, sep=\";\")"
   ]
  },
  {
   "cell_type": "code",
   "execution_count": 2,
   "metadata": {},
   "outputs": [],
   "source": [
    "# filtering values with exactly 3 characters, corresponding to ECOICOP groups\n",
    "df = df.loc[df['NOMENCLATURE'].str.len() == 3]"
   ]
  },
  {
   "cell_type": "code",
   "execution_count": 3,
   "metadata": {},
   "outputs": [],
   "source": [
    "# filtering out rows where the \"FCOIC\" value starts with \"13\"\n",
    "df = df.loc[~df['NOMENCLATURE'].str.startswith('13')]"
   ]
  },
  {
   "attachments": {},
   "cell_type": "markdown",
   "metadata": {},
   "source": [
    "Now let's deal with Eurostat inflation stats."
   ]
  },
  {
   "cell_type": "code",
   "execution_count": 4,
   "metadata": {},
   "outputs": [],
   "source": [
    "import pandas as pd\n",
    "import eurostat"
   ]
  },
  {
   "cell_type": "code",
   "execution_count": 5,
   "metadata": {},
   "outputs": [],
   "source": [
    "df_inflation = eurostat.get_data_df(code=\"PRC_HICP_MANR\", filter_pars={'geo':'FR','startPeriod':\"2021-03\"})\n",
    "df_inflation = df_inflation.rename(columns={'geo\\TIME_PERIOD': 'geo'})"
   ]
  },
  {
   "cell_type": "code",
   "execution_count": 6,
   "metadata": {},
   "outputs": [],
   "source": [
    "# filter the rows using a regular expression, keeping only the ECOICOP groups (3 numbers)\n",
    "df_inflation = df_inflation[df_inflation['coicop'].str.match(r'^CP\\d{3}$')]"
   ]
  },
  {
   "cell_type": "code",
   "execution_count": 7,
   "metadata": {},
   "outputs": [],
   "source": [
    "# remove the \"CP\" prefix from the values in the coicop column\n",
    "df_inflation['coicop'] = df_inflation['coicop'].str.slice(start=2)"
   ]
  },
  {
   "cell_type": "code",
   "execution_count": 9,
   "metadata": {},
   "outputs": [],
   "source": [
    "# keep only the specified columns using the .loc[] indexer\n",
    "df_inflation = df_inflation.loc[:, ['coicop','2022-03','2023-03']]"
   ]
  },
  {
   "cell_type": "code",
   "execution_count": 10,
   "metadata": {},
   "outputs": [],
   "source": [
    "# calculate the Cumulated inflation column based on the values in 2022-03 and 2023-03\n",
    "df_inflation['Cumulated'] = ((1 + (df_inflation['2022-03'] / 100)) * (1 + (df_inflation['2023-03'] / 100))-1)*100"
   ]
  },
  {
   "cell_type": "code",
   "execution_count": 12,
   "metadata": {},
   "outputs": [],
   "source": [
    "merged = pd.merge(df, df_inflation, left_on='NOMENCLATURE', right_on=\"coicop\")\n"
   ]
  },
  {
   "cell_type": "code",
   "execution_count": 13,
   "metadata": {},
   "outputs": [],
   "source": [
    "# calculating the sum of \"CONSO\" for each unique value in \"DECUC\" column\n",
    "sum_by_decuc = merged.groupby('DECUC')['CONSO'].sum()"
   ]
  },
  {
   "cell_type": "code",
   "execution_count": 14,
   "metadata": {},
   "outputs": [],
   "source": [
    "# adding a new column \"PROP\" with the percentage of each row relative to the sum for each unique value in \"DECUC\" column\n",
    "merged['PROP'] = merged['CONSO'] / merged['DECUC'].map(sum_by_decuc)"
   ]
  },
  {
   "attachments": {},
   "cell_type": "markdown",
   "metadata": {},
   "source": [
    "Let's make sure sumPROP is equal to 1"
   ]
  },
  {
   "cell_type": "code",
   "execution_count": 15,
   "metadata": {},
   "outputs": [
    {
     "data": {
      "text/plain": [
       "DECUC\n",
       "1      1.0\n",
       "10     1.0\n",
       "2      1.0\n",
       "3      1.0\n",
       "4      1.0\n",
       "5      1.0\n",
       "6      1.0\n",
       "7      1.0\n",
       "8      1.0\n",
       "9      1.0\n",
       "TOT    1.0\n",
       "Name: PROP, dtype: float64"
      ]
     },
     "execution_count": 15,
     "metadata": {},
     "output_type": "execute_result"
    }
   ],
   "source": [
    "sumPROP = merged.groupby('DECUC')['PROP'].sum()\n",
    "sumPROP"
   ]
  },
  {
   "cell_type": "code",
   "execution_count": 16,
   "metadata": {},
   "outputs": [],
   "source": [
    "# calculate the weight_Group_inflation_2022_03 column based on 2022-03 and PROP\n",
    "merged['weight_Group_inflation_2022_03'] = merged['2022-03'] * merged['PROP']"
   ]
  },
  {
   "cell_type": "code",
   "execution_count": 17,
   "metadata": {},
   "outputs": [],
   "source": [
    "# calculate the weight_Group_inflation_2023_03 column based on 2023-03 and PROP\n",
    "merged['weight_Group_inflation_2023_03'] = merged['2023-03'] * merged['PROP']"
   ]
  },
  {
   "cell_type": "code",
   "execution_count": 18,
   "metadata": {},
   "outputs": [],
   "source": [
    "# calculate the weight_Group_inflation_2023_03 column based on 2023-03 and PROP\n",
    "merged['weight_Group_inflation_Cumulated'] = merged['Cumulated'] * merged['PROP']"
   ]
  },
  {
   "cell_type": "code",
   "execution_count": 19,
   "metadata": {},
   "outputs": [],
   "source": [
    "sumInflationMarch2022 = merged.groupby('DECUC')['weight_Group_inflation_2022_03'].sum().to_frame()"
   ]
  },
  {
   "cell_type": "code",
   "execution_count": 20,
   "metadata": {},
   "outputs": [],
   "source": [
    "sumInflationMarch2023 = merged.groupby('DECUC')['weight_Group_inflation_2023_03'].sum().to_frame()"
   ]
  },
  {
   "cell_type": "code",
   "execution_count": 21,
   "metadata": {},
   "outputs": [],
   "source": [
    "sumCumulated = merged.groupby('DECUC')['weight_Group_inflation_Cumulated'].sum().to_frame()"
   ]
  },
  {
   "attachments": {},
   "cell_type": "markdown",
   "metadata": {},
   "source": [
    "Let's compute the difference with the ensemble"
   ]
  },
  {
   "cell_type": "code",
   "execution_count": 22,
   "metadata": {},
   "outputs": [],
   "source": [
    "sumInflationMarch2022['diffTOT'] = sumInflationMarch2022[\"weight_Group_inflation_2022_03\"] - sumInflationMarch2022.loc['TOT'][\"weight_Group_inflation_2022_03\"]\n",
    "sumInflationMarch2022 = sumInflationMarch2022.drop(labels='TOT')"
   ]
  },
  {
   "cell_type": "code",
   "execution_count": 23,
   "metadata": {},
   "outputs": [],
   "source": [
    "sumInflationMarch2023['diffTOT'] = sumInflationMarch2023[\"weight_Group_inflation_2023_03\"] - sumInflationMarch2023.loc['TOT'][\"weight_Group_inflation_2023_03\"]\n",
    "sumInflationMarch2023 = sumInflationMarch2023.drop(labels='TOT')"
   ]
  },
  {
   "cell_type": "code",
   "execution_count": 24,
   "metadata": {},
   "outputs": [],
   "source": [
    "sumCumulated['diffTOT'] = sumCumulated[\"weight_Group_inflation_Cumulated\"] - sumCumulated.loc['TOT'][\"weight_Group_inflation_Cumulated\"]\n",
    "sumCumulated = sumCumulated.drop(labels='TOT')"
   ]
  },
  {
   "cell_type": "code",
   "execution_count": 25,
   "metadata": {},
   "outputs": [],
   "source": [
    "sumAllThree = sumInflationMarch2022.merge(sumInflationMarch2023, on=\"DECUC\", suffixes=[\"_2022\",\"_2023\"]).merge(sumCumulated, on=\"DECUC\")"
   ]
  },
  {
   "cell_type": "code",
   "execution_count": 26,
   "metadata": {},
   "outputs": [],
   "source": [
    "sumAllThree = sumAllThree.sort_index(key=lambda x: pd.to_numeric(x))"
   ]
  },
  {
   "cell_type": "code",
   "execution_count": null,
   "metadata": {},
   "outputs": [],
   "source": [
    "import matplotlib.pyplot as plt\n",
    "# draw a bar chart\n",
    "\n",
    "# define the custom ordering of the index values\n",
    "custom_order = ['D{}'.format(i) for i in range(1, 11)]\n",
    "\n",
    "\n",
    "\n",
    "# define the colors based on the value of each bar\n",
    "colors = ['red' if x > 0 else 'blue' for x in sumAllThree['diffTOT_2022']]\n",
    "\n",
    "\n",
    "sumAllThree.plot.bar(y='diffTOT_2022', color=colors)\n",
    "\n",
    "# set axis labels and title\n",
    "plt.xlabel('Decile')\n",
    "plt.ylabel('Excess inflation in absolute points')\n",
    "plt.title('Excess Inflation by Decile between March 2021 and March 2022')\n",
    "\n",
    "# set the y-axis scale to a specific range\n",
    "plt.ylim(-1,1)\n",
    "\n",
    "# add a \"D\" prefix to the tick labels of the x-axis\n",
    "ticks = ['D' + tick for tick in sumInflationMarch2022.index]\n",
    "plt.xticks(range(len(ticks)), ticks)\n",
    "\n",
    "# remove the legend entirely\n",
    "plt.legend(frameon=False, labels=[])\n",
    "\n",
    "# show the plot\n",
    "plt.show()"
   ]
  },
  {
   "cell_type": "code",
   "execution_count": null,
   "metadata": {},
   "outputs": [],
   "source": [
    "# define the colors based on the value of each bar\n",
    "colors = ['red' if x > 0 else 'blue' for x in sumAllThree['diffTOT_2023']]\n",
    "\n",
    "\n",
    "sumAllThree.plot.bar(y='diffTOT_2023', color=colors)\n",
    "\n",
    "# set axis labels and title\n",
    "plt.xlabel('Decile')\n",
    "plt.ylabel('Excess inflation in absolute points')\n",
    "plt.title('Excess Inflation by Decile between March 2022 and March 2023')\n",
    "\n",
    "# set the y-axis scale to a specific range\n",
    "plt.ylim(-1,1)\n",
    "\n",
    "# add a \"D\" prefix to the tick labels of the x-axis\n",
    "ticks = ['D' + tick for tick in sumInflationMarch2022.index]\n",
    "plt.xticks(range(len(ticks)), ticks)\n",
    "\n",
    "# remove the legend entirely\n",
    "plt.legend(frameon=False, labels=[])\n",
    "\n",
    "# show the plot\n",
    "plt.show()"
   ]
  },
  {
   "cell_type": "code",
   "execution_count": null,
   "metadata": {},
   "outputs": [],
   "source": [
    "# define the colors based on the value of each bar\n",
    "colors = ['red' if x > 0 else 'blue' for x in sumAllThree['diffTOT']]\n",
    "\n",
    "\n",
    "sumAllThree.plot.bar(y='diffTOT', color=colors)\n",
    "\n",
    "# set axis labels and title\n",
    "plt.xlabel('Decile')\n",
    "plt.ylabel('Excess inflation in absolute points')\n",
    "plt.title('Excess Inflation by Decile between March 2021 and March 2023')\n",
    "\n",
    "# set the y-axis scale to a specific range\n",
    "plt.ylim(-1, 1)\n",
    "\n",
    "# add a \"D\" prefix to the tick labels of the x-axis\n",
    "ticks = ['D' + tick for tick in sumInflationMarch2022.index]\n",
    "plt.xticks(range(len(ticks)), ticks)\n",
    "\n",
    "# remove the legend entirely\n",
    "plt.legend(frameon=False, labels=[])\n",
    "\n",
    "# show the plot\n",
    "plt.show()"
   ]
  }
 ],
 "metadata": {
  "kernelspec": {
   "display_name": "Python 3",
   "language": "python",
   "name": "python3"
  },
  "language_info": {
   "codemirror_mode": {
    "name": "ipython",
    "version": 3
   },
   "file_extension": ".py",
   "mimetype": "text/x-python",
   "name": "python",
   "nbconvert_exporter": "python",
   "pygments_lexer": "ipython3",
   "version": "3.11.3"
  },
  "orig_nbformat": 4
 },
 "nbformat": 4,
 "nbformat_minor": 2
}
