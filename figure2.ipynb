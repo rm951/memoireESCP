{
 "cells": [
  {
   "cell_type": "code",
   "execution_count": 1,
   "metadata": {},
   "outputs": [],
   "source": [
    "import pandas as pd\n",
    "import eurostat"
   ]
  },
  {
   "cell_type": "code",
   "execution_count": 6,
   "metadata": {},
   "outputs": [],
   "source": [
    "df = eurostat.get_data_df(code=\"PRC_HICP_MANR\",filter_pars={\"geo\": \"fr\", \"coicop\":[\"FOOD\",\"NRG\",\"SERV\",\"IGD\", \"CP00\"]})\n",
    "df = df.rename(columns={'geo\\TIME_PERIOD': 'geo'})\n",
    "\n"
   ]
  },
  {
   "cell_type": "code",
   "execution_count": 7,
   "metadata": {},
   "outputs": [],
   "source": [
    "df = df.drop(['freq','unit','geo'], axis=1)\n",
    "\n"
   ]
  },
  {
   "cell_type": "code",
   "execution_count": 8,
   "metadata": {},
   "outputs": [],
   "source": [
    "df= df.melt(id_vars=['coicop'], var_name='TIME_PERIOD', value_name='OBS_VALUE')"
   ]
  },
  {
   "cell_type": "code",
   "execution_count": null,
   "metadata": {},
   "outputs": [],
   "source": [
    "import matplotlib.pyplot as plt\n"
   ]
  },
  {
   "cell_type": "code",
   "execution_count": null,
   "metadata": {},
   "outputs": [],
   "source": [
    "\n",
    "# Convert the \"TIME_PERIOD\" column to a datetime object\n",
    "df[\"TIME_PERIOD\"] = pd.to_datetime(df[\"TIME_PERIOD\"])\n",
    "\n",
    "# Define the components of inflation, corresponding full names, and colors\n",
    "components = {\"NRG\": \"Energy\", \"FOOD\": \"Food\", \"IGD\": \"Industrial goods\", \"SERV\": \"Services\"}\n",
    "colors = {\"Energy\": \"red\", \"Food\": \"blue\", \"Industrial goods\": \"green\", \"Services\": \"purple\"}\n",
    "\n",
    "# Filter the DataFrame to values after February 2021\n",
    "df = df.loc[df[\"TIME_PERIOD\"] >= \"2021-01\"]\n",
    "\n",
    "# Define the overall inflation df\n",
    "df_overall = df[df[\"coicop\"] == \"CP00\"]\n",
    "\n",
    "# Create a figure with 4 subplots\n",
    "fig, axs = plt.subplots(nrows=2, ncols=2, figsize=(20, 15), sharey=True)\n",
    "\n",
    "# Iterate over the subplots and plot the lines for each component of inflation\n",
    "for ax, component in zip(axs.flat, components):\n",
    "    # Filter the rows where the value in the \"coicop\" column is equal to the component\n",
    "    df_component = df[df[\"coicop\"] == component]\n",
    "    \n",
    "    # Plot a line for the overall inflation and a line for the component\n",
    "    ax.plot(df_overall[\"TIME_PERIOD\"], df_overall[\"OBS_VALUE\"], color=\"black\", label=\"Overall inflation\")\n",
    "    ax.plot(df_component[df_component[\"coicop\"] != \"CP00\"][\"TIME_PERIOD\"], df_component[df_component[\"coicop\"] != \"CP00\"][\"OBS_VALUE\"], color=colors[components[component]], linewidth=2, label=components[component])\n",
    "    \n",
    "    # Add a title for the subplot\n",
    "    ax.set_title(components[component])\n",
    "    \n",
    "    # Add a label for the y-axis\n",
    "    ax.set_ylabel(\"Annual rate inflation change\")\n",
    "\n",
    "    # Add a legend for the subplot\n",
    "    ax.legend()\n",
    "\n",
    "# Add a title for the entire figure\n",
    "fig.suptitle(\"Monthly evolution of inflation and components in France since 2021\")\n",
    "\n",
    "# Show the figure\n",
    "plt.show()\n"
   ]
  }
 ],
 "metadata": {
  "kernelspec": {
   "display_name": "Python 3",
   "language": "python",
   "name": "python3"
  },
  "language_info": {
   "codemirror_mode": {
    "name": "ipython",
    "version": 3
   },
   "file_extension": ".py",
   "mimetype": "text/x-python",
   "name": "python",
   "nbconvert_exporter": "python",
   "pygments_lexer": "ipython3",
   "version": "3.11.3"
  },
  "orig_nbformat": 4
 },
 "nbformat": 4,
 "nbformat_minor": 2
}
