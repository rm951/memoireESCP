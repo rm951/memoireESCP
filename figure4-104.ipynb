{
 "cells": [
  {
   "attachments": {},
   "cell_type": "markdown",
   "metadata": {},
   "source": [
    "Let's download the data from INSEE."
   ]
  },
  {
   "cell_type": "code",
   "execution_count": 1,
   "metadata": {},
   "outputs": [],
   "source": [
    "import pandas as pd\n",
    "\n",
    "\n",
    "url = \"https://www.insee.fr/fr/statistiques/fichier/4648335/TF104.csv\"\n",
    "\n",
    "df = pd.read_csv(url, sep=\";\")"
   ]
  },
  {
   "cell_type": "code",
   "execution_count": 2,
   "metadata": {},
   "outputs": [],
   "source": [
    "df = df.drop(df[df['STRATE'] == 'TOT'].index)"
   ]
  },
  {
   "cell_type": "code",
   "execution_count": 3,
   "metadata": {},
   "outputs": [],
   "source": [
    "# filtering values with exactly 4 characters, corresponding to ECOICOP classes\n",
    "df = df.loc[df['NOMENCLATURE'].str.len() == 4]"
   ]
  },
  {
   "cell_type": "code",
   "execution_count": 4,
   "metadata": {},
   "outputs": [],
   "source": [
    "# renaming the \"NOMENCLATURE\" column to \"FCOICOP\"\n",
    "df = df.rename(columns={'NOMENCLATURE': 'FCOICOP'})"
   ]
  },
  {
   "cell_type": "code",
   "execution_count": 5,
   "metadata": {},
   "outputs": [],
   "source": [
    "# filtering out rows where the \"FCOIC\" value starts with \"13\"\n",
    "df = df.loc[~df['FCOICOP'].str.startswith('13')]"
   ]
  },
  {
   "cell_type": "code",
   "execution_count": 6,
   "metadata": {},
   "outputs": [],
   "source": [
    "# create a dictionary with the translations\n",
    "translations = {'0': 'Rural', '1': 'Small-sized towns', '2': 'Medium-sized towns', '3': 'Large cities', '4': 'Paris metropolitan area'}\n",
    "\n",
    "# replace the values in the \"STRATE\" column with the corresponding translations\n",
    "df['STRATE'] = df['STRATE'].replace(translations)"
   ]
  },
  {
   "cell_type": "code",
   "execution_count": 7,
   "metadata": {},
   "outputs": [],
   "source": [
    "# loading the second csv file with the \"FCOICOP\" column\n",
    "df2 = pd.read_csv('Nomenclature_classes_to_special_aggregates.csv')"
   ]
  },
  {
   "cell_type": "code",
   "execution_count": 8,
   "metadata": {},
   "outputs": [],
   "source": [
    "# merging the two dataframes on the \"FCOICOP\" column\n",
    "merged_df = pd.merge(df, df2, on='FCOICOP')"
   ]
  },
  {
   "cell_type": "code",
   "execution_count": 9,
   "metadata": {},
   "outputs": [],
   "source": [
    "# calculating the sum of \"CONSO\" for each unique value in \"STRATE\" column\n",
    "sum_by_strate = merged_df.groupby('STRATE')['CONSO'].sum()"
   ]
  },
  {
   "cell_type": "code",
   "execution_count": 153,
   "metadata": {},
   "outputs": [],
   "source": [
    "# adding a new column \"PROP\" with the percentage of each row relative to the sum for each unique value in \"STRATE\" column\n",
    "merged_df['PROP'] = merged_df['CONSO'] / merged_df['STRATE'].map(sum_by_strate)"
   ]
  },
  {
   "cell_type": "code",
   "execution_count": 154,
   "metadata": {},
   "outputs": [
    {
     "name": "stderr",
     "output_type": "stream",
     "text": [
      "C:\\Users\\maxen\\AppData\\Local\\Temp\\ipykernel_11544\\681589763.py:44: UserWarning: Matplotlib is currently using agg, which is a non-GUI backend, so cannot show the figure.\n",
      "  plt.show()\n"
     ]
    }
   ],
   "source": [
    "%matplotlib agg\n",
    "import matplotlib.pyplot as plt\n",
    "\n",
    "# group the merged dataframe by \"AGGREGATE\" and \"STRATE\" and sum the values in the \"PROP\" column for each group\n",
    "grouped_df = merged_df.groupby(['AGGREGATE', 'STRATE'])['PROP'].sum().reset_index()\n",
    "\n",
    "\n",
    "# create a new column \"STRATE_SORTED\" with values sorted in a specific order\n",
    "strate_order = ['Rural','Small-sized towns', 'Medium-sized towns', 'Large cities', 'Paris metropolitan area']\n",
    "grouped_df['STRATE_SORTED'] = pd.Categorical(grouped_df['STRATE'], categories=strate_order, ordered=True)\n",
    "\n",
    "# pivot the dataframe to create a table where each row represents a STRATE, and each column represents an AGGREGATE with the values in the \"PROP\" column\n",
    "pivoted_df = grouped_df.pivot(index='STRATE_SORTED', columns='AGGREGATE', values='PROP').fillna(0)\n",
    "\n",
    "\n",
    "# calculate the cumulative sum of the values in the pivoted dataframe\n",
    "cumulative_df = pivoted_df.cumsum(axis=1)\n",
    "\n",
    "\n",
    "\n",
    "# create a stacked bar chart with a bar for each STRATE and bars of colors with sizes proportional to PROP for each AGGREGATE\n",
    "fig, ax = plt.subplots(figsize=(14, 15))\n",
    "\n",
    "for i, (colname, color) in enumerate(zip(pivoted_df.columns, ['blue', 'green', 'red', 'purple'])):\n",
    "    ax.bar(pivoted_df.index, pivoted_df[colname], bottom=cumulative_df.iloc[:, i-1] if i>0 else None, width=0.9, color=color, alpha=0.8, label=colname)\n",
    "    for j, val in enumerate(pivoted_df[colname]):\n",
    "        if val > 0:\n",
    "            ax.text(j, cumulative_df.iloc[j, i-1] if i>0 else 0, f\"{round(val*100)}%\", ha='center', va='bottom', color='white', fontweight='bold', fontsize=20)\n",
    "\n",
    "# change the legend labels using a dictionary\n",
    "legend_labels = {'FOOD': 'Food', 'IGD': 'Industrial goods', 'SERV': 'Services', 'NRG': 'Energy'}\n",
    "handles, labels = ax.get_legend_handles_labels()\n",
    "new_labels = [legend_labels[label] if label in legend_labels else label for label in labels]\n",
    "ax.legend(handles, new_labels, title=\"Components\", fontsize=20)\n",
    "\n",
    "ax.tick_params(axis='both', labelsize=16)\n",
    "ax.set_xlabel(\"Category of residential municipality\", fontsize=20)\n",
    "ax.set_ylabel(\"Proportion of consumption by component\", fontsize=20)\n",
    "\n",
    "plt.title(\"Proportion of annual household expenditures in France by category of residential municipality in 2017\", fontsize=20)\n",
    "\n",
    "plt.rcParams['font.family'] = 'cmr10'\n",
    "plt.savefig('saved_figs/figure5.png', dpi=500, bbox_inches='tight')\n",
    "plt.show()\n"
   ]
  }
 ],
 "metadata": {
  "kernelspec": {
   "display_name": "Python 3",
   "language": "python",
   "name": "python3"
  },
  "language_info": {
   "codemirror_mode": {
    "name": "ipython",
    "version": 3
   },
   "file_extension": ".py",
   "mimetype": "text/x-python",
   "name": "python",
   "nbconvert_exporter": "python",
   "pygments_lexer": "ipython3",
   "version": "3.10.7"
  },
  "orig_nbformat": 4
 },
 "nbformat": 4,
 "nbformat_minor": 2
}
