{
 "cells": [
  {
   "cell_type": "code",
   "execution_count": 45,
   "metadata": {},
   "outputs": [],
   "source": [
    "import pandas as pd"
   ]
  },
  {
   "cell_type": "code",
   "execution_count": 46,
   "metadata": {},
   "outputs": [],
   "source": [
    "reduction = pd.DataFrame({'category': [], 'reduction_std': []})\n"
   ]
  },
  {
   "attachments": {},
   "cell_type": "markdown",
   "metadata": {},
   "source": [
    "# Deciles"
   ]
  },
  {
   "cell_type": "code",
   "execution_count": 47,
   "metadata": {},
   "outputs": [],
   "source": [
    "longNameOfDiscriminatingColumn = \"decile\""
   ]
  },
  {
   "cell_type": "code",
   "execution_count": 48,
   "metadata": {},
   "outputs": [],
   "source": [
    "df_106 = pd.read_csv(\"computed_data/106_inflation_March_2022.csv\")\n",
    "df_106_avoided = pd.read_csv(\"computed_data/106_inflation_avoided.csv\")"
   ]
  },
  {
   "cell_type": "code",
   "execution_count": 49,
   "metadata": {},
   "outputs": [],
   "source": [
    "merged = df_106.merge(right=df_106_avoided, on=\"DECUC\")"
   ]
  },
  {
   "cell_type": "code",
   "execution_count": 50,
   "metadata": {},
   "outputs": [],
   "source": [
    "merged[\"inflation_without_shelter\"] = merged['weight_Group_inflation_2022_03'] + merged['inflation_avoided']"
   ]
  },
  {
   "cell_type": "code",
   "execution_count": 51,
   "metadata": {},
   "outputs": [],
   "source": [
    "reduction_std = (merged[\"weight_Group_inflation_2022_03\"].std() - merged[\"inflation_without_shelter\"].std())/merged[\"inflation_without_shelter\"].std()"
   ]
  },
  {
   "cell_type": "code",
   "execution_count": 52,
   "metadata": {},
   "outputs": [],
   "source": [
    "new_row = pd.DataFrame({'category': [longNameOfDiscriminatingColumn], 'reduction_std': [reduction_std]})\n",
    "reduction = pd.concat([new_row, reduction])"
   ]
  },
  {
   "attachments": {},
   "cell_type": "markdown",
   "metadata": {},
   "source": [
    "# Age"
   ]
  },
  {
   "cell_type": "code",
   "execution_count": 53,
   "metadata": {},
   "outputs": [],
   "source": [
    "translations = {'1': 'Less than 25 years',\n",
    "                '2': '25-34 years',\n",
    "                '3': '35-44 years',\n",
    "                '4': '45-54 years',\n",
    "                '5': '55-64 years',\n",
    "                '6': '65-74 years',\n",
    "                '7': '75 years or older'}\n",
    "TFnumber = 102\n",
    "discriminatingColumn = \"AGPR\"\n",
    "longNameOfDiscriminatingColumn = \"age\""
   ]
  },
  {
   "cell_type": "code",
   "execution_count": 54,
   "metadata": {},
   "outputs": [],
   "source": [
    "\n",
    "df = pd.read_csv(f\"computed_data/{TFnumber}_inflation_March_2022.csv\")\n",
    "df_avoided = pd.read_csv(f\"computed_data/{TFnumber}_inflation_avoided.csv\")"
   ]
  },
  {
   "cell_type": "code",
   "execution_count": 55,
   "metadata": {},
   "outputs": [],
   "source": [
    "df_avoided[discriminatingColumn] = df_avoided[discriminatingColumn].astype(str).replace(translations)"
   ]
  },
  {
   "cell_type": "code",
   "execution_count": 56,
   "metadata": {},
   "outputs": [],
   "source": [
    "merged = df.merge(right=df_avoided, on=discriminatingColumn)"
   ]
  },
  {
   "cell_type": "code",
   "execution_count": 57,
   "metadata": {},
   "outputs": [],
   "source": [
    "merged[\"inflation_without_shelter\"] = merged['weight_Group_inflation_2022_03'] + merged['inflation_avoided']"
   ]
  },
  {
   "cell_type": "code",
   "execution_count": 58,
   "metadata": {},
   "outputs": [],
   "source": [
    "reduction_std = (merged[\"weight_Group_inflation_2022_03\"].std() - merged[\"inflation_without_shelter\"].std())/merged[\"inflation_without_shelter\"].std()"
   ]
  },
  {
   "cell_type": "code",
   "execution_count": 59,
   "metadata": {},
   "outputs": [],
   "source": [
    "new_row = pd.DataFrame({'category': [longNameOfDiscriminatingColumn], 'reduction_std': [reduction_std]})\n",
    "reduction = pd.concat([new_row, reduction])"
   ]
  },
  {
   "attachments": {},
   "cell_type": "markdown",
   "metadata": {},
   "source": [
    "# Socioeconomic category"
   ]
  },
  {
   "cell_type": "code",
   "execution_count": 60,
   "metadata": {},
   "outputs": [],
   "source": [
    "TFnumber = '103'\n",
    "# create a dictionary with the translations\n",
    "longNameOfDiscriminatingColumn = \"socioeconomic category\"\n",
    "# create a dictionary with the translations\n",
    "translations = {\n",
    "    \"1\": \"Farmers\",\n",
    "    \"2\": \"Craftsmen, traders and business owners\",\n",
    "    \"3\": \"Executives\",\n",
    "    \"4\": \"Intermediate professions\",\n",
    "    \"5\": \"Employees\",\n",
    "    \"6\": \"Workers\",\n",
    "    \"7\": \"Retirees\",\n",
    "    \"8\": \"Other inactive\"\n",
    "}\n",
    "discriminatingColumn = \"CSPR\""
   ]
  },
  {
   "cell_type": "code",
   "execution_count": 61,
   "metadata": {},
   "outputs": [],
   "source": [
    "\n",
    "df = pd.read_csv(f\"computed_data/{TFnumber}_inflation_March_2022.csv\")\n",
    "df_avoided = pd.read_csv(f\"computed_data/{TFnumber}_inflation_avoided.csv\")"
   ]
  },
  {
   "cell_type": "code",
   "execution_count": 62,
   "metadata": {},
   "outputs": [],
   "source": [
    "df_avoided[discriminatingColumn] = df_avoided[discriminatingColumn].astype(str).replace(translations)"
   ]
  },
  {
   "cell_type": "code",
   "execution_count": 63,
   "metadata": {},
   "outputs": [],
   "source": [
    "merged = df.merge(right=df_avoided, on=discriminatingColumn)"
   ]
  },
  {
   "cell_type": "code",
   "execution_count": 64,
   "metadata": {},
   "outputs": [],
   "source": [
    "merged[\"inflation_without_shelter\"] = merged['weight_Group_inflation_2022_03'] + merged['inflation_avoided']"
   ]
  },
  {
   "cell_type": "code",
   "execution_count": 65,
   "metadata": {},
   "outputs": [],
   "source": [
    "reduction_std = (merged[\"weight_Group_inflation_2022_03\"].std() - merged[\"inflation_without_shelter\"].std())/merged[\"inflation_without_shelter\"].std()"
   ]
  },
  {
   "cell_type": "code",
   "execution_count": 66,
   "metadata": {},
   "outputs": [],
   "source": [
    "new_row = pd.DataFrame({'category': [longNameOfDiscriminatingColumn], 'reduction_std': [reduction_std]})\n",
    "reduction = pd.concat([new_row, reduction])"
   ]
  },
  {
   "attachments": {},
   "cell_type": "markdown",
   "metadata": {},
   "source": [
    "# Category of residential municipality"
   ]
  },
  {
   "cell_type": "code",
   "execution_count": 67,
   "metadata": {},
   "outputs": [],
   "source": [
    "longNameOfDiscriminatingColumn = \"category of residential municipality\"\n",
    "TFnumber = \"104\"\n",
    "discriminatingColumn = \"STRATE\"\n",
    "translations = {'0': 'Rural', '1': 'Small-sized towns', '2': 'Medium-sized towns', '3': 'Large cities', '4': 'Paris metropolitan area'}\n"
   ]
  },
  {
   "cell_type": "code",
   "execution_count": 68,
   "metadata": {},
   "outputs": [],
   "source": [
    "\n",
    "df = pd.read_csv(f\"computed_data/{TFnumber}_inflation_March_2022.csv\")\n",
    "df_avoided = pd.read_csv(f\"computed_data/{TFnumber}_inflation_avoided.csv\")"
   ]
  },
  {
   "cell_type": "code",
   "execution_count": 69,
   "metadata": {},
   "outputs": [],
   "source": [
    "df_avoided[discriminatingColumn] = df_avoided[discriminatingColumn].astype(str).replace(translations)"
   ]
  },
  {
   "cell_type": "code",
   "execution_count": 70,
   "metadata": {},
   "outputs": [],
   "source": [
    "merged = df.merge(right=df_avoided, on=discriminatingColumn)"
   ]
  },
  {
   "cell_type": "code",
   "execution_count": 71,
   "metadata": {},
   "outputs": [],
   "source": [
    "merged[\"inflation_without_shelter\"] = merged['weight_Group_inflation_2022_03'] + merged['inflation_avoided']"
   ]
  },
  {
   "cell_type": "code",
   "execution_count": 72,
   "metadata": {},
   "outputs": [],
   "source": [
    "reduction_std = (merged[\"weight_Group_inflation_2022_03\"].std() - merged[\"inflation_without_shelter\"].std())/merged[\"inflation_without_shelter\"].std()"
   ]
  },
  {
   "cell_type": "code",
   "execution_count": 73,
   "metadata": {},
   "outputs": [],
   "source": [
    "new_row = pd.DataFrame({'category': [longNameOfDiscriminatingColumn], 'reduction_std': [reduction_std]})\n",
    "reduction = pd.concat([new_row, reduction])"
   ]
  },
  {
   "attachments": {},
   "cell_type": "markdown",
   "metadata": {},
   "source": [
    "# Household type"
   ]
  },
  {
   "cell_type": "code",
   "execution_count": 74,
   "metadata": {},
   "outputs": [],
   "source": [
    "TFnumber = '105'\n",
    "# create a dictionary with the translations\n",
    "longNameOfDiscriminatingColumn = \"household type\"\n",
    "# create a dictionary with the translations\n",
    "translations = {'1': 'Single-person households',\n",
    "                '2': 'Single-parent families',\n",
    "                '3': 'Couples without children',\n",
    "                '4': 'Couples with children',\n",
    "                '5': 'Other households'}\n",
    "\n",
    "discriminatingColumn = \"TYPMEN\""
   ]
  },
  {
   "cell_type": "code",
   "execution_count": 75,
   "metadata": {},
   "outputs": [],
   "source": [
    "\n",
    "df = pd.read_csv(f\"computed_data/{TFnumber}_inflation_March_2022.csv\")\n",
    "df_avoided = pd.read_csv(f\"computed_data/{TFnumber}_inflation_avoided.csv\")"
   ]
  },
  {
   "cell_type": "code",
   "execution_count": 76,
   "metadata": {},
   "outputs": [],
   "source": [
    "df_avoided[discriminatingColumn] = df_avoided[discriminatingColumn].astype(str).replace(translations)"
   ]
  },
  {
   "cell_type": "code",
   "execution_count": 77,
   "metadata": {},
   "outputs": [],
   "source": [
    "merged = df.merge(right=df_avoided, on=discriminatingColumn)"
   ]
  },
  {
   "cell_type": "code",
   "execution_count": 78,
   "metadata": {},
   "outputs": [],
   "source": [
    "merged[\"inflation_without_shelter\"] = merged['weight_Group_inflation_2022_03'] + merged['inflation_avoided']"
   ]
  },
  {
   "cell_type": "code",
   "execution_count": 79,
   "metadata": {},
   "outputs": [],
   "source": [
    "reduction_std = (merged[\"weight_Group_inflation_2022_03\"].std() - merged[\"inflation_without_shelter\"].std())/merged[\"inflation_without_shelter\"].std()"
   ]
  },
  {
   "cell_type": "code",
   "execution_count": 80,
   "metadata": {},
   "outputs": [],
   "source": [
    "new_row = pd.DataFrame({'category': [longNameOfDiscriminatingColumn], 'reduction_std': [reduction_std]})\n",
    "reduction = pd.concat([new_row, reduction])"
   ]
  },
  {
   "attachments": {},
   "cell_type": "markdown",
   "metadata": {},
   "source": [
    "# Occupancy status of the main residence"
   ]
  },
  {
   "cell_type": "code",
   "execution_count": 81,
   "metadata": {},
   "outputs": [],
   "source": [
    "TFnumber = '107'\n",
    "# create a dictionary with the translations\n",
    "longNameOfDiscriminatingColumn = \"occupancy status of the main residence\"\n",
    "# create a dictionary with the translations\n",
    "translations = {'P': 'Owner',\n",
    "                'L': 'Renter'}\n",
    "\n",
    "\n",
    "discriminatingColumn = \"STATUT\""
   ]
  },
  {
   "cell_type": "code",
   "execution_count": 82,
   "metadata": {},
   "outputs": [],
   "source": [
    "\n",
    "df = pd.read_csv(f\"computed_data/{TFnumber}_inflation_March_2022.csv\")\n",
    "df_avoided = pd.read_csv(f\"computed_data/{TFnumber}_inflation_avoided.csv\")"
   ]
  },
  {
   "cell_type": "code",
   "execution_count": 83,
   "metadata": {},
   "outputs": [],
   "source": [
    "df_avoided[discriminatingColumn] = df_avoided[discriminatingColumn].astype(str).replace(translations)"
   ]
  },
  {
   "cell_type": "code",
   "execution_count": 84,
   "metadata": {},
   "outputs": [],
   "source": [
    "merged = df.merge(right=df_avoided, on=discriminatingColumn)"
   ]
  },
  {
   "cell_type": "code",
   "execution_count": 85,
   "metadata": {},
   "outputs": [],
   "source": [
    "merged[\"inflation_without_shelter\"] = merged['weight_Group_inflation_2022_03'] + merged['inflation_avoided']"
   ]
  },
  {
   "cell_type": "code",
   "execution_count": 86,
   "metadata": {},
   "outputs": [],
   "source": [
    "reduction_std = (merged[\"weight_Group_inflation_2022_03\"].std() - merged[\"inflation_without_shelter\"].std())/merged[\"inflation_without_shelter\"].std()"
   ]
  },
  {
   "cell_type": "code",
   "execution_count": 87,
   "metadata": {},
   "outputs": [],
   "source": [
    "new_row = pd.DataFrame({'category': [longNameOfDiscriminatingColumn], 'reduction_std': [reduction_std]})\n",
    "reduction = pd.concat([new_row, reduction])"
   ]
  },
  {
   "attachments": {},
   "cell_type": "markdown",
   "metadata": {},
   "source": [
    "# Chart"
   ]
  },
  {
   "cell_type": "code",
   "execution_count": 88,
   "metadata": {},
   "outputs": [
    {
     "data": {
      "image/png": "[encoded data removed]",
      "text/plain": [
       "<Figure size 640x480 with 1 Axes>"
      ]
     },
     "metadata": {},
     "output_type": "display_data"
    }
   ],
   "source": [
    "import matplotlib.pyplot as plt\n",
    "from matplotlib.ticker import FuncFormatter\n",
    "\n",
    "\n",
    "def x_axis_formatter(x, pos):\n",
    "    return \"{:.0f}%\".format(x*100)\n",
    "\n",
    "fig, ax = plt.subplots()\n",
    "\n",
    "reduction.plot(kind='barh', x='category', y='reduction_std', ax=ax)\n",
    "\n",
    "formatter = FuncFormatter(x_axis_formatter)\n",
    "ax.xaxis.set_major_formatter(formatter)\n",
    "\n",
    "ax.set_title('Reductions of inflation inequalities through tariff shield, by category')\n",
    "\n",
    "ax.set_xlabel(\"Variation of inflation standard deviation across different categories after tariff shield\")\n",
    "\n",
    "plt.rcParams['font.family'] = 'cmr10'\n",
    "plt.savefig(f'saved_figs/figure28.png', dpi=500, bbox_inches='tight')\n",
    "\n",
    "plt.show()"
   ]
  }
 ],
 "metadata": {
  "kernelspec": {
   "display_name": "Python 3",
   "language": "python",
   "name": "python3"
  },
  "language_info": {
   "codemirror_mode": {
    "name": "ipython",
    "version": 3
   },
   "file_extension": ".py",
   "mimetype": "text/x-python",
   "name": "python",
   "nbconvert_exporter": "python",
   "pygments_lexer": "ipython3",
   "version": "3.10.7"
  },
  "orig_nbformat": 4
 },
 "nbformat": 4,
 "nbformat_minor": 2
}
