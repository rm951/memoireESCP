{
 "cells": [
  {
   "cell_type": "code",
   "execution_count": 1,
   "metadata": {},
   "outputs": [],
   "source": [
    "import urllib.request\n",
    "import os\n",
    "import zipfile\n",
    "\n",
    "url = \"https://www.insee.fr/fr/statistiques/fichier/4648335/bdf2017fe_csv.zip\"\n",
    "filename = \"bdf2017fe_csv.zip\"\n",
    "\n",
    "# Define the destination directory\n",
    "dest_dir = 'already_downloaded_data'\n",
    "\n",
    "# Create the destination directory if it doesn't exist\n",
    "if not os.path.exists(dest_dir):\n",
    "    os.makedirs(dest_dir)\n",
    "\n",
    "# Join the destination directory with the filename to create the full destination path\n",
    "dest_path = os.path.join(dest_dir, filename)\n",
    "\n",
    "# Download the file and save it to the destination path\n",
    "urllib.request.urlretrieve(url, dest_path)\n",
    "\n",
    "# Extract the contents of the zip file to the destination directory\n",
    "with zipfile.ZipFile(dest_path, 'r') as zip_ref:\n",
    "    zip_ref.extractall(dest_dir)"
   ]
  },
  {
   "cell_type": "code",
   "execution_count": 2,
   "metadata": {},
   "outputs": [],
   "source": [
    "import pandas as pd\n",
    "\n",
    "csv_filename = \"tf106.csv\"\n",
    "csv_filepath = os.path.join(dest_dir, csv_filename)\n",
    "\n",
    "df = pd.read_csv(csv_filepath, sep=\";\")"
   ]
  },
  {
   "cell_type": "code",
   "execution_count": 3,
   "metadata": {},
   "outputs": [],
   "source": [
    "# filtering values with exactly 3 characters, corresponding to ECOICOP groups\n",
    "df = df.loc[df['NOMENCLATURE'].str.len() == 3]"
   ]
  },
  {
   "cell_type": "code",
   "execution_count": 4,
   "metadata": {},
   "outputs": [],
   "source": [
    "# filtering out rows where the \"FCOIC\" value starts with \"13\"\n",
    "df = df.loc[~df['NOMENCLATURE'].str.startswith('13')]"
   ]
  },
  {
   "cell_type": "code",
   "execution_count": 6,
   "metadata": {},
   "outputs": [],
   "source": []
  },
  {
   "attachments": {},
   "cell_type": "markdown",
   "metadata": {},
   "source": [
    "Now let's deal with Eurostat inflation stats."
   ]
  },
  {
   "cell_type": "code",
   "execution_count": 7,
   "metadata": {},
   "outputs": [],
   "source": [
    "import pandas as pd\n",
    "\n",
    "# this file is around 200 mbs so it can take some time to download\n",
    "\n",
    "df_inflation = pd.read_csv(\"https://ec.europa.eu/eurostat/databrowser-backend/api/extraction/1.0/LIVE/true/sdmx/csv/PRC_HICP_MANR?i\")\n"
   ]
  },
  {
   "cell_type": "code",
   "execution_count": 8,
   "metadata": {},
   "outputs": [],
   "source": [
    "df_inflation = df_inflation[df_inflation[\"geo\"] == \"FR\"]"
   ]
  },
  {
   "cell_type": "code",
   "execution_count": 9,
   "metadata": {},
   "outputs": [],
   "source": [
    "# filter the rows using a regular expression, keeping only the ECOICOP groups (3 numbers)\n",
    "df_inflation = df_inflation[df_inflation['coicop'].str.match(r'^CP\\d{3}$')]"
   ]
  },
  {
   "cell_type": "code",
   "execution_count": 10,
   "metadata": {},
   "outputs": [],
   "source": [
    "# remove the \"CP\" prefix from the values in the coicop column\n",
    "df_inflation['coicop'] = df_inflation['coicop'].str.slice(start=2)"
   ]
  },
  {
   "cell_type": "code",
   "execution_count": 11,
   "metadata": {},
   "outputs": [],
   "source": [
    "df_inflation = df_inflation[df_inflation['TIME_PERIOD'].isin(['2022-03', '2023-03'])]"
   ]
  },
  {
   "cell_type": "code",
   "execution_count": 12,
   "metadata": {},
   "outputs": [],
   "source": [
    "# keep only the specified columns using the .loc[] indexer\n",
    "df_inflation = df_inflation.loc[:, ['coicop', 'TIME_PERIOD', 'OBS_VALUE']]"
   ]
  },
  {
   "cell_type": "code",
   "execution_count": 13,
   "metadata": {},
   "outputs": [],
   "source": [
    "# pivot the dataframe to collapse duplicate values in the coicop column\n",
    "df_inflation = df_inflation.pivot(index='coicop', columns='TIME_PERIOD', values='OBS_VALUE')\n"
   ]
  },
  {
   "cell_type": "code",
   "execution_count": 14,
   "metadata": {},
   "outputs": [],
   "source": [
    "# calculate the Cumulated inflation column based on the values in 2022-03 and 2023-03\n",
    "df_inflation['Cumulated'] = ((1 + (df_inflation['2022-03'] / 100)) * (1 + (df_inflation['2023-03'] / 100))-1)*100"
   ]
  },
  {
   "attachments": {},
   "cell_type": "markdown",
   "metadata": {},
   "source": [
    "A REPARER : Il y a 40 valeurs de coicop ici, alors que y en a 47 dans l'autre tableau, à vérifier où sont les 7 manquantes\n"
   ]
  },
  {
   "cell_type": "code",
   "execution_count": 22,
   "metadata": {},
   "outputs": [],
   "source": [
    "merged = pd.merge(df, df_inflation, left_on='NOMENCLATURE', right_index=True)\n"
   ]
  },
  {
   "cell_type": "code",
   "execution_count": 23,
   "metadata": {},
   "outputs": [],
   "source": [
    "# calculating the sum of \"CONSO\" for each unique value in \"DECUC\" column\n",
    "sum_by_decuc = merged.groupby('DECUC')['CONSO'].sum()"
   ]
  },
  {
   "cell_type": "code",
   "execution_count": 24,
   "metadata": {},
   "outputs": [],
   "source": [
    "# adding a new column \"PROP\" with the percentage of each row relative to the sum for each unique value in \"DECUC\" column\n",
    "merged['PROP'] = merged['CONSO'] / merged['DECUC'].map(sum_by_decuc)"
   ]
  },
  {
   "attachments": {},
   "cell_type": "markdown",
   "metadata": {},
   "source": [
    "Let's make sure sumPROP is equal to 1"
   ]
  },
  {
   "cell_type": "code",
   "execution_count": 27,
   "metadata": {},
   "outputs": [
    {
     "data": {
      "text/plain": [
       "DECUC\n",
       "1      1.0\n",
       "10     1.0\n",
       "2      1.0\n",
       "3      1.0\n",
       "4      1.0\n",
       "5      1.0\n",
       "6      1.0\n",
       "7      1.0\n",
       "8      1.0\n",
       "9      1.0\n",
       "TOT    1.0\n",
       "Name: PROP, dtype: float64"
      ]
     },
     "execution_count": 27,
     "metadata": {},
     "output_type": "execute_result"
    }
   ],
   "source": [
    "sumPROP = merged.groupby('DECUC')['PROP'].sum()\n",
    "sumPROP"
   ]
  },
  {
   "cell_type": "code",
   "execution_count": 29,
   "metadata": {},
   "outputs": [],
   "source": [
    "# calculate the weight_Group_inflation_2022_03 column based on 2022-03 and PROP\n",
    "merged['weight_Group_inflation_2022_03'] = merged['2022-03'] * merged['PROP']"
   ]
  },
  {
   "cell_type": "code",
   "execution_count": 30,
   "metadata": {},
   "outputs": [],
   "source": [
    "# calculate the weight_Group_inflation_2023_03 column based on 2023-03 and PROP\n",
    "merged['weight_Group_inflation_2023_03'] = merged['2023-03'] * merged['PROP']"
   ]
  },
  {
   "cell_type": "code",
   "execution_count": 31,
   "metadata": {},
   "outputs": [],
   "source": [
    "# calculate the weight_Group_inflation_2023_03 column based on 2023-03 and PROP\n",
    "merged['weight_Group_inflation_Cumulated'] = merged['Cumulated'] * merged['PROP']"
   ]
  },
  {
   "cell_type": "code",
   "execution_count": 35,
   "metadata": {},
   "outputs": [],
   "source": [
    "sumInflationMarch2022 = merged.groupby('DECUC')['weight_Group_inflation_2022_03'].sum()"
   ]
  },
  {
   "cell_type": "code",
   "execution_count": 36,
   "metadata": {},
   "outputs": [],
   "source": [
    "sumInflationMarch2023 = merged.groupby('DECUC')['weight_Group_inflation_2023_03'].sum()"
   ]
  },
  {
   "cell_type": "code",
   "execution_count": 37,
   "metadata": {},
   "outputs": [],
   "source": [
    "sumCumulated = merged.groupby('DECUC')['weight_Group_inflation_Cumulated'].sum()"
   ]
  },
  {
   "cell_type": "code",
   "execution_count": 38,
   "metadata": {},
   "outputs": [
    {
     "data": {
      "text/plain": [
       "0.10770954578776681"
      ]
     },
     "execution_count": 38,
     "metadata": {},
     "output_type": "execute_result"
    }
   ],
   "source": [
    "sumCumulated[1] - sumCumulated[10]"
   ]
  }
 ],
 "metadata": {
  "kernelspec": {
   "display_name": "Python 3",
   "language": "python",
   "name": "python3"
  },
  "language_info": {
   "codemirror_mode": {
    "name": "ipython",
    "version": 3
   },
   "file_extension": ".py",
   "mimetype": "text/x-python",
   "name": "python",
   "nbconvert_exporter": "python",
   "pygments_lexer": "ipython3",
   "version": "3.10.7"
  },
  "orig_nbformat": 4
 },
 "nbformat": 4,
 "nbformat_minor": 2
}
