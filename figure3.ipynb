{
 "cells": [
  {
   "attachments": {},
   "cell_type": "markdown",
   "metadata": {},
   "source": [
    "Let's download the data from INSEE."
   ]
  },
  {
   "cell_type": "code",
   "execution_count": 1,
   "metadata": {},
   "outputs": [
    {
     "data": {
      "text/plain": [
       "('already_downloaded_data\\\\bdf2017fe_csv.zip',\n",
       " <http.client.HTTPMessage at 0x1cc699dcdc0>)"
      ]
     },
     "execution_count": 1,
     "metadata": {},
     "output_type": "execute_result"
    }
   ],
   "source": [
    "import urllib.request\n",
    "import os\n",
    "\n",
    "url = \"https://www.insee.fr/fr/statistiques/fichier/4648335/bdf2017fe_csv.zip\"\n",
    "filename = \"bdf2017fe_csv.zip\"\n",
    "\n",
    "# Define the destination directory\n",
    "dest_dir = 'already_downloaded_data'\n",
    "\n",
    "# Create the destination directory if it doesn't exist\n",
    "if not os.path.exists(dest_dir):\n",
    "    os.makedirs(dest_dir)\n",
    "\n",
    "# Join the destination directory with the filename to create the full destination path\n",
    "dest_path = os.path.join(dest_dir, filename)\n",
    "\n",
    "# Download the file and save it to the destination path\n",
    "urllib.request.urlretrieve(url, dest_path)\n"
   ]
  },
  {
   "cell_type": "code",
   "execution_count": 2,
   "metadata": {},
   "outputs": [],
   "source": [
    "import zipfile\n",
    "\n",
    "# Extract the contents of the zip file to the destination directory\n",
    "with zipfile.ZipFile(dest_path, 'r') as zip_ref:\n",
    "    zip_ref.extractall(dest_dir)\n",
    "\n"
   ]
  },
  {
   "cell_type": "code",
   "execution_count": 3,
   "metadata": {},
   "outputs": [],
   "source": [
    "csv_filename = \"tf206.csv\"\n",
    "csv_filepath = os.path.join(dest_dir, csv_filename)"
   ]
  },
  {
   "cell_type": "code",
   "execution_count": 4,
   "metadata": {},
   "outputs": [],
   "source": [
    "import pandas as pd\n",
    "\n",
    "df = pd.read_csv(csv_filepath, sep=\";\")"
   ]
  },
  {
   "cell_type": "code",
   "execution_count": 5,
   "metadata": {},
   "outputs": [],
   "source": [
    "# Define a list of valid values for the NOMENCLATURE2 column, only keep the broad categories\n",
    "valid_nomenclature2_values = [str(i).zfill(2) for i in range(1, 13)]\n",
    "\n",
    "# Filter the DataFrame to keep only rows where the NOMENCLATURE2 column has a valid value\n",
    "df_filtered = df[df['NOMENCLATURE2'].isin(valid_nomenclature2_values)]"
   ]
  },
  {
   "cell_type": "code",
   "execution_count": null,
   "metadata": {},
   "outputs": [],
   "source": [
    "import matplotlib.pyplot as plt\n",
    "\n",
    "# Define the colors to use for each NOMENCLATURE2 value\n",
    "colors = {\n",
    "    '01': 'red',\n",
    "    '02': 'blue',\n",
    "    '03': 'green',\n",
    "    '04': 'purple',\n",
    "    '05': 'orange',\n",
    "    '06': 'yellow',\n",
    "    '07': 'gray',\n",
    "    '08': 'cyan',\n",
    "    '09': 'magenta',\n",
    "    '10': 'lime',\n",
    "    '11': 'pink',\n",
    "    '12': 'teal',\n",
    "    'nan': 'lightgray'  # Replace NaN values with a default color\n",
    "}\n",
    "\n",
    "# Define the colors to use for each NOMENCLATURE2 value\n",
    "colors = {\n",
    "    '01': 'red',\n",
    "    '02': 'blue',\n",
    "    '03': 'green',\n",
    "    '04': 'purple',\n",
    "    '05': 'orange',\n",
    "    '06': 'yellow',\n",
    "    '07': 'gray',\n",
    "    '08': 'cyan',\n",
    "    '09': 'magenta',\n",
    "    '10': 'lime',\n",
    "    '11': 'pink',\n",
    "    '12': 'teal',\n",
    "    'nan': 'lightgray'  # Replace NaN values with a default color\n",
    "}\n",
    "\n",
    "# Define the names of NOMENCLATURE2 values\n",
    "names = {\n",
    "    '01': 'PRODUITS ALIMENTAIRES ET BOISSONS NON-ALCOOLISEES',\n",
    "    '02': 'BOISSONS ALCOOLISEES',\n",
    "    '03': 'TABACS',\n",
    "    '04': 'HABILLEMENT ET CHAUSSURES',\n",
    "    '05': 'EQUIPEMENTS DU FOYER',\n",
    "    '06': 'SANTÉ',\n",
    "    '07': 'TRANSPORTS ET COMMUNICATIONS',\n",
    "    '08': 'LOISIRS, CULTURE ET ENSEIGNEMENT',\n",
    "    '09': 'SERVICES DIVERS',\n",
    "    '10': 'ADMINISTRATION GENERALE ET TERRITORIALE',\n",
    "    '11': 'PRODUCTION ET DISTRIBUTION D ELECTRICITE, DE GAZ ET DE CHALEUR',\n",
    "    '12': 'INDUSTRIES AGRICOLES ET ALIMENTAIRES'\n",
    "}\n",
    "\n",
    "# Replace the column names with their corresponding names from the names dictionary\n",
    "grouped = df_filtered.groupby(['DECUC', 'NOMENCLATURE2']).sum()['COEFF_BUDG'].unstack()\n",
    "grouped.columns = grouped.columns.map(names)\n",
    "\n",
    "# Define the order of DECUC values\n",
    "decuc_order = ['1', '2', '3', '4', '5', '6', '7', '8', '9', '10', 'TOT']\n",
    "\n",
    "# Reorder the index of the grouped DataFrame using decuc_order\n",
    "grouped = grouped.reindex(decuc_order)\n",
    "\n",
    "# Map the colors of the bars using the colors dictionary\n",
    "colors_mapped = grouped.columns.map(colors)\n",
    "\n",
    "# Create a stacked bar chart using the grouped data and colors\n",
    "ax = grouped.plot(kind='bar', stacked=True)\n",
    "\n",
    "# Set the x-axis label\n",
    "ax.set_xlabel('DECUC')\n",
    "\n",
    "# Set the y-axis label\n",
    "ax.set_ylabel('COEFF_BUDG')\n",
    "\n",
    "# Set the title of the chart\n",
    "ax.set_title('Budget coefficients by DECUC and NOMENCLATURE2')\n",
    "\n",
    "# Set the legend labels using the names dictionary\n",
    "handles, labels = ax.get_legend_handles_labels()\n",
    "labels = [names[label.split(' - ')[0]] for label in labels]\n",
    "ax.legend(handles, labels)\n",
    "\n",
    "\n",
    "# Show the chart\n",
    "plt.show()\n"
   ]
  }
 ],
 "metadata": {
  "kernelspec": {
   "display_name": "Python 3",
   "language": "python",
   "name": "python3"
  },
  "language_info": {
   "codemirror_mode": {
    "name": "ipython",
    "version": 3
   },
   "file_extension": ".py",
   "mimetype": "text/x-python",
   "name": "python",
   "nbconvert_exporter": "python",
   "pygments_lexer": "ipython3",
   "version": "3.10.7"
  },
  "orig_nbformat": 4
 },
 "nbformat": 4,
 "nbformat_minor": 2
}
