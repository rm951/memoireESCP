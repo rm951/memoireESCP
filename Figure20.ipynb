{
 "cells": [
  {
   "attachments": {},
   "cell_type": "markdown",
   "metadata": {},
   "source": [
    "Let's download the data from INSEE."
   ]
  },
  {
   "cell_type": "code",
   "execution_count": 13,
   "metadata": {},
   "outputs": [],
   "source": [
    "code = '102'\n",
    "# create a dictionary with the translations\n",
    "longNameOfDiscriminatingColumn = \"age\"\n",
    "# create a dictionary with the translations\n",
    "translations = {'1': 'Less than 25 years',\n",
    "                '2': '25-34 years',\n",
    "                '3': '35-44 years',\n",
    "                '4': '45-54 years',\n",
    "                '5': '55-64 years',\n",
    "                '6': '65-74 years',\n",
    "                '7': '75 years or older'}\n",
    "\n",
    "nameOfDiscriminatingColumn = \"AGPR\"\n"
   ]
  },
  {
   "cell_type": "code",
   "execution_count": 14,
   "metadata": {},
   "outputs": [],
   "source": [
    "import pandas as pd\n",
    "\n",
    "\n",
    "url = f\"https://www.insee.fr/fr/statistiques/fichier/4648335/TF{code}.csv\"\n",
    "\n",
    "df = pd.read_csv(url, sep=\";\")"
   ]
  },
  {
   "cell_type": "code",
   "execution_count": 15,
   "metadata": {},
   "outputs": [],
   "source": [
    "df = df.drop(df[df[f'{nameOfDiscriminatingColumn}'] == 'TOT'].index)"
   ]
  },
  {
   "cell_type": "code",
   "execution_count": 16,
   "metadata": {},
   "outputs": [],
   "source": [
    "# filtering values with exactly 4 characters, corresponding to ECOICOP classes\n",
    "df = df.loc[df['NOMENCLATURE'].str.len() == 4]"
   ]
  },
  {
   "cell_type": "code",
   "execution_count": 17,
   "metadata": {},
   "outputs": [],
   "source": [
    "# renaming the \"NOMENCLATURE\" column to \"FCOICOP\"\n",
    "df = df.rename(columns={'NOMENCLATURE': 'FCOICOP'})"
   ]
  },
  {
   "cell_type": "code",
   "execution_count": 18,
   "metadata": {},
   "outputs": [],
   "source": [
    "# filtering out rows where the \"FCOIC\" value starts with \"13\"\n",
    "df = df.loc[~df['FCOICOP'].str.startswith('13')]"
   ]
  },
  {
   "cell_type": "code",
   "execution_count": 19,
   "metadata": {},
   "outputs": [],
   "source": [
    "# replace the values in the \"STRATE\" column with the corresponding translations\n",
    "df[f'{nameOfDiscriminatingColumn}'] = df[f'{nameOfDiscriminatingColumn}'].replace(translations)"
   ]
  },
  {
   "cell_type": "code",
   "execution_count": 20,
   "metadata": {},
   "outputs": [],
   "source": [
    "# loading the second csv file with the \"FCOICOP\" column\n",
    "df2 = pd.read_csv('Nomenclature_classes_to_special_aggregates.csv')"
   ]
  },
  {
   "cell_type": "code",
   "execution_count": 21,
   "metadata": {},
   "outputs": [],
   "source": [
    "# merging the two dataframes on the \"FCOICOP\" column\n",
    "merged_df = pd.merge(df, df2, on='FCOICOP')"
   ]
  },
  {
   "cell_type": "code",
   "execution_count": 22,
   "metadata": {},
   "outputs": [],
   "source": [
    "# calculating the sum of \"CONSO\" for each unique value in \"STRATE\" column\n",
    "sum_by_strate = merged_df.groupby(f'{nameOfDiscriminatingColumn}')['CONSO'].sum()"
   ]
  },
  {
   "cell_type": "code",
   "execution_count": 23,
   "metadata": {},
   "outputs": [],
   "source": [
    "# adding a new column \"PROP\" with the percentage of each row relative to the sum for each unique value in \"STRATE\" column\n",
    "merged_df['PROP'] = merged_df['CONSO'] / merged_df[f'{nameOfDiscriminatingColumn}'].map(sum_by_strate)"
   ]
  },
  {
   "cell_type": "code",
   "execution_count": 24,
   "metadata": {},
   "outputs": [],
   "source": [
    "%matplotlib agg\n",
    "import matplotlib.pyplot as plt\n",
    "\n",
    "# group the merged dataframe by \"AGGREGATE\" and \"STRATE\" and sum the values in the \"PROP\" column for each group\n",
    "grouped_df = merged_df.groupby(['AGGREGATE', f'{nameOfDiscriminatingColumn}'])['PROP'].sum().reset_index()\n",
    "\n",
    "\n",
    "# create a new column \"STRATE_SORTED\" with values sorted in a specific order\n",
    "category_order = translations_list = list(translations.values())\n",
    "grouped_df[f'{nameOfDiscriminatingColumn}_SORTED'] = pd.Categorical(grouped_df[f'{nameOfDiscriminatingColumn}'], categories=category_order, ordered=True)\n",
    "\n",
    "# pivot the dataframe to create a table where each row represents a STRATE, and each column represents an AGGREGATE with the values in the \"PROP\" column\n",
    "pivoted_df = grouped_df.pivot(index=f'{nameOfDiscriminatingColumn}_SORTED', columns='AGGREGATE', values='PROP').fillna(0)\n",
    "\n",
    "\n",
    "# calculate the cumulative sum of the values in the pivoted dataframe\n",
    "cumulative_df = pivoted_df.cumsum(axis=1)\n",
    "\n",
    "\n",
    "\n",
    "# create a stacked bar chart with a bar for each STRATE and bars of colors with sizes proportional to PROP for each AGGREGATE\n",
    "fig, ax = plt.subplots(figsize=(14, 15))\n",
    "\n",
    "for i, (colname, color) in enumerate(zip(pivoted_df.columns, ['blue', 'green', 'red', 'purple'])):\n",
    "    ax.bar(pivoted_df.index, pivoted_df[colname], bottom=cumulative_df.iloc[:, i-1] if i>0 else None, width=0.9, color=color, alpha=0.8, label=colname)\n",
    "    # Add text labels for each bar\n",
    "    for j, val in enumerate(pivoted_df[colname]):\n",
    "        if val > 0:\n",
    "            ax.text(j, cumulative_df.iloc[j, i-1] if i>0 else 0, f\"{round(val*100)}%\", ha='center', va='bottom', color='white', fontweight='bold', fontsize=20)\n",
    "\n",
    "# change the legend labels using a dictionary\n",
    "legend_labels = {'FOOD': 'Food', 'IGD': 'Industrial goods', 'SERV': 'Services', 'NRG': 'Energy'}\n",
    "handles, labels = ax.get_legend_handles_labels()\n",
    "new_labels = [legend_labels[label] if label in legend_labels else label for label in labels]\n",
    "ax.legend(handles, new_labels, title=\"Components\", fontsize=16)\n",
    "\n",
    "ax.tick_params(axis='both', labelsize=16)\n",
    "ax.set_xlabel(f\"{longNameOfDiscriminatingColumn}\", fontsize=20)\n",
    "ax.set_ylabel(\"Proportion of consumption by component\", fontsize=20)\n",
    "plt.title(f\"Proportion of annual household expenditures in France by {longNameOfDiscriminatingColumn} in 2017\", fontsize=20)\n",
    "\n",
    "plt.tight_layout()\n",
    "\n",
    "plt.rcParams['font.family'] = 'cmr10'\n",
    "plt.savefig(f'saved_figs/figure5_{nameOfDiscriminatingColumn}.png', dpi=500, bbox_inches='tight')\n"
   ]
  }
 ],
 "metadata": {
  "kernelspec": {
   "display_name": "Python 3",
   "language": "python",
   "name": "python3"
  },
  "language_info": {
   "codemirror_mode": {
    "name": "ipython",
    "version": 3
   },
   "file_extension": ".py",
   "mimetype": "text/x-python",
   "name": "python",
   "nbconvert_exporter": "python",
   "pygments_lexer": "ipython3",
   "version": "3.10.7"
  },
  "orig_nbformat": 4
 },
 "nbformat": 4,
 "nbformat_minor": 2
}
