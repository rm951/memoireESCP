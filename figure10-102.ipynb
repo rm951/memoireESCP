{
 "cells": [
  {
   "cell_type": "code",
   "execution_count": 71,
   "metadata": {},
   "outputs": [],
   "source": [
    "import pandas as pd\n",
    "TFnumber = '102'\n",
    "# create a dictionary with the translations\n",
    "longNameOfDiscriminatingColumn = \"age\"\n",
    "# create a dictionary with the translations\n",
    "translations = {'1': 'Less than 25 years',\n",
    "                '2': '25-34 years',\n",
    "                '3': '35-44 years',\n",
    "                '4': '45-54 years',\n",
    "                '5': '55-64 years',\n",
    "                '6': '65-74 years',\n",
    "                '7': '75 years or older'}\n",
    "\n",
    "discriminatingColumn = \"AGPR\""
   ]
  },
  {
   "cell_type": "code",
   "execution_count": 72,
   "metadata": {},
   "outputs": [],
   "source": [
    "df_shelter_effect = pd.read_excel(\"https://www.insee.fr/fr/statistiques/fichier/6524161/ia75.xlsx\",\n",
    "                                  sheet_name=\"Figure 3\", skiprows=3, skipfooter=7)"
   ]
  },
  {
   "cell_type": "code",
   "execution_count": 73,
   "metadata": {},
   "outputs": [],
   "source": [
    "\n",
    "df_shelter_effect = df_shelter_effect.rename(columns={'Unnamed: 0': 'long_coicop',\n",
    "                                                      'Effet total.1': 'inflation_with_shelter', 'Effet total': 'inflation_without_shelter'})\n",
    "df_shelter_effect = df_shelter_effect.set_index('long_coicop')"
   ]
  },
  {
   "cell_type": "code",
   "execution_count": 74,
   "metadata": {},
   "outputs": [],
   "source": [
    "# Create an empty DataFrame to store the removed rows\n",
    "df_other = pd.DataFrame(columns=df_shelter_effect.columns)\n",
    "\n",
    "# Remove and move the two rows\n",
    "for index in [\"  électricité, gaz et autres combustibles\", \"  dépenses d'utilisation de véhicules\"]:\n",
    "    # Add the row to other_df\n",
    "    df_other = pd.concat([df_other, df_shelter_effect.loc[[index]]], axis=0)\n",
    "    df_shelter_effect = df_shelter_effect.drop(index)"
   ]
  },
  {
   "cell_type": "code",
   "execution_count": 75,
   "metadata": {},
   "outputs": [],
   "source": [
    "# Create a list of values for the \"coicop\" column\n",
    "coicop_values = ['{:02d}'.format(i)\n",
    "                 for i in range(1, len(df_shelter_effect)+1)]\n",
    "\n",
    "# Add the \"coicop\" column to the DataFrame\n",
    "df_shelter_effect['coicop'] = coicop_values"
   ]
  },
  {
   "cell_type": "code",
   "execution_count": 76,
   "metadata": {},
   "outputs": [],
   "source": [
    "df_other = df_other.assign(coicop=[\"045\", \"072\"])"
   ]
  },
  {
   "cell_type": "code",
   "execution_count": 77,
   "metadata": {},
   "outputs": [],
   "source": [
    "df_shelter_effect = pd.concat([df_other, df_shelter_effect], axis=0)"
   ]
  },
  {
   "cell_type": "code",
   "execution_count": 78,
   "metadata": {},
   "outputs": [],
   "source": [
    "df_shelter_effect['shelter_effect'] = df_shelter_effect['inflation_with_shelter'] - \\\n",
    "    df_shelter_effect['inflation_without_shelter']"
   ]
  },
  {
   "cell_type": "code",
   "execution_count": 79,
   "metadata": {},
   "outputs": [],
   "source": [
    "\n",
    "df_shelter_effect = df_shelter_effect.drop(['Unnamed: 1', 'Effet direct', 'Effet indirect',\n",
    "                                            'Effet direct.1', 'Effet indirect.1'], axis=1)"
   ]
  },
  {
   "cell_type": "code",
   "execution_count": 80,
   "metadata": {},
   "outputs": [],
   "source": [
    "df_shelter_effect = df_shelter_effect.set_index('coicop')"
   ]
  },
  {
   "cell_type": "code",
   "execution_count": 81,
   "metadata": {},
   "outputs": [],
   "source": [
    "\n",
    "df_shelter_effect = df_shelter_effect.drop(\n",
    "    [\"inflation_without_shelter\", \"inflation_with_shelter\"], axis=1)"
   ]
  },
  {
   "cell_type": "code",
   "execution_count": 82,
   "metadata": {},
   "outputs": [],
   "source": [
    "import pandas as pd\n",
    "\n",
    "\n",
    "url = f\"https://www.insee.fr/fr/statistiques/fichier/4648335/TF{TFnumber}.csv\"\n",
    "\n",
    "df_prop = pd.read_csv(url, sep=\";\")\n",
    "\n"
   ]
  },
  {
   "cell_type": "code",
   "execution_count": 83,
   "metadata": {},
   "outputs": [],
   "source": [
    "df_prop_other = df_prop[df_prop[\"NOMENCLATURE\"].isin([\"045\", \"072\"])]"
   ]
  },
  {
   "cell_type": "code",
   "execution_count": 84,
   "metadata": {},
   "outputs": [],
   "source": [
    "# filtering values with exactly 2 characters, corresponding to ECOICOP classes\n",
    "df_prop = df_prop.loc[df_prop['NOMENCLATURE'].str.len() == 2]"
   ]
  },
  {
   "cell_type": "code",
   "execution_count": 85,
   "metadata": {},
   "outputs": [],
   "source": [
    "df_prop = pd.concat([df_prop_other, df_prop], axis=0)"
   ]
  },
  {
   "cell_type": "code",
   "execution_count": 86,
   "metadata": {},
   "outputs": [],
   "source": [
    "# renaming the \"NOMENCLATURE\" column to \"coicop\"\n",
    "df_prop = df_prop.rename(columns={'NOMENCLATURE': 'coicop'})"
   ]
  },
  {
   "cell_type": "code",
   "execution_count": 87,
   "metadata": {},
   "outputs": [],
   "source": [
    "# filtering out rows where the \"coicop\" value starts with \"13\"\n",
    "df_prop = df_prop.loc[~df_prop['coicop'].str.startswith('13')]"
   ]
  },
  {
   "cell_type": "code",
   "execution_count": 88,
   "metadata": {},
   "outputs": [],
   "source": [
    "df_add04x = df_prop.loc[df_prop['coicop'] == '04'].copy()\n",
    "df_add04x['coicop'] = '04x'\n",
    "df_add04x['CONSO'] = df_prop.loc[df_prop['coicop'] == '04', 'CONSO'].values - \\\n",
    "    df_prop.loc[df_prop['coicop'] == '045', 'CONSO'].values"
   ]
  },
  {
   "cell_type": "code",
   "execution_count": 89,
   "metadata": {},
   "outputs": [],
   "source": [
    "df_add07x = df_prop.loc[df_prop['coicop'] == '07'].copy()\n",
    "df_add07x['coicop'] = '07x'\n",
    "df_add07x['CONSO'] = df_prop.loc[df_prop['coicop'] == '07',\n",
    "                                 'CONSO'].values - df_prop.loc[df_prop['coicop'] == '072', 'CONSO'].values"
   ]
  },
  {
   "cell_type": "code",
   "execution_count": 90,
   "metadata": {},
   "outputs": [],
   "source": [
    "df_prop = pd.concat([df_prop, df_add04x, df_add07x],\n",
    "                    ignore_index=True, sort=False)"
   ]
  },
  {
   "cell_type": "code",
   "execution_count": 91,
   "metadata": {},
   "outputs": [],
   "source": [
    "prop045 = 52.03/323.9\n",
    "prop072 = 99.4/170"
   ]
  },
  {
   "cell_type": "code",
   "execution_count": 92,
   "metadata": {},
   "outputs": [],
   "source": [
    "df_prop = df_prop[~df_prop['coicop'].isin(['04', '07'])]"
   ]
  },
  {
   "cell_type": "code",
   "execution_count": 93,
   "metadata": {},
   "outputs": [],
   "source": [
    "# calculating the sum of \"CONSO\" for each unique value in \"DECUC\" column\n",
    "sum_by_decuc = df_prop.groupby(discriminatingColumn)['CONSO'].sum()"
   ]
  },
  {
   "cell_type": "code",
   "execution_count": 94,
   "metadata": {},
   "outputs": [],
   "source": [
    "# adding a new column \"PROP\" with the percentage of each row relative to the sum for each unique value in \"DECUC\" column\n",
    "df_prop['PROP'] = df_prop['CONSO'] / \\\n",
    "    df_prop[discriminatingColumn].map(sum_by_decuc)"
   ]
  },
  {
   "cell_type": "code",
   "execution_count": 95,
   "metadata": {},
   "outputs": [],
   "source": [
    "shelter_effect_04x = (df_shelter_effect.loc[\"04\", \"shelter_effect\"] -\n",
    "                      df_shelter_effect.loc[\"045\", \"shelter_effect\"]*prop045)/(1-prop045)\n",
    "shelter_effect_07x = (df_shelter_effect.loc[\"07\", \"shelter_effect\"] -\n",
    "                      df_shelter_effect.loc[\"072\", \"shelter_effect\"]*prop072)/(1-prop072)"
   ]
  },
  {
   "cell_type": "code",
   "execution_count": 96,
   "metadata": {},
   "outputs": [],
   "source": [
    "df_shelter_effect.loc[\"04x\"] = shelter_effect_04x\n",
    "df_shelter_effect.loc[\"07x\"] = shelter_effect_07x"
   ]
  },
  {
   "cell_type": "code",
   "execution_count": 97,
   "metadata": {},
   "outputs": [],
   "source": [
    "df_prop = df_prop.merge(right=df_shelter_effect, on=\"coicop\")"
   ]
  },
  {
   "cell_type": "code",
   "execution_count": 98,
   "metadata": {},
   "outputs": [],
   "source": [
    "df_prop[\"inflation_avoided\"] = df_prop[\"PROP\"]*df_prop[\"shelter_effect\"]"
   ]
  },
  {
   "cell_type": "code",
   "execution_count": 99,
   "metadata": {},
   "outputs": [],
   "source": [
    "sumInflationAvoided = df_prop.groupby(discriminatingColumn)[\n",
    "    'inflation_avoided'].sum()"
   ]
  },
  {
   "cell_type": "code",
   "execution_count": 100,
   "metadata": {},
   "outputs": [],
   "source": [
    "sumInflationAvoided = pd.DataFrame(data=sumInflationAvoided)"
   ]
  },
  {
   "cell_type": "code",
   "execution_count": 101,
   "metadata": {},
   "outputs": [],
   "source": [
    "inflationAvoidedForTOT = sumInflationAvoided.loc[\"TOT\", \"inflation_avoided\"]"
   ]
  },
  {
   "cell_type": "code",
   "execution_count": 102,
   "metadata": {},
   "outputs": [],
   "source": [
    "sumInflationAvoided[\"diffTot\"] = sumInflationAvoided[\"inflation_avoided\"] - \\\n",
    "    inflationAvoidedForTOT"
   ]
  },
  {
   "cell_type": "code",
   "execution_count": 103,
   "metadata": {},
   "outputs": [],
   "source": [
    "sumInflationAvoided = sumInflationAvoided.drop(\"TOT\")"
   ]
  },
  {
   "cell_type": "code",
   "execution_count": 104,
   "metadata": {},
   "outputs": [
    {
     "data": {
      "image/png": "[encoded data removed]",
      "text/plain": [
       "<Figure size 640x480 with 1 Axes>"
      ]
     },
     "metadata": {},
     "output_type": "display_data"
    }
   ],
   "source": [
    "import matplotlib.pyplot as plt\n",
    "from matplotlib.ticker import FuncFormatter\n",
    "\n",
    "\n",
    "# Creating the bar plot\n",
    "fig, ax = plt.subplots()\n",
    "\n",
    "bars = ax.barh(sumInflationAvoided.index, sumInflationAvoided['diffTot'], color='blue')\n",
    "\n",
    "# Adding the line for the avoided inflation for the general population\n",
    "ax.axvline(0, color='red', linestyle='--',\n",
    "           label=\"Avoided inflation for the general population\")\n",
    "\n",
    "# Customizing x-axis labels by adding the value of the diff of inflation for the general population\n",
    "def shifted_xaxis_formatter(x, pos):\n",
    "    return f\"{x + inflationAvoidedForTOT:.1f}\"\n",
    "\n",
    "formatter = FuncFormatter(shifted_xaxis_formatter)\n",
    "ax.xaxis.set_major_formatter(formatter)\n",
    "\n",
    "def custom_yaxis_formatter(y, pos):\n",
    "    return translations.get(str(int( y + 1)), \"\")\n",
    "\n",
    "y_formatter = FuncFormatter(custom_yaxis_formatter)\n",
    "ax.yaxis.set_major_formatter(y_formatter)\n",
    "\n",
    "# Adding labels and legend\n",
    "ax.set_xlabel(\"Avoided inflation compared to the general population, in points of %\")\n",
    "ax.set_ylabel(longNameOfDiscriminatingColumn.capitalize())\n",
    "ax.set_title(\n",
    "    f\"Avoided inflation due to the energy tariff shield in March 2022 in France, by {longNameOfDiscriminatingColumn}\")\n",
    "ax.legend()\n",
    "\n",
    "# Adding values to the bars\n",
    "for bar in bars:\n",
    "    ax.text(bar.get_width()/2, bar.get_y() + bar.get_height()/2, f\"{bar.get_width() + inflationAvoidedForTOT :.1f}\", ha='center', va='center', color='white')\n",
    "\n",
    "\n",
    "plt.rcParams['font.family'] = 'cmr10'\n",
    "plt.savefig(f'saved_figs/figure26-{longNameOfDiscriminatingColumn}.png', dpi=500, bbox_inches='tight')\n",
    "\n",
    "# Displaying the plot\n",
    "plt.show()"
   ]
  },
  {
   "cell_type": "code",
   "execution_count": 105,
   "metadata": {},
   "outputs": [],
   "source": [
    "sumInflationAvoided.to_csv(f\"computed_data/{TFnumber}_inflation_avoided.csv\")\n"
   ]
  }
 ],
 "metadata": {
  "kernelspec": {
   "display_name": "Python 3",
   "language": "python",
   "name": "python3"
  },
  "language_info": {
   "codemirror_mode": {
    "name": "ipython",
    "version": 3
   },
   "file_extension": ".py",
   "mimetype": "text/x-python",
   "name": "python",
   "nbconvert_exporter": "python",
   "pygments_lexer": "ipython3",
   "version": "3.11.3"
  },
  "orig_nbformat": 4
 },
 "nbformat": 4,
 "nbformat_minor": 2
}
