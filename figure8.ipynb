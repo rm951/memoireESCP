{
 "cells": [
  {
   "cell_type": "code",
   "execution_count": 1,
   "metadata": {},
   "outputs": [],
   "source": [
    "import pandas as pd\n",
    "import eurostat"
   ]
  },
  {
   "cell_type": "code",
   "execution_count": 2,
   "metadata": {},
   "outputs": [],
   "source": [
    "df = eurostat.get_data_df(code=\"HBS_STR_T223\")\n",
    "df = df.rename(columns={'geo\\TIME_PERIOD': 'geo', '2015':'OBS_VALUE'})\n"
   ]
  },
  {
   "cell_type": "code",
   "execution_count": null,
   "metadata": {},
   "outputs": [],
   "source": [
    "unique_values_df1 = df[\"geo\"].unique()"
   ]
  },
  {
   "cell_type": "code",
   "execution_count": null,
   "metadata": {},
   "outputs": [],
   "source": [
    "# Keep only the rows where TIME_PERIOD is equal to 2015\n",
    "df = df.loc[:, ['quantile','coicop','geo','OBS_VALUE']]\n"
   ]
  },
  {
   "cell_type": "code",
   "execution_count": null,
   "metadata": {},
   "outputs": [],
   "source": [
    "df_inflation = eurostat.get_data_df(code=\"PRC_HICP_MANR\",filter_pars={'startPeriod':\"2021-03\"})\n",
    "df_inflation = df_inflation.rename(columns={'geo\\TIME_PERIOD': 'geo'})\n"
   ]
  },
  {
   "cell_type": "code",
   "execution_count": null,
   "metadata": {},
   "outputs": [],
   "source": [
    "merged_df = df.merge(df_inflation, on=[\"coicop\", \"geo\"])\n"
   ]
  },
  {
   "cell_type": "code",
   "execution_count": null,
   "metadata": {},
   "outputs": [],
   "source": [
    "merged_df.columns"
   ]
  },
  {
   "cell_type": "code",
   "execution_count": null,
   "metadata": {},
   "outputs": [],
   "source": [
    "cols_to_multiply = [col for col in merged_df.columns if col.startswith('202')]\n",
    "merged_df[['w' + col for col in cols_to_multiply]] = merged_df[cols_to_multiply].apply(lambda x: x * merged_df['OBS_VALUE']/1000)\n"
   ]
  },
  {
   "cell_type": "code",
   "execution_count": null,
   "metadata": {},
   "outputs": [],
   "source": [
    "merged_df_5_chars = merged_df[merged_df['coicop'].str.len() == 5]\n"
   ]
  },
  {
   "cell_type": "code",
   "execution_count": null,
   "metadata": {},
   "outputs": [],
   "source": [
    "columns_to_sum = [col for col in merged_df_5_chars.columns if col.startswith('w')]\n",
    "                  \n",
    "summed_columns = []\n",
    "for col in columns_to_sum:\n",
    "    new_col_name = col[1:]\n",
    "    summed_columns.append(new_col_name)\n",
    "    merged_df_5_chars[new_col_name] = merged_df_5_chars.groupby(['geo', 'quantile'])[col].transform('sum')\n",
    "\n",
    "df_inflation_by_quintile = merged_df_5_chars[['geo', 'quantile'] + summed_columns].drop_duplicates()"
   ]
  },
  {
   "cell_type": "code",
   "execution_count": 3,
   "metadata": {},
   "outputs": [
    {
     "ename": "NameError",
     "evalue": "name 'merged_df' is not defined",
     "output_type": "error",
     "traceback": [
      "\u001b[1;31m---------------------------------------------------------------------------\u001b[0m",
      "\u001b[1;31mNameError\u001b[0m                                 Traceback (most recent call last)",
      "Cell \u001b[1;32mIn[3], line 1\u001b[0m\n\u001b[1;32m----> 1\u001b[0m merged_df_4_chars \u001b[39m=\u001b[39m merged_df[merged_df[\u001b[39m'\u001b[39m\u001b[39mcoicop\u001b[39m\u001b[39m'\u001b[39m]\u001b[39m.\u001b[39mstr\u001b[39m.\u001b[39mlen() \u001b[39m==\u001b[39m \u001b[39m4\u001b[39m]\n\u001b[0;32m      2\u001b[0m merged_df_4_chars \u001b[39m=\u001b[39m merged_df_4_chars\u001b[39m.\u001b[39mloc[(merged_df_4_chars[\u001b[39m'\u001b[39m\u001b[39mgeo\u001b[39m\u001b[39m'\u001b[39m] \u001b[39m==\u001b[39m \u001b[39m'\u001b[39m\u001b[39mEU27_2020\u001b[39m\u001b[39m'\u001b[39m)]\n\u001b[0;32m      3\u001b[0m summed_columns \u001b[39m=\u001b[39m []\n",
      "\u001b[1;31mNameError\u001b[0m: name 'merged_df' is not defined"
     ]
    }
   ],
   "source": [
    "merged_df_4_chars = merged_df[merged_df['coicop'].str.len() == 4]\n",
    "merged_df_4_chars = merged_df_4_chars.loc[(merged_df_4_chars['geo'] == 'EU27_2020')]\n",
    "summed_columns = []\n",
    "for col in columns_to_sum:\n",
    "    new_col_name = col[1:]\n",
    "    summed_columns.append(new_col_name)\n",
    "    merged_df_4_chars[new_col_name] = merged_df_4_chars.groupby(['geo', 'quantile'])[col].transform('sum')\n",
    "\n",
    "df_inflation_by_quintile_eu27 = merged_df_4_chars[['geo', 'quantile'] + summed_columns].drop_duplicates()\n"
   ]
  },
  {
   "cell_type": "code",
   "execution_count": null,
   "metadata": {},
   "outputs": [],
   "source": [
    "df_inflation_by_quintile = pd.concat([df_inflation_by_quintile, df_inflation_by_quintile_eu27])"
   ]
  },
  {
   "cell_type": "code",
   "execution_count": null,
   "metadata": {},
   "outputs": [],
   "source": [
    "unique_values_df2 = df_inflation_by_quintile[\"geo\"].unique()"
   ]
  },
  {
   "cell_type": "code",
   "execution_count": null,
   "metadata": {},
   "outputs": [],
   "source": [
    "# obtenir les éléments qui sont présents dans list1 mais pas dans list2\n",
    "diff_list = list(set(unique_values_df1) - set(unique_values_df2))\n",
    "\n",
    "# afficher les éléments différenciels\n",
    "print(diff_list)"
   ]
  },
  {
   "attachments": {},
   "cell_type": "markdown",
   "metadata": {},
   "source": [
    "ça serait bien d'avoir pour EU27_2020 au moins. Ou alors dans l'euro area (EA)"
   ]
  },
  {
   "cell_type": "code",
   "execution_count": null,
   "metadata": {},
   "outputs": [],
   "source": [
    "dfEA = df[df[\"geo\"] == \"EU27_2020\"]"
   ]
  }
 ],
 "metadata": {
  "kernelspec": {
   "display_name": "Python 3",
   "language": "python",
   "name": "python3"
  },
  "language_info": {
   "codemirror_mode": {
    "name": "ipython",
    "version": 3
   },
   "file_extension": ".py",
   "mimetype": "text/x-python",
   "name": "python",
   "nbconvert_exporter": "python",
   "pygments_lexer": "ipython3",
   "version": "3.11.3"
  },
  "orig_nbformat": 4
 },
 "nbformat": 4,
 "nbformat_minor": 2
}
