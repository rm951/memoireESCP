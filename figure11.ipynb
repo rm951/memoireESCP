{
 "cells": [
  {
   "cell_type": "code",
   "execution_count": 323,
   "metadata": {},
   "outputs": [],
   "source": [
    "import pandas as pd"
   ]
  },
  {
   "cell_type": "code",
   "execution_count": 324,
   "metadata": {},
   "outputs": [],
   "source": [
    "all_merged = pd.DataFrame({'category_type': [], 'category': [], 'inflation_without_shelter': [], 'inflation_with_shelter': []})\n"
   ]
  },
  {
   "attachments": {},
   "cell_type": "markdown",
   "metadata": {},
   "source": [
    "# Deciles"
   ]
  },
  {
   "cell_type": "code",
   "execution_count": 325,
   "metadata": {},
   "outputs": [],
   "source": [
    "longNameOfDiscriminatingColumn = \"decile\"\n",
    "discriminatingColumn = \"DECUC\""
   ]
  },
  {
   "cell_type": "code",
   "execution_count": 326,
   "metadata": {},
   "outputs": [],
   "source": [
    "df_106 = pd.read_csv(\"computed_data/106_inflation_March_2022.csv\")\n",
    "df_106_avoided = pd.read_csv(\"computed_data/106_inflation_avoided.csv\")"
   ]
  },
  {
   "cell_type": "code",
   "execution_count": 327,
   "metadata": {},
   "outputs": [],
   "source": [
    "merged = df_106.merge(right=df_106_avoided, on=discriminatingColumn)"
   ]
  },
  {
   "cell_type": "code",
   "execution_count": 328,
   "metadata": {},
   "outputs": [],
   "source": [
    "merged[\"inflation_without_shelter\"] = merged['weight_Group_inflation_2022_03'] + merged['inflation_avoided']"
   ]
  },
  {
   "cell_type": "code",
   "execution_count": 329,
   "metadata": {},
   "outputs": [],
   "source": [
    "merged = merged.rename(columns={discriminatingColumn: 'category_type', 'weight_Group_inflation_2022_03': 'inflation_with_shelter'})\n",
    "merged['category'] = longNameOfDiscriminatingColumn"
   ]
  },
  {
   "cell_type": "code",
   "execution_count": 330,
   "metadata": {},
   "outputs": [],
   "source": [
    "merged.sort_values(by='category_type', inplace=True)"
   ]
  },
  {
   "cell_type": "code",
   "execution_count": 331,
   "metadata": {},
   "outputs": [],
   "source": [
    "all_merged = pd.concat([merged, all_merged])"
   ]
  },
  {
   "attachments": {},
   "cell_type": "markdown",
   "metadata": {},
   "source": [
    "# Age"
   ]
  },
  {
   "cell_type": "code",
   "execution_count": 332,
   "metadata": {},
   "outputs": [],
   "source": [
    "translations = {'1': 'Less than 25 years',\n",
    "                '2': '25-34 years',\n",
    "                '3': '35-44 years',\n",
    "                '4': '45-54 years',\n",
    "                '5': '55-64 years',\n",
    "                '6': '65-74 years',\n",
    "                '7': '75 years or older'}\n",
    "TFnumber = 102\n",
    "discriminatingColumn = \"AGPR\"\n",
    "longNameOfDiscriminatingColumn = \"age\""
   ]
  },
  {
   "cell_type": "code",
   "execution_count": 333,
   "metadata": {},
   "outputs": [],
   "source": [
    "\n",
    "df = pd.read_csv(f\"computed_data/{TFnumber}_inflation_March_2022.csv\")\n",
    "df_avoided = pd.read_csv(f\"computed_data/{TFnumber}_inflation_avoided.csv\")"
   ]
  },
  {
   "cell_type": "code",
   "execution_count": 334,
   "metadata": {},
   "outputs": [],
   "source": [
    "df_avoided[discriminatingColumn] = df_avoided[discriminatingColumn].astype(str).replace(translations)"
   ]
  },
  {
   "cell_type": "code",
   "execution_count": 335,
   "metadata": {},
   "outputs": [],
   "source": [
    "merged = df.merge(right=df_avoided, on=discriminatingColumn)"
   ]
  },
  {
   "cell_type": "code",
   "execution_count": 336,
   "metadata": {},
   "outputs": [],
   "source": [
    "merged[\"inflation_without_shelter\"] = merged['weight_Group_inflation_2022_03'] + merged['inflation_avoided']"
   ]
  },
  {
   "cell_type": "code",
   "execution_count": 337,
   "metadata": {},
   "outputs": [],
   "source": [
    "merged = merged.rename(columns={discriminatingColumn: 'category_type', 'weight_Group_inflation_2022_03': 'inflation_with_shelter'})\n",
    "merged['category'] = longNameOfDiscriminatingColumn"
   ]
  },
  {
   "cell_type": "code",
   "execution_count": 338,
   "metadata": {},
   "outputs": [],
   "source": [
    "all_merged = pd.concat([merged, all_merged])"
   ]
  },
  {
   "attachments": {},
   "cell_type": "markdown",
   "metadata": {},
   "source": [
    "# Socioeconomic category"
   ]
  },
  {
   "cell_type": "code",
   "execution_count": 339,
   "metadata": {},
   "outputs": [],
   "source": [
    "TFnumber = '103'\n",
    "# create a dictionary with the translations\n",
    "longNameOfDiscriminatingColumn = \"socioeconomic category\"\n",
    "# create a dictionary with the translations\n",
    "translations = {\n",
    "    \"1\": \"Farmers\",\n",
    "    \"2\": \"Craftsmen, traders and business owners\",\n",
    "    \"3\": \"Executives\",\n",
    "    \"4\": \"Intermediate professions\",\n",
    "    \"5\": \"Employees\",\n",
    "    \"6\": \"Workers\",\n",
    "    \"7\": \"Retirees\",\n",
    "    \"8\": \"Other inactive\"\n",
    "}\n",
    "discriminatingColumn = \"CSPR\""
   ]
  },
  {
   "cell_type": "code",
   "execution_count": 340,
   "metadata": {},
   "outputs": [],
   "source": [
    "\n",
    "df = pd.read_csv(f\"computed_data/{TFnumber}_inflation_March_2022.csv\")\n",
    "df_avoided = pd.read_csv(f\"computed_data/{TFnumber}_inflation_avoided.csv\")"
   ]
  },
  {
   "cell_type": "code",
   "execution_count": 341,
   "metadata": {},
   "outputs": [],
   "source": [
    "df_avoided[discriminatingColumn] = df_avoided[discriminatingColumn].astype(str).replace(translations)"
   ]
  },
  {
   "cell_type": "code",
   "execution_count": 342,
   "metadata": {},
   "outputs": [],
   "source": [
    "merged = df.merge(right=df_avoided, on=discriminatingColumn)"
   ]
  },
  {
   "cell_type": "code",
   "execution_count": 343,
   "metadata": {},
   "outputs": [],
   "source": [
    "merged[\"inflation_without_shelter\"] = merged['weight_Group_inflation_2022_03'] + merged['inflation_avoided']"
   ]
  },
  {
   "cell_type": "code",
   "execution_count": 344,
   "metadata": {},
   "outputs": [],
   "source": [
    "merged = merged.rename(columns={discriminatingColumn: 'category_type', 'weight_Group_inflation_2022_03': 'inflation_with_shelter'})\n",
    "merged['category'] = longNameOfDiscriminatingColumn"
   ]
  },
  {
   "cell_type": "code",
   "execution_count": 345,
   "metadata": {},
   "outputs": [],
   "source": [
    "all_merged = pd.concat([merged, all_merged])"
   ]
  },
  {
   "attachments": {},
   "cell_type": "markdown",
   "metadata": {},
   "source": [
    "# Category of residential municipality"
   ]
  },
  {
   "cell_type": "code",
   "execution_count": 346,
   "metadata": {},
   "outputs": [],
   "source": [
    "longNameOfDiscriminatingColumn = \"category of residential municipality\"\n",
    "TFnumber = \"104\"\n",
    "discriminatingColumn = \"STRATE\"\n",
    "translations = {'0': 'Rural', '1': 'Small-sized towns', '2': 'Medium-sized towns', '3': 'Large cities', '4': 'Paris metropolitan area'}\n"
   ]
  },
  {
   "cell_type": "code",
   "execution_count": 347,
   "metadata": {},
   "outputs": [],
   "source": [
    "\n",
    "df = pd.read_csv(f\"computed_data/{TFnumber}_inflation_March_2022.csv\")\n",
    "df_avoided = pd.read_csv(f\"computed_data/{TFnumber}_inflation_avoided.csv\")"
   ]
  },
  {
   "cell_type": "code",
   "execution_count": 348,
   "metadata": {},
   "outputs": [],
   "source": [
    "df_avoided[discriminatingColumn] = df_avoided[discriminatingColumn].astype(str).replace(translations)"
   ]
  },
  {
   "cell_type": "code",
   "execution_count": 349,
   "metadata": {},
   "outputs": [],
   "source": [
    "merged = df.merge(right=df_avoided, on=discriminatingColumn)"
   ]
  },
  {
   "cell_type": "code",
   "execution_count": 350,
   "metadata": {},
   "outputs": [],
   "source": [
    "merged[\"inflation_without_shelter\"] = merged['weight_Group_inflation_2022_03'] + merged['inflation_avoided']"
   ]
  },
  {
   "cell_type": "code",
   "execution_count": 351,
   "metadata": {},
   "outputs": [],
   "source": [
    "merged = merged.rename(columns={discriminatingColumn: 'category_type', 'weight_Group_inflation_2022_03': 'inflation_with_shelter'})\n",
    "merged['category'] = longNameOfDiscriminatingColumn"
   ]
  },
  {
   "cell_type": "code",
   "execution_count": 352,
   "metadata": {},
   "outputs": [],
   "source": [
    "all_merged = pd.concat([merged, all_merged])"
   ]
  },
  {
   "attachments": {},
   "cell_type": "markdown",
   "metadata": {},
   "source": [
    "# Household type"
   ]
  },
  {
   "cell_type": "code",
   "execution_count": 353,
   "metadata": {},
   "outputs": [],
   "source": [
    "TFnumber = '105'\n",
    "# create a dictionary with the translations\n",
    "longNameOfDiscriminatingColumn = \"household type\"\n",
    "# create a dictionary with the translations\n",
    "translations = {'1': 'Single-person households',\n",
    "                '2': 'Single-parent families',\n",
    "                '3': 'Couples without children',\n",
    "                '4': 'Couples with children',\n",
    "                '5': 'Other households'}\n",
    "\n",
    "discriminatingColumn = \"TYPMEN\""
   ]
  },
  {
   "cell_type": "code",
   "execution_count": 354,
   "metadata": {},
   "outputs": [],
   "source": [
    "\n",
    "df = pd.read_csv(f\"computed_data/{TFnumber}_inflation_March_2022.csv\")\n",
    "df_avoided = pd.read_csv(f\"computed_data/{TFnumber}_inflation_avoided.csv\")"
   ]
  },
  {
   "cell_type": "code",
   "execution_count": 355,
   "metadata": {},
   "outputs": [],
   "source": [
    "df_avoided[discriminatingColumn] = df_avoided[discriminatingColumn].astype(str).replace(translations)"
   ]
  },
  {
   "cell_type": "code",
   "execution_count": 356,
   "metadata": {},
   "outputs": [],
   "source": [
    "merged = df.merge(right=df_avoided, on=discriminatingColumn)"
   ]
  },
  {
   "cell_type": "code",
   "execution_count": 357,
   "metadata": {},
   "outputs": [],
   "source": [
    "merged[\"inflation_without_shelter\"] = merged['weight_Group_inflation_2022_03'] + merged['inflation_avoided']"
   ]
  },
  {
   "cell_type": "code",
   "execution_count": 358,
   "metadata": {},
   "outputs": [],
   "source": [
    "merged = merged.rename(columns={discriminatingColumn: 'category_type', 'weight_Group_inflation_2022_03': 'inflation_with_shelter'})\n",
    "merged['category'] = longNameOfDiscriminatingColumn"
   ]
  },
  {
   "cell_type": "code",
   "execution_count": 359,
   "metadata": {},
   "outputs": [],
   "source": [
    "all_merged = pd.concat([merged, all_merged])"
   ]
  },
  {
   "attachments": {},
   "cell_type": "markdown",
   "metadata": {},
   "source": [
    "# Occupancy status of the main residence"
   ]
  },
  {
   "cell_type": "code",
   "execution_count": 360,
   "metadata": {},
   "outputs": [],
   "source": [
    "TFnumber = '107'\n",
    "# create a dictionary with the translations\n",
    "longNameOfDiscriminatingColumn = \"occupancy status of the main residence\"\n",
    "# create a dictionary with the translations\n",
    "translations = {'P': 'Owner',\n",
    "                'L': 'Renter'}\n",
    "\n",
    "\n",
    "discriminatingColumn = \"STATUT\""
   ]
  },
  {
   "cell_type": "code",
   "execution_count": 361,
   "metadata": {},
   "outputs": [],
   "source": [
    "\n",
    "df = pd.read_csv(f\"computed_data/{TFnumber}_inflation_March_2022.csv\")\n",
    "df_avoided = pd.read_csv(f\"computed_data/{TFnumber}_inflation_avoided.csv\")"
   ]
  },
  {
   "cell_type": "code",
   "execution_count": 362,
   "metadata": {},
   "outputs": [],
   "source": [
    "df_avoided[discriminatingColumn] = df_avoided[discriminatingColumn].astype(str).replace(translations)"
   ]
  },
  {
   "cell_type": "code",
   "execution_count": 363,
   "metadata": {},
   "outputs": [],
   "source": [
    "merged = df.merge(right=df_avoided, on=discriminatingColumn)"
   ]
  },
  {
   "cell_type": "code",
   "execution_count": 364,
   "metadata": {},
   "outputs": [],
   "source": [
    "merged[\"inflation_without_shelter\"] = merged['weight_Group_inflation_2022_03'] + merged['inflation_avoided']"
   ]
  },
  {
   "cell_type": "code",
   "execution_count": 365,
   "metadata": {},
   "outputs": [],
   "source": [
    "merged = merged.rename(columns={discriminatingColumn: 'category_type', 'weight_Group_inflation_2022_03': 'inflation_with_shelter'})\n",
    "merged['category'] = longNameOfDiscriminatingColumn"
   ]
  },
  {
   "cell_type": "code",
   "execution_count": 366,
   "metadata": {},
   "outputs": [],
   "source": [
    "all_merged = pd.concat([merged, all_merged])"
   ]
  },
  {
   "attachments": {},
   "cell_type": "markdown",
   "metadata": {},
   "source": [
    "# Chart"
   ]
  },
  {
   "cell_type": "code",
   "execution_count": 367,
   "metadata": {},
   "outputs": [],
   "source": [
    "all_merged = all_merged.loc[:, ['category', 'category_type', 'inflation_with_shelter', 'inflation_avoided']]\n"
   ]
  },
  {
   "cell_type": "code",
   "execution_count": 368,
   "metadata": {},
   "outputs": [
    {
     "name": "stderr",
     "output_type": "stream",
     "text": [
      "C:\\Users\\mdaversa\\AppData\\Local\\Temp\\ipykernel_28748\\2085255776.py:42: UserWarning: Matplotlib is currently using agg, which is a non-GUI backend, so cannot show the figure.\n",
      "  plt.show()\n"
     ]
    }
   ],
   "source": [
    "\n",
    "import pandas as pd\n",
    "import matplotlib.pyplot as plt\n",
    "\n",
    "plt.rcParams['font.family'] = 'cmr10'\n",
    "\n",
    "\n",
    "fig, axs = plt.subplots(len(all_merged['category'].unique()), figsize=(10, 30))\n",
    "\n",
    "for i, (cat, df) in enumerate(all_merged.groupby('category')):\n",
    "    df = df.iloc[::-1]\n",
    "    ax = axs[i]\n",
    "\n",
    "    # Plot the 'inflation_with_shelter' series with blue bars\n",
    "    df.plot(kind='barh', x='category_type', y='inflation_with_shelter', color='blue', ax=ax)\n",
    "\n",
    "    # Plot the 'inflation_avoided' series with orange bars and hatching\n",
    "    df.plot(kind='barh', x='category_type', y='inflation_avoided', color='orange', ax=ax, hatch='////', left=df['inflation_with_shelter'])\n",
    "\n",
    "    # Add value labels inside the bars\n",
    "    for j, val in enumerate(df['inflation_with_shelter']):\n",
    "        ax.annotate(f'{val:.1f}', xy=(val/2, j + 0.25), va='bottom', ha='center', color='black', fontweight='bold')\n",
    "    for j, val in enumerate(df['inflation_avoided']):\n",
    "        ax.annotate(f'{val:.1f}', xy=(val/2 + df['inflation_with_shelter'][j], j + 0.25), va='bottom', ha='center', color='black', fontweight='bold')\n",
    "\n",
    "    ax.set_xlim(0, 10)\n",
    "\n",
    "    ax.set_ylabel(cat)\n",
    "    ax.set_xlabel(\"Annual rate of change of inflation\")\n",
    "    ax.legend(['Observed inflation', 'Avoided inflation thanks to the tariff shield'], title=None, bbox_to_anchor=(1.05, 1), loc='upper left')\n",
    "\n",
    "    ax.set_yticklabels(df['category_type'], rotation=0)\n",
    "    ax.set_yticks(range(len(df)))\n",
    "    ax.set_title(cat, loc='left')\n",
    "\n",
    "\n",
    "\n",
    "fig.suptitle('Figure 11 - Observed and avoided inflation thanks to the tariff shield in France in March 2022', fontsize=16)\n",
    "\n",
    "plt.tight_layout(rect=[0, 0, 1, 0.95]) \n",
    "plt.savefig(f'saved_figs/figure27.png', dpi=500, bbox_inches='tight')\n",
    "\n",
    "plt.show()\n",
    "\n",
    "\n"
   ]
  }
 ],
 "metadata": {
  "kernelspec": {
   "display_name": "Python 3",
   "language": "python",
   "name": "python3"
  },
  "language_info": {
   "codemirror_mode": {
    "name": "ipython",
    "version": 3
   },
   "file_extension": ".py",
   "mimetype": "text/x-python",
   "name": "python",
   "nbconvert_exporter": "python",
   "pygments_lexer": "ipython3",
   "version": "3.11.3"
  },
  "orig_nbformat": 4
 },
 "nbformat": 4,
 "nbformat_minor": 2
}
