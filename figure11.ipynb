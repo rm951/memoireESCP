{
 "cells": [
  {
   "cell_type": "code",
   "execution_count": 1,
   "metadata": {},
   "outputs": [],
   "source": [
    "import pandas as pd"
   ]
  },
  {
   "cell_type": "code",
   "execution_count": 2,
   "metadata": {},
   "outputs": [],
   "source": [
    "all_merged = pd.DataFrame({'category_type': [], 'category': [], 'inflation_without_shelter': [], 'inflation_with_shelter': []})\n"
   ]
  },
  {
   "attachments": {},
   "cell_type": "markdown",
   "metadata": {},
   "source": [
    "# Deciles"
   ]
  },
  {
   "cell_type": "code",
   "execution_count": 3,
   "metadata": {},
   "outputs": [],
   "source": [
    "longNameOfDiscriminatingColumn = \"decile\"\n",
    "discriminatingColumn = \"DECUC\""
   ]
  },
  {
   "cell_type": "code",
   "execution_count": 4,
   "metadata": {},
   "outputs": [],
   "source": [
    "df_106 = pd.read_csv(\"computed_data/106_inflation_March_2022.csv\")\n",
    "df_106_avoided = pd.read_csv(\"computed_data/106_inflation_avoided.csv\")"
   ]
  },
  {
   "cell_type": "code",
   "execution_count": 5,
   "metadata": {},
   "outputs": [],
   "source": [
    "merged = df_106.merge(right=df_106_avoided, on=discriminatingColumn)"
   ]
  },
  {
   "cell_type": "code",
   "execution_count": 6,
   "metadata": {},
   "outputs": [],
   "source": [
    "merged[\"inflation_without_shelter\"] = merged['weight_Group_inflation_2022_03'] + merged['inflation_avoided']"
   ]
  },
  {
   "cell_type": "code",
   "execution_count": 7,
   "metadata": {},
   "outputs": [],
   "source": [
    "merged = merged.rename(columns={discriminatingColumn: 'category_type', 'weight_Group_inflation_2022_03': 'inflation_with_shelter'})\n",
    "merged['category'] = longNameOfDiscriminatingColumn"
   ]
  },
  {
   "cell_type": "code",
   "execution_count": 8,
   "metadata": {},
   "outputs": [],
   "source": [
    "all_merged = pd.concat([merged, all_merged])"
   ]
  },
  {
   "attachments": {},
   "cell_type": "markdown",
   "metadata": {},
   "source": [
    "# Age"
   ]
  },
  {
   "cell_type": "code",
   "execution_count": 9,
   "metadata": {},
   "outputs": [],
   "source": [
    "translations = {'1': 'Less than 25 years',\n",
    "                '2': '25-34 years',\n",
    "                '3': '35-44 years',\n",
    "                '4': '45-54 years',\n",
    "                '5': '55-64 years',\n",
    "                '6': '65-74 years',\n",
    "                '7': '75 years or older'}\n",
    "TFnumber = 102\n",
    "discriminatingColumn = \"AGPR\"\n",
    "longNameOfDiscriminatingColumn = \"age\""
   ]
  },
  {
   "cell_type": "code",
   "execution_count": 10,
   "metadata": {},
   "outputs": [],
   "source": [
    "\n",
    "df = pd.read_csv(f\"computed_data/{TFnumber}_inflation_March_2022.csv\")\n",
    "df_avoided = pd.read_csv(f\"computed_data/{TFnumber}_inflation_avoided.csv\")"
   ]
  },
  {
   "cell_type": "code",
   "execution_count": 11,
   "metadata": {},
   "outputs": [],
   "source": [
    "df_avoided[discriminatingColumn] = df_avoided[discriminatingColumn].astype(str).replace(translations)"
   ]
  },
  {
   "cell_type": "code",
   "execution_count": 12,
   "metadata": {},
   "outputs": [],
   "source": [
    "merged = df.merge(right=df_avoided, on=discriminatingColumn)"
   ]
  },
  {
   "cell_type": "code",
   "execution_count": 13,
   "metadata": {},
   "outputs": [],
   "source": [
    "merged[\"inflation_without_shelter\"] = merged['weight_Group_inflation_2022_03'] + merged['inflation_avoided']"
   ]
  },
  {
   "cell_type": "code",
   "execution_count": 14,
   "metadata": {},
   "outputs": [],
   "source": [
    "merged = merged.rename(columns={discriminatingColumn: 'category_type', 'weight_Group_inflation_2022_03': 'inflation_with_shelter'})\n",
    "merged['category'] = longNameOfDiscriminatingColumn"
   ]
  },
  {
   "cell_type": "code",
   "execution_count": 15,
   "metadata": {},
   "outputs": [],
   "source": [
    "all_merged = pd.concat([merged, all_merged])"
   ]
  },
  {
   "attachments": {},
   "cell_type": "markdown",
   "metadata": {},
   "source": [
    "# Socioeconomic category"
   ]
  },
  {
   "cell_type": "code",
   "execution_count": null,
   "metadata": {},
   "outputs": [],
   "source": [
    "TFnumber = '103'\n",
    "# create a dictionary with the translations\n",
    "longNameOfDiscriminatingColumn = \"socioeconomic category\"\n",
    "# create a dictionary with the translations\n",
    "translations = {\n",
    "    \"1\": \"Farmers\",\n",
    "    \"2\": \"Craftsmen, traders and business owners\",\n",
    "    \"3\": \"Executives\",\n",
    "    \"4\": \"Intermediate professions\",\n",
    "    \"5\": \"Employees\",\n",
    "    \"6\": \"Workers\",\n",
    "    \"7\": \"Retirees\",\n",
    "    \"8\": \"Other inactive\"\n",
    "}\n",
    "discriminatingColumn = \"CSPR\""
   ]
  },
  {
   "cell_type": "code",
   "execution_count": null,
   "metadata": {},
   "outputs": [],
   "source": [
    "\n",
    "df = pd.read_csv(f\"computed_data/{TFnumber}_inflation_March_2022.csv\")\n",
    "df_avoided = pd.read_csv(f\"computed_data/{TFnumber}_inflation_avoided.csv\")"
   ]
  },
  {
   "cell_type": "code",
   "execution_count": null,
   "metadata": {},
   "outputs": [],
   "source": [
    "df_avoided[discriminatingColumn] = df_avoided[discriminatingColumn].astype(str).replace(translations)"
   ]
  },
  {
   "cell_type": "code",
   "execution_count": null,
   "metadata": {},
   "outputs": [],
   "source": [
    "merged = df.merge(right=df_avoided, on=discriminatingColumn)"
   ]
  },
  {
   "cell_type": "code",
   "execution_count": null,
   "metadata": {},
   "outputs": [],
   "source": [
    "merged[\"inflation_without_shelter\"] = merged['weight_Group_inflation_2022_03'] + merged['inflation_avoided']"
   ]
  },
  {
   "cell_type": "code",
   "execution_count": null,
   "metadata": {},
   "outputs": [],
   "source": [
    "merged = merged.rename(columns={discriminatingColumn: 'category_type', 'weight_Group_inflation_2022_03': 'inflation_with_shelter'})\n",
    "merged['category'] = longNameOfDiscriminatingColumn"
   ]
  },
  {
   "cell_type": "code",
   "execution_count": null,
   "metadata": {},
   "outputs": [],
   "source": [
    "all_merged = pd.concat([merged, all_merged])"
   ]
  },
  {
   "attachments": {},
   "cell_type": "markdown",
   "metadata": {},
   "source": [
    "# Category of residential municipality"
   ]
  },
  {
   "cell_type": "code",
   "execution_count": null,
   "metadata": {},
   "outputs": [],
   "source": [
    "longNameOfDiscriminatingColumn = \"category of residential municipality\"\n",
    "TFnumber = \"104\"\n",
    "discriminatingColumn = \"STRATE\"\n",
    "translations = {'0': 'Rural', '1': 'Small-sized towns', '2': 'Medium-sized towns', '3': 'Large cities', '4': 'Paris metropolitan area'}\n"
   ]
  },
  {
   "cell_type": "code",
   "execution_count": null,
   "metadata": {},
   "outputs": [],
   "source": [
    "\n",
    "df = pd.read_csv(f\"computed_data/{TFnumber}_inflation_March_2022.csv\")\n",
    "df_avoided = pd.read_csv(f\"computed_data/{TFnumber}_inflation_avoided.csv\")"
   ]
  },
  {
   "cell_type": "code",
   "execution_count": null,
   "metadata": {},
   "outputs": [],
   "source": [
    "df_avoided[discriminatingColumn] = df_avoided[discriminatingColumn].astype(str).replace(translations)"
   ]
  },
  {
   "cell_type": "code",
   "execution_count": null,
   "metadata": {},
   "outputs": [],
   "source": [
    "merged = df.merge(right=df_avoided, on=discriminatingColumn)"
   ]
  },
  {
   "cell_type": "code",
   "execution_count": null,
   "metadata": {},
   "outputs": [],
   "source": [
    "merged[\"inflation_without_shelter\"] = merged['weight_Group_inflation_2022_03'] + merged['inflation_avoided']"
   ]
  },
  {
   "cell_type": "code",
   "execution_count": null,
   "metadata": {},
   "outputs": [],
   "source": [
    "merged = merged.rename(columns={discriminatingColumn: 'category_type', 'weight_Group_inflation_2022_03': 'inflation_with_shelter'})\n",
    "merged['category'] = longNameOfDiscriminatingColumn"
   ]
  },
  {
   "cell_type": "code",
   "execution_count": null,
   "metadata": {},
   "outputs": [],
   "source": [
    "all_merged = pd.concat([merged, all_merged])"
   ]
  },
  {
   "attachments": {},
   "cell_type": "markdown",
   "metadata": {},
   "source": [
    "# Household type"
   ]
  },
  {
   "cell_type": "code",
   "execution_count": null,
   "metadata": {},
   "outputs": [],
   "source": [
    "TFnumber = '105'\n",
    "# create a dictionary with the translations\n",
    "longNameOfDiscriminatingColumn = \"household type\"\n",
    "# create a dictionary with the translations\n",
    "translations = {'1': 'Single-person households',\n",
    "                '2': 'Single-parent families',\n",
    "                '3': 'Couples without children',\n",
    "                '4': 'Couples with children',\n",
    "                '5': 'Other households'}\n",
    "\n",
    "discriminatingColumn = \"TYPMEN\""
   ]
  },
  {
   "cell_type": "code",
   "execution_count": null,
   "metadata": {},
   "outputs": [],
   "source": [
    "\n",
    "df = pd.read_csv(f\"computed_data/{TFnumber}_inflation_March_2022.csv\")\n",
    "df_avoided = pd.read_csv(f\"computed_data/{TFnumber}_inflation_avoided.csv\")"
   ]
  },
  {
   "cell_type": "code",
   "execution_count": null,
   "metadata": {},
   "outputs": [],
   "source": [
    "df_avoided[discriminatingColumn] = df_avoided[discriminatingColumn].astype(str).replace(translations)"
   ]
  },
  {
   "cell_type": "code",
   "execution_count": null,
   "metadata": {},
   "outputs": [],
   "source": [
    "merged = df.merge(right=df_avoided, on=discriminatingColumn)"
   ]
  },
  {
   "cell_type": "code",
   "execution_count": null,
   "metadata": {},
   "outputs": [],
   "source": [
    "merged[\"inflation_without_shelter\"] = merged['weight_Group_inflation_2022_03'] + merged['inflation_avoided']"
   ]
  },
  {
   "cell_type": "code",
   "execution_count": null,
   "metadata": {},
   "outputs": [],
   "source": [
    "merged = merged.rename(columns={discriminatingColumn: 'category_type', 'weight_Group_inflation_2022_03': 'inflation_with_shelter'})\n",
    "merged['category'] = longNameOfDiscriminatingColumn"
   ]
  },
  {
   "cell_type": "code",
   "execution_count": null,
   "metadata": {},
   "outputs": [],
   "source": [
    "all_merged = pd.concat([merged, all_merged])"
   ]
  },
  {
   "attachments": {},
   "cell_type": "markdown",
   "metadata": {},
   "source": [
    "# Occupancy status of the main residence"
   ]
  },
  {
   "cell_type": "code",
   "execution_count": null,
   "metadata": {},
   "outputs": [],
   "source": [
    "TFnumber = '107'\n",
    "# create a dictionary with the translations\n",
    "longNameOfDiscriminatingColumn = \"occupancy status of the main residence\"\n",
    "# create a dictionary with the translations\n",
    "translations = {'P': 'Owner',\n",
    "                'L': 'Renter'}\n",
    "\n",
    "\n",
    "discriminatingColumn = \"STATUT\""
   ]
  },
  {
   "cell_type": "code",
   "execution_count": null,
   "metadata": {},
   "outputs": [],
   "source": [
    "\n",
    "df = pd.read_csv(f\"computed_data/{TFnumber}_inflation_March_2022.csv\")\n",
    "df_avoided = pd.read_csv(f\"computed_data/{TFnumber}_inflation_avoided.csv\")"
   ]
  },
  {
   "cell_type": "code",
   "execution_count": null,
   "metadata": {},
   "outputs": [],
   "source": [
    "df_avoided[discriminatingColumn] = df_avoided[discriminatingColumn].astype(str).replace(translations)"
   ]
  },
  {
   "cell_type": "code",
   "execution_count": null,
   "metadata": {},
   "outputs": [],
   "source": [
    "merged = df.merge(right=df_avoided, on=discriminatingColumn)"
   ]
  },
  {
   "cell_type": "code",
   "execution_count": null,
   "metadata": {},
   "outputs": [],
   "source": [
    "merged[\"inflation_without_shelter\"] = merged['weight_Group_inflation_2022_03'] + merged['inflation_avoided']"
   ]
  },
  {
   "cell_type": "code",
   "execution_count": null,
   "metadata": {},
   "outputs": [],
   "source": [
    "merged = merged.rename(columns={discriminatingColumn: 'category_type', 'weight_Group_inflation_2022_03': 'inflation_with_shelter'})\n",
    "merged['category'] = longNameOfDiscriminatingColumn"
   ]
  },
  {
   "cell_type": "code",
   "execution_count": null,
   "metadata": {},
   "outputs": [],
   "source": [
    "all_merged = pd.concat([merged, all_merged])"
   ]
  },
  {
   "attachments": {},
   "cell_type": "markdown",
   "metadata": {},
   "source": [
    "# Chart"
   ]
  }
 ],
 "metadata": {
  "kernelspec": {
   "display_name": "Python 3",
   "language": "python",
   "name": "python3"
  },
  "language_info": {
   "codemirror_mode": {
    "name": "ipython",
    "version": 3
   },
   "file_extension": ".py",
   "mimetype": "text/x-python",
   "name": "python",
   "nbconvert_exporter": "python",
   "pygments_lexer": "ipython3",
   "version": "3.10.7"
  },
  "orig_nbformat": 4
 },
 "nbformat": 4,
 "nbformat_minor": 2
}
